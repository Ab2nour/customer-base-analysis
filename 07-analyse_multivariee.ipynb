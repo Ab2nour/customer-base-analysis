{
 "cells": [
  {
   "cell_type": "markdown",
   "metadata": {},
   "source": [
    "# Import des outils / jeu de données"
   ]
  },
  {
   "cell_type": "code",
   "execution_count": null,
   "metadata": {},
   "outputs": [],
   "source": [
    "import matplotlib.pyplot as plt\n",
    "import numpy as np\n",
    "import pandas as pd\n",
    "import prince\n",
    "import seaborn as sns\n",
    "import statsmodels.api as sm\n",
    "from mlxtend.plotting import plot_pca_correlation_graph\n",
    "from scipy.stats import bartlett, shapiro\n",
    "from sklearn.cluster import DBSCAN, OPTICS, AgglomerativeClustering, KMeans\n",
    "from sklearn.compose import ColumnTransformer\n",
    "from sklearn.decomposition import PCA\n",
    "from sklearn.metrics import (\n",
    "    calinski_harabasz_score,\n",
    "    davies_bouldin_score,\n",
    "    silhouette_score,\n",
    ")\n",
    "from sklearn.mixture import GaussianMixture\n",
    "from sklearn.preprocessing import RobustScaler, StandardScaler\n",
    "from statsmodels.formula.api import ols"
   ]
  },
  {
   "cell_type": "code",
   "execution_count": null,
   "metadata": {},
   "outputs": [],
   "source": [
    "SEED = 0"
   ]
  },
  {
   "cell_type": "code",
   "execution_count": null,
   "metadata": {},
   "outputs": [],
   "source": [
    "np.random.seed(SEED)\n",
    "sns.set_theme()"
   ]
  },
  {
   "cell_type": "code",
   "execution_count": null,
   "metadata": {},
   "outputs": [],
   "source": [
    "df = pd.read_csv(\n",
    "    \"data/data-cleaned-feature-engineering.csv\",\n",
    "    sep=\",\",\n",
    "    index_col=\"ID\",\n",
    "    parse_dates=True,\n",
    ")"
   ]
  },
  {
   "cell_type": "code",
   "execution_count": null,
   "metadata": {},
   "outputs": [],
   "source": [
    "df_transforme = pd.read_csv(\n",
    "    \"data/data-transformed.csv\",\n",
    "    sep=\",\",\n",
    "    index_col=\"ID\",\n",
    "    parse_dates=True,\n",
    ")"
   ]
  },
  {
   "cell_type": "markdown",
   "metadata": {},
   "source": [
    "## Variables globales"
   ]
  },
  {
   "cell_type": "code",
   "execution_count": null,
   "metadata": {},
   "outputs": [],
   "source": [
    "var_numeriques = [\n",
    "    \"Year_Birth\",\n",
    "    \"Income\",\n",
    "    \"Recency\",\n",
    "    \"MntWines\",\n",
    "    \"MntFruits\",\n",
    "    \"MntMeatProducts\",\n",
    "    \"MntFishProducts\",\n",
    "    \"MntSweetProducts\",\n",
    "    \"MntGoldProds\",\n",
    "    \"NumDealsPurchases\",\n",
    "    \"NumWebPurchases\",\n",
    "    \"NumCatalogPurchases\",\n",
    "    \"NumStorePurchases\",\n",
    "    \"NumWebVisitsMonth\",\n",
    "]"
   ]
  },
  {
   "cell_type": "code",
   "execution_count": null,
   "metadata": {},
   "outputs": [],
   "source": [
    "var_categoriques = [\n",
    "    \"Education\",\n",
    "    \"Marital_Status\",\n",
    "    \"Kidhome\",\n",
    "    \"Teenhome\",\n",
    "    \"AcceptedCmp1\",\n",
    "    \"AcceptedCmp2\",\n",
    "    \"AcceptedCmp3\",\n",
    "    \"AcceptedCmp4\",\n",
    "    \"AcceptedCmp5\",\n",
    "    \"Response\",\n",
    "]"
   ]
  },
  {
   "cell_type": "markdown",
   "metadata": {},
   "source": [
    "# Analyse multi-variée"
   ]
  },
  {
   "cell_type": "markdown",
   "metadata": {},
   "source": [
    "## Analyse en Composantes Principales (ACP)"
   ]
  },
  {
   "cell_type": "code",
   "execution_count": null,
   "metadata": {},
   "outputs": [],
   "source": [
    "preprocessor = ColumnTransformer(\n",
    "    transformers=[\n",
    "        (\"scaler\", StandardScaler(), var_numeriques),\n",
    "    ],\n",
    ")"
   ]
  },
  {
   "cell_type": "code",
   "execution_count": null,
   "metadata": {},
   "outputs": [],
   "source": [
    "df_centre_reduit = pd.DataFrame(\n",
    "    preprocessor.fit_transform(df), columns=df[var_numeriques].columns\n",
    ")"
   ]
  },
  {
   "cell_type": "code",
   "execution_count": null,
   "metadata": {},
   "outputs": [],
   "source": [
    "acp = PCA(random_state=SEED)"
   ]
  },
  {
   "cell_type": "code",
   "execution_count": null,
   "metadata": {},
   "outputs": [],
   "source": [
    "acp.fit(df_centre_reduit)"
   ]
  },
  {
   "cell_type": "code",
   "execution_count": null,
   "metadata": {},
   "outputs": [],
   "source": [
    "variance_expliquee = pd.Series(acp.explained_variance_ratio_)"
   ]
  },
  {
   "cell_type": "code",
   "execution_count": null,
   "metadata": {},
   "outputs": [],
   "source": [
    "variance_expliquee"
   ]
  },
  {
   "cell_type": "code",
   "execution_count": null,
   "metadata": {},
   "outputs": [],
   "source": [
    "variance_expliquee.plot.barh()"
   ]
  },
  {
   "cell_type": "code",
   "execution_count": null,
   "metadata": {},
   "outputs": [],
   "source": [
    "composantes_principales = pd.DataFrame(\n",
    "    acp.fit_transform(df_centre_reduit), index=df.index\n",
    ")"
   ]
  },
  {
   "cell_type": "code",
   "execution_count": null,
   "metadata": {},
   "outputs": [],
   "source": [
    "composantes_principales.head()"
   ]
  },
  {
   "cell_type": "code",
   "execution_count": null,
   "metadata": {},
   "outputs": [],
   "source": [
    "sns.scatterplot(composantes_principales, x=0, y=1, hue=df[\"Response\"])"
   ]
  },
  {
   "cell_type": "markdown",
   "metadata": {},
   "source": [
    "### Cercle de corrélations"
   ]
  },
  {
   "cell_type": "code",
   "execution_count": null,
   "metadata": {},
   "outputs": [],
   "source": [
    "plot_pca_correlation_graph(\n",
    "    df_centre_reduit,\n",
    "    df_centre_reduit.columns,\n",
    "    X_pca=composantes_principales.iloc[:, :2],\n",
    "    explained_variance=acp.explained_variance_[:2],\n",
    "    dimensions=(1, 2),\n",
    ")"
   ]
  },
  {
   "cell_type": "code",
   "execution_count": null,
   "metadata": {},
   "outputs": [],
   "source": [
    "_, correlation_matrix = plot_pca_correlation_graph(\n",
    "    df_centre_reduit,\n",
    "    df_centre_reduit.columns,\n",
    "    X_pca=composantes_principales.iloc[:, :4],\n",
    "    explained_variance=acp.explained_variance_[:4],\n",
    "    dimensions=(3, 4),\n",
    ")"
   ]
  },
  {
   "cell_type": "code",
   "execution_count": null,
   "metadata": {},
   "outputs": [],
   "source": [
    "plt.figure(figsize=(8, 6))\n",
    "sns.heatmap(\n",
    "    correlation_matrix,\n",
    "    annot=True,\n",
    "    cmap=\"BrBG\",\n",
    "    linewidths=0.5,\n",
    "    vmax=1,\n",
    "    vmin=-1,\n",
    ")"
   ]
  },
  {
   "cell_type": "markdown",
   "metadata": {},
   "source": [
    "## Analyse Factorielle des Correspondances (AFC)"
   ]
  },
  {
   "cell_type": "code",
   "execution_count": null,
   "metadata": {},
   "outputs": [],
   "source": [
    "table_contingence = pd.crosstab(df[\"Kidhome\"], df[\"Teenhome\"])"
   ]
  },
  {
   "cell_type": "code",
   "execution_count": null,
   "metadata": {},
   "outputs": [],
   "source": [
    "table_contingence"
   ]
  },
  {
   "cell_type": "code",
   "execution_count": null,
   "metadata": {},
   "outputs": [],
   "source": [
    "ca = prince.CA(\n",
    "    # n_components=3,\n",
    "    # n_iter=3,\n",
    "    # copy=True,\n",
    "    # check_input=True,\n",
    "    # engine='sklearn',\n",
    "    random_state=SEED\n",
    ")\n",
    "\n",
    "ca = ca.fit(table_contingence)"
   ]
  },
  {
   "cell_type": "code",
   "execution_count": null,
   "metadata": {},
   "outputs": [],
   "source": [
    "ca.eigenvalues_summary"
   ]
  },
  {
   "cell_type": "code",
   "execution_count": null,
   "metadata": {},
   "outputs": [],
   "source": [
    "ca.plot(table_contingence)"
   ]
  },
  {
   "cell_type": "code",
   "execution_count": null,
   "metadata": {},
   "outputs": [],
   "source": [
    "table_contingence = pd.crosstab(df[\"Marital_Status\"], df[\"Education\"])"
   ]
  },
  {
   "cell_type": "code",
   "execution_count": null,
   "metadata": {},
   "outputs": [],
   "source": [
    "table_contingence"
   ]
  },
  {
   "cell_type": "code",
   "execution_count": null,
   "metadata": {},
   "outputs": [],
   "source": [
    "ca = prince.CA(random_state=SEED)\n",
    "ca = ca.fit(table_contingence)"
   ]
  },
  {
   "cell_type": "code",
   "execution_count": null,
   "metadata": {},
   "outputs": [],
   "source": [
    "ca.eigenvalues_summary"
   ]
  },
  {
   "cell_type": "code",
   "execution_count": null,
   "metadata": {},
   "outputs": [],
   "source": [
    "ca.plot(table_contingence)"
   ]
  },
  {
   "cell_type": "code",
   "execution_count": null,
   "metadata": {},
   "outputs": [],
   "source": [
    "# todo: à interpréter"
   ]
  },
  {
   "cell_type": "markdown",
   "metadata": {},
   "source": [
    "## Analyse des Correspondances Multiples (ACM)"
   ]
  },
  {
   "cell_type": "code",
   "execution_count": null,
   "metadata": {},
   "outputs": [],
   "source": [
    "mca = prince.MCA(random_state=SEED)\n",
    "mca = mca.fit(df[var_categoriques])"
   ]
  },
  {
   "cell_type": "code",
   "execution_count": null,
   "metadata": {},
   "outputs": [],
   "source": [
    "mca.plot(df[var_categoriques])"
   ]
  },
  {
   "cell_type": "code",
   "execution_count": null,
   "metadata": {},
   "outputs": [],
   "source": [
    "# todo: à interpréter"
   ]
  },
  {
   "cell_type": "markdown",
   "metadata": {},
   "source": [
    "# Clusters etc"
   ]
  },
  {
   "cell_type": "markdown",
   "metadata": {},
   "source": [
    "## ACM"
   ]
  },
  {
   "cell_type": "code",
   "execution_count": null,
   "metadata": {},
   "outputs": [],
   "source": [
    "mca = prince.MCA(n_components=df[var_categoriques].shape[1], random_state=SEED)"
   ]
  },
  {
   "cell_type": "code",
   "execution_count": null,
   "metadata": {},
   "outputs": [],
   "source": [
    "mca.fit(df[var_categoriques])"
   ]
  },
  {
   "cell_type": "code",
   "execution_count": null,
   "metadata": {},
   "outputs": [],
   "source": [
    "X_clust = mca.row_coordinates(df[var_categoriques])"
   ]
  },
  {
   "cell_type": "code",
   "execution_count": null,
   "metadata": {},
   "outputs": [],
   "source": [
    "X_clust.columns = df[var_categoriques].columns"
   ]
  },
  {
   "cell_type": "code",
   "execution_count": null,
   "metadata": {},
   "outputs": [],
   "source": [
    "X_clust.head()"
   ]
  },
  {
   "cell_type": "markdown",
   "metadata": {},
   "source": [
    "## Fusion ACM et var quanti"
   ]
  },
  {
   "cell_type": "code",
   "execution_count": null,
   "metadata": {},
   "outputs": [],
   "source": [
    "X_clust = pd.concat((df[var_numeriques], X_clust), axis=1)"
   ]
  },
  {
   "cell_type": "code",
   "execution_count": null,
   "metadata": {},
   "outputs": [],
   "source": [
    "X_clust.head()"
   ]
  },
  {
   "cell_type": "code",
   "execution_count": null,
   "metadata": {},
   "outputs": [],
   "source": [
    "scaler = RobustScaler()\n",
    "df_apres_scale = pd.DataFrame(\n",
    "    scaler.fit_transform(X_clust),\n",
    "    columns=X_clust.columns,\n",
    "    index=df.index,\n",
    ")"
   ]
  },
  {
   "cell_type": "code",
   "execution_count": null,
   "metadata": {},
   "outputs": [],
   "source": [
    "df_apres_scale.head()"
   ]
  },
  {
   "cell_type": "code",
   "execution_count": null,
   "metadata": {},
   "outputs": [],
   "source": [
    "df_avec_clusters = df_apres_scale.copy()"
   ]
  },
  {
   "cell_type": "markdown",
   "metadata": {},
   "source": [
    "## Différents algorithmes de clusters"
   ]
  },
  {
   "cell_type": "code",
   "execution_count": null,
   "metadata": {},
   "outputs": [],
   "source": [
    "NB_CLUSTER_MIN = 2\n",
    "NB_CLUSTER_MAX = 6  # non inclus"
   ]
  },
  {
   "cell_type": "code",
   "execution_count": null,
   "metadata": {},
   "outputs": [],
   "source": [
    "dict_kmeans = {\n",
    "    f\"KMeans{i}\": KMeans(n_clusters=i, random_state=SEED)\n",
    "    for i in range(NB_CLUSTER_MIN, NB_CLUSTER_MAX)\n",
    "}\n",
    "\n",
    "dict_gmm = {\n",
    "    f\"GMM{i}\": GaussianMixture(\n",
    "        n_components=i, covariance_type=\"full\", random_state=SEED\n",
    "    )\n",
    "    for i in range(NB_CLUSTER_MIN, NB_CLUSTER_MAX)\n",
    "}\n",
    "\n",
    "dict_cah_ward = {\n",
    "    f\"CAH (Ward) {i}\": AgglomerativeClustering(n_clusters=i)\n",
    "    for i in range(NB_CLUSTER_MIN, NB_CLUSTER_MAX)\n",
    "}\n",
    "\n",
    "dict_cah_average = {\n",
    "    f\"CAH (average linkage) {i}\": AgglomerativeClustering(\n",
    "        n_clusters=i, linkage=\"average\"\n",
    "    )\n",
    "    for i in range(NB_CLUSTER_MIN, NB_CLUSTER_MAX)\n",
    "}\n",
    "\n",
    "dict_cah_simple = {\n",
    "    f\"CAH (single linkage) {i}\": AgglomerativeClustering(n_clusters=i, linkage=\"single\")\n",
    "    for i in range(NB_CLUSTER_MIN, NB_CLUSTER_MAX)\n",
    "}\n",
    "\n",
    "dict_cah_complete = {\n",
    "    f\"CAH (complete linkage) {i}\": AgglomerativeClustering(\n",
    "        n_clusters=i, linkage=\"complete\"\n",
    "    )\n",
    "    for i in range(NB_CLUSTER_MIN, NB_CLUSTER_MAX)\n",
    "}"
   ]
  },
  {
   "cell_type": "code",
   "execution_count": null,
   "metadata": {},
   "outputs": [],
   "source": [
    "model_clusters = {\n",
    "    **dict_kmeans,\n",
    "    **dict_gmm,\n",
    "    **dict_cah_ward,\n",
    "    **dict_cah_average,\n",
    "    **dict_cah_simple,\n",
    "    **dict_cah_complete,\n",
    "    \"OPTICS\": OPTICS(),\n",
    "}"
   ]
  },
  {
   "cell_type": "code",
   "execution_count": null,
   "metadata": {},
   "outputs": [],
   "source": [
    "cluster_metrics = []\n",
    "\n",
    "for (model_name, model) in model_clusters.items():\n",
    "    if model.__class__ == GaussianMixture:  # cas particulier du mélange gaussien\n",
    "        df_avec_clusters[model_name] = model.fit_predict(df_apres_scale)\n",
    "    else:\n",
    "        model.fit(df_apres_scale)\n",
    "        df_avec_clusters[model_name] = model.labels_\n",
    "\n",
    "    cluster_metrics.append(\n",
    "        [\n",
    "            model_name,\n",
    "            silhouette_score(\n",
    "                df_apres_scale, df_avec_clusters[model_name]\n",
    "            ),  # proche de 1 = mieux\n",
    "            calinski_harabasz_score(\n",
    "                df_apres_scale,\n",
    "                df_avec_clusters[model_name],\n",
    "            ),  # plus élevé, mieux c'est\n",
    "            davies_bouldin_score(\n",
    "                df_apres_scale, df_avec_clusters[model_name]\n",
    "            ),  # proche de 0 = mieux\n",
    "        ]\n",
    "    )"
   ]
  },
  {
   "cell_type": "code",
   "execution_count": null,
   "metadata": {},
   "outputs": [],
   "source": [
    "pd.DataFrame(\n",
    "    cluster_metrics,\n",
    "    columns=[\n",
    "        \"Algorithme de clustering\",\n",
    "        \"Silhouette\",\n",
    "        \"Calinski-Harabasz\",\n",
    "        \"Davies-Bouldin\",\n",
    "    ],\n",
    ")"
   ]
  },
  {
   "cell_type": "markdown",
   "metadata": {},
   "source": [
    "## Visualisation"
   ]
  },
  {
   "cell_type": "code",
   "execution_count": null,
   "metadata": {},
   "outputs": [],
   "source": [
    "def affiche_taille_clusters(nom_cluster):\n",
    "    plt.title(\"Taille des clusters\")\n",
    "    sns.histplot(df_avec_clusters[nom_cluster], shrink=0.5)\n",
    "\n",
    "    plt.show()"
   ]
  },
  {
   "cell_type": "code",
   "execution_count": null,
   "metadata": {},
   "outputs": [],
   "source": [
    "def affiche_clusters_acp(nom_cluster):\n",
    "    _, ax = plt.subplots(1, 2, figsize=(12, 5))\n",
    "\n",
    "    ax[0].set_title(\"Clusters sur les composantes principales 0-1\")\n",
    "    ax[1].set_title(\"Clusters sur les composantes principales 2-3\")\n",
    "\n",
    "    sns.scatterplot(\n",
    "        composantes_principales, x=0, y=1, hue=df_avec_clusters[nom_cluster], ax=ax[0]\n",
    "    )\n",
    "    sns.scatterplot(\n",
    "        composantes_principales, x=2, y=3, hue=df_avec_clusters[nom_cluster], ax=ax[1]\n",
    "    )\n",
    "\n",
    "    plt.show()"
   ]
  },
  {
   "cell_type": "code",
   "execution_count": null,
   "metadata": {},
   "outputs": [],
   "source": [
    "def affiche_clusters_var_quanti(nom_cluster):\n",
    "    \"\"\"Affiche les variables quantitatives en fonction des clusters.\"\"\"\n",
    "    for var in var_numeriques:\n",
    "        _, ax = plt.subplots(1, 2, figsize=(10, 3))\n",
    "\n",
    "        sns.boxplot(\n",
    "            x=df[var],\n",
    "            y=df_avec_clusters[nom_cluster],\n",
    "            width=0.25,\n",
    "            ax=ax[0],\n",
    "        )\n",
    "\n",
    "        sns.histplot(\n",
    "            x=df[var],\n",
    "            kde=True,\n",
    "            ax=ax[1],\n",
    "            hue=df_avec_clusters[nom_cluster],\n",
    "            stat=\"probability\",\n",
    "            common_norm=False,\n",
    "        )\n",
    "\n",
    "        plt.show()"
   ]
  },
  {
   "cell_type": "code",
   "execution_count": null,
   "metadata": {},
   "outputs": [],
   "source": [
    "def affiche_clusters_var_quali(nom_cluster):\n",
    "    \"\"\"Affiche les variables qualitatives en fonction des clusters et vice-versa.\"\"\"\n",
    "    for var in var_categoriques:\n",
    "        _, ax = plt.subplots(1, 2, figsize=(10, 4))\n",
    "\n",
    "        sns.histplot(\n",
    "            x=df[var].astype(str),\n",
    "            ax=ax[0],\n",
    "            hue=df_avec_clusters[nom_cluster],\n",
    "            multiple=\"dodge\",\n",
    "            shrink=0.5,\n",
    "            common_norm=True,\n",
    "        )\n",
    "\n",
    "        sns.histplot(\n",
    "            hue=df[var].astype(str),\n",
    "            ax=ax[1],\n",
    "            x=df_avec_clusters[nom_cluster],\n",
    "            multiple=\"dodge\",\n",
    "            shrink=0.5,\n",
    "            common_norm=True,\n",
    "        )\n",
    "\n",
    "        plt.show()"
   ]
  },
  {
   "cell_type": "code",
   "execution_count": null,
   "metadata": {},
   "outputs": [],
   "source": [
    "def affiche_clusters(nom_cluster):\n",
    "    \"\"\"Affiche les variables en fonction des clusters.\"\"\"\n",
    "    # todo: modifier les clusters avant la fonction\n",
    "    df_avec_clusters[nom_cluster] = pd.Categorical(\n",
    "        df_avec_clusters[nom_cluster].astype(str)\n",
    "    )\n",
    "\n",
    "    affiche_taille_clusters(nom_cluster)\n",
    "    affiche_clusters_acp(nom_cluster)\n",
    "\n",
    "    affiche_clusters_var_quanti(nom_cluster)\n",
    "    affiche_clusters_var_quali(nom_cluster)"
   ]
  },
  {
   "cell_type": "code",
   "execution_count": null,
   "metadata": {},
   "outputs": [],
   "source": [
    "affiche_clusters(\"KMeans2\")"
   ]
  },
  {
   "cell_type": "code",
   "execution_count": null,
   "metadata": {},
   "outputs": [],
   "source": [
    "# df_avec_clusters.index = df.index"
   ]
  },
  {
   "cell_type": "code",
   "execution_count": null,
   "metadata": {},
   "outputs": [],
   "source": []
  },
  {
   "cell_type": "code",
   "execution_count": null,
   "metadata": {},
   "outputs": [],
   "source": [
    "_, ax = plt.subplots(1, 2, figsize=(12, 5))\n",
    "\n",
    "ax[0].set_title(\"Clusters sur les composantes principales 0-1\")\n",
    "ax[1].set_title(\"Clusters sur les composantes principales 2-3\")\n",
    "\n",
    "sns.scatterplot(\n",
    "    composantes_principales, x=0, y=1, hue=df_avec_clusters[\"KMeans2\"], ax=ax[0]\n",
    ")\n",
    "sns.scatterplot(\n",
    "    composantes_principales, x=2, y=3, hue=df_avec_clusters[\"KMeans2\"], ax=ax[1]\n",
    ")\n",
    "\n",
    "plt.show()"
   ]
  },
  {
   "cell_type": "code",
   "execution_count": null,
   "metadata": {},
   "outputs": [],
   "source": [
    "sns.scatterplot(composantes_principales, x=0, y=1, hue=df_avec_clusters[\"KMeans2\"])"
   ]
  },
  {
   "cell_type": "code",
   "execution_count": null,
   "metadata": {},
   "outputs": [],
   "source": [
    "sns.scatterplot(composantes_principales, x=2, y=3, hue=df_avec_clusters[\"KMeans2\"])"
   ]
  },
  {
   "cell_type": "code",
   "execution_count": null,
   "metadata": {},
   "outputs": [],
   "source": [
    "sns.scatterplot(composantes_principales, x=0, y=1, hue=df_avec_clusters[\"KMeans3\"])"
   ]
  },
  {
   "cell_type": "markdown",
   "metadata": {},
   "source": [
    "# ANOVA"
   ]
  },
  {
   "cell_type": "markdown",
   "metadata": {},
   "source": [
    "## Problématique"
   ]
  },
  {
   "cell_type": "markdown",
   "metadata": {},
   "source": [
    "Nous allons tester l'indépendance entre la variable `Response` (catégorique, binaire) et `Income` (quantitative continue), pour répondre à la question : \"le revenu influence-t-il la réponse aux campagnes marketing ?\"."
   ]
  },
  {
   "cell_type": "code",
   "execution_count": null,
   "metadata": {},
   "outputs": [],
   "source": [
    "sns.boxplot(df, x=\"Response\", y=\"Income\")"
   ]
  },
  {
   "cell_type": "markdown",
   "metadata": {},
   "source": [
    "On cherche à déterminer si les moyennes des groupes sont significativement différentes. On pose donc :\n",
    "\n",
    "$H_0$ : Les moyennes de chaque groupe sont égales si la p-value $> 5\\%$\n",
    "$H_1$ : Les moyennes de chaque groupe ne sont pas toutes égales si la p-value $< 5\\%$\n"
   ]
  },
  {
   "cell_type": "markdown",
   "metadata": {},
   "source": [
    "## Hypothèses"
   ]
  },
  {
   "cell_type": "markdown",
   "metadata": {},
   "source": [
    "1) l’indépendance entre les échantillons de chaque groupe\n",
    "2) l’égalité des variances que l’on peut verifier avec un test de Bartlett.\n",
    "3) la normalité des résidus avec un test de Shapiro."
   ]
  },
  {
   "cell_type": "markdown",
   "metadata": {},
   "source": [
    "### Indépendance"
   ]
  },
  {
   "cell_type": "code",
   "execution_count": null,
   "metadata": {},
   "outputs": [],
   "source": []
  },
  {
   "cell_type": "markdown",
   "metadata": {},
   "source": [
    "### Egalité des variances"
   ]
  },
  {
   "cell_type": "markdown",
   "metadata": {},
   "source": [
    "Voici la variance de chaque groupe :"
   ]
  },
  {
   "cell_type": "code",
   "execution_count": null,
   "metadata": {},
   "outputs": [],
   "source": [
    "df.groupby(\"Response\")[\"Income\"].agg(\"var\")"
   ]
  },
  {
   "cell_type": "markdown",
   "metadata": {},
   "source": [
    "Nous allons effectuer un test de Bartlett pour vérifier l'égalité des variances.\n",
    "\n",
    "$H_0$ : Les variances de chaque groupe sont égales si p-value $> 5\\%$\n",
    "$H_1$ : Les variances de chaque groupe ne sont pas toutes égales $< 5\\%$\n"
   ]
  },
  {
   "cell_type": "code",
   "execution_count": null,
   "metadata": {},
   "outputs": [],
   "source": [
    "bartlett(\n",
    "    df[\"Income\"][df[\"Response\"] == \"0\"],\n",
    "    df[\"Income\"][df[\"Response\"] == \"1\"],\n",
    ")"
   ]
  },
  {
   "cell_type": "markdown",
   "metadata": {},
   "source": [
    "Notre p-value est inférieure à 5%, donc les variances ne sont pas toutes égales au (risque de 5%)."
   ]
  },
  {
   "cell_type": "markdown",
   "metadata": {},
   "source": [
    "### Normalité des résidus"
   ]
  },
  {
   "cell_type": "markdown",
   "metadata": {},
   "source": [
    "Nous utilisons le test de Shapiro-Wilk pour vérifier la normalité des résidus."
   ]
  },
  {
   "cell_type": "markdown",
   "metadata": {},
   "source": [
    "H0 : Les résidus suivent une loi normale si p-value > 5%\n",
    "H1 : Les résidus ne suivent pas une loi normale si p-value < 5%"
   ]
  },
  {
   "cell_type": "code",
   "execution_count": null,
   "metadata": {},
   "outputs": [],
   "source": [
    "model = ols(\"Income ~ Response\", data=df).fit()\n",
    "shapiro(model.resid)"
   ]
  },
  {
   "cell_type": "markdown",
   "metadata": {},
   "source": [
    "Comme la p-value est inférieure à 5%, les résidus ne suivent pas une loi normale (au risque de 5%)."
   ]
  },
  {
   "cell_type": "markdown",
   "metadata": {},
   "source": [
    "## Test d'ANOVA"
   ]
  },
  {
   "cell_type": "markdown",
   "metadata": {},
   "source": [
    "H0 : Les moyennes de chaque groupe sont égales si p-value > 5%\n",
    "H1 : Les moyennes de chaque groupe ne sont pas toutes égales < 5%"
   ]
  },
  {
   "cell_type": "code",
   "execution_count": null,
   "metadata": {},
   "outputs": [],
   "source": [
    "anova_table = sm.stats.anova_lm(model, typ=2)\n",
    "anova_table"
   ]
  },
  {
   "cell_type": "markdown",
   "metadata": {},
   "source": [
    "Comme aucune hypothèse n'est vérifiée, le test n'est pas fiable."
   ]
  },
  {
   "cell_type": "code",
   "execution_count": null,
   "metadata": {},
   "outputs": [],
   "source": [
    "# todo: tenter le GLS"
   ]
  },
  {
   "cell_type": "markdown",
   "metadata": {},
   "source": [
    "# Sauvegarde du Dataframe"
   ]
  },
  {
   "cell_type": "code",
   "execution_count": null,
   "metadata": {},
   "outputs": [],
   "source": [
    "cluster3 = pd.DataFrame(k3.labels_, columns=[\"cluster3\"])\n",
    "cluster4 = pd.DataFrame(k4.labels_, columns=[\"cluster4\"])"
   ]
  },
  {
   "cell_type": "code",
   "execution_count": null,
   "metadata": {},
   "outputs": [],
   "source": [
    "cluster3.to_csv(\"data/clusters-kmeans3.csv\")\n",
    "cluster4.to_csv(\"data/clusters-kmeans4.csv\")"
   ]
  }
 ],
 "metadata": {
  "kernelspec": {
   "display_name": "python3",
   "language": "python",
   "name": "python3"
  }
 },
 "nbformat": 4,
 "nbformat_minor": 1
}
