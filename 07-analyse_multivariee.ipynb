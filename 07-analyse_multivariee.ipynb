{
 "cells": [
  {
   "cell_type": "markdown",
   "metadata": {},
   "source": [
    "# Import des outils / jeu de données"
   ]
  },
  {
   "cell_type": "code",
   "execution_count": null,
   "metadata": {},
   "outputs": [],
   "source": [
    "import matplotlib.pyplot as plt\n",
    "import numpy as np\n",
    "import pandas as pd\n",
    "import prince\n",
    "import seaborn as sns\n",
    "import statsmodels.api as sm\n",
    "from mlxtend.plotting import plot_pca_correlation_graph\n",
    "from scipy.stats import bartlett, shapiro\n",
    "from sklearn.cluster import DBSCAN, OPTICS, AgglomerativeClustering, KMeans\n",
    "from sklearn.compose import ColumnTransformer\n",
    "from sklearn.decomposition import PCA\n",
    "from sklearn.metrics import (\n",
    "    calinski_harabasz_score,\n",
    "    davies_bouldin_score,\n",
    "    silhouette_score,\n",
    ")\n",
    "from sklearn.mixture import GaussianMixture\n",
    "from sklearn.preprocessing import RobustScaler, StandardScaler\n",
    "from statsmodels.formula.api import ols"
   ]
  },
  {
   "cell_type": "code",
   "execution_count": null,
   "metadata": {},
   "outputs": [],
   "source": [
    "SEED = 0"
   ]
  },
  {
   "cell_type": "code",
   "execution_count": null,
   "metadata": {},
   "outputs": [],
   "source": [
    "np.random.seed(SEED)\n",
    "sns.set_theme()"
   ]
  },
  {
   "cell_type": "code",
   "execution_count": null,
   "metadata": {},
   "outputs": [],
   "source": [
    "df = pd.read_csv(\n",
    "    \"data/data-cleaned-feature-engineering.csv\",\n",
    "    sep=\",\",\n",
    "    index_col=\"ID\",\n",
    "    parse_dates=True,\n",
    ")"
   ]
  },
  {
   "cell_type": "code",
   "execution_count": null,
   "metadata": {},
   "outputs": [],
   "source": [
    "df_transforme = pd.read_csv(\n",
    "    \"data/data-transformed.csv\",\n",
    "    sep=\",\",\n",
    "    index_col=\"ID\",\n",
    "    parse_dates=True,\n",
    ")"
   ]
  },
  {
   "cell_type": "markdown",
   "metadata": {},
   "source": [
    "## Variables globales"
   ]
  },
  {
   "cell_type": "code",
   "execution_count": null,
   "metadata": {},
   "outputs": [],
   "source": [
    "var_numeriques = [\n",
    "    \"Year_Birth\",\n",
    "    \"Income\",\n",
    "    \"Recency\",\n",
    "    \"MntWines\",\n",
    "    \"MntFruits\",\n",
    "    \"MntMeatProducts\",\n",
    "    \"MntFishProducts\",\n",
    "    \"MntSweetProducts\",\n",
    "    \"MntGoldProds\",\n",
    "    \"NumDealsPurchases\",\n",
    "    \"NumWebPurchases\",\n",
    "    \"NumCatalogPurchases\",\n",
    "    \"NumStorePurchases\",\n",
    "    \"NumWebVisitsMonth\",\n",
    "]"
   ]
  },
  {
   "cell_type": "code",
   "execution_count": null,
   "metadata": {},
   "outputs": [],
   "source": [
    "var_categoriques = [\n",
    "    \"Education\",\n",
    "    \"Marital_Status\",\n",
    "    \"Kidhome\",\n",
    "    \"Teenhome\",\n",
    "    \"AcceptedCmp1\",\n",
    "    \"AcceptedCmp2\",\n",
    "    \"AcceptedCmp3\",\n",
    "    \"AcceptedCmp4\",\n",
    "    \"AcceptedCmp5\",\n",
    "    \"Response\",\n",
    "]"
   ]
  },
  {
   "cell_type": "markdown",
   "metadata": {},
   "source": [
    "# Analyse multi-variée"
   ]
  },
  {
   "cell_type": "markdown",
   "metadata": {},
   "source": [
    "## Analyse en Composantes Principales (ACP)"
   ]
  },
  {
   "cell_type": "code",
   "execution_count": null,
   "metadata": {},
   "outputs": [],
   "source": [
    "preprocessor = ColumnTransformer(\n",
    "    transformers=[\n",
    "        (\"scaler\", StandardScaler(), var_numeriques),\n",
    "    ],\n",
    ")"
   ]
  },
  {
   "cell_type": "code",
   "execution_count": null,
   "metadata": {},
   "outputs": [],
   "source": [
    "df_centre_reduit = pd.DataFrame(\n",
    "    preprocessor.fit_transform(df), columns=df[var_numeriques].columns\n",
    ")"
   ]
  },
  {
   "cell_type": "code",
   "execution_count": null,
   "metadata": {},
   "outputs": [],
   "source": [
    "acp = PCA(random_state=SEED)"
   ]
  },
  {
   "cell_type": "code",
   "execution_count": null,
   "metadata": {},
   "outputs": [],
   "source": [
    "acp.fit(df_centre_reduit)"
   ]
  },
  {
   "cell_type": "code",
   "execution_count": null,
   "metadata": {},
   "outputs": [],
   "source": [
    "variance_expliquee = pd.Series(acp.explained_variance_ratio_)"
   ]
  },
  {
   "cell_type": "code",
   "execution_count": null,
   "metadata": {},
   "outputs": [],
   "source": [
    "variance_expliquee"
   ]
  },
  {
   "cell_type": "code",
   "execution_count": null,
   "metadata": {},
   "outputs": [],
   "source": [
    "variance_expliquee.plot.barh()"
   ]
  },
  {
   "cell_type": "code",
   "execution_count": null,
   "metadata": {},
   "outputs": [],
   "source": [
    "composantes_principales = pd.DataFrame(\n",
    "    acp.fit_transform(df_centre_reduit), index=df.index\n",
    ")"
   ]
  },
  {
   "cell_type": "code",
   "execution_count": null,
   "metadata": {},
   "outputs": [],
   "source": [
    "composantes_principales.head()"
   ]
  },
  {
   "cell_type": "code",
   "execution_count": null,
   "metadata": {},
   "outputs": [],
   "source": [
    "sns.scatterplot(composantes_principales, x=0, y=1, hue=df[\"Response\"])"
   ]
  },
  {
   "cell_type": "markdown",
   "metadata": {},
   "source": [
    "### Cercle de corrélations"
   ]
  },
  {
   "cell_type": "code",
   "execution_count": null,
   "metadata": {},
   "outputs": [],
   "source": [
    "plot_pca_correlation_graph(\n",
    "    df_centre_reduit,\n",
    "    df_centre_reduit.columns,\n",
    "    X_pca=composantes_principales.iloc[:, :2],\n",
    "    explained_variance=acp.explained_variance_[:2],\n",
    "    dimensions=(1, 2),\n",
    ")"
   ]
  },
  {
   "cell_type": "code",
   "execution_count": null,
   "metadata": {},
   "outputs": [],
   "source": [
    "_, correlation_matrix = plot_pca_correlation_graph(\n",
    "    df_centre_reduit,\n",
    "    df_centre_reduit.columns,\n",
    "    X_pca=composantes_principales.iloc[:, :4],\n",
    "    explained_variance=acp.explained_variance_[:4],\n",
    "    dimensions=(3, 4),\n",
    ")"
   ]
  },
  {
   "cell_type": "code",
   "execution_count": null,
   "metadata": {},
   "outputs": [],
   "source": [
    "plt.figure(figsize=(8, 6))\n",
    "sns.heatmap(\n",
    "    correlation_matrix,\n",
    "    annot=True,\n",
    "    cmap=\"BrBG\",\n",
    "    linewidths=0.5,\n",
    "    vmax=1,\n",
    "    vmin=-1,\n",
    ")"
   ]
  },
  {
   "cell_type": "markdown",
   "metadata": {},
   "source": [
    "## Analyse Factorielle des Correspondances (AFC)"
   ]
  },
  {
   "cell_type": "code",
   "execution_count": null,
   "metadata": {},
   "outputs": [],
   "source": [
    "table_contingence = pd.crosstab(df[\"Kidhome\"], df[\"Teenhome\"])"
   ]
  },
  {
   "cell_type": "code",
   "execution_count": null,
   "metadata": {},
   "outputs": [],
   "source": [
    "table_contingence"
   ]
  },
  {
   "cell_type": "code",
   "execution_count": null,
   "metadata": {},
   "outputs": [],
   "source": [
    "ca = prince.CA(\n",
    "    # n_components=3,\n",
    "    # n_iter=3,\n",
    "    # copy=True,\n",
    "    # check_input=True,\n",
    "    # engine='sklearn',\n",
    "    random_state=SEED\n",
    ")\n",
    "\n",
    "ca = ca.fit(table_contingence)"
   ]
  },
  {
   "cell_type": "code",
   "execution_count": null,
   "metadata": {},
   "outputs": [],
   "source": [
    "ca.eigenvalues_summary"
   ]
  },
  {
   "cell_type": "code",
   "execution_count": null,
   "metadata": {},
   "outputs": [],
   "source": [
    "ca.plot(table_contingence)"
   ]
  },
  {
   "cell_type": "code",
   "execution_count": null,
   "metadata": {},
   "outputs": [],
   "source": [
    "table_contingence = pd.crosstab(df[\"Marital_Status\"], df[\"Education\"])"
   ]
  },
  {
   "cell_type": "code",
   "execution_count": null,
   "metadata": {},
   "outputs": [],
   "source": [
    "table_contingence"
   ]
  },
  {
   "cell_type": "code",
   "execution_count": null,
   "metadata": {},
   "outputs": [],
   "source": [
    "ca = prince.CA(random_state=SEED)\n",
    "ca = ca.fit(table_contingence)"
   ]
  },
  {
   "cell_type": "code",
   "execution_count": null,
   "metadata": {},
   "outputs": [],
   "source": [
    "ca.eigenvalues_summary"
   ]
  },
  {
   "cell_type": "code",
   "execution_count": null,
   "metadata": {},
   "outputs": [],
   "source": [
    "ca.plot(table_contingence)"
   ]
  },
  {
   "cell_type": "code",
   "execution_count": null,
   "metadata": {},
   "outputs": [],
   "source": [
    "# todo: à interpréter"
   ]
  },
  {
   "cell_type": "markdown",
   "metadata": {},
   "source": [
    "## Analyse des Correspondances Multiples (ACM)"
   ]
  },
  {
   "cell_type": "code",
   "execution_count": null,
   "metadata": {},
   "outputs": [],
   "source": [
    "mca = prince.MCA(random_state=SEED)\n",
    "mca = mca.fit(df[var_categoriques])"
   ]
  },
  {
   "cell_type": "code",
   "execution_count": null,
   "metadata": {},
   "outputs": [],
   "source": [
    "mca.plot(df[var_categoriques])"
   ]
  },
  {
   "cell_type": "code",
   "execution_count": null,
   "metadata": {},
   "outputs": [],
   "source": [
    "# todo: à interpréter"
   ]
  },
  {
   "cell_type": "markdown",
   "metadata": {},
   "source": [
    "# Clusters etc"
   ]
  },
  {
   "cell_type": "markdown",
   "metadata": {},
   "source": [
    "## ACM"
   ]
  },
  {
   "cell_type": "code",
   "execution_count": null,
   "metadata": {},
   "outputs": [],
   "source": [
    "mca = prince.MCA(n_components=df[var_categoriques].shape[1], random_state=SEED)"
   ]
  },
  {
   "cell_type": "code",
   "execution_count": null,
   "metadata": {},
   "outputs": [],
   "source": [
    "mca.fit(df[var_categoriques])"
   ]
  },
  {
   "cell_type": "code",
   "execution_count": null,
   "metadata": {},
   "outputs": [],
   "source": [
    "X_clust = mca.row_coordinates(df[var_categoriques])"
   ]
  },
  {
   "cell_type": "code",
   "execution_count": null,
   "metadata": {},
   "outputs": [],
   "source": [
    "X_clust.columns = df[var_categoriques].columns"
   ]
  },
  {
   "cell_type": "code",
   "execution_count": null,
   "metadata": {},
   "outputs": [],
   "source": [
    "X_clust.head()"
   ]
  },
  {
   "cell_type": "markdown",
   "metadata": {},
   "source": [
    "## Fusion ACM et var quanti"
   ]
  },
  {
   "cell_type": "code",
   "execution_count": null,
   "metadata": {},
   "outputs": [],
   "source": [
    "X_clust = pd.concat((df[var_numeriques], X_clust), axis=1)"
   ]
  },
  {
   "cell_type": "code",
   "execution_count": null,
   "metadata": {},
   "outputs": [],
   "source": [
    "X_clust.head()"
   ]
  },
  {
   "cell_type": "code",
   "execution_count": null,
   "metadata": {},
   "outputs": [],
   "source": [
    "scaler = RobustScaler()\n",
    "df_apres_scale = pd.DataFrame(\n",
    "    scaler.fit_transform(X_clust),\n",
    "    columns=X_clust.columns,\n",
    "    index=df.index,\n",
    ")"
   ]
  },
  {
   "cell_type": "code",
   "execution_count": null,
   "metadata": {},
   "outputs": [],
   "source": [
    "df_apres_scale.head()"
   ]
  },
  {
   "cell_type": "code",
   "execution_count": null,
   "metadata": {},
   "outputs": [],
   "source": [
    "df_avec_clusters = df_apres_scale.copy()"
   ]
  },
  {
   "cell_type": "markdown",
   "metadata": {},
   "source": [
    "## Différents algorithmes de clusters"
   ]
  },
  {
   "cell_type": "code",
   "execution_count": null,
   "metadata": {},
   "outputs": [],
   "source": [
    "NB_CLUSTER_MIN = 2\n",
    "NB_CLUSTER_MAX = 6  # non inclus"
   ]
  },
  {
   "cell_type": "code",
   "execution_count": null,
   "metadata": {},
   "outputs": [],
   "source": [
    "dict_kmeans = {\n",
    "    f\"KMeans{i}\": KMeans(n_clusters=i, random_state=SEED)\n",
    "    for i in range(NB_CLUSTER_MIN, NB_CLUSTER_MAX)\n",
    "}\n",
    "\n",
    "dict_gmm = {\n",
    "    f\"GMM{i}\": GaussianMixture(\n",
    "        n_components=i, covariance_type=\"full\", random_state=SEED\n",
    "    )\n",
    "    for i in range(NB_CLUSTER_MIN, NB_CLUSTER_MAX)\n",
    "}\n",
    "\n",
    "dict_cah_ward = {\n",
    "    f\"CAH (Ward) {i}\": AgglomerativeClustering(n_clusters=i)\n",
    "    for i in range(NB_CLUSTER_MIN, NB_CLUSTER_MAX)\n",
    "}\n",
    "\n",
    "dict_cah_average = {\n",
    "    f\"CAH (average linkage) {i}\": AgglomerativeClustering(\n",
    "        n_clusters=i, linkage=\"average\"\n",
    "    )\n",
    "    for i in range(NB_CLUSTER_MIN, NB_CLUSTER_MAX)\n",
    "}\n",
    "\n",
    "dict_cah_simple = {\n",
    "    f\"CAH (single linkage) {i}\": AgglomerativeClustering(n_clusters=i, linkage=\"single\")\n",
    "    for i in range(NB_CLUSTER_MIN, NB_CLUSTER_MAX)\n",
    "}\n",
    "\n",
    "dict_cah_complete = {\n",
    "    f\"CAH (complete linkage) {i}\": AgglomerativeClustering(\n",
    "        n_clusters=i, linkage=\"complete\"\n",
    "    )\n",
    "    for i in range(NB_CLUSTER_MIN, NB_CLUSTER_MAX)\n",
    "}"
   ]
  },
  {
   "cell_type": "code",
   "execution_count": null,
   "metadata": {},
   "outputs": [],
   "source": [
    "model_clusters = {\n",
    "    **dict_kmeans,\n",
    "    **dict_gmm,\n",
    "    **dict_cah_ward,\n",
    "    **dict_cah_average,\n",
    "    **dict_cah_simple,\n",
    "    **dict_cah_complete,\n",
    "    \"OPTICS\": OPTICS(),\n",
    "}"
   ]
  },
  {
   "cell_type": "code",
   "execution_count": null,
   "metadata": {},
   "outputs": [],
   "source": [
    "cluster_metrics = []\n",
    "\n",
    "for (model_name, model) in model_clusters.items():\n",
    "    if model.__class__ == GaussianMixture:  # cas particulier du mélange gaussien\n",
    "        df_avec_clusters[model_name] = model.fit_predict(df_apres_scale)\n",
    "    else:\n",
    "        model.fit(df_apres_scale)\n",
    "        df_avec_clusters[model_name] = model.labels_\n",
    "\n",
    "    df_avec_clusters[model_name] = pd.Categorical(\n",
    "        df_avec_clusters[model_name].astype(str)\n",
    "    )\n",
    "    repartition = list(\n",
    "        df_avec_clusters[model_name].value_counts(normalize=True).round(2).astype(str)\n",
    "    )  # todo: enlever astype(str) si ça sert à rien (tester)\n",
    "\n",
    "    cluster_metrics.append(\n",
    "        [\n",
    "            model_name,\n",
    "            \" | \".join(repartition),\n",
    "            silhouette_score(\n",
    "                df_apres_scale, df_avec_clusters[model_name]\n",
    "            ),  # proche de 1 = mieux\n",
    "            calinski_harabasz_score(\n",
    "                df_apres_scale,\n",
    "                df_avec_clusters[model_name],\n",
    "            ),  # plus élevé, mieux c'est\n",
    "            davies_bouldin_score(\n",
    "                df_apres_scale, df_avec_clusters[model_name]\n",
    "            ),  # proche de 0 = mieux\n",
    "        ]\n",
    "    )"
   ]
  },
  {
   "cell_type": "code",
   "execution_count": null,
   "metadata": {},
   "outputs": [],
   "source": [
    "pd.DataFrame(\n",
    "    cluster_metrics,\n",
    "    columns=[\n",
    "        \"Algorithme de clustering\",\n",
    "        \"Répartition\",\n",
    "        \"Silhouette\",\n",
    "        \"Calinski-Harabasz\",\n",
    "        \"Davies-Bouldin\",\n",
    "    ],\n",
    ")"
   ]
  },
  {
   "cell_type": "markdown",
   "metadata": {},
   "source": [
    "## Visualisation"
   ]
  },
  {
   "cell_type": "code",
   "execution_count": null,
   "metadata": {},
   "outputs": [],
   "source": [
    "def affiche_taille_clusters(nom_cluster):\n",
    "    plt.title(\"Taille des clusters\")\n",
    "    sns.histplot(df_avec_clusters[nom_cluster], shrink=0.5)\n",
    "\n",
    "    plt.show()"
   ]
  },
  {
   "cell_type": "code",
   "execution_count": null,
   "metadata": {},
   "outputs": [],
   "source": [
    "def affiche_clusters_acp(nom_cluster):\n",
    "    _, ax = plt.subplots(1, 2, figsize=(12, 5))\n",
    "\n",
    "    ax[0].set_title(\"Clusters sur les composantes principales 0-1\")\n",
    "    ax[1].set_title(\"Clusters sur les composantes principales 2-3\")\n",
    "\n",
    "    sns.scatterplot(\n",
    "        composantes_principales,\n",
    "        x=0,\n",
    "        y=1,\n",
    "        hue=df_avec_clusters[nom_cluster],\n",
    "        alpha=0.8,\n",
    "        ax=ax[0],\n",
    "    )\n",
    "    sns.scatterplot(\n",
    "        composantes_principales,\n",
    "        x=2,\n",
    "        y=3,\n",
    "        hue=df_avec_clusters[nom_cluster],\n",
    "        alpha=0.8,\n",
    "        ax=ax[1],\n",
    "    )\n",
    "\n",
    "    plt.show()"
   ]
  },
  {
   "cell_type": "code",
   "execution_count": null,
   "metadata": {},
   "outputs": [],
   "source": [
    "def affiche_clusters_var_quanti(nom_cluster):\n",
    "    \"\"\"Affiche les variables quantitatives en fonction des clusters.\"\"\"\n",
    "    for var in var_numeriques:\n",
    "        _, ax = plt.subplots(1, 2, figsize=(10, 3))\n",
    "\n",
    "        sns.boxplot(\n",
    "            x=df[var],\n",
    "            y=df_avec_clusters[nom_cluster],\n",
    "            width=0.25,\n",
    "            ax=ax[0],\n",
    "        )\n",
    "\n",
    "        sns.histplot(\n",
    "            x=df[var],\n",
    "            kde=True,\n",
    "            ax=ax[1],\n",
    "            hue=df_avec_clusters[nom_cluster],\n",
    "            stat=\"probability\",\n",
    "            common_norm=False,\n",
    "        )\n",
    "\n",
    "        plt.show()"
   ]
  },
  {
   "cell_type": "code",
   "execution_count": null,
   "metadata": {},
   "outputs": [],
   "source": [
    "def affiche_clusters_var_quali(nom_cluster):\n",
    "    \"\"\"Affiche les variables qualitatives en fonction des clusters et vice-versa.\"\"\"\n",
    "    for var in var_categoriques:\n",
    "        _, ax = plt.subplots(1, 2, figsize=(10, 4))\n",
    "\n",
    "        sns.histplot(\n",
    "            x=df[var].astype(str),\n",
    "            ax=ax[0],\n",
    "            hue=df_avec_clusters[nom_cluster],\n",
    "            multiple=\"dodge\",\n",
    "            shrink=0.5,\n",
    "            common_norm=True,\n",
    "        )\n",
    "\n",
    "        sns.histplot(\n",
    "            hue=df[var].astype(str),\n",
    "            ax=ax[1],\n",
    "            x=df_avec_clusters[nom_cluster],\n",
    "            multiple=\"dodge\",\n",
    "            shrink=0.5,\n",
    "            common_norm=True,\n",
    "        )\n",
    "\n",
    "        plt.show()"
   ]
  },
  {
   "cell_type": "code",
   "execution_count": null,
   "metadata": {},
   "outputs": [],
   "source": [
    "def affiche_clusters(nom_cluster):\n",
    "    \"\"\"Affiche les variables en fonction des clusters.\"\"\"\n",
    "    affiche_taille_clusters(nom_cluster)\n",
    "    affiche_clusters_acp(nom_cluster)\n",
    "\n",
    "    affiche_clusters_var_quanti(nom_cluster)\n",
    "    affiche_clusters_var_quali(nom_cluster)"
   ]
  },
  {
   "cell_type": "code",
   "execution_count": null,
   "metadata": {},
   "outputs": [],
   "source": [
    "affiche_clusters(\"KMeans2\")"
   ]
  },
  {
   "cell_type": "code",
   "execution_count": null,
   "metadata": {},
   "outputs": [],
   "source": [
    "affiche_clusters(\"KMeans4\")"
   ]
  },
  {
   "cell_type": "code",
   "execution_count": null,
   "metadata": {},
   "outputs": [],
   "source": [
    "affiche_clusters(\"CAH (average linkage) 2\")"
   ]
  },
  {
   "cell_type": "markdown",
   "metadata": {},
   "source": [
    "# Sauvegarde du Dataframe"
   ]
  },
  {
   "cell_type": "code",
   "execution_count": null,
   "metadata": {},
   "outputs": [],
   "source": [
    "# cluster3 = pd.DataFrame(k3.labels_, columns=[\"cluster3\"])"
   ]
  },
  {
   "cell_type": "code",
   "execution_count": null,
   "metadata": {},
   "outputs": [],
   "source": [
    "# cluster3.to_csv(\"data/clusters-kmeans3.csv\")"
   ]
  }
 ],
 "metadata": {
  "kernelspec": {
   "display_name": "python3",
   "language": "python",
   "name": "python3"
  }
 },
 "nbformat": 4,
 "nbformat_minor": 1
}
