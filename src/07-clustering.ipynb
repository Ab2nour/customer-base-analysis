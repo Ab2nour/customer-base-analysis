{
 "cells": [
  {
   "cell_type": "markdown",
   "metadata": {},
   "source": [
    "# Import des outils / jeu de données"
   ]
  },
  {
   "cell_type": "code",
   "execution_count": null,
   "metadata": {},
   "outputs": [],
   "source": [
    "import matplotlib.pyplot as plt\n",
    "import numpy as np\n",
    "import pandas as pd\n",
    "import prince\n",
    "import seaborn as sns\n",
    "from sklearn.cluster import (\n",
    "    DBSCAN,\n",
    "    OPTICS,\n",
    "    AffinityPropagation,\n",
    "    AgglomerativeClustering,\n",
    "    KMeans,\n",
    "    MeanShift,\n",
    ")\n",
    "from sklearn.compose import ColumnTransformer\n",
    "from sklearn.metrics import (\n",
    "    calinski_harabasz_score,\n",
    "    davies_bouldin_score,\n",
    "    silhouette_score,\n",
    ")\n",
    "from sklearn.mixture import GaussianMixture\n",
    "from sklearn.preprocessing import RobustScaler, StandardScaler\n",
    "\n",
    "from clustering import initiate_cluster_models\n",
    "from constants import var_categoriques, var_numeriques"
   ]
  },
  {
   "cell_type": "code",
   "execution_count": null,
   "metadata": {},
   "outputs": [],
   "source": [
    "SEED = 0"
   ]
  },
  {
   "cell_type": "code",
   "execution_count": null,
   "metadata": {},
   "outputs": [],
   "source": [
    "np.random.seed(SEED)\n",
    "sns.set_theme()"
   ]
  },
  {
   "cell_type": "code",
   "execution_count": null,
   "metadata": {},
   "outputs": [],
   "source": [
    "df = pd.read_csv(\n",
    "    \"../data/data-cleaned-feature-engineering.csv\",\n",
    "    sep=\",\",\n",
    "    index_col=\"ID\",\n",
    "    parse_dates=True,\n",
    ")"
   ]
  },
  {
   "cell_type": "code",
   "execution_count": null,
   "metadata": {},
   "outputs": [],
   "source": [
    "composantes_acp = pd.read_csv(\"../data/composantes_acp.csv\", index_col=\"ID\")\n",
    "composantes_acm = pd.read_csv(\"../data/composantes_acm.csv\", index_col=\"ID\")"
   ]
  },
  {
   "cell_type": "markdown",
   "metadata": {},
   "source": [
    "## Variables globales"
   ]
  },
  {
   "cell_type": "code",
   "execution_count": null,
   "metadata": {},
   "outputs": [],
   "source": [
    "var_categoriques_extra = [\"NbAcceptedCampaigns\", \"HasAcceptedCampaigns\", \"NbChildren\"]\n",
    "\n",
    "var_categoriques_fe = var_categoriques + var_categoriques_extra"
   ]
  },
  {
   "cell_type": "markdown",
   "metadata": {},
   "source": [
    "# Clustering"
   ]
  },
  {
   "cell_type": "markdown",
   "metadata": {},
   "source": [
    "## Préparation des données"
   ]
  },
  {
   "cell_type": "markdown",
   "metadata": {},
   "source": [
    "Nous commencer par fusionner les variables quantitatives et les coordonnées des individus dans l'ACM."
   ]
  },
  {
   "cell_type": "code",
   "execution_count": null,
   "metadata": {},
   "outputs": [],
   "source": [
    "X_clust = pd.concat((df[var_numeriques], composantes_acm), axis=1)"
   ]
  },
  {
   "cell_type": "code",
   "execution_count": null,
   "metadata": {},
   "outputs": [],
   "source": [
    "X_clust.head()"
   ]
  },
  {
   "cell_type": "code",
   "execution_count": null,
   "metadata": {},
   "outputs": [],
   "source": [
    "preprocessor = ColumnTransformer(\n",
    "    remainder=\"passthrough\",\n",
    "    transformers=[\n",
    "        (\"scaler\", RobustScaler(), var_numeriques),\n",
    "    ],\n",
    ")"
   ]
  },
  {
   "cell_type": "code",
   "execution_count": null,
   "metadata": {},
   "outputs": [],
   "source": [
    "scaler = RobustScaler()\n",
    "df_apres_scale = pd.DataFrame(\n",
    "    preprocessor.fit_transform(X_clust),\n",
    "    columns=X_clust.columns,\n",
    "    index=df.index,\n",
    ")"
   ]
  },
  {
   "cell_type": "code",
   "execution_count": null,
   "metadata": {},
   "outputs": [],
   "source": [
    "df_apres_scale.head()"
   ]
  },
  {
   "cell_type": "code",
   "execution_count": null,
   "metadata": {},
   "outputs": [],
   "source": [
    "df_avec_clusters = df_apres_scale.copy()"
   ]
  },
  {
   "cell_type": "markdown",
   "metadata": {},
   "source": [
    "## Différents algorithmes de clustering"
   ]
  },
  {
   "cell_type": "markdown",
   "metadata": {},
   "source": [
    "Nous choisissons de tester 2 types de modèles de clustering :\n",
    "1) les modèles à choix du nombre de clusters\n",
    "2) les modèles qui décident du nombre de clusters"
   ]
  },
  {
   "cell_type": "markdown",
   "metadata": {},
   "source": [
    "Cela nous permettra de comparer le nombre de clusters donné par les seconds algorithmes."
   ]
  },
  {
   "cell_type": "markdown",
   "metadata": {},
   "source": [
    "Pour les modèles pour lesquels il faut choisir le nombre de clusters, nous décidons de tester des clusters de taille 2 à 5 (inclus), car un trop grand nombre de clusters serait plus difficile à interpréter pour l'équipe marketing dans un premier temps."
   ]
  },
  {
   "cell_type": "markdown",
   "metadata": {},
   "source": [
    "**Tableau.** Méthodologie de clustering\n",
    "\n",
    "|:----------------------------|:----|\n",
    "| Algorithmes | Avec choix du nombre de clusters (entre 2 et 5)<br>Sans choix du nombre de clusters |\n",
    "| Critères de sélection | Répartition des clusters<br>Métriques de clusters<br>Sélection manuelle des clusters via leur affichage |\n",
    "| Métriques | Score Silhouette (entre -1 et 1, proche de 1 = meilleurs clusters)<br>Calinski-Harabasz (entre 0 et $+\\infty$ plus grand = meilleure séparation)<br>Davies-Bouldin (entre 0 et $+\\infty$, proche de 0 = meilleurs clusters) |\n",
    "| Affichage des clusters | Sur les axes d'ACP 1-4<br>Sur les axes d'ACM 1-4<br>En fonction des variables quantitatives<br>En fonction des variables qualitatives |\n"
   ]
  },
  {
   "cell_type": "markdown",
   "metadata": {},
   "source": [
    "**Tableau.** Algorithmes de clustering testés\n",
    "\n",
    "| Choix du nombre de clusters | Algorithmes                                                                                                                                    |\n",
    "|:----------------------------|:-----------------------------------------------------------------------------------------------------------------------------------------------|\n",
    "| Avec                        | KMeans<br/>Mélange Gaussien (GMM)<br/>Classification Ascendante Hiérarchique (CAH)<br/>(méthode de Ward, single/complete/average linkage) |\n",
    "| Sans                        | OPTICS<br/>Mean Shift<br/>Propagation d'affinité (Affinity Propagation)                                                                        |"
   ]
  },
  {
   "cell_type": "code",
   "execution_count": null,
   "metadata": {},
   "outputs": [],
   "source": [
    "NB_CLUSTER_MIN = 2\n",
    "NB_CLUSTER_MAX = 6  # non inclus"
   ]
  },
  {
   "cell_type": "code",
   "execution_count": null,
   "metadata": {},
   "outputs": [],
   "source": [
    "model_clusters = initiate_cluster_models(\n",
    "    NB_CLUSTER_MIN,\n",
    "    NB_CLUSTER_MAX,\n",
    "    SEED,\n",
    ")"
   ]
  },
  {
   "cell_type": "code",
   "execution_count": null,
   "metadata": {},
   "outputs": [],
   "source": [
    "a = GaussianMixture()"
   ]
  },
  {
   "cell_type": "code",
   "execution_count": null,
   "metadata": {},
   "outputs": [],
   "source": [
    "isinstance(a, GaussianMixture)"
   ]
  },
  {
   "cell_type": "code",
   "execution_count": null,
   "metadata": {},
   "outputs": [],
   "source": [
    "cluster_metrics = []\n",
    "\n",
    "for (model_name, model) in model_clusters.items():\n",
    "    if isinstance(model, GaussianMixture):  # cas particulier du mélange gaussien\n",
    "        df_avec_clusters[model_name] = model.fit_predict(df_apres_scale)\n",
    "    else:\n",
    "        model.fit(df_apres_scale)\n",
    "        df_avec_clusters[model_name] = model.labels_\n",
    "\n",
    "    df_avec_clusters[model_name] = pd.Categorical(\n",
    "        df_avec_clusters[model_name].astype(str)\n",
    "    )\n",
    "\n",
    "    nb_clusters = df_avec_clusters[model_name].nunique()\n",
    "\n",
    "    repartition = list(\n",
    "        df_avec_clusters[model_name].value_counts(normalize=True).round(2).astype(str)\n",
    "    )  # todo: enlever astype(str) si ça sert à rien (tester)\n",
    "\n",
    "    cluster_metrics.append(\n",
    "        [\n",
    "            model_name,\n",
    "            nb_clusters,\n",
    "            \" | \".join(repartition),\n",
    "            silhouette_score(\n",
    "                df_apres_scale, df_avec_clusters[model_name], random_state=SEED\n",
    "            ),  # proche de 1 = mieux\n",
    "            calinski_harabasz_score(\n",
    "                df_apres_scale,\n",
    "                df_avec_clusters[model_name],\n",
    "            ),  # plus élevé, mieux c'est\n",
    "            davies_bouldin_score(\n",
    "                df_apres_scale, df_avec_clusters[model_name]\n",
    "            ),  # proche de 0 = mieux\n",
    "        ]\n",
    "    )"
   ]
  },
  {
   "cell_type": "code",
   "execution_count": null,
   "metadata": {},
   "outputs": [],
   "source": [
    "pd.DataFrame(\n",
    "    cluster_metrics,\n",
    "    columns=[\n",
    "        \"Algorithme de clustering\",\n",
    "        \"Nombre de clusters\",\n",
    "        \"Répartition\",\n",
    "        \"Silhouette\",\n",
    "        \"Calinski-Harabasz\",\n",
    "        \"Davies-Bouldin\",\n",
    "    ],\n",
    ")"
   ]
  },
  {
   "cell_type": "markdown",
   "metadata": {},
   "source": [
    "Clusters sélectionnés :\n",
    "- KMeans 2\n",
    "- GMM 2\n",
    "- CAH (Ward 2)"
   ]
  },
  {
   "cell_type": "markdown",
   "metadata": {},
   "source": [
    "Nous avons aussi étudié certains clusters avec 3 groupes, qui nous ont permis d'identifier certains individus, mais qui ne sont pas aussi intéressants et utilisables que les clusters avec 2 groupes."
   ]
  },
  {
   "cell_type": "markdown",
   "metadata": {},
   "source": [
    "## Visualisation"
   ]
  },
  {
   "cell_type": "code",
   "execution_count": null,
   "metadata": {},
   "outputs": [],
   "source": [
    "def affiche_taille_clusters(nom_cluster):\n",
    "    plt.title(\"Taille des clusters\")\n",
    "    sns.histplot(df_avec_clusters[nom_cluster], shrink=0.5)\n",
    "\n",
    "    plt.show()"
   ]
  },
  {
   "cell_type": "code",
   "execution_count": null,
   "metadata": {},
   "outputs": [],
   "source": [
    "def affiche_clusters_acp(nom_cluster):\n",
    "    _, ax = plt.subplots(1, 2, figsize=(12, 5))\n",
    "\n",
    "    ax[0].set_title(\"Clusters sur les axes d'ACP 1-2\")\n",
    "    ax[1].set_title(\"Clusters sur les axes d'ACP 3-4\")\n",
    "\n",
    "    sns.scatterplot(\n",
    "        composantes_acp,\n",
    "        x=\"ACP1\",\n",
    "        y=\"ACP2\",\n",
    "        hue=df_avec_clusters[nom_cluster],\n",
    "        alpha=0.8,\n",
    "        ax=ax[0],\n",
    "    )\n",
    "    sns.scatterplot(\n",
    "        composantes_acp,\n",
    "        x=\"ACP3\",\n",
    "        y=\"ACP4\",\n",
    "        hue=df_avec_clusters[nom_cluster],\n",
    "        alpha=0.8,\n",
    "        ax=ax[1],\n",
    "    )\n",
    "\n",
    "    plt.show()"
   ]
  },
  {
   "cell_type": "code",
   "execution_count": null,
   "metadata": {},
   "outputs": [],
   "source": [
    "def affiche_clusters_acm(nom_cluster):\n",
    "    _, ax = plt.subplots(1, 2, figsize=(12, 5))\n",
    "\n",
    "    ax[0].set_title(\"Clusters sur les axes d'ACM 1-2\")\n",
    "    ax[1].set_title(\"Clusters sur les axes d'ACM 3-4\")\n",
    "\n",
    "    sns.scatterplot(\n",
    "        composantes_acm,\n",
    "        x=\"ACM1\",\n",
    "        y=\"ACM2\",\n",
    "        hue=df_avec_clusters[nom_cluster],\n",
    "        alpha=0.8,\n",
    "        ax=ax[0],\n",
    "    )\n",
    "\n",
    "    sns.scatterplot(\n",
    "        composantes_acm,\n",
    "        x=\"ACM3\",\n",
    "        y=\"ACM4\",\n",
    "        hue=df_avec_clusters[nom_cluster],\n",
    "        alpha=0.8,\n",
    "        ax=ax[1],\n",
    "    )\n",
    "\n",
    "    plt.show()"
   ]
  },
  {
   "cell_type": "code",
   "execution_count": null,
   "metadata": {},
   "outputs": [],
   "source": [
    "def affiche_clusters_var_quanti(nom_cluster):\n",
    "    \"\"\"Affiche les variables quantitatives en fonction des clusters.\"\"\"\n",
    "    for var in var_numeriques:\n",
    "        _, ax = plt.subplots(1, 2, figsize=(10, 3))\n",
    "\n",
    "        sns.boxplot(\n",
    "            x=df[var],\n",
    "            y=df_avec_clusters[nom_cluster],\n",
    "            width=0.25,\n",
    "            ax=ax[0],\n",
    "        )\n",
    "\n",
    "        sns.histplot(\n",
    "            x=df[var],\n",
    "            kde=True,\n",
    "            ax=ax[1],\n",
    "            hue=df_avec_clusters[nom_cluster],\n",
    "            stat=\"probability\",\n",
    "            common_norm=False,\n",
    "        )\n",
    "\n",
    "        plt.show()"
   ]
  },
  {
   "cell_type": "code",
   "execution_count": null,
   "metadata": {},
   "outputs": [],
   "source": [
    "def affiche_clusters_var_quali(nom_cluster):\n",
    "    \"\"\"Affiche les variables qualitatives en fonction des clusters et vice-versa.\"\"\"\n",
    "    for var in var_categoriques_fe:\n",
    "        _, ax = plt.subplots(1, 2, figsize=(10, 4))\n",
    "\n",
    "        sns.histplot(\n",
    "            x=df[var].astype(str),\n",
    "            ax=ax[0],\n",
    "            hue=df_avec_clusters[nom_cluster],\n",
    "            multiple=\"dodge\",\n",
    "            shrink=0.5,\n",
    "            common_norm=True,\n",
    "        )\n",
    "\n",
    "        sns.histplot(\n",
    "            hue=df[var].astype(str),\n",
    "            ax=ax[1],\n",
    "            x=df_avec_clusters[nom_cluster],\n",
    "            multiple=\"dodge\",\n",
    "            shrink=0.5,\n",
    "            common_norm=True,\n",
    "        )\n",
    "\n",
    "        plt.show()"
   ]
  },
  {
   "cell_type": "code",
   "execution_count": null,
   "metadata": {},
   "outputs": [],
   "source": [
    "def affiche_clusters(nom_cluster):\n",
    "    \"\"\"Affiche les variables en fonction des clusters.\"\"\"\n",
    "    affiche_taille_clusters(nom_cluster)\n",
    "    affiche_clusters_acp(nom_cluster)\n",
    "    affiche_clusters_acm(nom_cluster)\n",
    "\n",
    "    affiche_clusters_var_quanti(nom_cluster)\n",
    "    affiche_clusters_var_quali(nom_cluster)"
   ]
  },
  {
   "cell_type": "code",
   "execution_count": null,
   "metadata": {},
   "outputs": [],
   "source": [
    "affiche_clusters(\"KMeans2\")"
   ]
  },
  {
   "cell_type": "code",
   "execution_count": null,
   "metadata": {},
   "outputs": [],
   "source": [
    "affiche_clusters(\"GMM2\")"
   ]
  },
  {
   "cell_type": "code",
   "execution_count": null,
   "metadata": {},
   "outputs": [],
   "source": [
    "affiche_clusters(\"CAH (Ward) 2\")"
   ]
  },
  {
   "cell_type": "markdown",
   "metadata": {},
   "source": [
    "# Conclusion"
   ]
  },
  {
   "cell_type": "markdown",
   "metadata": {},
   "source": [
    "**Tableau.** Description des clients types\n",
    "\n",
    "| Profil                            | Proportion | Education         | Revenu          | Campagnes<br>acceptées | Enfants                          | Dépenses    |  Année de<br/>naissance | Site Internet |\n",
    "|:----------------------------------|-----------:|:------------------|:----------------|-----------------------:|:---------------------------------|:------------|-------------------:|:--------------------|\n",
    "| Clients qui achètent              |        30% | Bac - doctorat    | Élevé           |                    0-4 | 0 bas-âge <br/> 0-1 ado          | Élevées     |               1970 | Peu de visites      |\n",
    "| Clients qui n'achètent pas ou peu |  68% - 70% | Brevet - doctorat | Moyen           |                    0-1 | 0-3 enfants<br/>(bas-âge et ado) | Peu élevées |               1970 | Beaucoup de visites |\n",
    "| Clients qui n'achètent pas (n=3)  |         2% | Brevet            | Le plus faible  |                      0 | 0-1 bas-âge <br/> 0 ado          | Aucune      |               1980 | Beaucoup de visites |"
   ]
  },
  {
   "cell_type": "markdown",
   "metadata": {},
   "source": [
    "Notons aussi que parmi les clients qui achètent, la proportion d'acceptation des campagnes est beaucoup plus élevée."
   ]
  },
  {
   "cell_type": "markdown",
   "metadata": {},
   "source": [
    "# Pour aller plus loin"
   ]
  },
  {
   "cell_type": "markdown",
   "metadata": {},
   "source": [
    "- tester la stabilité des clusters (ici, l'initialisation des algorithmes a un impact significatif sur les clusters trouvés)\n",
    "- tester les différents paramètres de chacun des algorithmes de clusters pour comparaison\n",
    "- tester les algorithmes de clustering sur différents sous-ensembles de variables pour exhiber différents groupes"
   ]
  },
  {
   "cell_type": "markdown",
   "metadata": {},
   "source": [
    "# Sauvegarde des données"
   ]
  },
  {
   "cell_type": "code",
   "execution_count": null,
   "metadata": {},
   "outputs": [],
   "source": [
    "# todo: sauvegarder les clusters"
   ]
  }
 ],
 "metadata": {
  "kernelspec": {
   "display_name": "python3",
   "language": "python",
   "name": "python3"
  }
 },
 "nbformat": 4,
 "nbformat_minor": 1
}
