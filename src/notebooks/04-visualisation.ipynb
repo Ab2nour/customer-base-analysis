{
 "cells": [
  {
   "cell_type": "markdown",
   "metadata": {},
   "source": [
    "# Visualisation"
   ]
  },
  {
   "cell_type": "markdown",
   "metadata": {},
   "source": [
    "## Import des outils / jeu de données"
   ]
  },
  {
   "cell_type": "code",
   "execution_count": null,
   "metadata": {},
   "outputs": [],
   "source": [
    "import matplotlib.pyplot as plt\n",
    "import pandas as pd\n",
    "import seaborn as sns\n",
    "\n",
    "from src.config import data_folder\n",
    "from src.constants import var_categoriques, var_numeriques\n",
    "from src.utils import init_notebook"
   ]
  },
  {
   "cell_type": "code",
   "execution_count": null,
   "metadata": {},
   "outputs": [],
   "source": [
    "init_notebook()"
   ]
  },
  {
   "cell_type": "code",
   "execution_count": null,
   "metadata": {},
   "outputs": [],
   "source": [
    "df = pd.read_csv(\n",
    "    f\"{data_folder}/data-cleaned-feature-engineering.csv\",\n",
    "    sep=\",\",\n",
    "    index_col=\"ID\",\n",
    "    parse_dates=True,\n",
    ")"
   ]
  },
  {
   "cell_type": "code",
   "execution_count": null,
   "metadata": {},
   "outputs": [],
   "source": [
    "df.head()"
   ]
  },
  {
   "cell_type": "markdown",
   "metadata": {},
   "source": [
    "## Variables globales"
   ]
  },
  {
   "cell_type": "code",
   "execution_count": null,
   "metadata": {},
   "outputs": [],
   "source": [
    "var_categoriques_extra = [\"NbAcceptedCampaigns\", \"HasAcceptedCampaigns\", \"NbChildren\"]\n",
    "\n",
    "var_categoriques_fe = (\n",
    "    var_categoriques + var_categoriques_extra\n",
    ")  ## todo: sauvegarder toutes ces listes dans un pd.Series et les lire"
   ]
  },
  {
   "cell_type": "code",
   "execution_count": null,
   "metadata": {},
   "outputs": [],
   "source": [
    "df[var_categoriques_fe] = df[var_categoriques_fe].astype(str).astype(\"category\")"
   ]
  },
  {
   "cell_type": "markdown",
   "metadata": {},
   "source": [
    "## Visualisation"
   ]
  },
  {
   "cell_type": "markdown",
   "metadata": {},
   "source": [
    "## Relation avec la variable cible (Response)"
   ]
  },
  {
   "cell_type": "code",
   "execution_count": null,
   "metadata": {},
   "outputs": [],
   "source": [
    "for var in var_numeriques:\n",
    "    _, ax = plt.subplots(1, 2, figsize=(10, 3))\n",
    "    sns.boxplot(df, x=df[var], y=df[\"Response\"], width=0.25, ax=ax[0])\n",
    "    sns.histplot(\n",
    "        df,\n",
    "        x=df[var],\n",
    "        kde=True,\n",
    "        ax=ax[1],\n",
    "        hue=df[\"Response\"],\n",
    "        stat=\"probability\",\n",
    "        common_norm=False,\n",
    "    )\n",
    "    plt.show()"
   ]
  },
  {
   "cell_type": "code",
   "execution_count": null,
   "metadata": {},
   "outputs": [],
   "source": [
    "for var in var_categoriques_fe:\n",
    "    _, ax = plt.subplots(1, 2, figsize=(10, 3))\n",
    "\n",
    "    sns.histplot(\n",
    "        df,\n",
    "        x=df[var],\n",
    "        hue=df[\"Response\"],\n",
    "        multiple=\"dodge\",\n",
    "        shrink=0.5,\n",
    "        ax=ax[0],\n",
    "    )\n",
    "    sns.histplot(\n",
    "        df,\n",
    "        hue=df[var],\n",
    "        x=df[\"Response\"],\n",
    "        multiple=\"dodge\",\n",
    "        shrink=0.5,\n",
    "        ax=ax[1],\n",
    "    )\n",
    "\n",
    "    plt.show()"
   ]
  },
  {
   "cell_type": "markdown",
   "metadata": {},
   "source": [
    "## Graphiques supplémentaires"
   ]
  },
  {
   "cell_type": "code",
   "execution_count": null,
   "metadata": {},
   "outputs": [],
   "source": [
    "_, ax = plt.subplots(1, 2, figsize=(12, 4))\n",
    "\n",
    "ax[0].set_title(\"Revenu en fonction du nombre de campagnes acceptées\")\n",
    "\n",
    "sns.boxplot(y=df[\"Income\"], x=df[\"NbAcceptedCampaigns\"], ax=ax[0])\n",
    "sns.histplot(\n",
    "    df,\n",
    "    x=\"Income\",\n",
    "    hue=\"NbAcceptedCampaigns\",\n",
    "    kde=True,\n",
    "    stat=\"probability\",\n",
    "    common_norm=False,\n",
    "    ax=ax[1],\n",
    ")"
   ]
  },
  {
   "cell_type": "code",
   "execution_count": null,
   "metadata": {},
   "outputs": [],
   "source": [
    "_, ax = plt.subplots(1, 2, figsize=(12, 4))\n",
    "\n",
    "ax[0].set_title(\"Revenu en fonction du nombre de campagnes acceptées\")\n",
    "\n",
    "sns.boxplot(y=df[\"Income\"], x=df[\"HasAcceptedCampaigns\"], ax=ax[0])\n",
    "sns.histplot(\n",
    "    df,\n",
    "    x=\"Income\",\n",
    "    hue=\"HasAcceptedCampaigns\",\n",
    "    kde=True,\n",
    "    stat=\"probability\",\n",
    "    common_norm=False,\n",
    "    ax=ax[1],\n",
    ")"
   ]
  },
  {
   "cell_type": "markdown",
   "metadata": {},
   "source": [
    "### todo"
   ]
  },
  {
   "cell_type": "code",
   "execution_count": null,
   "metadata": {},
   "outputs": [],
   "source": [
    "sns.histplot(\n",
    "    data=df, x=\"Education\", hue=\"HasAcceptedCampaigns\", multiple=\"dodge\", shrink=0.8\n",
    ")"
   ]
  },
  {
   "cell_type": "code",
   "execution_count": null,
   "metadata": {},
   "outputs": [],
   "source": [
    "sns.histplot(\n",
    "    data=df,\n",
    "    x=\"NbChildren\",\n",
    "    hue=\"Response\",\n",
    "    multiple=\"dodge\",\n",
    "    discrete=True,\n",
    "    shrink=0.4,\n",
    ")"
   ]
  },
  {
   "cell_type": "code",
   "execution_count": null,
   "metadata": {},
   "outputs": [],
   "source": [
    "sns.histplot(\n",
    "    data=df,\n",
    "    x=\"NbChildren\",\n",
    "    hue=\"HasAcceptedCampaigns\",\n",
    "    multiple=\"dodge\",\n",
    "    discrete=True,\n",
    "    shrink=0.4,\n",
    ")"
   ]
  },
  {
   "cell_type": "markdown",
   "metadata": {},
   "source": [
    "## Matrice de corrélation"
   ]
  },
  {
   "cell_type": "code",
   "execution_count": null,
   "metadata": {},
   "outputs": [],
   "source": [
    "plt.figure(figsize=(12, 12))\n",
    "sns.heatmap(\n",
    "    df.corr()[df.corr().abs() > 0.5],\n",
    "    annot=True,\n",
    "    cmap=\"BrBG\",\n",
    "    linewidths=0.5,\n",
    "    vmax=1,\n",
    "    vmin=-1,\n",
    ")"
   ]
  },
  {
   "cell_type": "markdown",
   "metadata": {},
   "source": [
    "## todo"
   ]
  },
  {
   "cell_type": "code",
   "execution_count": null,
   "metadata": {},
   "outputs": [],
   "source": [
    "## Exemple de graphique sur plusieurs colonnes\n",
    "## sns.displot(\n",
    "#     data=df,\n",
    "#     x=\"Marital_Status\",\n",
    "#     hue=\"Response\",\n",
    "#     col=\"Kidhome\",\n",
    "#     multiple=\"dodge\",\n",
    "#     shrink=0.8,\n",
    "## )"
   ]
  }
 ],
 "metadata": {
  "kernelspec": {
   "display_name": "python3",
   "language": "python",
   "name": "python3"
  }
 },
 "nbformat": 4,
 "nbformat_minor": 0
}
