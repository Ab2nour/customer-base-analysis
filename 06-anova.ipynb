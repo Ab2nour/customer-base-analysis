{
 "cells": [
  {
   "cell_type": "markdown",
   "metadata": {},
   "source": [
    "# Import des outils / jeu de données"
   ]
  },
  {
   "cell_type": "code",
   "execution_count": null,
   "metadata": {},
   "outputs": [],
   "source": [
    "import statistics\n",
    "\n",
    "import matplotlib.pyplot as plt\n",
    "import numpy as np\n",
    "import pandas as pd\n",
    "import prince\n",
    "import scipy.stats as stats\n",
    "import seaborn as sns\n",
    "import statsmodels.api as sm\n",
    "from scipy.stats import bartlett, shapiro\n",
    "from statsmodels.formula.api import ols"
   ]
  },
  {
   "cell_type": "code",
   "execution_count": null,
   "metadata": {},
   "outputs": [],
   "source": [
    "np.random.seed(0)\n",
    "sns.set_theme()"
   ]
  },
  {
   "cell_type": "code",
   "execution_count": null,
   "metadata": {},
   "outputs": [],
   "source": [
    "df = pd.read_csv(\n",
    "    \"data/data-cleaned-feature-engineering.csv\",\n",
    "    sep=\",\",\n",
    "    index_col=\"ID\",\n",
    "    parse_dates=True,\n",
    ")"
   ]
  },
  {
   "cell_type": "code",
   "execution_count": null,
   "metadata": {},
   "outputs": [],
   "source": [
    "df_transforme = pd.read_csv(\n",
    "    \"data/data-transformed.csv\",\n",
    "    sep=\",\",\n",
    "    index_col=\"ID\",\n",
    "    parse_dates=True,\n",
    ")"
   ]
  },
  {
   "cell_type": "markdown",
   "metadata": {},
   "source": [
    "## Variables globales"
   ]
  },
  {
   "cell_type": "code",
   "execution_count": null,
   "metadata": {},
   "outputs": [],
   "source": [
    "var_numeriques = [\n",
    "    \"Year_Birth\",\n",
    "    \"Income\",\n",
    "    \"Recency\",\n",
    "    \"MntWines\",\n",
    "    \"MntFruits\",\n",
    "    \"MntMeatProducts\",\n",
    "    \"MntFishProducts\",\n",
    "    \"MntSweetProducts\",\n",
    "    \"MntGoldProds\",\n",
    "    \"NumDealsPurchases\",\n",
    "    \"NumWebPurchases\",\n",
    "    \"NumCatalogPurchases\",\n",
    "    \"NumStorePurchases\",\n",
    "    \"NumWebVisitsMonth\",\n",
    "]"
   ]
  },
  {
   "cell_type": "code",
   "execution_count": null,
   "metadata": {},
   "outputs": [],
   "source": [
    "var_categoriques = [\n",
    "    \"Education\",\n",
    "    \"Marital_Status\",\n",
    "    \"Kidhome\",\n",
    "    \"Teenhome\",\n",
    "    \"AcceptedCmp1\",\n",
    "    \"AcceptedCmp2\",\n",
    "    \"AcceptedCmp3\",\n",
    "    \"AcceptedCmp4\",\n",
    "    \"AcceptedCmp5\",\n",
    "    \"Response\",\n",
    "]"
   ]
  },
  {
   "cell_type": "markdown",
   "metadata": {},
   "source": [
    "# ANOVA"
   ]
  },
  {
   "cell_type": "markdown",
   "metadata": {},
   "source": [
    "## Problématique"
   ]
  },
  {
   "attachments": {},
   "cell_type": "markdown",
   "metadata": {},
   "source": [
    "Nous allons tester l'indépendance entre la variable `NumStorePurchaes` (catégorique, désignant le nombre d'achat en magasin sur un mois pour un client donné) et `Income` (quantitative continue).  \n",
    "Nous souhaitons répondre à la question : \"le revenu influence-t-il effectivement la propension d'un client à acheter plus dans notre magasin ?\""
   ]
  },
  {
   "attachments": {},
   "cell_type": "markdown",
   "metadata": {},
   "source": [
    "Les boites à moustaches superposées ci-dessous nous donne l'intuition que la réponse est OUI.  \n",
    "Nous allons le vérifier par une `ANOVA`."
   ]
  },
  {
   "cell_type": "code",
   "execution_count": null,
   "metadata": {},
   "outputs": [],
   "source": [
    "sns.boxplot(df, x=\"NumStorePurchases\", y=\"Income\")"
   ]
  },
  {
   "attachments": {},
   "cell_type": "markdown",
   "metadata": {},
   "source": [
    "On cherche à déterminer si les moyennes des groupes sont significativement différentes.  \n",
    "L'ANOVA fait le rapport des variances interclasse et intraclasse.\n",
    "\n",
    "#### Somme des Carrés des Ecarts (SCE) interclasse\n",
    "\n",
    "$$ SCEinterclasse = \\sum\\limits_{k=1}^{N}(\\bar{Y_k}\\ - \\bar{Y})^2 * u_k $$\n",
    "\n",
    "où $ \\bar{Y_k} $ est la valeur de la moyenne du groupe k, $ \\bar{Y} $ est la moyenne de la population totale et $ u_k $ est le poids du groupe k et N est le nombre de groupe.\n",
    "\n",
    "#### SCE intraclasse\n",
    "\n",
    "$$ SCEintraclasse = \\sum\\limits_{k=1}^{N} \\sum\\limits_{i=1}^{n_k} (X_i^k - \\bar{Y_k})^2 $$\n",
    "\n",
    "où $n_k$ est le nombre d'individus dans le groupe k\n",
    "  \n",
    "On a alors $ SCEtotale = SCEintraclasse + SCEinterclasse $"
   ]
  },
  {
   "attachments": {},
   "cell_type": "markdown",
   "metadata": {},
   "source": [
    "On pose donc :\n",
    "\n",
    "$H_0$ : Les moyennes de chaque groupe sont égales si la p-value $> 5\\%$\n",
    "$H_1$ : Les moyennes de chaque groupe ne sont pas toutes égales si la p-value $< 5\\%$"
   ]
  },
  {
   "attachments": {},
   "cell_type": "markdown",
   "metadata": {},
   "source": [
    "## Hypothèses à vérifier\n",
    "\n",
    "1) la variable d'intérêt est qualitative, la variable explicative est quantitative\n",
    "1) l’indépendance entre les échantillons de chaque groupe\n",
    "2) l’égalité des variances entre les groupes (homoscédasticité)\n",
    "3) la normalité des résidus avec un test de Shapiro."
   ]
  },
  {
   "attachments": {},
   "cell_type": "markdown",
   "metadata": {},
   "source": [
    "### Indépendance\n",
    "\n",
    "L'indépendance se vérifie en pratique dans la façon dont sont mesurées les données. Ici nos clients ne se connaissent pas, ne sont pas liés entre eux, et agissent indépendemment les uns des autres."
   ]
  },
  {
   "cell_type": "markdown",
   "metadata": {},
   "source": [
    "### Egalité des variances"
   ]
  },
  {
   "cell_type": "code",
   "execution_count": null,
   "metadata": {},
   "outputs": [],
   "source": [
    "df.groupby(\"NumStorePurchases\")[\"Income\"].std()"
   ]
  },
  {
   "attachments": {},
   "cell_type": "markdown",
   "metadata": {},
   "source": [
    "Nous allons effectuer un test de Levene pour vérifier l'égalité statistique des variances.\n",
    "\n",
    "$H_0$ : Les variances de chaque groupe sont égales si p-value $> 5\\%$\n",
    "$H_1$ : Les variances de chaque groupe ne sont pas toutes égales $< 5\\%$\n"
   ]
  },
  {
   "cell_type": "code",
   "execution_count": null,
   "metadata": {},
   "outputs": [],
   "source": [
    "group_by = [\n",
    "    df[df[\"NumStorePurchases\"] == i][\"Income\"]\n",
    "    for i in range(max(df[\"NumStorePurchases\"]) + 1)\n",
    "]"
   ]
  },
  {
   "cell_type": "code",
   "execution_count": null,
   "metadata": {},
   "outputs": [],
   "source": [
    "stats.levene(\n",
    "    group_by[0],\n",
    "    group_by[1],\n",
    "    group_by[2],\n",
    "    group_by[3],\n",
    "    group_by[4],\n",
    "    group_by[5],\n",
    "    group_by[6],\n",
    "    group_by[7],\n",
    "    group_by[8],\n",
    "    group_by[9],\n",
    "    group_by[10],\n",
    "    group_by[11],\n",
    "    group_by[12],\n",
    "    group_by[13],\n",
    ")"
   ]
  },
  {
   "attachments": {},
   "cell_type": "markdown",
   "metadata": {},
   "source": [
    "Notre p-value est largement inférieure à 5%, donc les variances ne sont pas toutes égales.  \n",
    "Nous allons voir ce problème de plus près."
   ]
  },
  {
   "cell_type": "code",
   "execution_count": null,
   "metadata": {},
   "outputs": [],
   "source": [
    "%%capture\n",
    "\n",
    "group_std = pd.DataFrame(columns=[\"std\"])\n",
    "\n",
    "for i in range(len(group_by)):\n",
    "    group_std = group_std.append(\n",
    "        pd.DataFrame({\"std\": [statistics.stdev(group_by[i])]}, index=[i])\n",
    "    )"
   ]
  },
  {
   "cell_type": "code",
   "execution_count": null,
   "metadata": {},
   "outputs": [],
   "source": [
    "plt.plot(group_std, \"bo\")\n",
    "plt.title(\"Ecart type des revenus en fonction du nombre d'achat en magasin\")"
   ]
  },
  {
   "attachments": {},
   "cell_type": "markdown",
   "metadata": {},
   "source": [
    "On constate que les variances sont en effet dispersées, notamment à cause des groupes aux nombres d'achats 0 et 1.  \n",
    "Vérifions que la taille de chacun des groupes est suffisamment grande pour être significatif.  "
   ]
  },
  {
   "cell_type": "code",
   "execution_count": null,
   "metadata": {},
   "outputs": [],
   "source": [
    "for i in range(len(group_by)):\n",
    "    print(len(group_by[i]))\n",
    "\n",
    "print(\n",
    "    \"Les groupes aux nombres d'achats 0 et 1 sont trop petits pour être significatifs, on les retire de l'analyse.\"\n",
    ")"
   ]
  },
  {
   "cell_type": "code",
   "execution_count": null,
   "metadata": {},
   "outputs": [],
   "source": [
    "del group_by[0:2]\n",
    "group_std = group_std.drop(labels=[0, 1], axis=\"index\")"
   ]
  },
  {
   "cell_type": "code",
   "execution_count": null,
   "metadata": {},
   "outputs": [],
   "source": [
    "plt.plot(group_std, \"bo\")\n",
    "plt.title(\"Ecart type des revenus en fonction du nombre d'achats - données nettoyées\")"
   ]
  },
  {
   "attachments": {},
   "cell_type": "markdown",
   "metadata": {},
   "source": [
    "On créer un dataframe pour l'ANOVA où l'on conserve uniquement les données qui nous intéressent."
   ]
  },
  {
   "cell_type": "code",
   "execution_count": null,
   "metadata": {},
   "outputs": [],
   "source": [
    "df_anova = df[df[\"NumStorePurchases\"] > 1][[\"NumStorePurchases\", \"Income\"]]\n",
    "print(df_anova)"
   ]
  },
  {
   "attachments": {},
   "cell_type": "markdown",
   "metadata": {},
   "source": [
    "### Normalité des distributions des groupes"
   ]
  },
  {
   "cell_type": "code",
   "execution_count": null,
   "metadata": {},
   "outputs": [],
   "source": [
    "group_by_reshape = np.reshape(group_by, (3, 4))"
   ]
  },
  {
   "cell_type": "code",
   "execution_count": null,
   "metadata": {},
   "outputs": [],
   "source": [
    "fig, axs = plt.subplots(3, 4, figsize=(20, 15))\n",
    "\n",
    "for i in range(3):\n",
    "    for j in range(4):\n",
    "        sns.histplot(group_by_reshape[i, j], kde=True, ax=axs[i, j])"
   ]
  },
  {
   "attachments": {},
   "cell_type": "markdown",
   "metadata": {},
   "source": [
    "Nous utilisons le test de Shapiro-Wilk pour vérifier la normalité des résidus du modèle linéaire OLS.  \n",
    "\n",
    "H0 : Les résidus suivent une loi normale si p-value > 5%  \n",
    "H1 : Les résidus ne suivent pas une loi normale si p-value < 5%"
   ]
  },
  {
   "cell_type": "code",
   "execution_count": null,
   "metadata": {},
   "outputs": [],
   "source": [
    "model = ols(\"NumStorePurchases ~ Income\", data=df).fit()\n",
    "shapiro(model.resid)"
   ]
  },
  {
   "attachments": {},
   "cell_type": "markdown",
   "metadata": {},
   "source": [
    "La p-value du test de Shapiro-Wilk est inférieure à 5%.  \n",
    "Pour autant, le QQ plot ci-dessous nous indique que nos résidus suivent relativement bien une loi normale."
   ]
  },
  {
   "cell_type": "code",
   "execution_count": null,
   "metadata": {},
   "outputs": [],
   "source": [
    "plt.figure(figsize=(10, 10))\n",
    "stats.probplot(model.resid, plot=plt, rvalue=True)\n",
    "plt.title(\"Probability plot of model's residuals\")"
   ]
  },
  {
   "cell_type": "markdown",
   "metadata": {},
   "source": [
    "## Test d'ANOVA"
   ]
  },
  {
   "cell_type": "markdown",
   "metadata": {},
   "source": [
    "H0 : Les moyennes de chaque groupe sont égales si p-value > 5%\n",
    "H1 : Les moyennes de chaque groupe ne sont pas toutes égales < 5%"
   ]
  },
  {
   "cell_type": "code",
   "execution_count": null,
   "metadata": {},
   "outputs": [],
   "source": [
    "table = sm.stats.anova_lm(model)\n",
    "print(table)"
   ]
  },
  {
   "attachments": {},
   "cell_type": "markdown",
   "metadata": {},
   "source": [
    "Nous obtenons une p-value, pour l'hypothèse nulle \"les moyennes des groupes sont égales\", très proche de 0. Nous pouvons donc affirmer que le nombre d'achat en magasin dépend bien du niveau de revenu. "
   ]
  },
  {
   "cell_type": "code",
   "execution_count": null,
   "metadata": {},
   "outputs": [],
   "source": [
    "plt.scatter(df_anova[\"NumStorePurchases\"], df_anova[\"Income\"])\n",
    "plt.title"
   ]
  },
  {
   "cell_type": "code",
   "execution_count": null,
   "metadata": {},
   "outputs": [],
   "source": [
    "# TODO: afficher les moyennes"
   ]
  }
 ],
 "metadata": {
  "kernelspec": {
   "display_name": "python3",
   "language": "python",
   "name": "python3"
  }
 },
 "nbformat": 4,
 "nbformat_minor": 0
}
