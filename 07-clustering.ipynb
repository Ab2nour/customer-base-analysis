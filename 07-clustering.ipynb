{
 "cells": [
  {
   "cell_type": "markdown",
   "metadata": {},
   "source": [
    "# Import des outils / jeu de données"
   ]
  },
  {
   "cell_type": "code",
   "execution_count": null,
   "metadata": {},
   "outputs": [],
   "source": [
    "import matplotlib.pyplot as plt\n",
    "import numpy as np\n",
    "import pandas as pd\n",
    "import prince\n",
    "import seaborn as sns\n",
    "from sklearn.cluster import (\n",
    "    DBSCAN,\n",
    "    OPTICS,\n",
    "    AffinityPropagation,\n",
    "    AgglomerativeClustering,\n",
    "    KMeans,\n",
    "    MeanShift,\n",
    ")\n",
    "from sklearn.compose import ColumnTransformer\n",
    "from sklearn.metrics import (\n",
    "    calinski_harabasz_score,\n",
    "    davies_bouldin_score,\n",
    "    silhouette_score,\n",
    ")\n",
    "from sklearn.mixture import GaussianMixture\n",
    "from sklearn.preprocessing import RobustScaler, StandardScaler"
   ]
  },
  {
   "cell_type": "code",
   "execution_count": null,
   "metadata": {},
   "outputs": [],
   "source": [
    "SEED = 0"
   ]
  },
  {
   "cell_type": "code",
   "execution_count": null,
   "metadata": {},
   "outputs": [],
   "source": [
    "np.random.seed(SEED)\n",
    "sns.set_theme()"
   ]
  },
  {
   "cell_type": "code",
   "execution_count": null,
   "metadata": {},
   "outputs": [],
   "source": [
    "df = pd.read_csv(\n",
    "    \"data/data-cleaned-feature-engineering.csv\",\n",
    "    sep=\",\",\n",
    "    index_col=\"ID\",\n",
    "    parse_dates=True,\n",
    ")"
   ]
  },
  {
   "cell_type": "code",
   "execution_count": null,
   "metadata": {},
   "outputs": [],
   "source": [
    "composantes_acp = pd.read_csv(\"data/composantes_acp.csv\", index_col=\"ID\")\n",
    "composantes_acm = pd.read_csv(\"data/composantes_acm.csv\", index_col=\"ID\")"
   ]
  },
  {
   "cell_type": "markdown",
   "metadata": {},
   "source": [
    "## Variables globales"
   ]
  },
  {
   "cell_type": "code",
   "execution_count": null,
   "metadata": {},
   "outputs": [],
   "source": [
    "var_numeriques = [\n",
    "    \"Year_Birth\",\n",
    "    \"Income\",\n",
    "    \"Recency\",\n",
    "    \"MntWines\",\n",
    "    \"MntFruits\",\n",
    "    \"MntMeatProducts\",\n",
    "    \"MntFishProducts\",\n",
    "    \"MntSweetProducts\",\n",
    "    \"MntGoldProds\",\n",
    "    \"NumDealsPurchases\",\n",
    "    \"NumWebPurchases\",\n",
    "    \"NumCatalogPurchases\",\n",
    "    \"NumStorePurchases\",\n",
    "    \"NumWebVisitsMonth\",\n",
    "]"
   ]
  },
  {
   "cell_type": "code",
   "execution_count": null,
   "metadata": {},
   "outputs": [],
   "source": [
    "var_categoriques = [\n",
    "    \"Education\",\n",
    "    \"Marital_Status\",\n",
    "    \"Kidhome\",\n",
    "    \"Teenhome\",\n",
    "    \"AcceptedCmp1\",\n",
    "    \"AcceptedCmp2\",\n",
    "    \"AcceptedCmp3\",\n",
    "    \"AcceptedCmp4\",\n",
    "    \"AcceptedCmp5\",\n",
    "    \"Response\",\n",
    "]\n",
    "\n",
    "var_categoriques_extra = [\"NbAcceptedCampaigns\", \"HasAcceptedCampaigns\", \"NbChildren\"]\n",
    "\n",
    "var_categoriques_fe = var_categoriques + var_categoriques_extra"
   ]
  },
  {
   "cell_type": "markdown",
   "metadata": {},
   "source": [
    "# Clustering"
   ]
  },
  {
   "cell_type": "markdown",
   "metadata": {},
   "source": [
    "## Préparation des données"
   ]
  },
  {
   "cell_type": "markdown",
   "metadata": {},
   "source": [
    "Nous commencer par fusionner les variables quantitatives et les coordonnées des individus dans l'ACM."
   ]
  },
  {
   "cell_type": "code",
   "execution_count": null,
   "metadata": {},
   "outputs": [],
   "source": [
    "X_clust = pd.concat((df[var_numeriques], composantes_acm), axis=1)"
   ]
  },
  {
   "cell_type": "code",
   "execution_count": null,
   "metadata": {},
   "outputs": [],
   "source": [
    "X_clust.head()"
   ]
  },
  {
   "cell_type": "code",
   "execution_count": null,
   "metadata": {},
   "outputs": [],
   "source": [
    "preprocessor = ColumnTransformer(\n",
    "    remainder=\"passthrough\",\n",
    "    transformers=[\n",
    "        (\"scaler\", RobustScaler(), var_numeriques),\n",
    "    ],\n",
    ")"
   ]
  },
  {
   "cell_type": "code",
   "execution_count": null,
   "metadata": {},
   "outputs": [],
   "source": [
    "scaler = RobustScaler()\n",
    "df_apres_scale = pd.DataFrame(\n",
    "    preprocessor.fit_transform(X_clust),\n",
    "    columns=X_clust.columns,\n",
    "    index=df.index,\n",
    ")"
   ]
  },
  {
   "cell_type": "code",
   "execution_count": null,
   "metadata": {},
   "outputs": [],
   "source": [
    "df_apres_scale.head()"
   ]
  },
  {
   "cell_type": "code",
   "execution_count": null,
   "metadata": {},
   "outputs": [],
   "source": [
    "df_avec_clusters = df_apres_scale.copy()"
   ]
  },
  {
   "cell_type": "markdown",
   "metadata": {},
   "source": [
    "## Différents algorithmes de clusters"
   ]
  },
  {
   "cell_type": "markdown",
   "metadata": {},
   "source": [
    "Nous choisissons de tester 2 types de modèles de clustering :\n",
    "1) les modèles à choix du nombre de clusters (KMeans, GMM, CAH)\n",
    "2) les modèles qui décident du nombre de clusters (OPTICS, MeanShift et AffinityPropagation)"
   ]
  },
  {
   "cell_type": "markdown",
   "metadata": {},
   "source": [
    "Cela nous permettra de comparer le nombre de clusters donné par les seconds algorithmes."
   ]
  },
  {
   "cell_type": "markdown",
   "metadata": {},
   "source": [
    "Pour les modèles pour lesquels il faut choisir le nombre de clusters, nous décidons de tester des clusters de taille 2 à 5 (inclus), car un trop grand nombre de clusters serait plus difficile à interpréter pour l'équipe marketing dans un premier temps."
   ]
  },
  {
   "cell_type": "code",
   "execution_count": null,
   "metadata": {},
   "outputs": [],
   "source": [
    "NB_CLUSTER_MIN = 2\n",
    "NB_CLUSTER_MAX = 6  # non inclus"
   ]
  },
  {
   "cell_type": "code",
   "execution_count": null,
   "metadata": {},
   "outputs": [],
   "source": [
    "dict_kmeans = {\n",
    "    f\"KMeans{i}\": KMeans(n_clusters=i, random_state=SEED)\n",
    "    for i in range(NB_CLUSTER_MIN, NB_CLUSTER_MAX)\n",
    "}\n",
    "\n",
    "dict_gmm = {\n",
    "    f\"GMM{i}\": GaussianMixture(\n",
    "        n_components=i, covariance_type=\"full\", random_state=SEED\n",
    "    )\n",
    "    for i in range(NB_CLUSTER_MIN, NB_CLUSTER_MAX)\n",
    "}\n",
    "\n",
    "dict_cah_ward = {\n",
    "    f\"CAH (Ward) {i}\": AgglomerativeClustering(n_clusters=i)\n",
    "    for i in range(NB_CLUSTER_MIN, NB_CLUSTER_MAX)\n",
    "}\n",
    "\n",
    "dict_cah_average = {\n",
    "    f\"CAH (average linkage) {i}\": AgglomerativeClustering(\n",
    "        n_clusters=i, linkage=\"average\"\n",
    "    )\n",
    "    for i in range(NB_CLUSTER_MIN, NB_CLUSTER_MAX)\n",
    "}\n",
    "\n",
    "dict_cah_simple = {\n",
    "    f\"CAH (single linkage) {i}\": AgglomerativeClustering(n_clusters=i, linkage=\"single\")\n",
    "    for i in range(NB_CLUSTER_MIN, NB_CLUSTER_MAX)\n",
    "}\n",
    "\n",
    "dict_cah_complete = {\n",
    "    f\"CAH (complete linkage) {i}\": AgglomerativeClustering(\n",
    "        n_clusters=i, linkage=\"complete\"\n",
    "    )\n",
    "    for i in range(NB_CLUSTER_MIN, NB_CLUSTER_MAX)\n",
    "}"
   ]
  },
  {
   "cell_type": "code",
   "execution_count": null,
   "metadata": {},
   "outputs": [],
   "source": [
    "model_clusters = {\n",
    "    **dict_kmeans,\n",
    "    **dict_gmm,\n",
    "    **dict_cah_ward,\n",
    "    **dict_cah_average,\n",
    "    **dict_cah_simple,\n",
    "    **dict_cah_complete,\n",
    "    \"OPTICS\": OPTICS(),\n",
    "    \"MeanShift\": MeanShift(),\n",
    "    \"AffinityPropagation\": AffinityPropagation(random_state=SEED),\n",
    "}"
   ]
  },
  {
   "cell_type": "code",
   "execution_count": null,
   "metadata": {},
   "outputs": [],
   "source": [
    "# todo: faire une liste des algos ???"
   ]
  },
  {
   "cell_type": "code",
   "execution_count": null,
   "metadata": {},
   "outputs": [],
   "source": [
    "cluster_metrics = []\n",
    "\n",
    "for (model_name, model) in model_clusters.items():\n",
    "    if model.__class__ == GaussianMixture:  # cas particulier du mélange gaussien\n",
    "        df_avec_clusters[model_name] = model.fit_predict(df_apres_scale)\n",
    "    else:\n",
    "        model.fit(df_apres_scale)\n",
    "        df_avec_clusters[model_name] = model.labels_\n",
    "\n",
    "    df_avec_clusters[model_name] = pd.Categorical(\n",
    "        df_avec_clusters[model_name].astype(str)\n",
    "    )\n",
    "\n",
    "    nb_clusters = df_avec_clusters[model_name].nunique()\n",
    "\n",
    "    repartition = list(\n",
    "        df_avec_clusters[model_name].value_counts(normalize=True).round(2).astype(str)\n",
    "    )  # todo: enlever astype(str) si ça sert à rien (tester)\n",
    "\n",
    "    cluster_metrics.append(\n",
    "        [\n",
    "            model_name,\n",
    "            nb_clusters,\n",
    "            \" | \".join(repartition),\n",
    "            silhouette_score(\n",
    "                df_apres_scale, df_avec_clusters[model_name], random_state=SEED\n",
    "            ),  # proche de 1 = mieux\n",
    "            calinski_harabasz_score(\n",
    "                df_apres_scale,\n",
    "                df_avec_clusters[model_name],\n",
    "            ),  # plus élevé, mieux c'est\n",
    "            davies_bouldin_score(\n",
    "                df_apres_scale, df_avec_clusters[model_name]\n",
    "            ),  # proche de 0 = mieux\n",
    "        ]\n",
    "    )"
   ]
  },
  {
   "cell_type": "code",
   "execution_count": null,
   "metadata": {},
   "outputs": [],
   "source": [
    "pd.DataFrame(\n",
    "    cluster_metrics,\n",
    "    columns=[\n",
    "        \"Algorithme de clustering\",\n",
    "        \"Nombre de clusters\",\n",
    "        \"Répartition\",\n",
    "        \"Silhouette\",\n",
    "        \"Calinski-Harabasz\",\n",
    "        \"Davies-Bouldin\",\n",
    "    ],\n",
    ")"
   ]
  },
  {
   "cell_type": "markdown",
   "metadata": {},
   "source": [
    "|    | Algorithme de clustering   | Nombre de clusters | Répartition                                         | Silhouette | Calinski-Harabasz | Davies-Bouldin |\n",
    "|:---|:---------------------------|:-------------------|:----------------------------------------------------|:-----------|:------------------|:---------------|\n",
    "| 0  | KMeans2                    | 2                  | 0.98 \\| 0.02                                        | 0.659488   | 582.622386        | 0.615865       |\n",
    "| 1  | KMeans3                    | 3                  | 0.67 \\| 0.31 \\| 0.02                                | 0.244051   | 507.123539        | 1.668756       |\n",
    "| 2  | KMeans4                    | 4                  | 0.6 \\| 0.27 \\| 0.11 \\| 0.02                         | 0.259113   | 531.915899        | 1.472760       |\n",
    "| 3  | KMeans5                    | 5                  | 0.56 \\| 0.18 \\| 0.13 \\| 0.11 \\| 0.02                | 0.248015   | 455.952230        | 1.696608       |\n",
    "| 4  | GMM2                       | 2                  | 0.52 \\| 0.48                                        | 0.129703   | 214.211136        | 2.578815       |\n",
    "| 5  | GMM3                       | 3                  | 0.51 \\| 0.35 \\| 0.14                                | 0.172544   | 265.725759        | 2.043114       |\n",
    "| 6  | GMM4                       | 4                  | 0.49 \\| 0.35 \\| 0.14 \\| 0.02                        | 0.200750   | 495.185144        | 1.598463       |\n",
    "| 7  | GMM5                       | 5                  | 0.43 \\| 0.27 \\| 0.15 \\| 0.12 \\| 0.02                | 0.145860   | 419.354348        | 1.630245       |\n",
    "| 8  | CAH \\(Ward\\) 2             | 2                  | 0.98 \\| 0.02                                        | 0.646087   | 576.969331        | 0.645240       |\n",
    "| 9  | CAH \\(Ward\\) 3             | 3                  | 0.88 \\| 0.1 \\| 0.02                                 | 0.303866   | 503.041927        | 1.085627       |\n",
    "| 10 | CAH \\(Ward\\) 4             | 4                  | 0.69 \\| 0.19 \\| 0.1 \\| 0.02                         | 0.238196   | 464.335686        | 1.501346       |\n",
    "| 11 | CAH \\(Ward\\) 5             | 5                  | 0.59 \\| 0.19 \\| 0.1 \\| 0.09 \\| 0.02                 | 0.229092   | 411.926556        | 1.614228       |\n",
    "| 12 | CAH \\(average linkage\\) 2  | 2                  | 0.99 \\| 0.01                                        | 0.756695   | 391.532573        | 0.305244       |\n",
    "| 13 | CAH \\(average linkage\\) 3  | 3                  | 0.98 \\| 0.02 \\| 0.01                                | 0.555290   | 347.021115        | 0.520527       |\n",
    "| 14 | CAH \\(average linkage\\) 4  | 4                  | 0.96 \\| 0.02 \\| 0.02 \\| 0.01                        | 0.505373   | 310.852921        | 0.671113       |\n",
    "| 15 | CAH \\(average linkage\\) 5  | 5                  | 0.96 \\| 0.02 \\| 0.02 \\| 0.01 \\| 0.0                 | 0.505079   | 235.416573        | 0.575378       |\n",
    "| 16 | CAH \\(single linkage\\) 2   | 2                  | 0.99 \\| 0.01                                        | 0.756695   | 391.532573        | 0.305244       |\n",
    "| 17 | CAH \\(single linkage\\) 3   | 3                  | 0.99 \\| 0.01 \\| 0.0                                 | 0.753557   | 198.871039        | 0.266272       |\n",
    "| 18 | CAH \\(single linkage\\) 4   | 4                  | 0.99 \\| 0.01 \\| 0.0 \\| 0.0                          | 0.421873   | 134.131823        | 0.353643       |\n",
    "| 19 | CAH \\(single linkage\\) 5   | 5                  | 0.99 \\| 0.01 \\| 0.0 \\| 0.0 \\| 0.0                   | 0.416696   | 102.986591        | 0.345884       |\n",
    "| 20 | CAH \\(complete linkage\\) 2 | 2                  | 0.99 \\| 0.01                                        | 0.756695   | 391.532573        | 0.305244       |\n",
    "| 21 | CAH \\(complete linkage\\) 3 | 3                  | 0.95 \\| 0.05 \\| 0.01                                | 0.369943   | 343.169567        | 0.827601       |\n",
    "| 22 | CAH \\(complete linkage\\) 4 | 4                  | 0.93 \\| 0.05 \\| 0.02 \\| 0.01                        | 0.393543   | 356.857502        | 0.783894       |\n",
    "| 23 | CAH \\(complete linkage\\) 5 | 5                  | 0.92 \\| 0.05 \\| 0.02 \\| 0.01 \\| 0.01                | 0.398385   | 301.213019        | 0.790088       |\n",
    "| 24 | OPTICS                     | 75                 | 0.65 \\| 0.02 \\| 0.01 \\| 0.01 \\| 0.01 \\| 0.01 \\| ... | -0.205192  | 15.975476         | 1.393156       |\n",
    "| 25 | MeanShift                  | 14                 | 0.93 \\| 0.03 \\| 0.02 \\| 0.01 \\| 0.01 \\| 0.0 \\| ...  | 0.322275   | 95.081981         | 0.899153       |\n",
    "| 26 | AffinityPropagation        | 128                | 0.03 \\| 0.03 \\| 0.03 \\| 0.02 \\| 0.02 \\| ...         | 0.165159   | 91.454880         | 1.460425       |\n"
   ]
  },
  {
   "cell_type": "code",
   "execution_count": null,
   "metadata": {},
   "outputs": [],
   "source": [
    "pd.DataFrame(\n",
    "    [\n",
    "        [\"KMeans\", \"3 clusters\"],\n",
    "        [\"GMM\", \"2 clusters\"],\n",
    "    ],\n",
    "    columns=[\n",
    "        \"Algorithme de clustering\",\n",
    "        \"Résultat\",\n",
    "    ],\n",
    ")"
   ]
  },
  {
   "cell_type": "code",
   "execution_count": null,
   "metadata": {},
   "outputs": [],
   "source": [
    "# todo: tableau pour dire quels clusters on choisit d'étudier"
   ]
  },
  {
   "cell_type": "markdown",
   "metadata": {},
   "source": [
    "## Visualisation"
   ]
  },
  {
   "cell_type": "code",
   "execution_count": null,
   "metadata": {},
   "outputs": [],
   "source": [
    "def affiche_taille_clusters(nom_cluster):\n",
    "    plt.title(\"Taille des clusters\")\n",
    "    sns.histplot(df_avec_clusters[nom_cluster], shrink=0.5)\n",
    "\n",
    "    plt.show()"
   ]
  },
  {
   "cell_type": "code",
   "execution_count": null,
   "metadata": {},
   "outputs": [],
   "source": [
    "def affiche_clusters_acp(nom_cluster):\n",
    "    _, ax = plt.subplots(1, 2, figsize=(12, 5))\n",
    "\n",
    "    ax[0].set_title(\"Clusters sur les axes d'ACP 1-2\")\n",
    "    ax[1].set_title(\"Clusters sur les axes d'ACP 3-4\")\n",
    "\n",
    "    sns.scatterplot(\n",
    "        composantes_acp,\n",
    "        x=\"ACP1\",\n",
    "        y=\"ACP2\",\n",
    "        hue=df_avec_clusters[nom_cluster],\n",
    "        alpha=0.8,\n",
    "        ax=ax[0],\n",
    "    )\n",
    "    sns.scatterplot(\n",
    "        composantes_acp,\n",
    "        x=\"ACP3\",\n",
    "        y=\"ACP4\",\n",
    "        hue=df_avec_clusters[nom_cluster],\n",
    "        alpha=0.8,\n",
    "        ax=ax[1],\n",
    "    )\n",
    "\n",
    "    plt.show()"
   ]
  },
  {
   "cell_type": "code",
   "execution_count": null,
   "metadata": {},
   "outputs": [],
   "source": [
    "def affiche_clusters_acm(nom_cluster):\n",
    "    _, ax = plt.subplots(1, 2, figsize=(12, 5))\n",
    "\n",
    "    ax[0].set_title(\"Clusters sur les axes d'ACM 1-2\")\n",
    "    ax[1].set_title(\"Clusters sur les axes d'ACM 3-4\")\n",
    "\n",
    "    sns.scatterplot(\n",
    "        composantes_acm,\n",
    "        x=\"ACM1\",\n",
    "        y=\"ACM2\",\n",
    "        hue=df_avec_clusters[nom_cluster],\n",
    "        alpha=0.8,\n",
    "        ax=ax[0],\n",
    "    )\n",
    "\n",
    "    sns.scatterplot(\n",
    "        composantes_acm,\n",
    "        x=\"ACM3\",\n",
    "        y=\"ACM4\",\n",
    "        hue=df_avec_clusters[nom_cluster],\n",
    "        alpha=0.8,\n",
    "        ax=ax[1],\n",
    "    )\n",
    "\n",
    "    plt.show()"
   ]
  },
  {
   "cell_type": "code",
   "execution_count": null,
   "metadata": {},
   "outputs": [],
   "source": [
    "def affiche_clusters_var_quanti(nom_cluster):\n",
    "    \"\"\"Affiche les variables quantitatives en fonction des clusters.\"\"\"\n",
    "    for var in var_numeriques:\n",
    "        _, ax = plt.subplots(1, 2, figsize=(10, 3))\n",
    "\n",
    "        sns.boxplot(\n",
    "            x=df[var],\n",
    "            y=df_avec_clusters[nom_cluster],\n",
    "            width=0.25,\n",
    "            ax=ax[0],\n",
    "        )\n",
    "\n",
    "        sns.histplot(\n",
    "            x=df[var],\n",
    "            kde=True,\n",
    "            ax=ax[1],\n",
    "            hue=df_avec_clusters[nom_cluster],\n",
    "            stat=\"probability\",\n",
    "            common_norm=False,\n",
    "        )\n",
    "\n",
    "        plt.show()"
   ]
  },
  {
   "cell_type": "code",
   "execution_count": null,
   "metadata": {},
   "outputs": [],
   "source": [
    "def affiche_clusters_var_quali(nom_cluster):\n",
    "    \"\"\"Affiche les variables qualitatives en fonction des clusters et vice-versa.\"\"\"\n",
    "    for var in var_categoriques_fe:\n",
    "        _, ax = plt.subplots(1, 2, figsize=(10, 4))\n",
    "\n",
    "        sns.histplot(\n",
    "            x=df[var].astype(str),\n",
    "            ax=ax[0],\n",
    "            hue=df_avec_clusters[nom_cluster],\n",
    "            multiple=\"dodge\",\n",
    "            shrink=0.5,\n",
    "            common_norm=True,\n",
    "        )\n",
    "\n",
    "        sns.histplot(\n",
    "            hue=df[var].astype(str),\n",
    "            ax=ax[1],\n",
    "            x=df_avec_clusters[nom_cluster],\n",
    "            multiple=\"dodge\",\n",
    "            shrink=0.5,\n",
    "            common_norm=True,\n",
    "        )\n",
    "\n",
    "        plt.show()"
   ]
  },
  {
   "cell_type": "code",
   "execution_count": null,
   "metadata": {},
   "outputs": [],
   "source": [
    "def affiche_clusters(nom_cluster):\n",
    "    \"\"\"Affiche les variables en fonction des clusters.\"\"\"\n",
    "    affiche_taille_clusters(nom_cluster)\n",
    "    affiche_clusters_acp(nom_cluster)\n",
    "    affiche_clusters_acm(nom_cluster)\n",
    "\n",
    "    affiche_clusters_var_quanti(nom_cluster)\n",
    "    affiche_clusters_var_quali(nom_cluster)"
   ]
  },
  {
   "cell_type": "code",
   "execution_count": null,
   "metadata": {},
   "outputs": [],
   "source": [
    "affiche_clusters(\"KMeans3\")"
   ]
  },
  {
   "cell_type": "code",
   "execution_count": null,
   "metadata": {},
   "outputs": [],
   "source": [
    "affiche_clusters(\"GMM2\")"
   ]
  },
  {
   "cell_type": "code",
   "execution_count": null,
   "metadata": {},
   "outputs": [],
   "source": [
    "affiche_clusters(\"KMeans3\")"
   ]
  },
  {
   "cell_type": "code",
   "execution_count": null,
   "metadata": {},
   "outputs": [],
   "source": [
    "affiche_clusters(\"CAH (Ward) 3\")"
   ]
  },
  {
   "cell_type": "code",
   "execution_count": null,
   "metadata": {},
   "outputs": [],
   "source": [
    "# todo: faire un tableau"
   ]
  },
  {
   "cell_type": "code",
   "execution_count": null,
   "metadata": {},
   "outputs": [],
   "source": [
    "# todo: mettre proportion des clients types"
   ]
  },
  {
   "cell_type": "markdown",
   "metadata": {},
   "source": [
    "Les clients \"type\" : (85%)\n",
    "- niveau d'éducation de bac jusqu'à doctorat\n",
    "- revenu le plus élevé\n",
    "- 0 enfant en bas âge / entre 0 et 1 enfant adolescent\n",
    "- ont accepté entre 0 et 4 campagnes marketing précédentes\n",
    "- dépensent le plus\n",
    "- la proportion d'acceptation des campagnes est beaucoup plus élevée\n",
    "- visitent très peu le site Internet\n",
    "\n",
    "Les clients qui achètent peu :\n",
    "- niveau d'éducation de bac jusqu'à doctorat\n",
    "- revenu moyen\n",
    "- entre 0 et 3 enfants (bas-âge et adolescent)\n",
    "- ont accepté entre 0 et 1 campagne marketing précédente\n",
    "-\n",
    "\n",
    "Les clients qui n'achètent pas : (2%)\n",
    "- niveau d'éducation très faible (brevet)\n",
    "- revenu le plus faible\n",
    "- entre 0 et 1 enfant en bas âge et 0 enfant adolescent\n",
    "- n'ont accepté aucune des campagnes marketing précédentes\n",
    "- dépensent très peu\n",
    "- visitent souvent le site\n",
    "- âge le plus jeune (moyenne : naissance en 1980)"
   ]
  },
  {
   "cell_type": "markdown",
   "metadata": {},
   "source": [
    "# Sauvegarde des données"
   ]
  },
  {
   "cell_type": "code",
   "execution_count": null,
   "metadata": {},
   "outputs": [],
   "source": [
    "# todo: sauvegarder les clusters"
   ]
  }
 ],
 "metadata": {
  "kernelspec": {
   "display_name": "python3",
   "language": "python",
   "name": "python3"
  }
 },
 "nbformat": 4,
 "nbformat_minor": 1
}
