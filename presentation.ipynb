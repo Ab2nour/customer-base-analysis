{
 "cells": [
  {
   "cell_type": "markdown",
   "metadata": {},
   "source": [
    "**Analyse et segmentation de clientèle d'un magasin avec campagnes de marketing**\n",
    "_Jules EXBRAYAT & Abdenour MADANI_"
   ]
  },
  {
   "cell_type": "markdown",
   "metadata": {},
   "source": [
    "# Présentation"
   ]
  },
  {
   "cell_type": "markdown",
   "metadata": {},
   "source": [
    "## Problématique"
   ]
  },
  {
   "cell_type": "markdown",
   "metadata": {},
   "source": [
    "Quel est le client type de l'entreprise ?\n",
    "\n",
    "Peut-on créer des groupes de clients, afin de cibler efficacement les potentiels clients et personnaliser la campagne marketing ?"
   ]
  },
  {
   "cell_type": "markdown",
   "metadata": {},
   "source": [
    "## Jeu de données"
   ]
  },
  {
   "cell_type": "code",
   "execution_count": null,
   "metadata": {},
   "outputs": [],
   "source": [
    "# todo : ajouter une description / une partie pour parler du jeu de données\n",
    "# \"Ce jeu de données contient le profil de plusieurs clients d'une enseigne de grande distribution\" \\\n",
    "# \"Il contient les données de juillet 2012 à juillet 2014\" \\\n",
    "# \"Nous disposons des ventes en Vin, etc\""
   ]
  },
  {
   "cell_type": "markdown",
   "metadata": {},
   "source": [
    "### Lecture des données"
   ]
  },
  {
   "cell_type": "code",
   "execution_count": null,
   "metadata": {},
   "outputs": [],
   "source": [
    "import numpy as np\n",
    "import matplotlib.pyplot as plt\n",
    "import seaborn as sns\n",
    "import pandas as pd\n",
    "import statsmodels.genmod.generalized_linear_model"
   ]
  },
  {
   "cell_type": "code",
   "execution_count": null,
   "metadata": {},
   "outputs": [],
   "source": [
    "np.random.seed(0)\n",
    "sns.set_theme()"
   ]
  },
  {
   "cell_type": "code",
   "execution_count": null,
   "metadata": {},
   "outputs": [],
   "source": [
    "df = pd.read_csv(\"marketing_campaign.csv\", sep=\"\\t\", index_col=\"ID\", parse_dates=True)"
   ]
  },
  {
   "cell_type": "markdown",
   "metadata": {},
   "source": [
    "### Présentation des variables"
   ]
  },
  {
   "cell_type": "code",
   "execution_count": null,
   "metadata": {},
   "outputs": [],
   "source": [
    "df.head()"
   ]
  },
  {
   "cell_type": "code",
   "execution_count": null,
   "metadata": {},
   "outputs": [],
   "source": [
    "print(f\"Il y a {df.shape[1]} variables et {df.shape[0]} individus.\")"
   ]
  },
  {
   "cell_type": "markdown",
   "metadata": {},
   "source": [
    "#### Variables\n",
    "\n",
    "- ID: identifiant du client\n",
    "- Year_Birth: numérique, année de naissance du client\n",
    "- Education: qualitative, niveau d'éducation\n",
    "- Marital_Status: qualitative, statut marital\n",
    "- Income: numérique, revenu annuel en $\n",
    "- Kidhome: numérique, nombre d'enfants en bas-âge\n",
    "- Teenhome: numérique, nombre d'enfants adolescents\n",
    "- Dt_Customer: date, date à laquelle le client s'est inscrit\n",
    "- Recency: numérique, nombre de jours depuis le dernier achat\n",
    "- Complain: catégorique, est-ce que le client s'est plaint les 2 dernières années (0 ou 1)\n",
    "\n",
    "#### Products\n",
    "\n",
    "- MntWines: numérique, argent dépensé les 2 dernières années en vin\n",
    "- MntFruits: numérique, argent dépensé les 2 dernières années en fruits\n",
    "- MntMeatProducts: numérique, argent dépensé les 2 dernières années en viande\n",
    "- MntFishProducts: numérique, argent dépensé les 2 dernières années en poisson\n",
    "- MntSweetProducts: numérique, argent dépensé les 2 dernières années en bonbons / gâteaux\n",
    "- MntGoldProds: numérique, argent dépensé les 2 dernières années en bijoux / or\n",
    "\n",
    "#### Promotion\n",
    "\n",
    "- NumDealsPurchases: numérique, nombre d'achats effectués avec une promotion\n",
    "- AcceptedCmp1: catégorique, le client a-t-il acheté durant la campagne promotionnelle numéro 1 (1 s'il a acheté, 0 sinon)\n",
    "- AcceptedCmp2: pareil pour la campagne numéro 2\n",
    "- AcceptedCmp3: pareil pour la campagne numéro 3\n",
    "- AcceptedCmp4: pareil pour la campagne numéro 4\n",
    "- AcceptedCmp5: pareil pour la campagne numéro 5\n",
    "- Response: catégorique, 1 si le client a acheté durant la dernière campagne, 0 sinon (potentielle variable à prédire)\n",
    "\n",
    "#### Place\n",
    "\n",
    "- NumWebPurchases: numérique, nombre d'achats effectués sur le site Internet\n",
    "- NumCatalogPurchases: numérique, nombre d'achats effectués via le catalogue\n",
    "- NumStorePurchases: numérique, nombre d'achats effectués en magasin\n",
    "- NumWebVisitsMonth: numérique, nombre de visites sur le site Internet le dernier mois\n"
   ]
  },
  {
   "cell_type": "markdown",
   "metadata": {},
   "source": [
    "Nous séparons les variables numériques des variables catégoriques pour plus de commodités."
   ]
  },
  {
   "cell_type": "code",
   "execution_count": null,
   "metadata": {},
   "outputs": [],
   "source": [
    "var_numeriques = [\n",
    "    \"Year_Birth\",\n",
    "    \"Income\",\n",
    "    \"Kidhome\",\n",
    "    \"Teenhome\",\n",
    "    \"Recency\",\n",
    "    \"MntWines\",\n",
    "    \"MntFruits\",\n",
    "    \"MntMeatProducts\",\n",
    "    \"MntFishProducts\",\n",
    "    \"MntSweetProducts\",\n",
    "    \"MntGoldProds\",\n",
    "    \"NumDealsPurchases\",\n",
    "    \"NumWebPurchases\",\n",
    "    \"NumCatalogPurchases\",\n",
    "    \"NumStorePurchases\",\n",
    "    \"NumWebVisitsMonth\",\n",
    "]"
   ]
  },
  {
   "cell_type": "code",
   "execution_count": null,
   "metadata": {},
   "outputs": [],
   "source": [
    "var_categoriques = [\n",
    "    \"Education\",\n",
    "    \"Marital_Status\",\n",
    "    \"Complain\",\n",
    "    \"AcceptedCmp1\",\n",
    "    \"AcceptedCmp2\",\n",
    "    \"AcceptedCmp3\",\n",
    "    \"AcceptedCmp4\",\n",
    "    \"AcceptedCmp5\",\n",
    "    \"Response\",\n",
    "]"
   ]
  },
  {
   "cell_type": "markdown",
   "metadata": {},
   "source": [
    "Nous convertissons les variables catégoriques en type `category`. (Nous les convertissons au préalable en type `string` car cela facilite l'affichage de la légende avec Matplotlib et Seaborn)"
   ]
  },
  {
   "cell_type": "code",
   "execution_count": null,
   "metadata": {},
   "outputs": [],
   "source": [
    "df[var_categoriques] = df[var_categoriques].astype(str).astype(\"category\")"
   ]
  },
  {
   "cell_type": "markdown",
   "metadata": {},
   "source": [
    "Nous convertissons les variables au format date."
   ]
  },
  {
   "cell_type": "code",
   "execution_count": null,
   "metadata": {},
   "outputs": [],
   "source": [
    "df[\"Dt_Customer\"] = pd.to_datetime(df[\"Dt_Customer\"], format=\"%d-%m-%Y\")"
   ]
  },
  {
   "cell_type": "code",
   "execution_count": null,
   "metadata": {},
   "outputs": [],
   "source": [
    "df.info()"
   ]
  },
  {
   "cell_type": "markdown",
   "metadata": {},
   "source": [
    "Nous avons 9 variables catégoriques, 18 variables quantitatives (dont 17 entières) ainsi qu'une variable de type date."
   ]
  },
  {
   "cell_type": "code",
   "execution_count": null,
   "metadata": {},
   "outputs": [],
   "source": [
    "# todo: inclure \"Découverte\" et \"Nettoyage\" dans une grande partie \"Analyse exploratoire des données\" ?"
   ]
  },
  {
   "cell_type": "markdown",
   "metadata": {},
   "source": [
    "# Découverte des données"
   ]
  },
  {
   "cell_type": "markdown",
   "metadata": {},
   "source": [
    "## Analyse univariée"
   ]
  },
  {
   "cell_type": "code",
   "execution_count": null,
   "metadata": {},
   "outputs": [],
   "source": [
    "df[var_numeriques].describe()"
   ]
  },
  {
   "cell_type": "code",
   "execution_count": null,
   "metadata": {},
   "outputs": [],
   "source": [
    "df[var_categoriques].describe()"
   ]
  },
  {
   "cell_type": "code",
   "execution_count": null,
   "metadata": {},
   "outputs": [],
   "source": [
    "# todo: commenter"
   ]
  },
  {
   "cell_type": "markdown",
   "metadata": {},
   "source": [
    "## Visualisation"
   ]
  },
  {
   "cell_type": "markdown",
   "metadata": {},
   "source": [
    "### Variables numériques"
   ]
  },
  {
   "cell_type": "code",
   "execution_count": null,
   "metadata": {},
   "outputs": [],
   "source": [
    "for var in var_numeriques:\n",
    "    _, ax = plt.subplots(1, 2, figsize=(8, 2))\n",
    "    sns.boxplot(df[var], width=0.25, ax=ax[0])\n",
    "    sns.histplot(df[var], kde=True, ax=ax[1])\n",
    "    plt.show()"
   ]
  },
  {
   "cell_type": "code",
   "execution_count": null,
   "metadata": {},
   "outputs": [],
   "source": [
    "# todo: commenter les distributions et boxplots"
   ]
  },
  {
   "cell_type": "code",
   "execution_count": null,
   "metadata": {},
   "outputs": [],
   "source": [
    "plt.figure(figsize=(12, 12))\n",
    "sns.heatmap(\n",
    "    df[var_numeriques].corr()[df[var_numeriques].corr().abs() > 0.5],\n",
    "    annot=True,\n",
    "    cmap=\"BrBG\",\n",
    "    linewidths=0.5,\n",
    "    vmax=1,\n",
    "    vmin=-1,\n",
    ")"
   ]
  },
  {
   "cell_type": "code",
   "execution_count": null,
   "metadata": {},
   "outputs": [],
   "source": [
    "# todo: commenter la matrice de corrélation"
   ]
  },
  {
   "cell_type": "code",
   "execution_count": null,
   "metadata": {},
   "outputs": [],
   "source": [
    "_, ax = plt.subplots(1, 2, figsize=(15, 4))\n",
    "\n",
    "ax[0].set_title(\"Nombre de valeurs présentes\")\n",
    "df.notna().sum()[var_numeriques].plot.barh(ax=ax[0])\n",
    "\n",
    "ax[1].set_title(\"Valeurs manquantes\")\n",
    "sns.heatmap(df[var_numeriques].isna(), cbar=False, ax=ax[1])"
   ]
  },
  {
   "cell_type": "markdown",
   "metadata": {},
   "source": [
    "Nous observons qu'il n'y a quasiment pas de valeurs manquantes parmi les variables numériques."
   ]
  },
  {
   "cell_type": "markdown",
   "metadata": {},
   "source": [
    "### Variables catégoriques"
   ]
  },
  {
   "cell_type": "code",
   "execution_count": null,
   "metadata": {},
   "outputs": [],
   "source": [
    "for var in var_categoriques:\n",
    "    if df[var].nunique() > 3:\n",
    "        sns.histplot(y=df[var])\n",
    "    else:\n",
    "        plt.figure(figsize=(4, 2))\n",
    "        sns.histplot(df[var], shrink=0.3)\n",
    "    plt.show()"
   ]
  },
  {
   "cell_type": "code",
   "execution_count": null,
   "metadata": {},
   "outputs": [],
   "source": [
    "df[\n",
    "    df[var_categoriques].columns[df[var_categoriques].nunique() > 3]\n",
    "].value_counts().plot(kind=\"bar\")"
   ]
  },
  {
   "cell_type": "code",
   "execution_count": null,
   "metadata": {},
   "outputs": [],
   "source": [
    "# todo: commenter"
   ]
  },
  {
   "cell_type": "code",
   "execution_count": null,
   "metadata": {},
   "outputs": [],
   "source": [
    "_, ax = plt.subplots(1, 2, figsize=(15, 4))\n",
    "\n",
    "ax[0].set_title(\"Nombre de valeurs présentes\")\n",
    "df.notna().sum()[var_categoriques].plot.barh(ax=ax[0])\n",
    "\n",
    "ax[1].set_title(\"Valeurs manquantes\")\n",
    "sns.heatmap(df[var_categoriques].isna(), cbar=False, ax=ax[1])"
   ]
  },
  {
   "cell_type": "markdown",
   "metadata": {},
   "source": [
    "Nous observons l'absence de valeurs manquantes parmi les variables catégoriques."
   ]
  },
  {
   "cell_type": "markdown",
   "metadata": {},
   "source": [
    "### Dates"
   ]
  },
  {
   "cell_type": "code",
   "execution_count": null,
   "metadata": {},
   "outputs": [],
   "source": [
    "# todo"
   ]
  },
  {
   "cell_type": "code",
   "execution_count": null,
   "metadata": {},
   "outputs": [],
   "source": [
    "df[\"Dt_Customer\"].hist(bins=50)"
   ]
  },
  {
   "cell_type": "markdown",
   "metadata": {},
   "source": [
    "# Nettoyage des données"
   ]
  },
  {
   "cell_type": "markdown",
   "metadata": {},
   "source": [
    "## Données parasites"
   ]
  },
  {
   "cell_type": "markdown",
   "metadata": {},
   "source": [
    "\n",
    "### Variables"
   ]
  },
  {
   "cell_type": "markdown",
   "metadata": {},
   "source": [
    "Dans le jeu de données, 2 colonnes sont non documentées et contiennent des valeurs constantes :\n",
    "- `Z_CostContact`\n",
    "- `Z_Revenue`"
   ]
  },
  {
   "cell_type": "markdown",
   "metadata": {},
   "source": [
    "**Variable `Z_CostContact`**"
   ]
  },
  {
   "cell_type": "code",
   "execution_count": null,
   "metadata": {},
   "outputs": [],
   "source": [
    "print(\n",
    "    f'Il y a {np.sum(df[\"Z_CostContact\"] == 3)} / {len(df)} individus pour lesquelles la variable Z_CostContact vaut 3.'\n",
    ")"
   ]
  },
  {
   "cell_type": "code",
   "execution_count": null,
   "metadata": {},
   "outputs": [],
   "source": [
    "df[\"Z_CostContact\"].hist()"
   ]
  },
  {
   "cell_type": "markdown",
   "metadata": {},
   "source": [
    "**Variable `Z_Revenue`**"
   ]
  },
  {
   "cell_type": "code",
   "execution_count": null,
   "metadata": {},
   "outputs": [],
   "source": [
    "print(\n",
    "    f'Il y a {np.sum(df[\"Z_Revenue\"] == 11)} / {len(df)} individus pour lesquelles la variable Z_Revenue vaut 11.'\n",
    ")"
   ]
  },
  {
   "cell_type": "code",
   "execution_count": null,
   "metadata": {},
   "outputs": [],
   "source": [
    "df[\"Z_Revenue\"].hist()"
   ]
  },
  {
   "cell_type": "markdown",
   "metadata": {},
   "source": [
    "Nous décidons de les supprimer, car elles sont parasites et ne fournissent pas d'information."
   ]
  },
  {
   "cell_type": "code",
   "execution_count": null,
   "metadata": {},
   "outputs": [],
   "source": [
    "df.drop(columns=[\"Z_CostContact\", \"Z_Revenue\"], inplace=True)"
   ]
  },
  {
   "cell_type": "markdown",
   "metadata": {},
   "source": [
    "### Valeurs"
   ]
  },
  {
   "cell_type": "markdown",
   "metadata": {},
   "source": [
    "#### Statut marital"
   ]
  },
  {
   "cell_type": "code",
   "execution_count": null,
   "metadata": {},
   "outputs": [],
   "source": [
    "sns.histplot(y=df[\"Marital_Status\"])"
   ]
  },
  {
   "cell_type": "markdown",
   "metadata": {},
   "source": [
    "Parmi les situations maritales, on observe \"absurde\" et \"YOLO\" (You Only Live Once, _on ne vit qu'une fois_)."
   ]
  },
  {
   "cell_type": "markdown",
   "metadata": {},
   "source": [
    "Comme on ne peut pas déduire ce que veut dire \"absurde\" dans ce contexte, on se décide de supprimer l'individu.\n",
    "De même, on suppose que la personne ayant répondu \"YOLO\", donc ayant répondu de façon humoristique, doit être supprimée du jeu de données."
   ]
  },
  {
   "cell_type": "code",
   "execution_count": null,
   "metadata": {},
   "outputs": [],
   "source": [
    "df.drop(index=df.loc[df[\"Marital_Status\"] == \"YOLO\"].index, inplace=True)\n",
    "df.drop(index=df.loc[df[\"Marital_Status\"] == \"Absurd\"].index, inplace=True)"
   ]
  },
  {
   "cell_type": "code",
   "execution_count": null,
   "metadata": {},
   "outputs": [],
   "source": [
    "# On retire les options \"YOLO\" et \"Absurd\" de nos variables catégoriques.\n",
    "df[\"Marital_Status\"] = df[\"Marital_Status\"].cat.remove_categories([\"YOLO\", \"Absurd\"])"
   ]
  },
  {
   "cell_type": "code",
   "execution_count": null,
   "metadata": {},
   "outputs": [],
   "source": [
    "sns.histplot(y=df[\"Marital_Status\"])"
   ]
  },
  {
   "cell_type": "markdown",
   "metadata": {},
   "source": [
    "## Données dupliquées"
   ]
  },
  {
   "cell_type": "markdown",
   "metadata": {},
   "source": [
    "### Individus"
   ]
  },
  {
   "cell_type": "code",
   "execution_count": null,
   "metadata": {},
   "outputs": [],
   "source": [
    "sum(df.duplicated())"
   ]
  },
  {
   "cell_type": "markdown",
   "metadata": {},
   "source": [
    "Nous observons qu'il y a 182 lignes qui sont dupliquées."
   ]
  },
  {
   "cell_type": "markdown",
   "metadata": {},
   "source": [
    "Nous pouvons supposer que les données ont été fusionnées à partir de plusieurs sources, et que ces sources avaient des individus en commun : nous décidons donc de supprimer les doublons."
   ]
  },
  {
   "cell_type": "code",
   "execution_count": null,
   "metadata": {},
   "outputs": [],
   "source": [
    "df.drop_duplicates(inplace=True)"
   ]
  },
  {
   "cell_type": "code",
   "execution_count": null,
   "metadata": {},
   "outputs": [],
   "source": [
    "sum(df.duplicated())"
   ]
  },
  {
   "cell_type": "markdown",
   "metadata": {},
   "source": [
    "## Variables pas assez informatives"
   ]
  },
  {
   "cell_type": "code",
   "execution_count": null,
   "metadata": {},
   "outputs": [],
   "source": [
    "# todo: dire que la variable \"Complain\" (si le client s'est plaint ou non), n'apporte pas assez d'information pour être gardée, car il y a moins de 1% des observations qui ont une classe autre que \"0\", et qu'en plus ce n'est pas central à notre étude"
   ]
  },
  {
   "cell_type": "code",
   "execution_count": null,
   "metadata": {},
   "outputs": [],
   "source": [
    "# todo: essayer quand même une visualisation des individus s'étant plaint par rapport à nos variables cibles, au cas où..."
   ]
  },
  {
   "cell_type": "code",
   "execution_count": null,
   "metadata": {},
   "outputs": [],
   "source": [
    "sns.histplot(df[\"Complain\"], shrink=0.5)"
   ]
  },
  {
   "cell_type": "code",
   "execution_count": null,
   "metadata": {},
   "outputs": [],
   "source": [
    "print(\n",
    "    f'Il y a {100 * df[\"Complain\"].astype(int).sum() / len(df[\"Complain\"]):.2f}% des individus qui se sont plaints.'\n",
    ")"
   ]
  },
  {
   "cell_type": "markdown",
   "metadata": {},
   "source": [
    "## Standardisation"
   ]
  },
  {
   "cell_type": "markdown",
   "metadata": {},
   "source": [
    "### Modalités de variables catégoriques"
   ]
  },
  {
   "cell_type": "code",
   "execution_count": null,
   "metadata": {},
   "outputs": [],
   "source": [
    "sns.histplot(y=df[\"Marital_Status\"])"
   ]
  },
  {
   "cell_type": "markdown",
   "metadata": {},
   "source": [
    "Sans plus d'information, \"Alone\" est une autre formulation de \"Single\", on décide donc de remplacer \"Alone\" par \"Single\"."
   ]
  },
  {
   "cell_type": "code",
   "execution_count": null,
   "metadata": {},
   "outputs": [],
   "source": [
    "df[\"Marital_Status\"].replace(\"Alone\", \"Single\", inplace=True)"
   ]
  },
  {
   "cell_type": "code",
   "execution_count": null,
   "metadata": {},
   "outputs": [],
   "source": [
    "# On retire l'option \"Alone\" de nos variables catégoriques.\n",
    "df[\"Marital_Status\"] = df[\"Marital_Status\"].cat.remove_categories([\"Alone\"])"
   ]
  },
  {
   "cell_type": "code",
   "execution_count": null,
   "metadata": {},
   "outputs": [],
   "source": [
    "sns.histplot(y=df[\"Marital_Status\"])"
   ]
  },
  {
   "cell_type": "markdown",
   "metadata": {},
   "source": [
    "## Valeurs extrêmes"
   ]
  },
  {
   "cell_type": "markdown",
   "metadata": {},
   "source": [
    "### Income"
   ]
  },
  {
   "cell_type": "code",
   "execution_count": null,
   "metadata": {},
   "outputs": [],
   "source": [
    "_, ax = plt.subplots(1, 2, figsize=(10, 3))\n",
    "sns.boxplot(df[\"Income\"], width=0.25, ax=ax[0])\n",
    "sns.histplot(df[\"Income\"], kde=True, ax=ax[1])\n",
    "plt.show()"
   ]
  },
  {
   "cell_type": "code",
   "execution_count": null,
   "metadata": {},
   "outputs": [],
   "source": [
    "# todo: texte pour commenter"
   ]
  },
  {
   "cell_type": "code",
   "execution_count": null,
   "metadata": {},
   "outputs": [],
   "source": [
    "df[\"Income\"][df[\"Income\"] > 200_000]"
   ]
  },
  {
   "cell_type": "markdown",
   "metadata": {},
   "source": [
    "Pour nous, il s'agit d'une valeur aberrante à supprimer du jeu de données car \"666 666\" ne semble pas être une valeur réelle (6 fois le nombre 6...)."
   ]
  },
  {
   "cell_type": "code",
   "execution_count": null,
   "metadata": {},
   "outputs": [],
   "source": [
    "df.drop(index=df[df[\"Income\"] > 200_000].index, inplace=True)"
   ]
  },
  {
   "cell_type": "code",
   "execution_count": null,
   "metadata": {},
   "outputs": [],
   "source": [
    "_, ax = plt.subplots(1, 2, figsize=(10, 3))\n",
    "sns.boxplot(df[\"Income\"], width=0.25, ax=ax[0])\n",
    "sns.histplot(df[\"Income\"], kde=True, ax=ax[1])\n",
    "plt.show()"
   ]
  },
  {
   "cell_type": "code",
   "execution_count": null,
   "metadata": {},
   "outputs": [],
   "source": [
    "# todo: est-ce qu'on retire les valeurs au-dessus de 120 000 ? comment on le justifie ?\n",
    "# => ce serait plutôt des individus ATYPIQUES, à enlever mais garder de côté pour l'analyse a posteriori"
   ]
  },
  {
   "cell_type": "code",
   "execution_count": null,
   "metadata": {},
   "outputs": [],
   "source": [
    "df.drop(index=df[df[\"Income\"] > 120_000].index, inplace=True)"
   ]
  },
  {
   "cell_type": "code",
   "execution_count": null,
   "metadata": {},
   "outputs": [],
   "source": [
    "_, ax = plt.subplots(1, 2, figsize=(10, 3))\n",
    "sns.boxplot(df[\"Income\"], width=0.25, ax=ax[0])\n",
    "sns.histplot(df[\"Income\"], kde=True, ax=ax[1])\n",
    "plt.show()"
   ]
  },
  {
   "cell_type": "markdown",
   "metadata": {},
   "source": [
    "### Year Date"
   ]
  },
  {
   "cell_type": "code",
   "execution_count": null,
   "metadata": {},
   "outputs": [],
   "source": [
    "_, ax = plt.subplots(1, 2, figsize=(10, 3))\n",
    "sns.boxplot(df[\"Year_Birth\"], width=0.25, ax=ax[0])\n",
    "sns.histplot(df[\"Year_Birth\"], kde=True, ax=ax[1])\n",
    "plt.show()"
   ]
  },
  {
   "cell_type": "code",
   "execution_count": null,
   "metadata": {},
   "outputs": [],
   "source": [
    "df[df[\"Year_Birth\"] < 1920]"
   ]
  },
  {
   "cell_type": "markdown",
   "metadata": {},
   "source": [
    "Comme les personnes les plus âgées au monde ont très rarement plus de 100 ans, et que nous sommes en 2023, on peut sans problème estimer que les trois dates de naissance avant 1920 sont erronées."
   ]
  },
  {
   "cell_type": "markdown",
   "metadata": {},
   "source": [
    "Pour les deux années 1893 et 1899, on peut s'imaginer que les personnes ont fait une faute de frappe, et voulaient écrire, respectivement, 1983 et 1989."
   ]
  },
  {
   "cell_type": "code",
   "execution_count": null,
   "metadata": {},
   "outputs": [],
   "source": [
    "df.loc[df[\"Year_Birth\"] == 1893, \"Year_Birth\"] = 1983\n",
    "df.loc[df[\"Year_Birth\"] == 1899, \"Year_Birth\"] = 1989"
   ]
  },
  {
   "cell_type": "markdown",
   "metadata": {},
   "source": [
    "Pour l'année 1900, il est difficile d'imaginer une faute de frappe, il s'agit peut-être de la valeur par défaut.\n",
    "On peut tout simplement supprimer la ligne correspondante."
   ]
  },
  {
   "cell_type": "code",
   "execution_count": null,
   "metadata": {},
   "outputs": [],
   "source": [
    "df.drop(index=df.loc[df[\"Year_Birth\"] == 1900, \"Year_Birth\"].index, inplace=True)"
   ]
  },
  {
   "cell_type": "code",
   "execution_count": null,
   "metadata": {},
   "outputs": [],
   "source": [
    "_, ax = plt.subplots(1, 2, figsize=(10, 3))\n",
    "sns.boxplot(df[\"Year_Birth\"], width=0.25, ax=ax[0])\n",
    "sns.histplot(df[\"Year_Birth\"], kde=True, ax=ax[1])\n",
    "plt.show()"
   ]
  },
  {
   "cell_type": "markdown",
   "metadata": {},
   "source": [
    "## Valeurs manquantes"
   ]
  },
  {
   "cell_type": "code",
   "execution_count": null,
   "metadata": {},
   "outputs": [],
   "source": [
    "sns.heatmap(\n",
    "    df.isna(), cbar=False\n",
    ")  # todo: mettre les graphiques à côté (horizontalement)"
   ]
  },
  {
   "cell_type": "code",
   "execution_count": null,
   "metadata": {},
   "outputs": [],
   "source": [
    "sns.displot(\n",
    "    data=df.isna().melt(value_name=\"missing\"),\n",
    "    y=\"variable\",\n",
    "    hue=\"missing\",\n",
    "    multiple=\"fill\",\n",
    "    aspect=1.25,\n",
    ")"
   ]
  },
  {
   "cell_type": "code",
   "execution_count": null,
   "metadata": {},
   "outputs": [],
   "source": [
    "plt.title(\"Nombre de valeurs manquantes pour chaque variable\")\n",
    "df.isna().sum().plot.barh()"
   ]
  },
  {
   "cell_type": "code",
   "execution_count": null,
   "metadata": {},
   "outputs": [],
   "source": [
    "# todo : commenter"
   ]
  },
  {
   "cell_type": "code",
   "execution_count": null,
   "metadata": {},
   "outputs": [],
   "source": [
    "# TODO: supprimer valeurs manquantes OU remplacer par la moyenne ?"
   ]
  },
  {
   "cell_type": "code",
   "execution_count": null,
   "metadata": {},
   "outputs": [],
   "source": [
    "# todo: expliquer POURQUOI ces données sont manquantes (notre hypothèse du moins), et expliquer notre démarche en conséquence"
   ]
  },
  {
   "cell_type": "markdown",
   "metadata": {},
   "source": [
    "### Remplacement par la moyenne"
   ]
  },
  {
   "cell_type": "code",
   "execution_count": null,
   "metadata": {},
   "outputs": [],
   "source": [
    "df[\"Income\"][df[\"Income\"].isna()]"
   ]
  },
  {
   "cell_type": "code",
   "execution_count": null,
   "metadata": {},
   "outputs": [],
   "source": [
    "df[\"Income\"].fillna(df[\"Income\"].mean(), inplace=True)"
   ]
  },
  {
   "cell_type": "code",
   "execution_count": null,
   "metadata": {},
   "outputs": [],
   "source": [
    "# Vérification du bon remplacement des valeurs manquantes\n",
    "df[\"Income\"].isna().sum()"
   ]
  },
  {
   "cell_type": "markdown",
   "metadata": {},
   "source": [
    "# Création de variables"
   ]
  },
  {
   "cell_type": "code",
   "execution_count": null,
   "metadata": {},
   "outputs": [],
   "source": [
    "# todo : faire une var somme des achats sur le web\n",
    "# todo : faire un client type par type d'achat (web / magasin) => est-ce que les gens qui achètent en web / magasin sont différents ?\n",
    "# todo : créer une variable duréeClient qui dit depuis quand le client est inscrit"
   ]
  },
  {
   "cell_type": "code",
   "execution_count": null,
   "metadata": {},
   "outputs": [],
   "source": [
    "# todo: commenter la démarche"
   ]
  },
  {
   "cell_type": "code",
   "execution_count": null,
   "metadata": {},
   "outputs": [],
   "source": [
    "df[\"NbAcceptedCampaigns\"] = 0\n",
    "\n",
    "for i in range(1, 6):\n",
    "    df[\"NbAcceptedCampaigns\"] += df[f\"AcceptedCmp{i}\"].astype(int)"
   ]
  },
  {
   "cell_type": "code",
   "execution_count": null,
   "metadata": {},
   "outputs": [],
   "source": [
    "sns.histplot(df[\"NbAcceptedCampaigns\"], discrete=True)"
   ]
  },
  {
   "cell_type": "code",
   "execution_count": null,
   "metadata": {},
   "outputs": [],
   "source": [
    "df[\"HasAcceptedCampaigns\"] = df[\"NbAcceptedCampaigns\"] > 0"
   ]
  },
  {
   "cell_type": "code",
   "execution_count": null,
   "metadata": {},
   "outputs": [],
   "source": [
    "sns.histplot(df[\"HasAcceptedCampaigns\"].astype(str))"
   ]
  },
  {
   "cell_type": "code",
   "execution_count": null,
   "metadata": {},
   "outputs": [],
   "source": [
    "df_clients = df[df[\"HasAcceptedCampaigns\"]]\n",
    "df_not_clients = df[~df[\"HasAcceptedCampaigns\"]]"
   ]
  },
  {
   "cell_type": "code",
   "execution_count": null,
   "metadata": {},
   "outputs": [],
   "source": [
    "# todo: créer une variable qui additionne le nombre d'enfants Kids et Teen (mais avant cela, vérifier si par exemple Kids et Teen apportent des informations différentes => si les deux sont complémentaires, on les laisse / sinon on les supprime au profit de notre nouvelle variable)"
   ]
  },
  {
   "cell_type": "code",
   "execution_count": null,
   "metadata": {},
   "outputs": [],
   "source": [
    "df[[\"Kidhome\", \"Teenhome\"]].value_counts().plot(kind=\"bar\")"
   ]
  },
  {
   "cell_type": "code",
   "execution_count": null,
   "metadata": {},
   "outputs": [],
   "source": [
    "df[\"NbChildren\"] = df[\"Kidhome\"] + df[\"Teenhome\"]"
   ]
  },
  {
   "cell_type": "code",
   "execution_count": null,
   "metadata": {},
   "outputs": [],
   "source": [
    "sns.histplot(df[\"NbChildren\"])"
   ]
  },
  {
   "cell_type": "code",
   "execution_count": null,
   "metadata": {},
   "outputs": [],
   "source": [
    "# todo: créer une variable \"NbAcceptedCampaignsWithResponse\", qui contient donc la 6ème campagne marketing => l'objectif est de clusteriser les gens en fonction de \"à quel point ils sont marketables\" => c'est-à-dire, on présente nos résultats en disant sur qui il vaut mieux se concentrer pour faire des pubs"
   ]
  },
  {
   "cell_type": "code",
   "execution_count": null,
   "metadata": {},
   "outputs": [],
   "source": [
    "# todo: créer une variable \"RevenuePerClient\" => le revenu rapporté par chaque client => ce serait plutôt juste une variable type \"KPI\" à afficher dans un dashboard non ?"
   ]
  },
  {
   "cell_type": "code",
   "execution_count": null,
   "metadata": {},
   "outputs": [],
   "source": [
    "# todo: de même, créer une variable \"RevenueWinePerClient\" => le revenu de vin pour chaque client, et faire de même pour chaque produit => par la suite on pourra faire des représentations \"quel client rapporte le plus de vin\""
   ]
  },
  {
   "cell_type": "markdown",
   "metadata": {},
   "source": [
    "# Visualisation"
   ]
  },
  {
   "cell_type": "code",
   "execution_count": null,
   "metadata": {},
   "outputs": [],
   "source": [
    "# todo: renommer cette partie ? / mettre un texte introductif pour expliquer la démarche (\"Une fois les données nettoyées, on les explore de nouveau, plus en profondeur\")"
   ]
  },
  {
   "cell_type": "code",
   "execution_count": null,
   "metadata": {},
   "outputs": [],
   "source": [
    "# todo: organiser en plusieurs sous-parties"
   ]
  },
  {
   "cell_type": "code",
   "execution_count": null,
   "metadata": {},
   "outputs": [],
   "source": [
    "# todo: choisir les représentations les plus pertinentes à montrer ci-dessous"
   ]
  },
  {
   "cell_type": "code",
   "execution_count": null,
   "metadata": {},
   "outputs": [],
   "source": [
    "sns.histplot(\n",
    "    df,\n",
    "    x=\"Income\",\n",
    "    hue=\"NbAcceptedCampaigns\",\n",
    "    kde=True,\n",
    "    stat=\"density\",\n",
    "    common_norm=False,\n",
    ")"
   ]
  },
  {
   "cell_type": "code",
   "execution_count": null,
   "metadata": {},
   "outputs": [],
   "source": [
    "sns.histplot(\n",
    "    df,\n",
    "    x=\"Income\",\n",
    "    hue=\"NbAcceptedCampaigns\",\n",
    "    kde=True,\n",
    "    stat=\"probability\",\n",
    "    common_norm=False,\n",
    ")"
   ]
  },
  {
   "cell_type": "code",
   "execution_count": null,
   "metadata": {},
   "outputs": [],
   "source": [
    "sns.displot(df, x=\"Income\", hue=\"NbAcceptedCampaigns\", kind=\"kde\", common_norm=False)"
   ]
  },
  {
   "cell_type": "code",
   "execution_count": null,
   "metadata": {},
   "outputs": [],
   "source": [
    "# todo: faire la même chose en boxplots !"
   ]
  },
  {
   "cell_type": "code",
   "execution_count": null,
   "metadata": {},
   "outputs": [],
   "source": [
    "sns.histplot(df, x=\"Income\", hue=\"HasAcceptedCampaigns\", kde=True)"
   ]
  },
  {
   "cell_type": "code",
   "execution_count": null,
   "metadata": {},
   "outputs": [],
   "source": [
    "sns.histplot(df, x=\"Income\", hue=\"Response\", kde=True)"
   ]
  },
  {
   "cell_type": "markdown",
   "metadata": {},
   "source": [
    "### Année naissance (test)"
   ]
  },
  {
   "cell_type": "code",
   "execution_count": null,
   "metadata": {},
   "outputs": [],
   "source": [
    "sns.histplot(df, x=\"Year_Birth\", hue=\"Response\", kde=True)"
   ]
  },
  {
   "cell_type": "markdown",
   "metadata": {},
   "source": [
    "### todo"
   ]
  },
  {
   "cell_type": "code",
   "execution_count": null,
   "metadata": {},
   "outputs": [],
   "source": [
    "sns.histplot(\n",
    "    data=df, x=\"Education\", hue=\"HasAcceptedCampaigns\", multiple=\"dodge\", shrink=0.8\n",
    ")"
   ]
  },
  {
   "cell_type": "code",
   "execution_count": null,
   "metadata": {},
   "outputs": [],
   "source": [
    "sns.histplot(\n",
    "    data=df,\n",
    "    x=\"NbChildren\",\n",
    "    hue=\"Response\",\n",
    "    multiple=\"dodge\",\n",
    "    discrete=True,\n",
    "    shrink=0.4,\n",
    ")"
   ]
  },
  {
   "cell_type": "code",
   "execution_count": null,
   "metadata": {},
   "outputs": [],
   "source": [
    "sns.histplot(\n",
    "    data=df,\n",
    "    x=\"NbChildren\",\n",
    "    hue=\"HasAcceptedCampaigns\",\n",
    "    multiple=\"dodge\",\n",
    "    discrete=True,\n",
    "    shrink=0.4,\n",
    ")"
   ]
  },
  {
   "cell_type": "code",
   "execution_count": null,
   "metadata": {},
   "outputs": [],
   "source": [
    "plt.figure(figsize=(12, 12))\n",
    "sns.heatmap(\n",
    "    df.corr()[df.corr().abs() > 0.5],\n",
    "    annot=True,\n",
    "    cmap=\"BrBG\",\n",
    "    linewidths=0.5,\n",
    "    vmax=1,\n",
    "    vmin=-1,\n",
    ")"
   ]
  },
  {
   "cell_type": "markdown",
   "metadata": {},
   "source": [
    "## Régression polynomiale"
   ]
  },
  {
   "cell_type": "markdown",
   "metadata": {},
   "source": [
    "### Premier exemple"
   ]
  },
  {
   "cell_type": "code",
   "execution_count": null,
   "metadata": {},
   "outputs": [],
   "source": [
    "sns.scatterplot(data=df, x=\"Income\", y=\"MntWines\", color=\"black\")"
   ]
  },
  {
   "cell_type": "code",
   "execution_count": null,
   "metadata": {},
   "outputs": [],
   "source": [
    "sns.scatterplot(x=df[\"Income\"] ** 2, y=df[\"MntWines\"], color=\"black\")"
   ]
  },
  {
   "cell_type": "code",
   "execution_count": null,
   "metadata": {},
   "outputs": [],
   "source": [
    "sns.regplot(\n",
    "    x=df[\"Income\"],\n",
    "    y=df[\"MntWines\"],\n",
    "    scatter_kws={\"color\": \"black\"},\n",
    "    line_kws={\"color\": \"red\"},\n",
    ")"
   ]
  },
  {
   "cell_type": "code",
   "execution_count": null,
   "metadata": {},
   "outputs": [],
   "source": [
    "sns.regplot(\n",
    "    x=df[\"Income\"] ** 2,\n",
    "    y=df[\"MntWines\"],\n",
    "    scatter_kws={\"color\": \"black\"},\n",
    "    line_kws={\"color\": \"red\"},\n",
    ")"
   ]
  },
  {
   "cell_type": "code",
   "execution_count": null,
   "metadata": {},
   "outputs": [],
   "source": [
    "sns.regplot(\n",
    "    x=df[\"Income\"] ** 3,\n",
    "    y=df[\"MntWines\"],\n",
    "    scatter_kws={\"color\": \"black\"},\n",
    "    line_kws={\"color\": \"red\"},\n",
    ")"
   ]
  },
  {
   "cell_type": "markdown",
   "metadata": {},
   "source": [
    "### Afficher la courbe"
   ]
  },
  {
   "cell_type": "code",
   "execution_count": null,
   "metadata": {},
   "outputs": [],
   "source": [
    "# Régression linéaire basique\n",
    "from sklearn.linear_model import LinearRegression"
   ]
  },
  {
   "cell_type": "code",
   "execution_count": null,
   "metadata": {},
   "outputs": [],
   "source": [
    "X = np.array(df[[\"Income\"]] ** 2)\n",
    "y = np.array(df[[\"MntWines\"]])"
   ]
  },
  {
   "cell_type": "code",
   "execution_count": null,
   "metadata": {},
   "outputs": [],
   "source": [
    "reg = LinearRegression().fit(X, y)"
   ]
  },
  {
   "cell_type": "code",
   "execution_count": null,
   "metadata": {},
   "outputs": [],
   "source": [
    "# Tracer les données et la courbe de régression polynomiale\n",
    "plt.scatter(df[\"Income\"], y, label=\"Données\", color=\"black\")\n",
    "plt.scatter(df[\"Income\"], reg.predict(X), label=\"Régression polynomiale\", color=\"red\")\n",
    "\n",
    "plt.legend(loc=\"best\")\n",
    "plt.title(\"Régression polynomiale d'un cube de données synthétiques\")\n",
    "\n",
    "plt.show()"
   ]
  },
  {
   "cell_type": "markdown",
   "metadata": {},
   "source": [
    "### Polynomial Features"
   ]
  },
  {
   "cell_type": "code",
   "execution_count": null,
   "metadata": {},
   "outputs": [],
   "source": [
    "# Pour la régression polynomiale\n",
    "from sklearn.preprocessing import PolynomialFeatures"
   ]
  },
  {
   "cell_type": "code",
   "execution_count": null,
   "metadata": {},
   "outputs": [],
   "source": [
    "# Transformer les données en matrice de caractéristiques polynomiales\n",
    "poly = PolynomialFeatures(degree=2)\n",
    "X_poly = poly.fit_transform(X)"
   ]
  },
  {
   "cell_type": "markdown",
   "metadata": {},
   "source": [
    "Si on donne une variable $V$, PolynomialFeatures crée les variables\n",
    "- $1$\n",
    "- $V$\n",
    "- $V^2$"
   ]
  },
  {
   "cell_type": "markdown",
   "metadata": {},
   "source": [
    "Si on donne les variables $V$ et $W$, PolynomialFeatures crée les variables\n",
    "- $1$\n",
    "- $V$\n",
    "- $W$\n",
    "- $V \\times W$\n",
    "- $V^2$\n",
    "- $W^2$"
   ]
  },
  {
   "cell_type": "markdown",
   "metadata": {},
   "source": [
    "(attention à l'explosion combinatoire du nombre de variables !)"
   ]
  },
  {
   "cell_type": "code",
   "execution_count": null,
   "metadata": {},
   "outputs": [],
   "source": [
    "# Entraîner un modèle de régression linéaire sur les données transformées\n",
    "reg = LinearRegression().fit(X_poly, y)"
   ]
  },
  {
   "cell_type": "code",
   "execution_count": null,
   "metadata": {},
   "outputs": [],
   "source": [
    "# Tracer les données et la courbe de régression polynomiale\n",
    "plt.scatter(df[\"Income\"], y, label=\"Données\", color=\"black\")\n",
    "plt.scatter(\n",
    "    df[\"Income\"], reg.predict(X_poly), label=\"Régression polynomiale\", color=\"red\"\n",
    ")\n",
    "\n",
    "plt.legend(loc=\"best\")\n",
    "plt.title(\"Régression polynomiale d'un cube de données synthétiques\")\n",
    "\n",
    "plt.show()"
   ]
  },
  {
   "cell_type": "markdown",
   "metadata": {},
   "source": [
    "### Attention au sur-apprentissage"
   ]
  },
  {
   "cell_type": "code",
   "execution_count": null,
   "metadata": {},
   "outputs": [],
   "source": [
    "# Transformer les données en matrice de caractéristiques polynomiales\n",
    "poly = PolynomialFeatures(degree=10)\n",
    "X_poly = poly.fit_transform(X)"
   ]
  },
  {
   "cell_type": "code",
   "execution_count": null,
   "metadata": {},
   "outputs": [],
   "source": [
    "# Entraîner un modèle de régression linéaire sur les données transformées\n",
    "reg = LinearRegression().fit(X_poly, y)"
   ]
  },
  {
   "cell_type": "code",
   "execution_count": null,
   "metadata": {},
   "outputs": [],
   "source": [
    "# Tracer les données et la courbe de régression polynomiale\n",
    "plt.scatter(df[\"Income\"], y, label=\"Données\", color=\"black\")\n",
    "plt.scatter(\n",
    "    df[\"Income\"], reg.predict(X_poly), label=\"Régression polynomiale\", color=\"red\"\n",
    ")\n",
    "\n",
    "plt.legend(loc=\"best\")\n",
    "plt.title(\"Régression polynomiale d'un cube de données synthétiques\")\n",
    "\n",
    "plt.show()"
   ]
  },
  {
   "cell_type": "markdown",
   "metadata": {},
   "source": [
    "## todo"
   ]
  },
  {
   "cell_type": "code",
   "execution_count": null,
   "metadata": {},
   "outputs": [],
   "source": [
    "sns.scatterplot(data=df, x=\"Income\", y=\"MntMeatProducts\", hue=\"Marital_Status\")"
   ]
  },
  {
   "cell_type": "code",
   "execution_count": null,
   "metadata": {},
   "outputs": [],
   "source": [
    "sns.scatterplot(data=df, x=\"Income\", y=\"MntWines\")"
   ]
  },
  {
   "cell_type": "code",
   "execution_count": null,
   "metadata": {},
   "outputs": [],
   "source": [
    "sns.histplot(data=df, x=\"Education\", hue=\"Response\", multiple=\"dodge\", shrink=0.8)"
   ]
  },
  {
   "cell_type": "code",
   "execution_count": null,
   "metadata": {},
   "outputs": [],
   "source": [
    "sns.displot(\n",
    "    data=df,\n",
    "    x=\"Marital_Status\",\n",
    "    hue=\"Response\",\n",
    "    col=\"Kidhome\",\n",
    "    multiple=\"dodge\",\n",
    "    shrink=0.8,\n",
    ")"
   ]
  },
  {
   "cell_type": "markdown",
   "metadata": {},
   "source": [
    "# Tests d'hypothèse"
   ]
  },
  {
   "cell_type": "markdown",
   "metadata": {},
   "source": [
    "## ANOVA"
   ]
  },
  {
   "cell_type": "markdown",
   "metadata": {},
   "source": [
    "### Problématique"
   ]
  },
  {
   "attachments": {},
   "cell_type": "markdown",
   "metadata": {},
   "source": [
    "Nous allons tester l'indépendance entre la variable `Response` (catégorique, binaire) et `Income` (quantitative continue), pour répondre à la question : \"le revenu influence-t-il la réponse aux campagnes marketing ?\"."
   ]
  },
  {
   "cell_type": "code",
   "execution_count": null,
   "metadata": {},
   "outputs": [],
   "source": [
    "sns.boxplot(df, x=\"Income\", y=\"Response\")"
   ]
  },
  {
   "cell_type": "markdown",
   "metadata": {},
   "source": [
    "On cherche à déterminer si les moyennes des groupes sont significativement différentes. On pose donc :\n",
    "\n",
    "$H_0$ : Les moyennes de chaque groupe sont égales si la p-value $> 5\\%$\n",
    "$H_1$ : Les moyennes de chaque groupe ne sont pas toutes égales si la p-value $< 5\\%$\n"
   ]
  },
  {
   "cell_type": "markdown",
   "metadata": {},
   "source": [
    "### Hypothèses"
   ]
  },
  {
   "cell_type": "markdown",
   "metadata": {},
   "source": [
    "1) l’indépendance entre les échantillons de chaque groupe\n",
    "2) l’égalité des variances que l’on peut verifier avec un test de Bartlett.\n",
    "3) la normalité des résidus avec un test de Shapiro."
   ]
  },
  {
   "cell_type": "markdown",
   "metadata": {},
   "source": [
    "#### Indépendance"
   ]
  },
  {
   "cell_type": "code",
   "execution_count": null,
   "metadata": {},
   "outputs": [],
   "source": []
  },
  {
   "cell_type": "markdown",
   "metadata": {},
   "source": [
    "#### Egalité des variances"
   ]
  },
  {
   "cell_type": "code",
   "execution_count": null,
   "metadata": {},
   "outputs": [],
   "source": [
    "from scipy.stats import bartlett"
   ]
  },
  {
   "cell_type": "markdown",
   "metadata": {},
   "source": [
    "Voici la variance de chaque groupe :"
   ]
  },
  {
   "cell_type": "code",
   "execution_count": null,
   "metadata": {},
   "outputs": [],
   "source": [
    "df.groupby(\"Response\")[\"Income\"].agg(\"var\")"
   ]
  },
  {
   "cell_type": "markdown",
   "metadata": {},
   "source": [
    "Nous allons effectuer un test de Bartlett pour vérifier l'égalité des variances.\n",
    "\n",
    "$H_0$ : Les variances de chaque groupe sont égales si p-value $> 5\\%$\n",
    "$H_1$ : Les variances de chaque groupe ne sont pas toutes égales $< 5\\%$\n"
   ]
  },
  {
   "cell_type": "code",
   "execution_count": null,
   "metadata": {},
   "outputs": [],
   "source": [
    "bartlett(\n",
    "    df[\"Income\"][df[\"Response\"] == \"0\"],\n",
    "    df[\"Income\"][df[\"Response\"] == \"1\"],\n",
    ")"
   ]
  },
  {
   "cell_type": "markdown",
   "metadata": {},
   "source": [
    "Notre p-value est inférieure à 5%, donc les variances ne sont pas toutes égales au (risque de 5%)."
   ]
  },
  {
   "cell_type": "markdown",
   "metadata": {},
   "source": [
    "#### Normalité des résidus"
   ]
  },
  {
   "cell_type": "markdown",
   "metadata": {},
   "source": [
    "Nous utilisons le test de Shapiro-Wilk pour vérifier la normalité des résidus."
   ]
  },
  {
   "cell_type": "markdown",
   "metadata": {},
   "source": [
    "H0 : Les résidus suivent une loi normale si p-value > 5%\n",
    "H1 : Les résidus ne suivent pas une loi normale si p-value < 5%"
   ]
  },
  {
   "cell_type": "code",
   "execution_count": null,
   "metadata": {},
   "outputs": [],
   "source": [
    "from scipy.stats import shapiro\n",
    "from statsmodels.formula.api import ols\n",
    "\n",
    "model = ols(\"Income ~ Response\", data=df).fit()\n",
    "shapiro(model.resid)"
   ]
  },
  {
   "cell_type": "markdown",
   "metadata": {},
   "source": [
    "Comme la p-value est inférieure à 5%, les résidus ne suivent pas une loi normale (au risque de 5%)."
   ]
  },
  {
   "cell_type": "markdown",
   "metadata": {},
   "source": [
    "#### Test d'ANOVA"
   ]
  },
  {
   "cell_type": "markdown",
   "metadata": {},
   "source": [
    "H0 : Les moyennes de chaque groupe sont égales si p-value > 5%\n",
    "H1 : Les moyennes de chaque groupe ne sont pas toutes égales < 5%"
   ]
  },
  {
   "cell_type": "code",
   "execution_count": null,
   "metadata": {},
   "outputs": [],
   "source": [
    "import statsmodels.api as sm\n",
    "\n",
    "anova_table = sm.stats.anova_lm(model, typ=2)\n",
    "anova_table"
   ]
  },
  {
   "cell_type": "markdown",
   "metadata": {},
   "source": [
    "Comme aucune hypothèse n'est vérifiée, le test n'est pas fiable."
   ]
  },
  {
   "cell_type": "code",
   "execution_count": null,
   "metadata": {},
   "outputs": [],
   "source": [
    "# todo: tenter le GLS"
   ]
  },
  {
   "cell_type": "markdown",
   "metadata": {},
   "source": [
    "# Transformation des données"
   ]
  },
  {
   "cell_type": "code",
   "execution_count": null,
   "metadata": {},
   "outputs": [],
   "source": [
    "df_transforme = df.copy()"
   ]
  },
  {
   "cell_type": "markdown",
   "metadata": {},
   "source": [
    "## Mise à l'échelle (réduction ?)"
   ]
  },
  {
   "cell_type": "markdown",
   "metadata": {},
   "source": [
    "### Explication"
   ]
  },
  {
   "cell_type": "code",
   "execution_count": null,
   "metadata": {},
   "outputs": [],
   "source": [
    "# todo: expliquer pourquoi on a envie de le faire"
   ]
  },
  {
   "cell_type": "markdown",
   "metadata": {},
   "source": [
    "### Sélection des variables"
   ]
  },
  {
   "cell_type": "code",
   "execution_count": null,
   "metadata": {},
   "outputs": [],
   "source": [
    "df[var_numeriques].hist(figsize=(12, 12), bins=30)\n",
    "plt.show()"
   ]
  },
  {
   "cell_type": "code",
   "execution_count": null,
   "metadata": {},
   "outputs": [],
   "source": [
    "# todo(prof): est-ce que notre choix de variables est bon ?\n",
    "var_a_scaler = [\n",
    "    \"Year_Birth\",\n",
    "    \"Income\",\n",
    "    \"Recency\",\n",
    "    \"MntWines\",\n",
    "    \"MntFruits\",\n",
    "    \"MntMeatProducts\",\n",
    "    \"MntFishProducts\",\n",
    "    \"MntSweetProducts\",\n",
    "    \"MntGoldProds\",\n",
    "]"
   ]
  },
  {
   "cell_type": "code",
   "execution_count": null,
   "metadata": {},
   "outputs": [],
   "source": [
    "df[\"Income\"].hist()"
   ]
  },
  {
   "cell_type": "code",
   "execution_count": null,
   "metadata": {},
   "outputs": [],
   "source": [
    "(df[\"Income\"] / df[\"Income\"].std()).hist()"
   ]
  },
  {
   "cell_type": "markdown",
   "metadata": {},
   "source": [
    "### Transformation"
   ]
  },
  {
   "cell_type": "code",
   "execution_count": null,
   "metadata": {},
   "outputs": [],
   "source": [
    "for var in var_a_scaler:\n",
    "    df_transforme[var] = df[var] / df[var].std()\n",
    "    df_transforme[var] -= df_transforme[var].min()"
   ]
  },
  {
   "cell_type": "markdown",
   "metadata": {},
   "source": [
    "### Conclusion"
   ]
  },
  {
   "cell_type": "code",
   "execution_count": null,
   "metadata": {},
   "outputs": [],
   "source": [
    "df_transforme[var_numeriques].hist(figsize=(12, 12), bins=30)\n",
    "plt.show()"
   ]
  },
  {
   "cell_type": "markdown",
   "metadata": {},
   "source": [
    "Les changements sur la matrice de corrélation sont de l'ordre de $10^{-15}$, donc extrêmement négligeables."
   ]
  },
  {
   "cell_type": "code",
   "execution_count": null,
   "metadata": {},
   "outputs": [],
   "source": [
    "sns.heatmap(df_transforme[var_numeriques].corr() - df[var_numeriques].corr())"
   ]
  },
  {
   "cell_type": "markdown",
   "metadata": {},
   "source": [
    "## Normalisation"
   ]
  },
  {
   "cell_type": "markdown",
   "metadata": {},
   "source": [
    "### Explication"
   ]
  },
  {
   "cell_type": "markdown",
   "metadata": {},
   "source": [
    "Pour normaliser les données, nous allons utiliser la transformation de Box-Cox, définie $\\forall x > 0, $ comme ci-dessous :\n",
    "$B(x, \\lambda) = \\begin{cases} \\frac{x^{\\lambda} - 1}{\\lambda} & \\text{  si } \\lambda \\neq 0 \\\\ \\log(x) & \\text{  si } \\lambda = 0 \\end{cases}$"
   ]
  },
  {
   "cell_type": "markdown",
   "metadata": {},
   "source": [
    "Cette transformation est à appliquer à une variable (strictement positive), en ajustant le $\\lambda$ pour maximiser la normalité."
   ]
  },
  {
   "cell_type": "markdown",
   "metadata": {},
   "source": [
    "Nous allons utiliser la librairie `scipy.stats.boxcox` qui estime le meilleur paramètre $\\lambda$."
   ]
  },
  {
   "cell_type": "markdown",
   "metadata": {},
   "source": [
    "### Sélection des variables"
   ]
  },
  {
   "cell_type": "code",
   "execution_count": null,
   "metadata": {},
   "outputs": [],
   "source": [
    "df[var_numeriques].hist(figsize=(12, 12), bins=30)\n",
    "plt.show()"
   ]
  },
  {
   "cell_type": "code",
   "execution_count": null,
   "metadata": {},
   "outputs": [],
   "source": [
    "# todo(prof): faut-il inclure la distribution uniforme Recency ?\n",
    "# todo(prof): est-ce que notre choix de variables est bon ?\n",
    "var_a_normaliser = [\n",
    "    \"MntWines\",\n",
    "    \"MntFruits\",\n",
    "    \"MntMeatProducts\",\n",
    "    \"MntFishProducts\",\n",
    "    \"MntSweetProducts\",\n",
    "    \"MntGoldProds\",\n",
    "]"
   ]
  },
  {
   "cell_type": "markdown",
   "metadata": {},
   "source": [
    "### Transformation"
   ]
  },
  {
   "cell_type": "code",
   "execution_count": null,
   "metadata": {},
   "outputs": [],
   "source": [
    "sns.histplot(df[\"MntWines\"], kde=True)"
   ]
  },
  {
   "cell_type": "code",
   "execution_count": null,
   "metadata": {},
   "outputs": [],
   "source": [
    "from scipy.stats import boxcox"
   ]
  },
  {
   "cell_type": "code",
   "execution_count": null,
   "metadata": {},
   "outputs": [],
   "source": [
    "boxcox_lambdas = {}  # on garde les lambdas, pour la transformation inverse"
   ]
  },
  {
   "cell_type": "code",
   "execution_count": null,
   "metadata": {},
   "outputs": [],
   "source": [
    "for var in var_a_normaliser:\n",
    "    var_strict_positif = df[var] + df[var].min() + 1\n",
    "\n",
    "    var_apres_boxcox, l = boxcox(var_strict_positif)\n",
    "\n",
    "    df_transforme[var] = var_apres_boxcox\n",
    "    boxcox_lambdas[var] = l"
   ]
  },
  {
   "cell_type": "code",
   "execution_count": null,
   "metadata": {},
   "outputs": [],
   "source": [
    "# Tuto : comment récupérer la fonction initiale\n",
    "# (il faut avoir récupéré le paramètre \"l\" lambda)\n",
    "\n",
    "# from scipy.special import inv_boxcox\n",
    "# initial = inv_boxcox(incbox, l)\n",
    "# initial = pd.DataFrame(initial)\n",
    "# sns.histplot(initial, bins=50, kde=True)"
   ]
  },
  {
   "cell_type": "code",
   "execution_count": null,
   "metadata": {},
   "outputs": [],
   "source": [
    "sns.histplot(df_transforme[\"MntWines\"], bins=50, kde=True)"
   ]
  },
  {
   "cell_type": "code",
   "execution_count": null,
   "metadata": {},
   "outputs": [],
   "source": [
    "df_transforme[var_numeriques].hist(figsize=(12, 12), bins=30)\n",
    "plt.show()"
   ]
  },
  {
   "cell_type": "markdown",
   "metadata": {},
   "source": [
    "### Conclusion"
   ]
  },
  {
   "cell_type": "code",
   "execution_count": null,
   "metadata": {},
   "outputs": [],
   "source": [
    "# todo: analyser les résultats, notamment l'impact sur la matrice de corrélation (du coup, mettre ci-dessous la matrice de corrélation pré-transformation et comparer)"
   ]
  },
  {
   "cell_type": "code",
   "execution_count": null,
   "metadata": {},
   "outputs": [],
   "source": [
    "sns.heatmap(\n",
    "    df_transforme[var_numeriques].corr() - df[var_numeriques].corr(),\n",
    "    cmap=\"BrBG\",\n",
    "    vmin=-1,\n",
    "    vmax=1,\n",
    ")"
   ]
  },
  {
   "cell_type": "code",
   "execution_count": null,
   "metadata": {},
   "outputs": [],
   "source": [
    "df_transforme[var_numeriques].corr() - df[var_numeriques].corr()"
   ]
  },
  {
   "cell_type": "code",
   "execution_count": null,
   "metadata": {},
   "outputs": [],
   "source": [
    "plt.figure(figsize=(12, 12))\n",
    "plt.title(\"Matrice de corrélation des variables numériques avant transformation\")\n",
    "sns.heatmap(\n",
    "    df[var_numeriques].corr()[df[var_numeriques].corr().abs() > 0.5],\n",
    "    annot=True,\n",
    "    cmap=\"BrBG\",\n",
    "    linewidths=0.5,\n",
    "    vmax=1,\n",
    "    vmin=-1,\n",
    ")"
   ]
  },
  {
   "cell_type": "code",
   "execution_count": null,
   "metadata": {},
   "outputs": [],
   "source": [
    "plt.figure(figsize=(12, 12))\n",
    "plt.title(\"Matrice de corrélation des variables numériques après transformation\")\n",
    "sns.heatmap(\n",
    "    df_transforme[var_numeriques].corr()[\n",
    "        df_transforme[var_numeriques].corr().abs() > 0.5\n",
    "    ],\n",
    "    annot=True,\n",
    "    cmap=\"BrBG\",\n",
    "    linewidths=0.5,\n",
    "    vmax=1,\n",
    "    vmin=-1,\n",
    ")"
   ]
  },
  {
   "cell_type": "markdown",
   "metadata": {},
   "source": [
    "## Variables catégoriques"
   ]
  },
  {
   "cell_type": "code",
   "execution_count": null,
   "metadata": {},
   "outputs": [],
   "source": []
  },
  {
   "cell_type": "markdown",
   "metadata": {},
   "source": [
    "### Encodage"
   ]
  },
  {
   "cell_type": "code",
   "execution_count": null,
   "metadata": {},
   "outputs": [],
   "source": [
    "# todo: One Hot Encoding, Target Encoding, etc"
   ]
  },
  {
   "cell_type": "markdown",
   "metadata": {},
   "source": [
    "# Analyse multi-variée"
   ]
  },
  {
   "cell_type": "markdown",
   "metadata": {},
   "source": [
    "## Clustering"
   ]
  },
  {
   "cell_type": "code",
   "execution_count": null,
   "metadata": {},
   "outputs": [],
   "source": [
    "from sklearn.preprocessing import RobustScaler\n",
    "\n",
    "scaler = RobustScaler()\n",
    "df_apres_scale = pd.DataFrame(\n",
    "    scaler.fit_transform(df_transforme[var_numeriques]),\n",
    "    columns=df[var_numeriques].columns,\n",
    ")"
   ]
  },
  {
   "cell_type": "code",
   "execution_count": null,
   "metadata": {},
   "outputs": [],
   "source": [
    "from sklearn.cluster import KMeans"
   ]
  },
  {
   "cell_type": "code",
   "execution_count": null,
   "metadata": {},
   "outputs": [],
   "source": [
    "k3 = KMeans(n_clusters=3)\n",
    "k4 = KMeans(n_clusters=4)"
   ]
  },
  {
   "cell_type": "code",
   "execution_count": null,
   "metadata": {},
   "outputs": [],
   "source": [
    "k3.fit(df_apres_scale[var_numeriques])\n",
    "k4.fit(df_apres_scale[var_numeriques])"
   ]
  },
  {
   "cell_type": "code",
   "execution_count": null,
   "metadata": {},
   "outputs": [],
   "source": [
    "df[\"cluster\"] = k3.labels_"
   ]
  },
  {
   "cell_type": "code",
   "execution_count": null,
   "metadata": {},
   "outputs": [],
   "source": [
    "sns.histplot(df[\"cluster\"])"
   ]
  },
  {
   "cell_type": "code",
   "execution_count": null,
   "metadata": {},
   "outputs": [],
   "source": [
    "sns.histplot(df, x=\"Income\", hue=\"cluster\", kde=True)"
   ]
  },
  {
   "cell_type": "code",
   "execution_count": null,
   "metadata": {},
   "outputs": [],
   "source": [
    "sns.scatterplot(df, x=\"Year_Birth\", y=\"Income\", hue=\"cluster\")"
   ]
  },
  {
   "cell_type": "code",
   "execution_count": null,
   "metadata": {},
   "outputs": [],
   "source": [
    "df[var_numeriques + [\"cluster\"]]"
   ]
  },
  {
   "cell_type": "code",
   "execution_count": null,
   "metadata": {},
   "outputs": [],
   "source": [
    "df[\"cluster\"] = k4.labels_\n",
    "sns.histplot(df[\"cluster\"])"
   ]
  },
  {
   "cell_type": "code",
   "execution_count": null,
   "metadata": {},
   "outputs": [],
   "source": [
    "sns.histplot(df, x=\"Income\", hue=\"cluster\", kde=True)"
   ]
  },
  {
   "cell_type": "code",
   "execution_count": null,
   "metadata": {},
   "outputs": [],
   "source": [
    "sns.scatterplot(df, x=\"Year_Birth\", y=\"Income\", hue=\"cluster\")"
   ]
  },
  {
   "cell_type": "markdown",
   "metadata": {},
   "source": [
    "## Analyse en Composantes Principales (ACP)"
   ]
  },
  {
   "cell_type": "code",
   "execution_count": null,
   "metadata": {},
   "outputs": [],
   "source": [
    "from sklearn.decomposition import PCA"
   ]
  },
  {
   "cell_type": "code",
   "execution_count": null,
   "metadata": {},
   "outputs": [],
   "source": [
    "# todo: centrer / réduire"
   ]
  },
  {
   "cell_type": "code",
   "execution_count": null,
   "metadata": {},
   "outputs": [],
   "source": [
    "from sklearn.preprocessing import RobustScaler, StandardScaler"
   ]
  },
  {
   "cell_type": "code",
   "execution_count": null,
   "metadata": {},
   "outputs": [],
   "source": [
    "scaler = StandardScaler()"
   ]
  },
  {
   "cell_type": "code",
   "execution_count": null,
   "metadata": {},
   "outputs": [],
   "source": [
    "df_apres_scale = pd.DataFrame(\n",
    "    scaler.fit_transform(df[var_numeriques]), columns=df[var_numeriques].columns\n",
    ")"
   ]
  },
  {
   "cell_type": "code",
   "execution_count": null,
   "metadata": {},
   "outputs": [],
   "source": [
    "df_apres_scale"
   ]
  },
  {
   "cell_type": "code",
   "execution_count": null,
   "metadata": {},
   "outputs": [],
   "source": [
    "# for var in var_numeriques:\n",
    "#     _, ax = plt.subplots(1, 2, figsize=(8, 2))\n",
    "#     sns.boxplot(df_apres_scale[var], width=0.25, ax=ax[0])\n",
    "#     sns.histplot(df_apres_scale[var], kde=True, ax=ax[1])\n",
    "#     plt.show()"
   ]
  },
  {
   "cell_type": "code",
   "execution_count": null,
   "metadata": {},
   "outputs": [],
   "source": [
    "acp = PCA(random_state=0)"
   ]
  },
  {
   "cell_type": "code",
   "execution_count": null,
   "metadata": {},
   "outputs": [],
   "source": [
    "acp.fit(df_apres_scale)"
   ]
  },
  {
   "cell_type": "code",
   "execution_count": null,
   "metadata": {},
   "outputs": [],
   "source": [
    "variance_expliquee = pd.Series(\n",
    "    acp.explained_variance_ratio_, index=df[var_numeriques].columns\n",
    ")"
   ]
  },
  {
   "cell_type": "code",
   "execution_count": null,
   "metadata": {},
   "outputs": [],
   "source": [
    "variance_expliquee"
   ]
  },
  {
   "cell_type": "code",
   "execution_count": null,
   "metadata": {},
   "outputs": [],
   "source": [
    "variance_expliquee.plot.barh()"
   ]
  },
  {
   "cell_type": "code",
   "execution_count": null,
   "metadata": {},
   "outputs": [],
   "source": [
    "df_acp = pd.DataFrame(acp.fit_transform(df_apres_scale), index=df.index)"
   ]
  },
  {
   "cell_type": "code",
   "execution_count": null,
   "metadata": {},
   "outputs": [],
   "source": [
    "df_acp.head()"
   ]
  },
  {
   "cell_type": "code",
   "execution_count": null,
   "metadata": {},
   "outputs": [],
   "source": [
    "sns.scatterplot(df_acp, x=0, y=1)"
   ]
  },
  {
   "attachments": {},
   "cell_type": "markdown",
   "metadata": {},
   "source": [
    "### Cercle de corrélations"
   ]
  },
  {
   "cell_type": "code",
   "execution_count": null,
   "metadata": {},
   "outputs": [],
   "source": [
    "from mlxtend.plotting import plot_pca_correlation_graph"
   ]
  },
  {
   "cell_type": "code",
   "execution_count": null,
   "metadata": {},
   "outputs": [],
   "source": [
    "_, correlation_matrix = plot_pca_correlation_graph(\n",
    "    df_apres_scale,\n",
    "    df_apres_scale.columns,\n",
    "    X_pca=df_acp.iloc[:, :2],\n",
    "    explained_variance=acp.explained_variance_[:2],\n",
    "    dimensions=(1, 2),\n",
    ")"
   ]
  },
  {
   "cell_type": "code",
   "execution_count": null,
   "metadata": {},
   "outputs": [],
   "source": [
    "sns.heatmap(\n",
    "    correlation_matrix,\n",
    "    annot=True,\n",
    "    cmap=\"BrBG\",\n",
    "    linewidths=0.5,\n",
    "    vmax=1,\n",
    "    vmin=-1,\n",
    ")"
   ]
  },
  {
   "cell_type": "markdown",
   "metadata": {},
   "source": [
    "### Test clusters"
   ]
  },
  {
   "cell_type": "code",
   "execution_count": null,
   "metadata": {},
   "outputs": [],
   "source": [
    "df_acp[\"clusterk3\"] = k3.labels_\n",
    "df_acp[\"clusterk4\"] = k4.labels_"
   ]
  },
  {
   "cell_type": "code",
   "execution_count": null,
   "metadata": {},
   "outputs": [],
   "source": [
    "sns.scatterplot(df_acp, x=0, y=1, hue=\"clusterk3\")"
   ]
  },
  {
   "cell_type": "code",
   "execution_count": null,
   "metadata": {},
   "outputs": [],
   "source": [
    "df_acp.head()"
   ]
  },
  {
   "cell_type": "code",
   "execution_count": null,
   "metadata": {},
   "outputs": [],
   "source": [
    "sns.scatterplot(df_acp, x=0, y=1, hue=df[\"Response\"])"
   ]
  },
  {
   "cell_type": "code",
   "execution_count": null,
   "metadata": {},
   "outputs": [],
   "source": [
    "sns.scatterplot(df_acp, x=0, y=2, hue=df[\"Response\"])"
   ]
  },
  {
   "cell_type": "code",
   "execution_count": null,
   "metadata": {},
   "outputs": [],
   "source": [
    "sns.scatterplot(df_acp, x=0, y=1, hue=\"clusterk4\")"
   ]
  },
  {
   "cell_type": "markdown",
   "metadata": {},
   "source": [
    "## Analyse Factorielle des Correspondances (AFC)"
   ]
  },
  {
   "cell_type": "code",
   "execution_count": null,
   "metadata": {},
   "outputs": [],
   "source": [
    "import prince"
   ]
  },
  {
   "cell_type": "code",
   "execution_count": null,
   "metadata": {},
   "outputs": [],
   "source": [
    "table_contingence = pd.crosstab(df[\"Kidhome\"], df[\"Teenhome\"])"
   ]
  },
  {
   "cell_type": "code",
   "execution_count": null,
   "metadata": {},
   "outputs": [
    {
     "data": {
      "text/html": "<div>\n<style scoped>\n    .dataframe tbody tr th:only-of-type {\n        vertical-align: middle;\n    }\n\n    .dataframe tbody tr th {\n        vertical-align: top;\n    }\n\n    .dataframe thead th {\n        text-align: right;\n    }\n</style>\n<table border=\"1\" class=\"dataframe\">\n  <thead>\n    <tr style=\"text-align: right;\">\n      <th>Teenhome</th>\n      <th>0</th>\n      <th>1</th>\n      <th>2</th>\n    </tr>\n    <tr>\n      <th>Kidhome</th>\n      <th></th>\n      <th></th>\n      <th></th>\n    </tr>\n  </thead>\n  <tbody>\n    <tr>\n      <th>0</th>\n      <td>636</td>\n      <td>623</td>\n      <td>30</td>\n    </tr>\n    <tr>\n      <th>1</th>\n      <td>503</td>\n      <td>374</td>\n      <td>22</td>\n    </tr>\n    <tr>\n      <th>2</th>\n      <td>17</td>\n      <td>31</td>\n      <td>0</td>\n    </tr>\n  </tbody>\n</table>\n</div>",
      "text/plain": "Teenhome    0    1   2\nKidhome               \n0         636  623  30\n1         503  374  22\n2          17   31   0"
     },
     "execution_count": null,
     "metadata": {},
     "output_type": "execute_result"
    }
   ],
   "source": [
    "table_contingence"
   ]
  },
  {
   "cell_type": "code",
   "execution_count": null,
   "metadata": {},
   "outputs": [],
   "source": [
    "ca = prince.CA(\n",
    "    # n_components=3,\n",
    "    # n_iter=3,\n",
    "    # copy=True,\n",
    "    # check_input=True,\n",
    "    # engine='sklearn',\n",
    "    random_state=0\n",
    ")\n",
    "\n",
    "ca = ca.fit(table_contingence)"
   ]
  },
  {
   "cell_type": "code",
   "execution_count": null,
   "metadata": {},
   "outputs": [
    {
     "data": {
      "text/html": "<div>\n<style scoped>\n    .dataframe tbody tr th:only-of-type {\n        vertical-align: middle;\n    }\n\n    .dataframe tbody tr th {\n        vertical-align: top;\n    }\n\n    .dataframe thead th {\n        text-align: right;\n    }\n</style>\n<table border=\"1\" class=\"dataframe\">\n  <thead>\n    <tr style=\"text-align: right;\">\n      <th></th>\n      <th>eigenvalue</th>\n      <th>% of variance</th>\n      <th>% of variance (cumulative)</th>\n    </tr>\n    <tr>\n      <th>component</th>\n      <th></th>\n      <th></th>\n      <th></th>\n    </tr>\n  </thead>\n  <tbody>\n    <tr>\n      <th>0</th>\n      <td>0.007</td>\n      <td>97.01%</td>\n      <td>97.01%</td>\n    </tr>\n    <tr>\n      <th>1</th>\n      <td>0.000</td>\n      <td>2.99%</td>\n      <td>100.00%</td>\n    </tr>\n  </tbody>\n</table>\n</div>",
      "text/plain": "          eigenvalue % of variance % of variance (cumulative)\ncomponent                                                    \n0              0.007        97.01%                     97.01%\n1              0.000         2.99%                    100.00%"
     },
     "execution_count": null,
     "metadata": {},
     "output_type": "execute_result"
    }
   ],
   "source": [
    "ca.eigenvalues_summary"
   ]
  },
  {
   "cell_type": "code",
   "execution_count": null,
   "metadata": {},
   "outputs": [
    {
     "data": {
      "text/html": "\n<div id=\"altair-viz-f91089b6ac9b4500aac293d303ab5a40\"></div>\n<script type=\"text/javascript\">\n  var VEGA_DEBUG = (typeof VEGA_DEBUG == \"undefined\") ? {} : VEGA_DEBUG;\n  (function(spec, embedOpt){\n    let outputDiv = document.currentScript.previousElementSibling;\n    if (outputDiv.id !== \"altair-viz-f91089b6ac9b4500aac293d303ab5a40\") {\n      outputDiv = document.getElementById(\"altair-viz-f91089b6ac9b4500aac293d303ab5a40\");\n    }\n    const paths = {\n      \"vega\": \"https://cdn.jsdelivr.net/npm//vega@5?noext\",\n      \"vega-lib\": \"https://cdn.jsdelivr.net/npm//vega-lib?noext\",\n      \"vega-lite\": \"https://cdn.jsdelivr.net/npm//vega-lite@4.17.0?noext\",\n      \"vega-embed\": \"https://cdn.jsdelivr.net/npm//vega-embed@6?noext\",\n    };\n\n    function maybeLoadScript(lib, version) {\n      var key = `${lib.replace(\"-\", \"\")}_version`;\n      return (VEGA_DEBUG[key] == version) ?\n        Promise.resolve(paths[lib]) :\n        new Promise(function(resolve, reject) {\n          var s = document.createElement('script');\n          document.getElementsByTagName(\"head\")[0].appendChild(s);\n          s.async = true;\n          s.onload = () => {\n            VEGA_DEBUG[key] = version;\n            return resolve(paths[lib]);\n          };\n          s.onerror = () => reject(`Error loading script: ${paths[lib]}`);\n          s.src = paths[lib];\n        });\n    }\n\n    function showError(err) {\n      outputDiv.innerHTML = `<div class=\"error\" style=\"color:red;\">${err}</div>`;\n      throw err;\n    }\n\n    function displayChart(vegaEmbed) {\n      vegaEmbed(outputDiv, spec, embedOpt)\n        .catch(err => showError(`Javascript Error: ${err.message}<br>This usually means there's a typo in your chart specification. See the javascript console for the full traceback.`));\n    }\n\n    if(typeof define === \"function\" && define.amd) {\n      requirejs.config({paths});\n      require([\"vega-embed\"], displayChart, err => showError(`Error loading script: ${err.message}`));\n    } else {\n      maybeLoadScript(\"vega\", \"5\")\n        .then(() => maybeLoadScript(\"vega-lite\", \"4.17.0\"))\n        .then(() => maybeLoadScript(\"vega-embed\", \"6\"))\n        .catch(showError)\n        .then(() => displayChart(vegaEmbed));\n    }\n  })({\"config\": {\"view\": {\"continuousWidth\": 400, \"continuousHeight\": 300}}, \"data\": {\"name\": \"data-f8bb9c8545237a33144d30f9454282b0\"}, \"mark\": {\"type\": \"circle\", \"size\": 50}, \"encoding\": {\"color\": {\"field\": \"variable\", \"type\": \"nominal\"}, \"tooltip\": [{\"field\": \"variable\", \"type\": \"nominal\"}, {\"field\": \"value\", \"type\": \"nominal\"}, {\"field\": \"component 0\", \"type\": \"quantitative\"}, {\"field\": \"component 1\", \"type\": \"quantitative\"}], \"x\": {\"axis\": {\"title\": \"component 0 \\u2014 97.01%\"}, \"field\": \"component 0\", \"scale\": {\"zero\": false}, \"type\": \"quantitative\"}, \"y\": {\"axis\": {\"title\": \"component 1 \\u2014 2.99%\"}, \"field\": \"component 1\", \"scale\": {\"zero\": false}, \"type\": \"quantitative\"}}, \"selection\": {\"selector003\": {\"type\": \"interval\", \"bind\": \"scales\", \"encodings\": [\"x\", \"y\"]}}, \"$schema\": \"https://vega.github.io/schema/vega-lite/v4.17.0.json\", \"datasets\": {\"data-f8bb9c8545237a33144d30f9454282b0\": [{\"component 0\": 0.046735418687259216, \"component 1\": -0.010027734433857098, \"variable\": \"Kidhome\", \"value\": \"0\"}, {\"component 0\": -0.08726224789696223, \"component 1\": 0.010248625477453565, \"variable\": \"Kidhome\", \"value\": \"1\"}, {\"component 0\": 0.3793084619060628, \"component 1\": 0.07733823710439189, \"variable\": \"Kidhome\", \"value\": \"2\"}, {\"component 0\": -0.0775935753206149, \"component 1\": 0.005273461221597559, \"variable\": \"Teenhome\", \"value\": \"0\"}, {\"component 0\": 0.09310568356312132, \"component 1\": -0.0010813599853568298, \"variable\": \"Teenhome\", \"value\": \"1\"}, {\"component 0\": -0.11566287754337268, \"component 1\": -0.09585544436967917, \"variable\": \"Teenhome\", \"value\": \"2\"}]}}, {\"mode\": \"vega-lite\"});\n</script>",
      "text/plain": "alt.Chart(...)"
     },
     "execution_count": null,
     "metadata": {},
     "output_type": "execute_result"
    }
   ],
   "source": [
    "ca.plot(table_contingence)"
   ]
  },
  {
   "cell_type": "code",
   "execution_count": null,
   "metadata": {},
   "outputs": [],
   "source": [
    "table_contingence = pd.crosstab(df[\"Marital_Status\"], df[\"Education\"])"
   ]
  },
  {
   "cell_type": "code",
   "execution_count": null,
   "metadata": {},
   "outputs": [
    {
     "data": {
      "text/html": "<div>\n<style scoped>\n    .dataframe tbody tr th:only-of-type {\n        vertical-align: middle;\n    }\n\n    .dataframe tbody tr th {\n        vertical-align: top;\n    }\n\n    .dataframe thead th {\n        text-align: right;\n    }\n</style>\n<table border=\"1\" class=\"dataframe\">\n  <thead>\n    <tr style=\"text-align: right;\">\n      <th>Education</th>\n      <th>2n Cycle</th>\n      <th>Basic</th>\n      <th>Graduation</th>\n      <th>Master</th>\n      <th>PhD</th>\n    </tr>\n    <tr>\n      <th>Marital_Status</th>\n      <th></th>\n      <th></th>\n      <th></th>\n      <th></th>\n      <th></th>\n    </tr>\n  </thead>\n  <tbody>\n    <tr>\n      <th>Divorced</th>\n      <td>23</td>\n      <td>1</td>\n      <td>119</td>\n      <td>37</td>\n      <td>52</td>\n    </tr>\n    <tr>\n      <th>Married</th>\n      <td>81</td>\n      <td>20</td>\n      <td>433</td>\n      <td>138</td>\n      <td>192</td>\n    </tr>\n    <tr>\n      <th>Single</th>\n      <td>37</td>\n      <td>18</td>\n      <td>252</td>\n      <td>75</td>\n      <td>98</td>\n    </tr>\n    <tr>\n      <th>Together</th>\n      <td>57</td>\n      <td>14</td>\n      <td>286</td>\n      <td>106</td>\n      <td>117</td>\n    </tr>\n    <tr>\n      <th>Widow</th>\n      <td>5</td>\n      <td>1</td>\n      <td>35</td>\n      <td>12</td>\n      <td>24</td>\n    </tr>\n  </tbody>\n</table>\n</div>",
      "text/plain": "Education       2n Cycle  Basic  Graduation  Master  PhD\nMarital_Status                                          \nDivorced              23      1         119      37   52\nMarried               81     20         433     138  192\nSingle                37     18         252      75   98\nTogether              57     14         286     106  117\nWidow                  5      1          35      12   24"
     },
     "execution_count": null,
     "metadata": {},
     "output_type": "execute_result"
    }
   ],
   "source": [
    "table_contingence"
   ]
  },
  {
   "cell_type": "code",
   "execution_count": null,
   "metadata": {},
   "outputs": [],
   "source": [
    "ca = prince.CA(random_state=0)\n",
    "ca = ca.fit(table_contingence)"
   ]
  },
  {
   "cell_type": "code",
   "execution_count": null,
   "metadata": {},
   "outputs": [
    {
     "data": {
      "text/html": "<div>\n<style scoped>\n    .dataframe tbody tr th:only-of-type {\n        vertical-align: middle;\n    }\n\n    .dataframe tbody tr th {\n        vertical-align: top;\n    }\n\n    .dataframe thead th {\n        text-align: right;\n    }\n</style>\n<table border=\"1\" class=\"dataframe\">\n  <thead>\n    <tr style=\"text-align: right;\">\n      <th></th>\n      <th>eigenvalue</th>\n      <th>% of variance</th>\n      <th>% of variance (cumulative)</th>\n    </tr>\n    <tr>\n      <th>component</th>\n      <th></th>\n      <th></th>\n      <th></th>\n    </tr>\n  </thead>\n  <tbody>\n    <tr>\n      <th>0</th>\n      <td>0.004</td>\n      <td>59.16%</td>\n      <td>59.16%</td>\n    </tr>\n    <tr>\n      <th>1</th>\n      <td>0.002</td>\n      <td>29.81%</td>\n      <td>88.97%</td>\n    </tr>\n  </tbody>\n</table>\n</div>",
      "text/plain": "          eigenvalue % of variance % of variance (cumulative)\ncomponent                                                    \n0              0.004        59.16%                     59.16%\n1              0.002        29.81%                     88.97%"
     },
     "execution_count": null,
     "metadata": {},
     "output_type": "execute_result"
    }
   ],
   "source": [
    "ca.eigenvalues_summary"
   ]
  },
  {
   "cell_type": "code",
   "execution_count": null,
   "metadata": {},
   "outputs": [
    {
     "data": {
      "text/html": "\n<div id=\"altair-viz-b7e9fbdb8da44314a8f436eec6dffbac\"></div>\n<script type=\"text/javascript\">\n  var VEGA_DEBUG = (typeof VEGA_DEBUG == \"undefined\") ? {} : VEGA_DEBUG;\n  (function(spec, embedOpt){\n    let outputDiv = document.currentScript.previousElementSibling;\n    if (outputDiv.id !== \"altair-viz-b7e9fbdb8da44314a8f436eec6dffbac\") {\n      outputDiv = document.getElementById(\"altair-viz-b7e9fbdb8da44314a8f436eec6dffbac\");\n    }\n    const paths = {\n      \"vega\": \"https://cdn.jsdelivr.net/npm//vega@5?noext\",\n      \"vega-lib\": \"https://cdn.jsdelivr.net/npm//vega-lib?noext\",\n      \"vega-lite\": \"https://cdn.jsdelivr.net/npm//vega-lite@4.17.0?noext\",\n      \"vega-embed\": \"https://cdn.jsdelivr.net/npm//vega-embed@6?noext\",\n    };\n\n    function maybeLoadScript(lib, version) {\n      var key = `${lib.replace(\"-\", \"\")}_version`;\n      return (VEGA_DEBUG[key] == version) ?\n        Promise.resolve(paths[lib]) :\n        new Promise(function(resolve, reject) {\n          var s = document.createElement('script');\n          document.getElementsByTagName(\"head\")[0].appendChild(s);\n          s.async = true;\n          s.onload = () => {\n            VEGA_DEBUG[key] = version;\n            return resolve(paths[lib]);\n          };\n          s.onerror = () => reject(`Error loading script: ${paths[lib]}`);\n          s.src = paths[lib];\n        });\n    }\n\n    function showError(err) {\n      outputDiv.innerHTML = `<div class=\"error\" style=\"color:red;\">${err}</div>`;\n      throw err;\n    }\n\n    function displayChart(vegaEmbed) {\n      vegaEmbed(outputDiv, spec, embedOpt)\n        .catch(err => showError(`Javascript Error: ${err.message}<br>This usually means there's a typo in your chart specification. See the javascript console for the full traceback.`));\n    }\n\n    if(typeof define === \"function\" && define.amd) {\n      requirejs.config({paths});\n      require([\"vega-embed\"], displayChart, err => showError(`Error loading script: ${err.message}`));\n    } else {\n      maybeLoadScript(\"vega\", \"5\")\n        .then(() => maybeLoadScript(\"vega-lite\", \"4.17.0\"))\n        .then(() => maybeLoadScript(\"vega-embed\", \"6\"))\n        .catch(showError)\n        .then(() => displayChart(vegaEmbed));\n    }\n  })({\"config\": {\"view\": {\"continuousWidth\": 400, \"continuousHeight\": 300}}, \"data\": {\"name\": \"data-290fe63c92f244fa5bf54f30aca77dad\"}, \"mark\": {\"type\": \"circle\", \"size\": 50}, \"encoding\": {\"color\": {\"field\": \"variable\", \"type\": \"nominal\"}, \"tooltip\": [{\"field\": \"variable\", \"type\": \"nominal\"}, {\"field\": \"value\", \"type\": \"nominal\"}, {\"field\": \"component 0\", \"type\": \"quantitative\"}, {\"field\": \"component 1\", \"type\": \"quantitative\"}], \"x\": {\"axis\": {\"title\": \"component 0 \\u2014 59.16%\"}, \"field\": \"component 0\", \"scale\": {\"zero\": false}, \"type\": \"quantitative\"}, \"y\": {\"axis\": {\"title\": \"component 1 \\u2014 29.81%\"}, \"field\": \"component 1\", \"scale\": {\"zero\": false}, \"type\": \"quantitative\"}}, \"selection\": {\"selector004\": {\"type\": \"interval\", \"bind\": \"scales\", \"encodings\": [\"x\", \"y\"]}}, \"$schema\": \"https://vega.github.io/schema/vega-lite/v4.17.0.json\", \"datasets\": {\"data-290fe63c92f244fa5bf54f30aca77dad\": [{\"component 0\": -0.12025123523868339, \"component 1\": -0.025496837856210142, \"variable\": \"Marital_Status\", \"value\": \"Divorced\"}, {\"component 0\": -0.013621033690355656, \"component 1\": 0.007267352117229666, \"variable\": \"Marital_Status\", \"value\": \"Married\"}, {\"component 0\": 0.1001539448744028, \"component 1\": 0.03300178474572986, \"variable\": \"Marital_Status\", \"value\": \"Single\"}, {\"component 0\": 0.004642449562739869, \"component 1\": -0.0527022834085005, \"variable\": \"Marital_Status\", \"value\": \"Together\"}, {\"component 0\": -0.14415135847091348, \"component 1\": 0.18652911496535615, \"variable\": \"Marital_Status\", \"value\": \"Widow\"}, {\"component 0\": -0.04573617644206991, \"component 1\": -0.0882070636364353, \"variable\": \"Education\", \"value\": \"2n Cycle\"}, {\"component 0\": 0.36937168184158226, \"component 1\": 0.06356664248215416, \"variable\": \"Education\", \"value\": \"Basic\"}, {\"component 0\": 0.017496592202790526, \"component 1\": -0.002162843251713106, \"variable\": \"Education\", \"value\": \"Graduation\"}, {\"component 0\": -0.002246707709304966, \"component 1\": -0.04667011466328421, \"variable\": \"Education\", \"value\": \"Master\"}, {\"component 0\": -0.0611149167553202, \"component 1\": 0.07056156537976394, \"variable\": \"Education\", \"value\": \"PhD\"}]}}, {\"mode\": \"vega-lite\"});\n</script>",
      "text/plain": "alt.Chart(...)"
     },
     "execution_count": null,
     "metadata": {},
     "output_type": "execute_result"
    }
   ],
   "source": [
    "ca.plot(table_contingence)"
   ]
  },
  {
   "cell_type": "code",
   "execution_count": null,
   "metadata": {},
   "outputs": [],
   "source": [
    "# todo: à interpréter"
   ]
  },
  {
   "cell_type": "markdown",
   "metadata": {},
   "source": [
    "## Analyse des Correspondances Multiples (ACM)"
   ]
  },
  {
   "cell_type": "code",
   "execution_count": null,
   "metadata": {},
   "outputs": [],
   "source": [
    "mca = prince.MCA(random_state=0)\n",
    "mca = mca.fit(df[var_categoriques])"
   ]
  },
  {
   "cell_type": "code",
   "execution_count": null,
   "metadata": {},
   "outputs": [
    {
     "data": {
      "text/html": "\n<div id=\"altair-viz-c55cc33c25164a82b9acb344b428108e\"></div>\n<script type=\"text/javascript\">\n  var VEGA_DEBUG = (typeof VEGA_DEBUG == \"undefined\") ? {} : VEGA_DEBUG;\n  (function(spec, embedOpt){\n    let outputDiv = document.currentScript.previousElementSibling;\n    if (outputDiv.id !== \"altair-viz-c55cc33c25164a82b9acb344b428108e\") {\n      outputDiv = document.getElementById(\"altair-viz-c55cc33c25164a82b9acb344b428108e\");\n    }\n    const paths = {\n      \"vega\": \"https://cdn.jsdelivr.net/npm//vega@5?noext\",\n      \"vega-lib\": \"https://cdn.jsdelivr.net/npm//vega-lib?noext\",\n      \"vega-lite\": \"https://cdn.jsdelivr.net/npm//vega-lite@4.17.0?noext\",\n      \"vega-embed\": \"https://cdn.jsdelivr.net/npm//vega-embed@6?noext\",\n    };\n\n    function maybeLoadScript(lib, version) {\n      var key = `${lib.replace(\"-\", \"\")}_version`;\n      return (VEGA_DEBUG[key] == version) ?\n        Promise.resolve(paths[lib]) :\n        new Promise(function(resolve, reject) {\n          var s = document.createElement('script');\n          document.getElementsByTagName(\"head\")[0].appendChild(s);\n          s.async = true;\n          s.onload = () => {\n            VEGA_DEBUG[key] = version;\n            return resolve(paths[lib]);\n          };\n          s.onerror = () => reject(`Error loading script: ${paths[lib]}`);\n          s.src = paths[lib];\n        });\n    }\n\n    function showError(err) {\n      outputDiv.innerHTML = `<div class=\"error\" style=\"color:red;\">${err}</div>`;\n      throw err;\n    }\n\n    function displayChart(vegaEmbed) {\n      vegaEmbed(outputDiv, spec, embedOpt)\n        .catch(err => showError(`Javascript Error: ${err.message}<br>This usually means there's a typo in your chart specification. See the javascript console for the full traceback.`));\n    }\n\n    if(typeof define === \"function\" && define.amd) {\n      requirejs.config({paths});\n      require([\"vega-embed\"], displayChart, err => showError(`Error loading script: ${err.message}`));\n    } else {\n      maybeLoadScript(\"vega\", \"5\")\n        .then(() => maybeLoadScript(\"vega-lite\", \"4.17.0\"))\n        .then(() => maybeLoadScript(\"vega-embed\", \"6\"))\n        .catch(showError)\n        .then(() => displayChart(vegaEmbed));\n    }\n  })({\"config\": {\"view\": {\"continuousWidth\": 400, \"continuousHeight\": 300}}, \"data\": {\"name\": \"data-12710c1faf7d57e798e67ade42e0cfef\"}, \"mark\": {\"type\": \"circle\", \"size\": 50}, \"encoding\": {\"color\": {\"field\": \"variable\", \"type\": \"nominal\"}, \"tooltip\": [{\"field\": \"variable\", \"type\": \"nominal\"}, {\"field\": \"value\", \"type\": \"nominal\"}, {\"field\": \"component 0\", \"type\": \"quantitative\"}, {\"field\": \"component 1\", \"type\": \"quantitative\"}], \"x\": {\"axis\": {\"title\": \"component 0 \\u2014 14.07%\"}, \"field\": \"component 0\", \"scale\": {\"zero\": false}, \"type\": \"quantitative\"}, \"y\": {\"axis\": {\"title\": \"component 1 \\u2014 7.98%\"}, \"field\": \"component 1\", \"scale\": {\"zero\": false}, \"type\": \"quantitative\"}}, \"selection\": {\"selector002\": {\"type\": \"interval\", \"bind\": \"scales\", \"encodings\": [\"x\", \"y\"]}}, \"$schema\": \"https://vega.github.io/schema/vega-lite/v4.17.0.json\", \"datasets\": {\"data-12710c1faf7d57e798e67ade42e0cfef\": [{\"component 0\": 0.215601852556244, \"component 1\": 0.5034913181405802, \"variable\": \"ID\", \"value\": \"5524\"}, {\"component 0\": -0.20017756156624936, \"component 1\": 0.1382496066159847, \"variable\": \"ID\", \"value\": \"2174\"}, {\"component 0\": -0.2326513140188685, \"component 1\": -0.22930079172682624, \"variable\": \"ID\", \"value\": \"4141\"}, {\"component 0\": -0.2326513140188685, \"component 1\": -0.22930079172682624, \"variable\": \"ID\", \"value\": \"6182\"}, {\"component 0\": -0.18274825503768696, \"component 1\": -0.04847027515916284, \"variable\": \"ID\", \"value\": \"5324\"}, {\"component 0\": -0.24155649091062956, \"component 1\": -0.2759313787774795, \"variable\": \"ID\", \"value\": \"7446\"}, {\"component 0\": -0.19656424694227034, \"component 1\": 0.03876420945355481, \"variable\": \"ID\", \"value\": \"965\"}, {\"component 0\": -0.18274825503768696, \"component 1\": -0.04847027515916284, \"variable\": \"ID\", \"value\": \"6177\"}, {\"component 0\": 0.228294771604042, \"component 1\": 0.21163264357084327, \"variable\": \"ID\", \"value\": \"4855\"}, {\"component 0\": 0.03340317390706415, \"component 1\": 0.6750166322268151, \"variable\": \"ID\", \"value\": \"5899\"}, {\"component 0\": -0.22791492653810408, \"component 1\": -0.12416199893223678, \"variable\": \"ID\", \"value\": \"1994\"}, {\"component 0\": -0.386558946692622, \"component 1\": 0.20797953513779313, \"variable\": \"ID\", \"value\": \"387\"}, {\"component 0\": -0.19656424694227034, \"component 1\": 0.03876420945355481, \"variable\": \"ID\", \"value\": \"2125\"}, {\"component 0\": -0.20546942383403138, \"component 1\": -0.00786637759709844, \"variable\": \"ID\", \"value\": \"8180\"}, {\"component 0\": -0.22791492653810408, \"component 1\": -0.12416199893223678, \"variable\": \"ID\", \"value\": \"2569\"}, {\"component 0\": 1.5315572535475979, \"component 1\": 0.43763070176107444, \"variable\": \"ID\", \"value\": \"2114\"}, {\"component 0\": -0.22791492653810408, \"component 1\": -0.12416199893223678, \"variable\": \"ID\", \"value\": \"9736\"}, {\"component 0\": -0.2326513140188685, \"component 1\": -0.22930079172682624, \"variable\": \"ID\", \"value\": \"4939\"}, {\"component 0\": 0.39358302499635645, \"component 1\": -0.20177068932561068, \"variable\": \"ID\", \"value\": \"6565\"}, {\"component 0\": -0.24244520130416544, \"component 1\": 0.1492644989649545, \"variable\": \"ID\", \"value\": \"2278\"}, {\"component 0\": -0.22791492653810408, \"component 1\": -0.12416199893223678, \"variable\": \"ID\", \"value\": \"9360\"}, {\"component 0\": -0.22791492653810408, \"component 1\": -0.12416199893223678, \"variable\": \"ID\", \"value\": \"5376\"}, {\"component 0\": 0.3308556887714565, \"component 1\": -0.5779441877174281, \"variable\": \"ID\", \"value\": \"1993\"}, {\"component 0\": -0.18274825503768696, \"component 1\": -0.04847027515916284, \"variable\": \"ID\", \"value\": \"4047\"}, {\"component 0\": -0.2326513140188685, \"component 1\": -0.22930079172682624, \"variable\": \"ID\", \"value\": \"1409\"}, {\"component 0\": -0.20017756156624936, \"component 1\": 0.1382496066159847, \"variable\": \"ID\", \"value\": \"7892\"}, {\"component 0\": -0.22791492653810408, \"component 1\": -0.12416199893223678, \"variable\": \"ID\", \"value\": \"2404\"}, {\"component 0\": -0.20017756156624936, \"component 1\": 0.1382496066159847, \"variable\": \"ID\", \"value\": \"5255\"}, {\"component 0\": -0.22791492653810408, \"component 1\": -0.12416199893223678, \"variable\": \"ID\", \"value\": \"9422\"}, {\"component 0\": 0.4576373460270282, \"component 1\": -0.15904451196902195, \"variable\": \"ID\", \"value\": \"1966\"}, {\"component 0\": -0.20546942383403138, \"component 1\": -0.00786637759709844, \"variable\": \"ID\", \"value\": \"6864\"}, {\"component 0\": -0.24155649091062956, \"component 1\": -0.2759313787774795, \"variable\": \"ID\", \"value\": \"3033\"}, {\"component 0\": 0.2809526297902749, \"component 1\": -0.7587747042850914, \"variable\": \"ID\", \"value\": \"5710\"}, {\"component 0\": 0.2643818386806402, \"component 1\": 0.4796976447512243, \"variable\": \"ID\", \"value\": \"7373\"}, {\"component 0\": -0.23682010342986515, \"component 1\": -0.17079258598289002, \"variable\": \"ID\", \"value\": \"8755\"}, {\"component 0\": -0.2090827384580104, \"component 1\": 0.09161901956533147, \"variable\": \"ID\", \"value\": \"10738\"}, {\"component 0\": -0.18274825503768696, \"component 1\": -0.04847027515916284, \"variable\": \"ID\", \"value\": \"4339\"}, {\"component 0\": -0.27018256627602016, \"component 1\": -0.11314710658326697, \"variable\": \"ID\", \"value\": \"10755\"}, {\"component 0\": -0.13283937138237503, \"component 1\": -0.1465727525054056, \"variable\": \"ID\", \"value\": \"8595\"}, {\"component 0\": 0.48526965510615566, \"component 1\": 1.3083233449317917, \"variable\": \"ID\", \"value\": \"2968\"}, {\"component 0\": -0.22791492653810408, \"component 1\": -0.12416199893223678, \"variable\": \"ID\", \"value\": \"8601\"}, {\"component 0\": -0.23682010342986515, \"component 1\": -0.17079258598289002, \"variable\": \"ID\", \"value\": \"503\"}, {\"component 0\": -0.2326513140188685, \"component 1\": -0.22930079172682624, \"variable\": \"ID\", \"value\": \"8430\"}, {\"component 0\": -0.15501089006583224, \"component 1\": 0.2139413303890587, \"variable\": \"ID\", \"value\": \"7281\"}, {\"component 0\": -0.23682010342986515, \"component 1\": -0.17079258598289002, \"variable\": \"ID\", \"value\": \"2139\"}, {\"component 0\": -0.20017756156624936, \"component 1\": 0.1382496066159847, \"variable\": \"ID\", \"value\": \"1371\"}, {\"component 0\": 0.14559684784647323, \"component 1\": 0.2520946049413286, \"variable\": \"ID\", \"value\": \"9909\"}, {\"component 0\": -0.2326513140188685, \"component 1\": -0.22930079172682624, \"variable\": \"ID\", \"value\": \"7286\"}, {\"component 0\": -0.20017756156624936, \"component 1\": 0.1382496066159847, \"variable\": \"ID\", \"value\": \"7244\"}, {\"component 0\": -0.18274825503768696, \"component 1\": -0.04847027515916284, \"variable\": \"ID\", \"value\": \"6566\"}, {\"component 0\": -0.13283937138237503, \"component 1\": -0.1465727525054056, \"variable\": \"ID\", \"value\": \"8614\"}, {\"component 0\": -0.23682010342986515, \"component 1\": -0.17079258598289002, \"variable\": \"ID\", \"value\": \"4114\"}, {\"component 0\": -0.20017756156624936, \"component 1\": 0.1382496066159847, \"variable\": \"ID\", \"value\": \"1331\"}, {\"component 0\": 1.07050611203196, \"component 1\": 1.201653517815997, \"variable\": \"ID\", \"value\": \"2225\"}, {\"component 0\": -0.22791492653810408, \"component 1\": -0.12416199893223678, \"variable\": \"ID\", \"value\": \"9381\"}, {\"component 0\": 0.814608524276579, \"component 1\": -0.021263904062742985, \"variable\": \"ID\", \"value\": \"6260\"}, {\"component 0\": 0.21921516718022302, \"component 1\": 0.4040059209781504, \"variable\": \"ID\", \"value\": \"10383\"}, {\"component 0\": -0.20017756156624936, \"component 1\": 0.1382496066159847, \"variable\": \"ID\", \"value\": \"7437\"}, {\"component 0\": -0.20017756156624936, \"component 1\": 0.1382496066159847, \"variable\": \"ID\", \"value\": \"8557\"}, {\"component 0\": -0.18274825503768696, \"component 1\": -0.04847027515916284, \"variable\": \"ID\", \"value\": \"8375\"}, {\"component 0\": 1.3606862205383414, \"component 1\": -0.18318741827819723, \"variable\": \"ID\", \"value\": \"6853\"}, {\"component 0\": -0.2326513140188685, \"component 1\": -0.22930079172682624, \"variable\": \"ID\", \"value\": \"3076\"}, {\"component 0\": -0.20017756156624936, \"component 1\": 0.1382496066159847, \"variable\": \"ID\", \"value\": \"1012\"}, {\"component 0\": -0.0876726998819579, \"component 1\": -0.07088102873233168, \"variable\": \"ID\", \"value\": \"6518\"}, {\"component 0\": -0.2326513140188685, \"component 1\": -0.22930079172682624, \"variable\": \"ID\", \"value\": \"4137\"}, {\"component 0\": 0.18786448758438928, \"component 1\": 0.2410797125923588, \"variable\": \"ID\", \"value\": \"8082\"}, {\"component 0\": -0.2326513140188685, \"component 1\": -0.22930079172682624, \"variable\": \"ID\", \"value\": \"1386\"}, {\"component 0\": 1.024625157670065, \"component 1\": 1.3121538073273968, \"variable\": \"ID\", \"value\": \"9369\"}, {\"component 0\": -0.2326513140188685, \"component 1\": -0.22930079172682624, \"variable\": \"ID\", \"value\": \"4477\"}, {\"component 0\": -0.2326513140188685, \"component 1\": -0.22930079172682624, \"variable\": \"ID\", \"value\": \"1357\"}, {\"component 0\": -0.23682010342986515, \"component 1\": -0.17079258598289002, \"variable\": \"ID\", \"value\": \"1402\"}, {\"component 0\": -0.27018256627602016, \"component 1\": -0.11314710658326697, \"variable\": \"ID\", \"value\": \"10629\"}, {\"component 0\": -0.22791492653810408, \"component 1\": -0.12416199893223678, \"variable\": \"ID\", \"value\": \"6312\"}, {\"component 0\": 0.3308556887714565, \"component 1\": -0.5779441877174281, \"variable\": \"ID\", \"value\": \"8132\"}, {\"component 0\": -0.22791492653810408, \"component 1\": -0.12416199893223678, \"variable\": \"ID\", \"value\": \"1050\"}, {\"component 0\": -0.19656424694227034, \"component 1\": 0.03876420945355481, \"variable\": \"ID\", \"value\": \"5846\"}, {\"component 0\": 0.17895931069262822, \"component 1\": 0.19444912554170554, \"variable\": \"ID\", \"value\": \"1859\"}, {\"component 0\": 0.4364896689817595, \"component 1\": 1.3321170183211475, \"variable\": \"ID\", \"value\": \"7503\"}, {\"component 0\": -0.3793422874440525, \"component 1\": 0.14936486506432406, \"variable\": \"ID\", \"value\": \"10401\"}, {\"component 0\": 0.40401591652914043, \"component 1\": 0.9645666199783366, \"variable\": \"ID\", \"value\": \"1618\"}, {\"component 0\": -0.20017756156624936, \"component 1\": 0.1382496066159847, \"variable\": \"ID\", \"value\": \"3332\"}, {\"component 0\": -0.22791492653810408, \"component 1\": -0.12416199893223678, \"variable\": \"ID\", \"value\": \"2261\"}, {\"component 0\": -0.27018256627602016, \"component 1\": -0.11314710658326697, \"variable\": \"ID\", \"value\": \"5346\"}, {\"component 0\": -0.24155649091062956, \"component 1\": -0.2759313787774795, \"variable\": \"ID\", \"value\": \"4119\"}, {\"component 0\": -0.19656424694227034, \"component 1\": 0.03876420945355481, \"variable\": \"ID\", \"value\": \"535\"}, {\"component 0\": -0.22791492653810408, \"component 1\": -0.12416199893223678, \"variable\": \"ID\", \"value\": \"5268\"}, {\"component 0\": 0.2767838403792783, \"component 1\": -0.7002664985411552, \"variable\": \"ID\", \"value\": \"273\"}, {\"component 0\": 1.359608924791609, \"component 1\": -0.05696069776040558, \"variable\": \"ID\", \"value\": \"4452\"}, {\"component 0\": 0.41247067452661107, \"component 1\": -0.23473623574209587, \"variable\": \"ID\", \"value\": \"8504\"}, {\"component 0\": -0.2326513140188685, \"component 1\": -0.22930079172682624, \"variable\": \"ID\", \"value\": \"771\"}, {\"component 0\": -0.18274825503768696, \"component 1\": -0.04847027515916284, \"variable\": \"ID\", \"value\": \"8996\"}, {\"component 0\": -0.20017756156624936, \"component 1\": 0.1382496066159847, \"variable\": \"ID\", \"value\": \"9235\"}, {\"component 0\": -0.24155649091062956, \"component 1\": -0.2759313787774795, \"variable\": \"ID\", \"value\": \"5798\"}, {\"component 0\": -0.2090827384580104, \"component 1\": 0.09161901956533147, \"variable\": \"ID\", \"value\": \"11178\"}, {\"component 0\": -0.18274825503768696, \"component 1\": -0.04847027515916284, \"variable\": \"ID\", \"value\": \"2230\"}, {\"component 0\": -0.22791492653810408, \"component 1\": -0.12416199893223678, \"variable\": \"ID\", \"value\": \"7516\"}, {\"component 0\": 0.3807645724267684, \"component 1\": -0.6760466650636708, \"variable\": \"ID\", \"value\": \"7247\"}, {\"component 0\": -0.19656424694227034, \"component 1\": 0.03876420945355481, \"variable\": \"ID\", \"value\": \"11100\"}, {\"component 0\": 0.3602205621502013, \"component 1\": -0.14412520992598762, \"variable\": \"ID\", \"value\": \"4646\"}, {\"component 0\": -0.18274825503768696, \"component 1\": -0.04847027515916284, \"variable\": \"ID\", \"value\": \"3037\"}, {\"component 0\": -0.24244520130416544, \"component 1\": 0.1492644989649545, \"variable\": \"ID\", \"value\": \"1473\"}, {\"component 0\": -0.15501089006583224, \"component 1\": 0.2139413303890587, \"variable\": \"ID\", \"value\": \"1016\"}, {\"component 0\": -0.2326513140188685, \"component 1\": -0.22930079172682624, \"variable\": \"ID\", \"value\": \"4518\"}, {\"component 0\": -0.18274825503768696, \"component 1\": -0.04847027515916284, \"variable\": \"ID\", \"value\": \"9370\"}, {\"component 0\": 0.18786448758438928, \"component 1\": 0.2410797125923588, \"variable\": \"ID\", \"value\": \"8908\"}, {\"component 0\": -0.39129533417338636, \"component 1\": 0.10284074234320364, \"variable\": \"ID\", \"value\": \"8373\"}, {\"component 0\": -0.22791492653810408, \"component 1\": -0.12416199893223678, \"variable\": \"ID\", \"value\": \"7533\"}, {\"component 0\": -0.22791492653810408, \"component 1\": -0.12416199893223678, \"variable\": \"ID\", \"value\": \"2683\"}, {\"component 0\": -0.20017756156624936, \"component 1\": 0.1382496066159847, \"variable\": \"ID\", \"value\": \"3629\"}, {\"component 0\": -0.23682010342986515, \"component 1\": -0.17079258598289002, \"variable\": \"ID\", \"value\": \"10991\"}, {\"component 0\": -0.2326513140188685, \"component 1\": -0.22930079172682624, \"variable\": \"ID\", \"value\": \"5077\"}, {\"component 0\": 0.7743724678658046, \"component 1\": 0.04970912935538901, \"variable\": \"ID\", \"value\": \"7431\"}, {\"component 0\": 0.2720474528985139, \"component 1\": -0.8054052913357447, \"variable\": \"ID\", \"value\": \"3267\"}, {\"component 0\": 1.3695913974301026, \"component 1\": -0.13655683122754403, \"variable\": \"ID\", \"value\": \"999\"}, {\"component 0\": -0.18274825503768696, \"component 1\": -0.04847027515916284, \"variable\": \"ID\", \"value\": \"9215\"}, {\"component 0\": -0.20017756156624936, \"component 1\": 0.1382496066159847, \"variable\": \"ID\", \"value\": \"2286\"}, {\"component 0\": 1.0428738029528326, \"component 1\": -0.26571433908481656, \"variable\": \"ID\", \"value\": \"1592\"}, {\"component 0\": -0.27018256627602016, \"component 1\": -0.11314710658326697, \"variable\": \"ID\", \"value\": \"367\"}, {\"component 0\": -0.27491895375678455, \"component 1\": -0.21828589937785645, \"variable\": \"ID\", \"value\": \"5234\"}, {\"component 0\": -0.2326513140188685, \"component 1\": -0.22930079172682624, \"variable\": \"ID\", \"value\": \"9862\"}, {\"component 0\": -0.24155649091062956, \"component 1\": -0.2759313787774795, \"variable\": \"ID\", \"value\": \"9805\"}, {\"component 0\": 0.20669667566448297, \"component 1\": 0.45686073108992703, \"variable\": \"ID\", \"value\": \"6205\"}, {\"component 0\": -0.23682010342986515, \"component 1\": -0.17079258598289002, \"variable\": \"ID\", \"value\": \"8442\"}, {\"component 0\": -0.19656424694227034, \"component 1\": 0.03876420945355481, \"variable\": \"ID\", \"value\": \"7386\"}, {\"component 0\": 1.999994525856324, \"component 1\": -0.16753493457026464, \"variable\": \"ID\", \"value\": \"7215\"}, {\"component 0\": -0.27491895375678455, \"component 1\": -0.21828589937785645, \"variable\": \"ID\", \"value\": \"1491\"}, {\"component 0\": 0.215601852556244, \"component 1\": 0.5034913181405802, \"variable\": \"ID\", \"value\": \"11071\"}, {\"component 0\": -0.23682010342986515, \"component 1\": -0.17079258598289002, \"variable\": \"ID\", \"value\": \"3381\"}, {\"component 0\": -0.18274825503768696, \"component 1\": -0.04847027515916284, \"variable\": \"ID\", \"value\": \"8268\"}, {\"component 0\": -0.18748464251845137, \"component 1\": -0.1536090679537523, \"variable\": \"ID\", \"value\": \"11051\"}, {\"component 0\": -0.22791492653810408, \"component 1\": -0.12416199893223678, \"variable\": \"ID\", \"value\": \"8026\"}, {\"component 0\": -0.25374084757150206, \"component 1\": -0.14081646122720254, \"variable\": \"ID\", \"value\": \"433\"}, {\"component 0\": -0.22791492653810408, \"component 1\": -0.12416199893223678, \"variable\": \"ID\", \"value\": \"9597\"}, {\"component 0\": -0.22791492653810408, \"component 1\": -0.12416199893223678, \"variable\": \"ID\", \"value\": \"1295\"}, {\"component 0\": -0.18274825503768696, \"component 1\": -0.04847027515916284, \"variable\": \"ID\", \"value\": \"5290\"}, {\"component 0\": 0.32611930129069205, \"component 1\": -0.6830829805120175, \"variable\": \"ID\", \"value\": \"1685\"}, {\"component 0\": -0.3552082670967882, \"component 1\": 0.37090574352358474, \"variable\": \"ID\", \"value\": \"5342\"}, {\"component 0\": -0.18274825503768696, \"component 1\": -0.04847027515916284, \"variable\": \"ID\", \"value\": \"9579\"}, {\"component 0\": 0.5233406162362084, \"component 1\": 1.3398969766177988, \"variable\": \"ID\", \"value\": \"7660\"}, {\"component 0\": -0.1513975754418532, \"component 1\": 0.11445593322662873, \"variable\": \"ID\", \"value\": \"1461\"}, {\"component 0\": -0.2090827384580104, \"component 1\": 0.09161901956533147, \"variable\": \"ID\", \"value\": \"821\"}, {\"component 0\": 0.1742229232118638, \"component 1\": 0.08931033274711611, \"variable\": \"ID\", \"value\": \"11084\"}, {\"component 0\": -0.22791492653810408, \"component 1\": -0.12416199893223678, \"variable\": \"ID\", \"value\": \"8690\"}, {\"component 0\": -0.15501089006583224, \"component 1\": 0.2139413303890587, \"variable\": \"ID\", \"value\": \"2937\"}, {\"component 0\": -0.2326513140188685, \"component 1\": -0.22930079172682624, \"variable\": \"ID\", \"value\": \"9701\"}, {\"component 0\": -0.22791492653810408, \"component 1\": -0.12416199893223678, \"variable\": \"ID\", \"value\": \"9949\"}, {\"component 0\": 0.18786448758438928, \"component 1\": 0.2410797125923588, \"variable\": \"ID\", \"value\": \"10837\"}, {\"component 0\": -0.3370746477061365, \"component 1\": 0.13834997271535426, \"variable\": \"ID\", \"value\": \"3120\"}, {\"component 0\": -0.27018256627602016, \"component 1\": -0.11314710658326697, \"variable\": \"ID\", \"value\": \"5885\"}, {\"component 0\": -0.23682010342986515, \"component 1\": -0.17079258598289002, \"variable\": \"ID\", \"value\": \"4050\"}, {\"component 0\": -0.23682010342986515, \"component 1\": -0.17079258598289002, \"variable\": \"ID\", \"value\": \"3830\"}, {\"component 0\": 0.28568901727103935, \"component 1\": -0.6536359114905019, \"variable\": \"ID\", \"value\": \"7987\"}, {\"component 0\": -0.27491895375678455, \"component 1\": -0.21828589937785645, \"variable\": \"ID\", \"value\": \"7798\"}, {\"component 0\": -0.24372252356827084, \"component 1\": -0.08835705079521765, \"variable\": \"ID\", \"value\": \"92\"}, {\"component 0\": -0.18748464251845137, \"component 1\": -0.1536090679537523, \"variable\": \"ID\", \"value\": \"7055\"}, {\"component 0\": 1.3371176449774835, \"component 1\": -0.504107229570355, \"variable\": \"ID\", \"value\": \"10240\"}, {\"component 0\": -0.20017756156624936, \"component 1\": 0.1382496066159847, \"variable\": \"ID\", \"value\": \"3025\"}, {\"component 0\": -0.20017756156624936, \"component 1\": 0.1382496066159847, \"variable\": \"ID\", \"value\": \"9283\"}, {\"component 0\": -0.2326513140188685, \"component 1\": -0.22930079172682624, \"variable\": \"ID\", \"value\": \"9970\"}, {\"component 0\": -0.20017756156624936, \"component 1\": 0.1382496066159847, \"variable\": \"ID\", \"value\": \"2730\"}, {\"component 0\": -0.2090827384580104, \"component 1\": 0.09161901956533147, \"variable\": \"ID\", \"value\": \"2795\"}, {\"component 0\": -0.18274825503768696, \"component 1\": -0.04847027515916284, \"variable\": \"ID\", \"value\": \"9260\"}, {\"component 0\": -0.22791492653810408, \"component 1\": -0.12416199893223678, \"variable\": \"ID\", \"value\": \"8182\"}, {\"component 0\": -0.1513975754418532, \"component 1\": 0.11445593322662873, \"variable\": \"ID\", \"value\": \"10095\"}, {\"component 0\": -0.18274825503768696, \"component 1\": -0.04847027515916284, \"variable\": \"ID\", \"value\": \"8475\"}, {\"component 0\": -0.2326513140188685, \"component 1\": -0.22930079172682624, \"variable\": \"ID\", \"value\": \"4370\"}, {\"component 0\": 0.024323569483245173, \"component 1\": 0.8673899096341221, \"variable\": \"ID\", \"value\": \"10573\"}, {\"component 0\": 0.3170396968668731, \"component 1\": -0.4907097031047104, \"variable\": \"ID\", \"value\": \"3712\"}, {\"component 0\": -0.20017756156624936, \"component 1\": 0.1382496066159847, \"variable\": \"ID\", \"value\": \"6637\"}, {\"component 0\": -0.2326513140188685, \"component 1\": -0.22930079172682624, \"variable\": \"ID\", \"value\": \"3152\"}, {\"component 0\": -0.2326513140188685, \"component 1\": -0.22930079172682624, \"variable\": \"ID\", \"value\": \"5610\"}, {\"component 0\": -0.22791492653810408, \"component 1\": -0.12416199893223678, \"variable\": \"ID\", \"value\": \"6460\"}, {\"component 0\": -0.22791492653810408, \"component 1\": -0.12416199893223678, \"variable\": \"ID\", \"value\": \"1349\"}, {\"component 0\": -0.18748464251845137, \"component 1\": -0.1536090679537523, \"variable\": \"ID\", \"value\": \"1880\"}, {\"component 0\": 0.02071025485926616, \"component 1\": 0.966875306796552, \"variable\": \"ID\", \"value\": \"641\"}, {\"component 0\": -0.18274825503768696, \"component 1\": -0.04847027515916284, \"variable\": \"ID\", \"value\": \"8717\"}, {\"component 0\": 1.3770382313201714, \"component 1\": -0.24368057953555317, \"variable\": \"ID\", \"value\": \"10314\"}, {\"component 0\": -0.18274825503768696, \"component 1\": -0.04847027515916284, \"variable\": \"ID\", \"value\": \"10854\"}, {\"component 0\": -0.2326513140188685, \"component 1\": -0.22930079172682624, \"variable\": \"ID\", \"value\": \"10492\"}, {\"component 0\": 0.3602205621502013, \"component 1\": -0.14412520992598762, \"variable\": \"ID\", \"value\": \"6935\"}, {\"component 0\": -0.18274825503768696, \"component 1\": -0.04847027515916284, \"variable\": \"ID\", \"value\": \"7698\"}, {\"component 0\": -0.27018256627602016, \"component 1\": -0.11314710658326697, \"variable\": \"ID\", \"value\": \"3559\"}, {\"component 0\": -0.23682010342986515, \"component 1\": -0.17079258598289002, \"variable\": \"ID\", \"value\": \"10562\"}, {\"component 0\": -0.23682010342986515, \"component 1\": -0.17079258598289002, \"variable\": \"ID\", \"value\": \"10796\"}, {\"component 0\": -0.386558946692622, \"component 1\": 0.20797953513779313, \"variable\": \"ID\", \"value\": \"2563\"}, {\"component 0\": -0.22791492653810408, \"component 1\": -0.12416199893223678, \"variable\": \"ID\", \"value\": \"3518\"}, {\"component 0\": -0.15501089006583224, \"component 1\": 0.2139413303890587, \"variable\": \"ID\", \"value\": \"5823\"}, {\"component 0\": -0.22791492653810408, \"component 1\": -0.12416199893223678, \"variable\": \"ID\", \"value\": \"3934\"}, {\"component 0\": -0.22791492653810408, \"component 1\": -0.12416199893223678, \"variable\": \"ID\", \"value\": \"6982\"}, {\"component 0\": -0.18274825503768696, \"component 1\": -0.04847027515916284, \"variable\": \"ID\", \"value\": \"6431\"}, {\"component 0\": -0.1704075177478708, \"component 1\": 0.931466442523771, \"variable\": \"ID\", \"value\": \"9733\"}, {\"component 0\": -0.18748464251845137, \"component 1\": -0.1536090679537523, \"variable\": \"ID\", \"value\": \"5602\"}, {\"component 0\": -0.3432552203674544, \"component 1\": 0.4174298662447052, \"variable\": \"ID\", \"value\": \"7829\"}, {\"component 0\": -0.22791492653810408, \"component 1\": -0.12416199893223678, \"variable\": \"ID\", \"value\": \"1324\"}, {\"component 0\": -0.22791492653810408, \"component 1\": -0.12416199893223678, \"variable\": \"ID\", \"value\": \"326\"}, {\"component 0\": -0.22791492653810408, \"component 1\": -0.12416199893223678, \"variable\": \"ID\", \"value\": \"7224\"}, {\"component 0\": -0.23682010342986515, \"component 1\": -0.17079258598289002, \"variable\": \"ID\", \"value\": \"6999\"}, {\"component 0\": 0.41247067452661107, \"component 1\": -0.23473623574209587, \"variable\": \"ID\", \"value\": \"9938\"}, {\"component 0\": -0.22791492653810408, \"component 1\": -0.12416199893223678, \"variable\": \"ID\", \"value\": \"6422\"}, {\"component 0\": 0.48165634048217665, \"component 1\": 1.4078087420942216, \"variable\": \"ID\", \"value\": \"3182\"}, {\"component 0\": 0.3170396968668731, \"component 1\": -0.4907097031047104, \"variable\": \"ID\", \"value\": \"7300\"}, {\"component 0\": -0.20017756156624936, \"component 1\": 0.1382496066159847, \"variable\": \"ID\", \"value\": \"10424\"}, {\"component 0\": -0.19656424694227034, \"component 1\": 0.03876420945355481, \"variable\": \"ID\", \"value\": \"8727\"}, {\"component 0\": 2.012687444904122, \"component 1\": -0.45939360914000177, \"variable\": \"ID\", \"value\": \"2798\"}, {\"component 0\": -0.15501089006583224, \"component 1\": 0.2139413303890587, \"variable\": \"ID\", \"value\": \"1030\"}, {\"component 0\": 0.4275844920899985, \"component 1\": 1.2854864312704943, \"variable\": \"ID\", \"value\": \"624\"}, {\"component 0\": -0.01176349759335295, \"component 1\": 0.5993249084537411, \"variable\": \"ID\", \"value\": \"5176\"}, {\"component 0\": -0.20546942383403138, \"component 1\": -0.00786637759709844, \"variable\": \"ID\", \"value\": \"5552\"}, {\"component 0\": -0.22791492653810408, \"component 1\": -0.12416199893223678, \"variable\": \"ID\", \"value\": \"868\"}, {\"component 0\": 0.4401029836057385, \"component 1\": 1.2326316211587176, \"variable\": \"ID\", \"value\": \"380\"}, {\"component 0\": -0.2326513140188685, \"component 1\": -0.22930079172682624, \"variable\": \"ID\", \"value\": \"2677\"}, {\"component 0\": -0.2326513140188685, \"component 1\": -0.22930079172682624, \"variable\": \"ID\", \"value\": \"6521\"}, {\"component 0\": -0.18274825503768696, \"component 1\": -0.04847027515916284, \"variable\": \"ID\", \"value\": \"6927\"}, {\"component 0\": -0.24155649091062956, \"component 1\": -0.2759313787774795, \"variable\": \"ID\", \"value\": \"2877\"}, {\"component 0\": -0.22791492653810408, \"component 1\": -0.12416199893223678, \"variable\": \"ID\", \"value\": \"0\"}, {\"component 0\": -0.22791492653810408, \"component 1\": -0.12416199893223678, \"variable\": \"ID\", \"value\": \"1584\"}, {\"component 0\": -0.24244520130416544, \"component 1\": 0.1492644989649545, \"variable\": \"ID\", \"value\": \"7264\"}, {\"component 0\": 0.9171694414439935, \"component 1\": -0.8108407353510143, \"variable\": \"ID\", \"value\": \"6274\"}, {\"component 0\": -0.14174454827413607, \"component 1\": -0.19320333955605887, \"variable\": \"ID\", \"value\": \"1377\"}, {\"component 0\": -0.2326513140188685, \"component 1\": -0.22930079172682624, \"variable\": \"ID\", \"value\": \"454\"}, {\"component 0\": -0.27491895375678455, \"component 1\": -0.21828589937785645, \"variable\": \"ID\", \"value\": \"1755\"}, {\"component 0\": -0.22791492653810408, \"component 1\": -0.12416199893223678, \"variable\": \"ID\", \"value\": \"2075\"}, {\"component 0\": -0.18748464251845137, \"component 1\": -0.1536090679537523, \"variable\": \"ID\", \"value\": \"4785\"}, {\"component 0\": -0.18274825503768696, \"component 1\": -0.04847027515916284, \"variable\": \"ID\", \"value\": \"9076\"}, {\"component 0\": -0.19656424694227034, \"component 1\": 0.03876420945355481, \"variable\": \"ID\", \"value\": \"7079\"}, {\"component 0\": -0.2326513140188685, \"component 1\": -0.22930079172682624, \"variable\": \"ID\", \"value\": \"4653\"}, {\"component 0\": -0.2326513140188685, \"component 1\": -0.22930079172682624, \"variable\": \"ID\", \"value\": \"7375\"}, {\"component 0\": -0.19656424694227034, \"component 1\": 0.03876420945355481, \"variable\": \"ID\", \"value\": \"709\"}, {\"component 0\": -0.18274825503768696, \"component 1\": -0.04847027515916284, \"variable\": \"ID\", \"value\": \"460\"}, {\"component 0\": -0.18748464251845137, \"component 1\": -0.1536090679537523, \"variable\": \"ID\", \"value\": \"3726\"}, {\"component 0\": 0.215601852556244, \"component 1\": 0.5034913181405802, \"variable\": \"ID\", \"value\": \"6798\"}, {\"component 0\": 0.40155371438452875, \"component 1\": -0.06079513500733448, \"variable\": \"ID\", \"value\": \"5341\"}, {\"component 0\": -0.2326513140188685, \"component 1\": -0.22930079172682624, \"variable\": \"ID\", \"value\": \"1606\"}, {\"component 0\": -0.20017756156624936, \"component 1\": 0.1382496066159847, \"variable\": \"ID\", \"value\": \"9617\"}, {\"component 0\": -0.18274825503768696, \"component 1\": -0.04847027515916284, \"variable\": \"ID\", \"value\": \"3233\"}, {\"component 0\": -0.27018256627602016, \"component 1\": -0.11314710658326697, \"variable\": \"ID\", \"value\": \"89\"}, {\"component 0\": -0.24155649091062956, \"component 1\": -0.2759313787774795, \"variable\": \"ID\", \"value\": \"2936\"}, {\"component 0\": -0.15501089006583224, \"component 1\": 0.2139413303890587, \"variable\": \"ID\", \"value\": \"9449\"}, {\"component 0\": -0.20017756156624936, \"component 1\": 0.1382496066159847, \"variable\": \"ID\", \"value\": \"7297\"}, {\"component 0\": -0.24244520130416544, \"component 1\": 0.1492644989649545, \"variable\": \"ID\", \"value\": \"11004\"}, {\"component 0\": 0.3807645724267684, \"component 1\": -0.6760466650636708, \"variable\": \"ID\", \"value\": \"313\"}, {\"component 0\": -0.2326513140188685, \"component 1\": -0.22930079172682624, \"variable\": \"ID\", \"value\": \"9940\"}, {\"component 0\": -0.20017756156624936, \"component 1\": 0.1382496066159847, \"variable\": \"ID\", \"value\": \"10735\"}, {\"component 0\": 0.8182676160106109, \"component 1\": 0.2101016092496381, \"variable\": \"ID\", \"value\": \"9529\"}, {\"component 0\": -0.22791492653810408, \"component 1\": -0.12416199893223678, \"variable\": \"ID\", \"value\": \"6439\"}, {\"component 0\": -0.18274825503768696, \"component 1\": -0.04847027515916284, \"variable\": \"ID\", \"value\": \"7411\"}, {\"component 0\": 1.9722571608844695, \"component 1\": -0.42994654011848626, \"variable\": \"ID\", \"value\": \"2176\"}, {\"component 0\": -0.22791492653810408, \"component 1\": -0.12416199893223678, \"variable\": \"ID\", \"value\": \"9265\"}, {\"component 0\": -0.18274825503768696, \"component 1\": -0.04847027515916284, \"variable\": \"ID\", \"value\": \"8867\"}, {\"component 0\": -0.24155649091062956, \"component 1\": -0.2759313787774795, \"variable\": \"ID\", \"value\": \"8932\"}, {\"component 0\": -0.2090827384580104, \"component 1\": 0.09161901956533147, \"variable\": \"ID\", \"value\": \"10236\"}, {\"component 0\": -0.20017756156624936, \"component 1\": 0.1382496066159847, \"variable\": \"ID\", \"value\": \"6340\"}, {\"component 0\": 3.053035778416121, \"component 1\": -0.8151069746125446, \"variable\": \"ID\", \"value\": \"10089\"}, {\"component 0\": -0.27491895375678455, \"component 1\": -0.21828589937785645, \"variable\": \"ID\", \"value\": \"2227\"}, {\"component 0\": -0.2326513140188685, \"component 1\": -0.22930079172682624, \"variable\": \"ID\", \"value\": \"10992\"}, {\"component 0\": -0.15501089006583224, \"component 1\": 0.2139413303890587, \"variable\": \"ID\", \"value\": \"5304\"}, {\"component 0\": 0.32611930129069205, \"component 1\": -0.6830829805120175, \"variable\": \"ID\", \"value\": \"309\"}, {\"component 0\": -0.20017756156624936, \"component 1\": 0.1382496066159847, \"variable\": \"ID\", \"value\": \"3406\"}, {\"component 0\": -0.20017756156624936, \"component 1\": 0.1382496066159847, \"variable\": \"ID\", \"value\": \"2661\"}, {\"component 0\": -0.15501089006583224, \"component 1\": 0.2139413303890587, \"variable\": \"ID\", \"value\": \"3153\"}, {\"component 0\": 0.4401029836057385, \"component 1\": 1.2326316211587176, \"variable\": \"ID\", \"value\": \"10264\"}, {\"component 0\": -0.1513975754418532, \"component 1\": 0.11445593322662873, \"variable\": \"ID\", \"value\": \"1184\"}, {\"component 0\": -0.23682010342986515, \"component 1\": -0.17079258598289002, \"variable\": \"ID\", \"value\": \"4200\"}, {\"component 0\": -0.18274825503768696, \"component 1\": -0.04847027515916284, \"variable\": \"ID\", \"value\": \"9396\"}, {\"component 0\": 0.1742229232118638, \"component 1\": 0.08931033274711611, \"variable\": \"ID\", \"value\": \"2387\"}, {\"component 0\": -0.23682010342986515, \"component 1\": -0.17079258598289002, \"variable\": \"ID\", \"value\": \"6690\"}, {\"component 0\": -0.007027110112588541, \"component 1\": 0.7044637012483306, \"variable\": \"ID\", \"value\": \"1225\"}, {\"component 0\": 0.45391897551032195, \"component 1\": 1.145397136546, \"variable\": \"ID\", \"value\": \"9703\"}, {\"component 0\": -0.22791492653810408, \"component 1\": -0.12416199893223678, \"variable\": \"ID\", \"value\": \"291\"}, {\"component 0\": -0.2326513140188685, \"component 1\": -0.22930079172682624, \"variable\": \"ID\", \"value\": \"4557\"}, {\"component 0\": 0.215601852556244, \"component 1\": 0.5034913181405802, \"variable\": \"ID\", \"value\": \"2379\"}, {\"component 0\": -0.3135060721452784, \"component 1\": 0.45926978400751195, \"variable\": \"ID\", \"value\": \"5726\"}, {\"component 0\": -0.18748464251845137, \"component 1\": -0.1536090679537523, \"variable\": \"ID\", \"value\": \"3066\"}, {\"component 0\": -0.22791492653810408, \"component 1\": -0.12416199893223678, \"variable\": \"ID\", \"value\": \"6336\"}, {\"component 0\": -0.19656424694227034, \"component 1\": 0.03876420945355481, \"variable\": \"ID\", \"value\": \"10967\"}, {\"component 0\": -0.18748464251845137, \"component 1\": -0.1536090679537523, \"variable\": \"ID\", \"value\": \"2304\"}, {\"component 0\": 0.215601852556244, \"component 1\": 0.5034913181405802, \"variable\": \"ID\", \"value\": \"3445\"}, {\"component 0\": -0.24155649091062956, \"component 1\": -0.2759313787774795, \"variable\": \"ID\", \"value\": \"7828\"}, {\"component 0\": 0.8911716524828828, \"component 1\": 0.5482049385709336, \"variable\": \"ID\", \"value\": \"3762\"}, {\"component 0\": -0.20546942383403138, \"component 1\": -0.00786637759709844, \"variable\": \"ID\", \"value\": \"4391\"}, {\"component 0\": -0.386558946692622, \"component 1\": 0.20797953513779313, \"variable\": \"ID\", \"value\": \"4669\"}, {\"component 0\": -0.2326513140188685, \"component 1\": -0.22930079172682624, \"variable\": \"ID\", \"value\": \"10144\"}, {\"component 0\": -0.2326513140188685, \"component 1\": -0.22930079172682624, \"variable\": \"ID\", \"value\": \"8652\"}, {\"component 0\": -0.18748464251845137, \"component 1\": -0.1536090679537523, \"variable\": \"ID\", \"value\": \"1672\"}, {\"component 0\": -0.23682010342986515, \"component 1\": -0.17079258598289002, \"variable\": \"ID\", \"value\": \"8962\"}, {\"component 0\": -0.22791492653810408, \"component 1\": -0.12416199893223678, \"variable\": \"ID\", \"value\": \"9974\"}, {\"component 0\": -0.2326513140188685, \"component 1\": -0.22930079172682624, \"variable\": \"ID\", \"value\": \"10983\"}, {\"component 0\": -0.24155649091062956, \"component 1\": -0.2759313787774795, \"variable\": \"ID\", \"value\": \"8148\"}, {\"component 0\": -0.13283937138237503, \"component 1\": -0.1465727525054056, \"variable\": \"ID\", \"value\": \"10102\"}, {\"component 0\": -0.20546942383403138, \"component 1\": -0.00786637759709844, \"variable\": \"ID\", \"value\": \"4697\"}, {\"component 0\": -0.054031137331269005, \"component 1\": 0.6103398008027109, \"variable\": \"ID\", \"value\": \"9262\"}, {\"component 0\": -0.2326513140188685, \"component 1\": -0.22930079172682624, \"variable\": \"ID\", \"value\": \"7254\"}, {\"component 0\": 0.41247067452661107, \"component 1\": -0.23473623574209587, \"variable\": \"ID\", \"value\": \"4543\"}, {\"component 0\": -0.2326513140188685, \"component 1\": -0.22930079172682624, \"variable\": \"ID\", \"value\": \"4927\"}, {\"component 0\": -0.2326513140188685, \"component 1\": -0.22930079172682624, \"variable\": \"ID\", \"value\": \"10451\"}, {\"component 0\": 1.321475390834332, \"component 1\": -1.3534919342155949, \"variable\": \"ID\", \"value\": \"2926\"}, {\"component 0\": -0.2388318866801864, \"component 1\": 0.04977910180252461, \"variable\": \"ID\", \"value\": \"2874\"}, {\"component 0\": -0.24155649091062956, \"component 1\": -0.2759313787774795, \"variable\": \"ID\", \"value\": \"9738\"}, {\"component 0\": -0.20017756156624936, \"component 1\": 0.1382496066159847, \"variable\": \"ID\", \"value\": \"7119\"}, {\"component 0\": 0.36220636836729025, \"component 1\": -0.4150179793316365, \"variable\": \"ID\", \"value\": \"3924\"}, {\"component 0\": -0.19656424694227034, \"component 1\": 0.03876420945355481, \"variable\": \"ID\", \"value\": \"5827\"}, {\"component 0\": -0.27491895375678455, \"component 1\": -0.21828589937785645, \"variable\": \"ID\", \"value\": \"5596\"}, {\"component 0\": -0.18274825503768696, \"component 1\": -0.04847027515916284, \"variable\": \"ID\", \"value\": \"10812\"}, {\"component 0\": -0.20017756156624936, \"component 1\": 0.1382496066159847, \"variable\": \"ID\", \"value\": \"1717\"}, {\"component 0\": -0.2326513140188685, \"component 1\": -0.22930079172682624, \"variable\": \"ID\", \"value\": \"9491\"}, {\"component 0\": 0.39358302499635645, \"component 1\": -0.20177068932561068, \"variable\": \"ID\", \"value\": \"9274\"}, {\"component 0\": 0.28294004274011836, \"component 1\": 0.21866895901918995, \"variable\": \"ID\", \"value\": \"6609\"}, {\"component 0\": 0.44020803949846576, \"component 1\": 0.027675369806125602, \"variable\": \"ID\", \"value\": \"6963\"}, {\"component 0\": 0.2767838403792783, \"component 1\": -0.7002664985411552, \"variable\": \"ID\", \"value\": \"4440\"}, {\"component 0\": -0.24155649091062956, \"component 1\": -0.2759313787774795, \"variable\": \"ID\", \"value\": \"1379\"}, {\"component 0\": -0.19656424694227034, \"component 1\": 0.03876420945355481, \"variable\": \"ID\", \"value\": \"10032\"}, {\"component 0\": -0.22791492653810408, \"component 1\": -0.12416199893223678, \"variable\": \"ID\", \"value\": \"2826\"}, {\"component 0\": 0.9160921456972609, \"component 1\": -0.6846140148332227, \"variable\": \"ID\", \"value\": \"2437\"}, {\"component 0\": -0.2090827384580104, \"component 1\": 0.09161901956533147, \"variable\": \"ID\", \"value\": \"6320\"}, {\"component 0\": -0.22791492653810408, \"component 1\": -0.12416199893223678, \"variable\": \"ID\", \"value\": \"3050\"}, {\"component 0\": -0.24155649091062956, \"component 1\": -0.2759313787774795, \"variable\": \"ID\", \"value\": \"231\"}, {\"component 0\": -0.22791492653810408, \"component 1\": -0.12416199893223678, \"variable\": \"ID\", \"value\": \"2392\"}, {\"component 0\": -0.20017756156624936, \"component 1\": 0.1382496066159847, \"variable\": \"ID\", \"value\": \"9478\"}, {\"component 0\": -0.22791492653810408, \"component 1\": -0.12416199893223678, \"variable\": \"ID\", \"value\": \"113\"}, {\"component 0\": 0.9438295106691157, \"component 1\": -0.42220240928500113, \"variable\": \"ID\", \"value\": \"2863\"}, {\"component 0\": -0.22791492653810408, \"component 1\": -0.12416199893223678, \"variable\": \"ID\", \"value\": \"1802\"}, {\"component 0\": -0.22791492653810408, \"component 1\": -0.12416199893223678, \"variable\": \"ID\", \"value\": \"520\"}, {\"component 0\": -0.1513975754418532, \"component 1\": 0.11445593322662873, \"variable\": \"ID\", \"value\": \"8275\"}, {\"component 0\": -0.1513975754418532, \"component 1\": 0.11445593322662873, \"variable\": \"ID\", \"value\": \"9750\"}, {\"component 0\": -0.20017756156624936, \"component 1\": 0.1382496066159847, \"variable\": \"ID\", \"value\": \"2607\"}, {\"component 0\": -0.22791492653810408, \"component 1\": -0.12416199893223678, \"variable\": \"ID\", \"value\": \"7214\"}, {\"component 0\": -0.1513975754418532, \"component 1\": 0.11445593322662873, \"variable\": \"ID\", \"value\": \"5835\"}, {\"component 0\": -0.22791492653810408, \"component 1\": -0.12416199893223678, \"variable\": \"ID\", \"value\": \"3896\"}, {\"component 0\": -0.18274825503768696, \"component 1\": -0.04847027515916284, \"variable\": \"ID\", \"value\": \"10350\"}, {\"component 0\": -0.15501089006583224, \"component 1\": 0.2139413303890587, \"variable\": \"ID\", \"value\": \"7786\"}, {\"component 0\": -0.20017756156624936, \"component 1\": 0.1382496066159847, \"variable\": \"ID\", \"value\": \"2861\"}, {\"component 0\": -0.15501089006583224, \"component 1\": 0.2139413303890587, \"variable\": \"ID\", \"value\": \"663\"}, {\"component 0\": 0.2330311590848064, \"component 1\": 0.31677143636543276, \"variable\": \"ID\", \"value\": \"10675\"}, {\"component 0\": 0.3998471271181438, \"component 1\": 1.0230748257222728, \"variable\": \"ID\", \"value\": \"2521\"}, {\"component 0\": -0.2326513140188685, \"component 1\": -0.22930079172682624, \"variable\": \"ID\", \"value\": \"9592\"}, {\"component 0\": -0.19656424694227034, \"component 1\": 0.03876420945355481, \"variable\": \"ID\", \"value\": \"10151\"}, {\"component 0\": 2.0036078404803033, \"component 1\": -0.2670203317326946, \"variable\": \"ID\", \"value\": \"7381\"}, {\"component 0\": -0.22791492653810408, \"component 1\": -0.12416199893223678, \"variable\": \"ID\", \"value\": \"4099\"}, {\"component 0\": 0.8235137011683401, \"component 1\": 0.02536668298791022, \"variable\": \"ID\", \"value\": \"9560\"}, {\"component 0\": 0.4529009585462638, \"component 1\": -0.2641833047636114, \"variable\": \"ID\", \"value\": \"1150\"}, {\"component 0\": -0.20017756156624936, \"component 1\": 0.1382496066159847, \"variable\": \"ID\", \"value\": \"10172\"}, {\"component 0\": -0.19656424694227034, \"component 1\": 0.03876420945355481, \"variable\": \"ID\", \"value\": \"11191\"}, {\"component 0\": 1.3802836267072742, \"component 1\": -1.1260308305972782, \"variable\": \"ID\", \"value\": \"9707\"}, {\"component 0\": -0.18748464251845137, \"component 1\": -0.1536090679537523, \"variable\": \"ID\", \"value\": \"6245\"}, {\"component 0\": 0.24537189637462256, \"component 1\": 1.2967081540483665, \"variable\": \"ID\", \"value\": \"8234\"}, {\"component 0\": -0.19656424694227034, \"component 1\": 0.03876420945355481, \"variable\": \"ID\", \"value\": \"1411\"}, {\"component 0\": -0.22791492653810408, \"component 1\": -0.12416199893223678, \"variable\": \"ID\", \"value\": \"8553\"}, {\"component 0\": 0.21921516718022302, \"component 1\": 0.4040059209781504, \"variable\": \"ID\", \"value\": \"1826\"}, {\"component 0\": -0.13283937138237503, \"component 1\": -0.1465727525054056, \"variable\": \"ID\", \"value\": \"8842\"}, {\"component 0\": -0.015932287004349583, \"component 1\": 0.6578331141976773, \"variable\": \"ID\", \"value\": \"11030\"}, {\"component 0\": -0.22791492653810408, \"component 1\": -0.12416199893223678, \"variable\": \"ID\", \"value\": \"2579\"}, {\"component 0\": 0.6333584909521266, \"component 1\": 0.5938894644384715, \"variable\": \"ID\", \"value\": \"175\"}, {\"component 0\": 0.2607685240566611, \"component 1\": 0.5791830419136542, \"variable\": \"ID\", \"value\": \"9185\"}, {\"component 0\": -0.22791492653810408, \"component 1\": -0.12416199893223678, \"variable\": \"ID\", \"value\": \"11056\"}, {\"component 0\": -0.15501089006583224, \"component 1\": 0.2139413303890587, \"variable\": \"ID\", \"value\": \"9365\"}, {\"component 0\": -0.30460089525351736, \"component 1\": 0.5059003710581652, \"variable\": \"ID\", \"value\": \"6201\"}, {\"component 0\": 0.28568901727103935, \"component 1\": -0.6536359114905019, \"variable\": \"ID\", \"value\": \"2061\"}, {\"component 0\": -0.18274825503768696, \"component 1\": -0.04847027515916284, \"variable\": \"ID\", \"value\": \"6184\"}, {\"component 0\": -0.3412434371171331, \"component 1\": 0.19685817845929052, \"variable\": \"ID\", \"value\": \"6142\"}, {\"component 0\": -0.18748464251845137, \"component 1\": -0.1536090679537523, \"variable\": \"ID\", \"value\": \"4107\"}, {\"component 0\": 0.28568901727103935, \"component 1\": -0.6536359114905019, \"variable\": \"ID\", \"value\": \"7274\"}, {\"component 0\": -0.0876726998819579, \"component 1\": -0.07088102873233168, \"variable\": \"ID\", \"value\": \"9336\"}, {\"component 0\": -0.22791492653810408, \"component 1\": -0.12416199893223678, \"variable\": \"ID\", \"value\": \"2958\"}, {\"component 0\": -0.18274825503768696, \"component 1\": -0.04847027515916284, \"variable\": \"ID\", \"value\": \"933\"}, {\"component 0\": -0.22791492653810408, \"component 1\": -0.12416199893223678, \"variable\": \"ID\", \"value\": \"5837\"}, {\"component 0\": -0.20017756156624936, \"component 1\": 0.1382496066159847, \"variable\": \"ID\", \"value\": \"10704\"}, {\"component 0\": -0.22791492653810408, \"component 1\": -0.12416199893223678, \"variable\": \"ID\", \"value\": \"5125\"}, {\"component 0\": -0.19656424694227034, \"component 1\": 0.03876420945355481, \"variable\": \"ID\", \"value\": \"4432\"}, {\"component 0\": -0.2326513140188685, \"component 1\": -0.22930079172682624, \"variable\": \"ID\", \"value\": \"5955\"}, {\"component 0\": -0.15501089006583224, \"component 1\": 0.2139413303890587, \"variable\": \"ID\", \"value\": \"2928\"}, {\"component 0\": -0.27018256627602016, \"component 1\": -0.11314710658326697, \"variable\": \"ID\", \"value\": \"5680\"}, {\"component 0\": -0.22791492653810408, \"component 1\": -0.12416199893223678, \"variable\": \"ID\", \"value\": \"10313\"}, {\"component 0\": 0.011805077967505106, \"component 1\": 0.9202447197458988, \"variable\": \"ID\", \"value\": \"2557\"}, {\"component 0\": 0.31342638224289404, \"component 1\": -0.3912243059422805, \"variable\": \"ID\", \"value\": \"1245\"}, {\"component 0\": 0.2607685240566611, \"component 1\": 0.5791830419136542, \"variable\": \"ID\", \"value\": \"1519\"}, {\"component 0\": -0.2090827384580104, \"component 1\": 0.09161901956533147, \"variable\": \"ID\", \"value\": \"10703\"}, {\"component 0\": 0.4364896689817595, \"component 1\": 1.3321170183211475, \"variable\": \"ID\", \"value\": \"1726\"}, {\"component 0\": -0.20017756156624936, \"component 1\": 0.1382496066159847, \"variable\": \"ID\", \"value\": \"4459\"}, {\"component 0\": -0.18748464251845137, \"component 1\": -0.1536090679537523, \"variable\": \"ID\", \"value\": \"1729\"}, {\"component 0\": -0.20017756156624936, \"component 1\": 0.1382496066159847, \"variable\": \"ID\", \"value\": \"1517\"}, {\"component 0\": -0.18274825503768696, \"component 1\": -0.04847027515916284, \"variable\": \"ID\", \"value\": \"2098\"}, {\"component 0\": -0.22791492653810408, \"component 1\": -0.12416199893223678, \"variable\": \"ID\", \"value\": \"9543\"}, {\"component 0\": -0.13283937138237503, \"component 1\": -0.1465727525054056, \"variable\": \"ID\", \"value\": \"6878\"}, {\"component 0\": -0.27018256627602016, \"component 1\": -0.11314710658326697, \"variable\": \"ID\", \"value\": \"3310\"}, {\"component 0\": -0.2090827384580104, \"component 1\": 0.09161901956533147, \"variable\": \"ID\", \"value\": \"2724\"}, {\"component 0\": -0.20017756156624936, \"component 1\": 0.1382496066159847, \"variable\": \"ID\", \"value\": \"948\"}, {\"component 0\": 0.6878268670210073, \"component 1\": -0.4401635798111491, \"variable\": \"ID\", \"value\": \"6720\"}, {\"component 0\": -0.2326513140188685, \"component 1\": -0.22930079172682624, \"variable\": \"ID\", \"value\": \"6202\"}, {\"component 0\": -0.2326513140188685, \"component 1\": -0.22930079172682624, \"variable\": \"ID\", \"value\": \"2066\"}, {\"component 0\": -0.1513975754418532, \"component 1\": 0.11445593322662873, \"variable\": \"ID\", \"value\": \"9799\"}, {\"component 0\": 0.4077342870458467, \"component 1\": -0.33987502853668533, \"variable\": \"ID\", \"value\": \"8318\"}, {\"component 0\": -0.24155649091062956, \"component 1\": -0.2759313787774795, \"variable\": \"ID\", \"value\": \"5642\"}, {\"component 0\": -0.20017756156624936, \"component 1\": 0.1382496066159847, \"variable\": \"ID\", \"value\": \"2669\"}, {\"component 0\": -0.18274825503768696, \"component 1\": -0.04847027515916284, \"variable\": \"ID\", \"value\": \"455\"}, {\"component 0\": -0.23682010342986515, \"component 1\": -0.17079258598289002, \"variable\": \"ID\", \"value\": \"7683\"}, {\"component 0\": -0.18748464251845137, \"component 1\": -0.1536090679537523, \"variable\": \"ID\", \"value\": \"3428\"}, {\"component 0\": -0.22791492653810408, \"component 1\": -0.12416199893223678, \"variable\": \"ID\", \"value\": \"7414\"}, {\"component 0\": 0.18312810010362487, \"component 1\": 0.13594091979776934, \"variable\": \"ID\", \"value\": \"6354\"}, {\"component 0\": -0.20017756156624936, \"component 1\": 0.1382496066159847, \"variable\": \"ID\", \"value\": \"798\"}, {\"component 0\": 0.14086046036570882, \"component 1\": 0.14695581214673914, \"variable\": \"ID\", \"value\": \"8213\"}, {\"component 0\": -0.2388318866801864, \"component 1\": 0.04977910180252461, \"variable\": \"ID\", \"value\": \"2488\"}, {\"component 0\": -0.2326513140188685, \"component 1\": -0.22930079172682624, \"variable\": \"ID\", \"value\": \"9999\"}, {\"component 0\": -0.20017756156624936, \"component 1\": 0.1382496066159847, \"variable\": \"ID\", \"value\": \"7617\"}, {\"component 0\": -0.2326513140188685, \"component 1\": -0.22930079172682624, \"variable\": \"ID\", \"value\": \"615\"}, {\"component 0\": 0.7743724678658046, \"component 1\": 0.04970912935538901, \"variable\": \"ID\", \"value\": \"2552\"}, {\"component 0\": -0.22791492653810408, \"component 1\": -0.12416199893223678, \"variable\": \"ID\", \"value\": \"194\"}, {\"component 0\": 0.2607685240566611, \"component 1\": 0.5791830419136542, \"variable\": \"ID\", \"value\": \"3645\"}, {\"component 0\": -0.1513975754418532, \"component 1\": 0.11445593322662873, \"variable\": \"ID\", \"value\": \"8890\"}, {\"component 0\": -0.18748464251845137, \"component 1\": -0.1536090679537523, \"variable\": \"ID\", \"value\": \"5049\"}, {\"component 0\": -0.22791492653810408, \"component 1\": -0.12416199893223678, \"variable\": \"ID\", \"value\": \"9973\"}, {\"component 0\": 0.17333421281832792, \"component 1\": 0.51450621048955, \"variable\": \"ID\", \"value\": \"7301\"}, {\"component 0\": -0.22791492653810408, \"component 1\": -0.12416199893223678, \"variable\": \"ID\", \"value\": \"10882\"}, {\"component 0\": 0.4476548733885346, \"component 1\": -0.07944837850188351, \"variable\": \"ID\", \"value\": \"7030\"}, {\"component 0\": -0.20017756156624936, \"component 1\": 0.1382496066159847, \"variable\": \"ID\", \"value\": \"7422\"}, {\"component 0\": -0.2326513140188685, \"component 1\": -0.22930079172682624, \"variable\": \"ID\", \"value\": \"3523\"}, {\"component 0\": -0.18274825503768696, \"component 1\": -0.04847027515916284, \"variable\": \"ID\", \"value\": \"7106\"}, {\"component 0\": -0.054031137331269005, \"component 1\": 0.6103398008027109, \"variable\": \"ID\", \"value\": \"6504\"}, {\"component 0\": 2.6011692972170297, \"component 1\": -1.4484136873175213, \"variable\": \"ID\", \"value\": \"5067\"}, {\"component 0\": 1.4863905820471806, \"component 1\": 0.36193897798800057, \"variable\": \"ID\", \"value\": \"4216\"}, {\"component 0\": -0.23682010342986515, \"component 1\": -0.17079258598289002, \"variable\": \"ID\", \"value\": \"8581\"}, {\"component 0\": -0.18274825503768696, \"component 1\": -0.04847027515916284, \"variable\": \"ID\", \"value\": \"5929\"}, {\"component 0\": -0.22791492653810408, \"component 1\": -0.12416199893223678, \"variable\": \"ID\", \"value\": \"3129\"}, {\"component 0\": -0.24155649091062956, \"component 1\": -0.2759313787774795, \"variable\": \"ID\", \"value\": \"6528\"}, {\"component 0\": 1.3329488555664868, \"component 1\": -0.44559902382641875, \"variable\": \"ID\", \"value\": \"1361\"}, {\"component 0\": 0.4576373460270282, \"component 1\": -0.15904451196902195, \"variable\": \"ID\", \"value\": \"6932\"}, {\"component 0\": -0.22791492653810408, \"component 1\": -0.12416199893223678, \"variable\": \"ID\", \"value\": \"7284\"}, {\"component 0\": 1.5564777467619761, \"component 1\": -0.7951882516430818, \"variable\": \"ID\", \"value\": \"1340\"}, {\"component 0\": 0.9160921456972609, \"component 1\": -0.6846140148332227, \"variable\": \"ID\", \"value\": \"8746\"}, {\"component 0\": -0.27491895375678455, \"component 1\": -0.21828589937785645, \"variable\": \"ID\", \"value\": \"5987\"}, {\"component 0\": -0.22791492653810408, \"component 1\": -0.12416199893223678, \"variable\": \"ID\", \"value\": \"3767\"}, {\"component 0\": 3.094589135292559, \"component 1\": -0.6399298536770408, \"variable\": \"ID\", \"value\": \"3725\"}, {\"component 0\": -0.22791492653810408, \"component 1\": -0.12416199893223678, \"variable\": \"ID\", \"value\": \"4324\"}, {\"component 0\": -0.27491895375678455, \"component 1\": -0.21828589937785645, \"variable\": \"ID\", \"value\": \"238\"}, {\"component 0\": -0.22791492653810408, \"component 1\": -0.12416199893223678, \"variable\": \"ID\", \"value\": \"6694\"}, {\"component 0\": -0.20017756156624936, \"component 1\": 0.1382496066159847, \"variable\": \"ID\", \"value\": \"498\"}, {\"component 0\": -0.24155649091062956, \"component 1\": -0.2759313787774795, \"variable\": \"ID\", \"value\": \"9347\"}, {\"component 0\": -0.19656424694227034, \"component 1\": 0.03876420945355481, \"variable\": \"ID\", \"value\": \"9699\"}, {\"component 0\": -0.14174454827413607, \"component 1\": -0.19320333955605887, \"variable\": \"ID\", \"value\": \"10664\"}, {\"component 0\": -0.18274825503768696, \"component 1\": -0.04847027515916284, \"variable\": \"ID\", \"value\": \"5455\"}, {\"component 0\": -0.27018256627602016, \"component 1\": -0.11314710658326697, \"variable\": \"ID\", \"value\": \"456\"}, {\"component 0\": -0.22791492653810408, \"component 1\": -0.12416199893223678, \"variable\": \"ID\", \"value\": \"5012\"}, {\"component 0\": -0.18274825503768696, \"component 1\": -0.04847027515916284, \"variable\": \"ID\", \"value\": \"7495\"}, {\"component 0\": -0.22791492653810408, \"component 1\": -0.12416199893223678, \"variable\": \"ID\", \"value\": \"5029\"}, {\"component 0\": -0.20017756156624936, \"component 1\": 0.1382496066159847, \"variable\": \"ID\", \"value\": \"10642\"}, {\"component 0\": -0.27018256627602016, \"component 1\": -0.11314710658326697, \"variable\": \"ID\", \"value\": \"2106\"}, {\"component 0\": -0.19656424694227034, \"component 1\": 0.03876420945355481, \"variable\": \"ID\", \"value\": \"10364\"}, {\"component 0\": -0.20546942383403138, \"component 1\": -0.00786637759709844, \"variable\": \"ID\", \"value\": \"5954\"}, {\"component 0\": 0.6511133832854876, \"component 1\": 0.9358972034538314, \"variable\": \"ID\", \"value\": \"1137\"}, {\"component 0\": -0.22791492653810408, \"component 1\": -0.12416199893223678, \"variable\": \"ID\", \"value\": \"2541\"}, {\"component 0\": -0.18274825503768696, \"component 1\": -0.04847027515916284, \"variable\": \"ID\", \"value\": \"1142\"}, {\"component 0\": -0.20017756156624936, \"component 1\": 0.1382496066159847, \"variable\": \"ID\", \"value\": \"2276\"}, {\"component 0\": -0.22791492653810408, \"component 1\": -0.12416199893223678, \"variable\": \"ID\", \"value\": \"2807\"}, {\"component 0\": -0.2090827384580104, \"component 1\": 0.09161901956533147, \"variable\": \"ID\", \"value\": \"6471\"}, {\"component 0\": -0.27018256627602016, \"component 1\": -0.11314710658326697, \"variable\": \"ID\", \"value\": \"6131\"}, {\"component 0\": -0.22791492653810408, \"component 1\": -0.12416199893223678, \"variable\": \"ID\", \"value\": \"6233\"}, {\"component 0\": -0.22791492653810408, \"component 1\": -0.12416199893223678, \"variable\": \"ID\", \"value\": \"4148\"}, {\"component 0\": 1.317341285053693, \"component 1\": -0.04594580541143579, \"variable\": \"ID\", \"value\": \"4947\"}, {\"component 0\": 0.3998471271181438, \"component 1\": 1.0230748257222728, \"variable\": \"ID\", \"value\": \"3225\"}, {\"component 0\": -0.22791492653810408, \"component 1\": -0.12416199893223678, \"variable\": \"ID\", \"value\": \"7540\"}, {\"component 0\": -0.27491895375678455, \"component 1\": -0.21828589937785645, \"variable\": \"ID\", \"value\": \"10648\"}, {\"component 0\": 0.8182676160106109, \"component 1\": 0.2101016092496381, \"variable\": \"ID\", \"value\": \"1992\"}, {\"component 0\": -0.13283937138237503, \"component 1\": -0.1465727525054056, \"variable\": \"ID\", \"value\": \"7851\"}, {\"component 0\": -0.0876726998819579, \"component 1\": -0.07088102873233168, \"variable\": \"ID\", \"value\": \"8594\"}, {\"component 0\": -0.007027110112588541, \"component 1\": 0.7044637012483306, \"variable\": \"ID\", \"value\": \"7059\"}, {\"component 0\": -0.22791492653810408, \"component 1\": -0.12416199893223678, \"variable\": \"ID\", \"value\": \"2815\"}, {\"component 0\": -0.15501089006583224, \"component 1\": 0.2139413303890587, \"variable\": \"ID\", \"value\": \"2416\"}, {\"component 0\": 1.3822843164779006, \"component 1\": -0.4284155057972811, \"variable\": \"ID\", \"value\": \"7999\"}, {\"component 0\": -0.13283937138237503, \"component 1\": -0.1465727525054056, \"variable\": \"ID\", \"value\": \"9213\"}, {\"component 0\": -0.22791492653810408, \"component 1\": -0.12416199893223678, \"variable\": \"ID\", \"value\": \"9697\"}, {\"component 0\": -0.18748464251845137, \"component 1\": -0.1536090679537523, \"variable\": \"ID\", \"value\": \"3916\"}, {\"component 0\": -0.22791492653810408, \"component 1\": -0.12416199893223678, \"variable\": \"ID\", \"value\": \"2021\"}, {\"component 0\": 0.18786448758438928, \"component 1\": 0.2410797125923588, \"variable\": \"ID\", \"value\": \"1581\"}, {\"component 0\": 0.7418987154131854, \"component 1\": -0.317841268987422, \"variable\": \"ID\", \"value\": \"564\"}, {\"component 0\": -0.22791492653810408, \"component 1\": -0.12416199893223678, \"variable\": \"ID\", \"value\": \"6619\"}, {\"component 0\": -0.20017756156624936, \"component 1\": 0.1382496066159847, \"variable\": \"ID\", \"value\": \"9081\"}, {\"component 0\": -0.22791492653810408, \"component 1\": -0.12416199893223678, \"variable\": \"ID\", \"value\": \"178\"}, {\"component 0\": -0.15501089006583224, \"component 1\": 0.2139413303890587, \"variable\": \"ID\", \"value\": \"916\"}, {\"component 0\": -0.23682010342986515, \"component 1\": -0.17079258598289002, \"variable\": \"ID\", \"value\": \"5512\"}, {\"component 0\": -0.18274825503768696, \"component 1\": -0.04847027515916284, \"variable\": \"ID\", \"value\": \"8970\"}, {\"component 0\": -0.22791492653810408, \"component 1\": -0.12416199893223678, \"variable\": \"ID\", \"value\": \"10581\"}, {\"component 0\": -0.23682010342986515, \"component 1\": -0.17079258598289002, \"variable\": \"ID\", \"value\": \"5300\"}, {\"component 0\": -0.20546942383403138, \"component 1\": -0.00786637759709844, \"variable\": \"ID\", \"value\": \"5154\"}, {\"component 0\": 0.4364896689817595, \"component 1\": 1.3321170183211475, \"variable\": \"ID\", \"value\": \"8346\"}, {\"component 0\": -0.22791492653810408, \"component 1\": -0.12416199893223678, \"variable\": \"ID\", \"value\": \"1676\"}, {\"component 0\": -0.24155649091062956, \"component 1\": -0.2759313787774795, \"variable\": \"ID\", \"value\": \"9286\"}, {\"component 0\": 0.2643818386806402, \"component 1\": 0.4796976447512243, \"variable\": \"ID\", \"value\": \"2426\"}, {\"component 0\": -0.24155649091062956, \"component 1\": -0.2759313787774795, \"variable\": \"ID\", \"value\": \"5172\"}, {\"component 0\": -0.22791492653810408, \"component 1\": -0.12416199893223678, \"variable\": \"ID\", \"value\": \"5562\"}, {\"component 0\": -0.22791492653810408, \"component 1\": -0.12416199893223678, \"variable\": \"ID\", \"value\": \"3436\"}, {\"component 0\": -0.17510701112029106, \"component 1\": -0.1355578601564358, \"variable\": \"ID\", \"value\": \"3921\"}, {\"component 0\": -0.18748464251845137, \"component 1\": -0.1536090679537523, \"variable\": \"ID\", \"value\": \"3403\"}, {\"component 0\": -0.19656424694227034, \"component 1\": 0.03876420945355481, \"variable\": \"ID\", \"value\": \"22\"}, {\"component 0\": 0.3977518144073531, \"component 1\": -0.2602788950695469, \"variable\": \"ID\", \"value\": \"10965\"}, {\"component 0\": -0.2090827384580104, \"component 1\": 0.09161901956533147, \"variable\": \"ID\", \"value\": \"9426\"}, {\"component 0\": 0.36220636836729025, \"component 1\": -0.4150179793316365, \"variable\": \"ID\", \"value\": \"6605\"}, {\"component 0\": -0.20546942383403138, \"component 1\": -0.00786637759709844, \"variable\": \"ID\", \"value\": \"3136\"}, {\"component 0\": -0.19656424694227034, \"component 1\": 0.03876420945355481, \"variable\": \"ID\", \"value\": \"8737\"}, {\"component 0\": -0.18748464251845137, \"component 1\": -0.1536090679537523, \"variable\": \"ID\", \"value\": \"11088\"}, {\"component 0\": -0.18748464251845137, \"component 1\": -0.1536090679537523, \"variable\": \"ID\", \"value\": \"716\"}, {\"component 0\": -0.22791492653810408, \"component 1\": -0.12416199893223678, \"variable\": \"ID\", \"value\": \"466\"}, {\"component 0\": -0.2326513140188685, \"component 1\": -0.22930079172682624, \"variable\": \"ID\", \"value\": \"9135\"}, {\"component 0\": -0.24155649091062956, \"component 1\": -0.2759313787774795, \"variable\": \"ID\", \"value\": \"10623\"}, {\"component 0\": -0.386558946692622, \"component 1\": 0.20797953513779313, \"variable\": \"ID\", \"value\": \"8151\"}, {\"component 0\": -0.18274825503768696, \"component 1\": -0.04847027515916284, \"variable\": \"ID\", \"value\": \"5140\"}, {\"component 0\": -0.24155649091062956, \"component 1\": -0.2759313787774795, \"variable\": \"ID\", \"value\": \"10160\"}, {\"component 0\": -0.13283937138237503, \"component 1\": -0.1465727525054056, \"variable\": \"ID\", \"value\": \"4945\"}, {\"component 0\": -0.22791492653810408, \"component 1\": -0.12416199893223678, \"variable\": \"ID\", \"value\": \"10584\"}, {\"component 0\": -0.20017756156624936, \"component 1\": 0.1382496066159847, \"variable\": \"ID\", \"value\": \"6071\"}, {\"component 0\": -0.22791492653810408, \"component 1\": -0.12416199893223678, \"variable\": \"ID\", \"value\": \"3386\"}, {\"component 0\": -0.19656424694227034, \"component 1\": 0.03876420945355481, \"variable\": \"ID\", \"value\": \"8939\"}, {\"component 0\": 0.03340317390706415, \"component 1\": 0.6750166322268151, \"variable\": \"ID\", \"value\": \"9925\"}, {\"component 0\": -0.20017756156624936, \"component 1\": 0.1382496066159847, \"variable\": \"ID\", \"value\": \"4320\"}, {\"component 0\": 0.28568901727103935, \"component 1\": -0.6536359114905019, \"variable\": \"ID\", \"value\": \"5389\"}, {\"component 0\": 0.3988291101540856, \"component 1\": -0.38650561558733854, \"variable\": \"ID\", \"value\": \"6036\"}, {\"component 0\": -0.18748464251845137, \"component 1\": -0.1536090679537523, \"variable\": \"ID\", \"value\": \"182\"}, {\"component 0\": -0.2090827384580104, \"component 1\": 0.09161901956533147, \"variable\": \"ID\", \"value\": \"203\"}, {\"component 0\": -0.22791492653810408, \"component 1\": -0.12416199893223678, \"variable\": \"ID\", \"value\": \"11025\"}, {\"component 0\": -0.20017756156624936, \"component 1\": 0.1382496066159847, \"variable\": \"ID\", \"value\": \"10203\"}, {\"component 0\": -0.2326513140188685, \"component 1\": -0.22930079172682624, \"variable\": \"ID\", \"value\": \"4607\"}, {\"component 0\": 1.0339686260610716, \"component 1\": -0.31234492613546977, \"variable\": \"ID\", \"value\": \"3711\"}, {\"component 0\": -0.19656424694227034, \"component 1\": 0.03876420945355481, \"variable\": \"ID\", \"value\": \"3696\"}, {\"component 0\": 0.011805077967505106, \"component 1\": 0.9202447197458988, \"variable\": \"ID\", \"value\": \"2532\"}, {\"component 0\": -0.22791492653810408, \"component 1\": -0.12416199893223678, \"variable\": \"ID\", \"value\": \"9214\"}, {\"component 0\": 0.9260746183357546, \"component 1\": -0.764210148300361, \"variable\": \"ID\", \"value\": \"4943\"}, {\"component 0\": 0.18786448758438928, \"component 1\": 0.2410797125923588, \"variable\": \"ID\", \"value\": \"35\"}, {\"component 0\": -0.22791492653810408, \"component 1\": -0.12416199893223678, \"variable\": \"ID\", \"value\": \"2258\"}, {\"component 0\": -0.18748464251845137, \"component 1\": -0.1536090679537523, \"variable\": \"ID\", \"value\": \"4322\"}, {\"component 0\": -0.23682010342986515, \"component 1\": -0.17079258598289002, \"variable\": \"ID\", \"value\": \"713\"}, {\"component 0\": -0.20017756156624936, \"component 1\": 0.1382496066159847, \"variable\": \"ID\", \"value\": \"4702\"}, {\"component 0\": -0.18274825503768696, \"component 1\": -0.04847027515916284, \"variable\": \"ID\", \"value\": \"3281\"}, {\"component 0\": -0.17510701112029106, \"component 1\": -0.1355578601564358, \"variable\": \"ID\", \"value\": \"702\"}, {\"component 0\": -0.20017756156624936, \"component 1\": 0.1382496066159847, \"variable\": \"ID\", \"value\": \"2004\"}, {\"component 0\": 0.2720474528985139, \"component 1\": -0.8054052913357447, \"variable\": \"ID\", \"value\": \"4769\"}, {\"component 0\": -0.22791492653810408, \"component 1\": -0.12416199893223678, \"variable\": \"ID\", \"value\": \"4437\"}, {\"component 0\": -0.20017756156624936, \"component 1\": 0.1382496066159847, \"variable\": \"ID\", \"value\": \"8724\"}, {\"component 0\": -0.24155649091062956, \"component 1\": -0.2759313787774795, \"variable\": \"ID\", \"value\": \"10741\"}, {\"component 0\": -0.2326513140188685, \"component 1\": -0.22930079172682624, \"variable\": \"ID\", \"value\": \"1991\"}, {\"component 0\": 0.8596007682449383, \"component 1\": 0.2934316841682913, \"variable\": \"ID\", \"value\": \"6931\"}, {\"component 0\": -0.27491895375678455, \"component 1\": -0.21828589937785645, \"variable\": \"ID\", \"value\": \"11096\"}, {\"component 0\": -0.2090827384580104, \"component 1\": 0.09161901956533147, \"variable\": \"ID\", \"value\": \"304\"}, {\"component 0\": -0.27491895375678455, \"component 1\": -0.21828589937785645, \"variable\": \"ID\", \"value\": \"3665\"}, {\"component 0\": -0.13283937138237503, \"component 1\": -0.1465727525054056, \"variable\": \"ID\", \"value\": \"10591\"}, {\"component 0\": -0.15501089006583224, \"component 1\": 0.2139413303890587, \"variable\": \"ID\", \"value\": \"5036\"}, {\"component 0\": 1.387020703958665, \"component 1\": -0.3232767130026916, \"variable\": \"ID\", \"value\": \"5547\"}, {\"component 0\": -0.2326513140188685, \"component 1\": -0.22930079172682624, \"variable\": \"ID\", \"value\": \"7822\"}, {\"component 0\": -0.27018256627602016, \"component 1\": -0.11314710658326697, \"variable\": \"ID\", \"value\": \"8541\"}, {\"component 0\": 0.28294004274011836, \"component 1\": 0.21866895901918995, \"variable\": \"ID\", \"value\": \"10955\"}, {\"component 0\": -0.22791492653810408, \"component 1\": -0.12416199893223678, \"variable\": \"ID\", \"value\": \"4368\"}, {\"component 0\": 0.4087523040099048, \"component 1\": 1.0697054127729262, \"variable\": \"ID\", \"value\": \"9671\"}, {\"component 0\": -0.23682010342986515, \"component 1\": -0.17079258598289002, \"variable\": \"ID\", \"value\": \"2256\"}, {\"component 0\": -0.24244520130416544, \"component 1\": 0.1492644989649545, \"variable\": \"ID\", \"value\": \"4279\"}, {\"component 0\": 0.4364896689817595, \"component 1\": 1.3321170183211475, \"variable\": \"ID\", \"value\": \"5371\"}, {\"component 0\": -0.15501089006583224, \"component 1\": 0.2139413303890587, \"variable\": \"ID\", \"value\": \"9240\"}, {\"component 0\": -0.22791492653810408, \"component 1\": -0.12416199893223678, \"variable\": \"ID\", \"value\": \"9460\"}, {\"component 0\": 0.17895931069262822, \"component 1\": 0.19444912554170554, \"variable\": \"ID\", \"value\": \"9504\"}, {\"component 0\": -0.2326513140188685, \"component 1\": -0.22930079172682624, \"variable\": \"ID\", \"value\": \"8692\"}, {\"component 0\": -0.15501089006583224, \"component 1\": 0.2139413303890587, \"variable\": \"ID\", \"value\": \"448\"}, {\"component 0\": 0.41247067452661107, \"component 1\": -0.23473623574209587, \"variable\": \"ID\", \"value\": \"8314\"}, {\"component 0\": -0.27018256627602016, \"component 1\": -0.11314710658326697, \"variable\": \"ID\", \"value\": \"8420\"}, {\"component 0\": 3.016948711339523, \"component 1\": -1.0831719757929257, \"variable\": \"ID\", \"value\": \"3174\"}, {\"component 0\": -0.22791492653810408, \"component 1\": -0.12416199893223678, \"variable\": \"ID\", \"value\": \"7685\"}, {\"component 0\": -0.20017756156624936, \"component 1\": 0.1382496066159847, \"variable\": \"ID\", \"value\": \"3179\"}, {\"component 0\": -0.24155649091062956, \"component 1\": -0.2759313787774795, \"variable\": \"ID\", \"value\": \"9780\"}, {\"component 0\": -0.27018256627602016, \"component 1\": -0.11314710658326697, \"variable\": \"ID\", \"value\": \"10681\"}, {\"component 0\": -0.1513975754418532, \"component 1\": 0.11445593322662873, \"variable\": \"ID\", \"value\": \"10232\"}, {\"component 0\": -0.18748464251845137, \"component 1\": -0.1536090679537523, \"variable\": \"ID\", \"value\": \"4184\"}, {\"component 0\": -0.20017756156624936, \"component 1\": 0.1382496066159847, \"variable\": \"ID\", \"value\": \"9120\"}, {\"component 0\": -0.24155649091062956, \"component 1\": -0.2759313787774795, \"variable\": \"ID\", \"value\": \"891\"}, {\"component 0\": -0.20017756156624936, \"component 1\": 0.1382496066159847, \"variable\": \"ID\", \"value\": \"10381\"}, {\"component 0\": -0.2326513140188685, \"component 1\": -0.22930079172682624, \"variable\": \"ID\", \"value\": \"3525\"}, {\"component 0\": -0.22791492653810408, \"component 1\": -0.12416199893223678, \"variable\": \"ID\", \"value\": \"6818\"}, {\"component 0\": -0.18274825503768696, \"component 1\": -0.04847027515916284, \"variable\": \"ID\", \"value\": \"3526\"}, {\"component 0\": -0.24244520130416544, \"component 1\": 0.1492644989649545, \"variable\": \"ID\", \"value\": \"8181\"}, {\"component 0\": -0.18748464251845137, \"component 1\": -0.1536090679537523, \"variable\": \"ID\", \"value\": \"1029\"}, {\"component 0\": -0.23682010342986515, \"component 1\": -0.17079258598289002, \"variable\": \"ID\", \"value\": \"7369\"}, {\"component 0\": 2.4264661692559892, \"component 1\": -0.7917672224154033, \"variable\": \"ID\", \"value\": \"2574\"}, {\"component 0\": -0.22791492653810408, \"component 1\": -0.12416199893223678, \"variable\": \"ID\", \"value\": \"8159\"}, {\"component 0\": -0.22791492653810408, \"component 1\": -0.12416199893223678, \"variable\": \"ID\", \"value\": \"1160\"}, {\"component 0\": -0.18748464251845137, \"component 1\": -0.1536090679537523, \"variable\": \"ID\", \"value\": \"10242\"}, {\"component 0\": -0.24155649091062956, \"component 1\": -0.2759313787774795, \"variable\": \"ID\", \"value\": \"5253\"}, {\"component 0\": 0.3308556887714565, \"component 1\": -0.5779441877174281, \"variable\": \"ID\", \"value\": \"5966\"}, {\"component 0\": -0.2326513140188685, \"component 1\": -0.22930079172682624, \"variable\": \"ID\", \"value\": \"5314\"}, {\"component 0\": -0.27491895375678455, \"component 1\": -0.21828589937785645, \"variable\": \"ID\", \"value\": \"5081\"}, {\"component 0\": -0.23682010342986515, \"component 1\": -0.17079258598289002, \"variable\": \"ID\", \"value\": \"5123\"}, {\"component 0\": -0.2326513140188685, \"component 1\": -0.22930079172682624, \"variable\": \"ID\", \"value\": \"5756\"}, {\"component 0\": -0.27491895375678455, \"component 1\": -0.21828589937785645, \"variable\": \"ID\", \"value\": \"8036\"}, {\"component 0\": 1.7746165886565706, \"component 1\": 0.9057423190471774, \"variable\": \"ID\", \"value\": \"9058\"}, {\"component 0\": -0.23682010342986515, \"component 1\": -0.17079258598289002, \"variable\": \"ID\", \"value\": \"5057\"}, {\"component 0\": 0.2809526297902749, \"component 1\": -0.7587747042850914, \"variable\": \"ID\", \"value\": \"254\"}, {\"component 0\": -0.2326513140188685, \"component 1\": -0.22930079172682624, \"variable\": \"ID\", \"value\": \"4179\"}, {\"component 0\": 0.15634519036939315, \"component 1\": 0.9468338063558347, \"variable\": \"ID\", \"value\": \"3710\"}, {\"component 0\": 1.449748040183565, \"component 1\": 0.05289678538912578, \"variable\": \"ID\", \"value\": \"7627\"}, {\"component 0\": -0.2090827384580104, \"component 1\": 0.09161901956533147, \"variable\": \"ID\", \"value\": \"4501\"}, {\"component 0\": -0.2326513140188685, \"component 1\": -0.22930079172682624, \"variable\": \"ID\", \"value\": \"6424\"}, {\"component 0\": -0.18274825503768696, \"component 1\": -0.04847027515916284, \"variable\": \"ID\", \"value\": \"3075\"}, {\"component 0\": 0.1742229232118638, \"component 1\": 0.08931033274711611, \"variable\": \"ID\", \"value\": \"4992\"}, {\"component 0\": -0.19656424694227034, \"component 1\": 0.03876420945355481, \"variable\": \"ID\", \"value\": \"5252\"}, {\"component 0\": -0.23682010342986515, \"component 1\": -0.17079258598289002, \"variable\": \"ID\", \"value\": \"7444\"}, {\"component 0\": -0.27018256627602016, \"component 1\": -0.11314710658326697, \"variable\": \"ID\", \"value\": \"6919\"}, {\"component 0\": -0.2326513140188685, \"component 1\": -0.22930079172682624, \"variable\": \"ID\", \"value\": \"3537\"}, {\"component 0\": -0.20017756156624936, \"component 1\": 0.1382496066159847, \"variable\": \"ID\", \"value\": \"10277\"}, {\"component 0\": -0.2326513140188685, \"component 1\": -0.22930079172682624, \"variable\": \"ID\", \"value\": \"2453\"}, {\"component 0\": -0.20017756156624936, \"component 1\": 0.1382496066159847, \"variable\": \"ID\", \"value\": \"7972\"}, {\"component 0\": -0.18274825503768696, \"component 1\": -0.04847027515916284, \"variable\": \"ID\", \"value\": \"895\"}, {\"component 0\": -0.24155649091062956, \"component 1\": -0.2759313787774795, \"variable\": \"ID\", \"value\": \"1177\"}, {\"component 0\": 0.20669667566448297, \"component 1\": 0.45686073108992703, \"variable\": \"ID\", \"value\": \"7141\"}, {\"component 0\": -0.13283937138237503, \"component 1\": -0.1465727525054056, \"variable\": \"ID\", \"value\": \"7232\"}, {\"component 0\": -0.19656424694227034, \"component 1\": 0.03876420945355481, \"variable\": \"ID\", \"value\": \"8477\"}, {\"component 0\": -0.386558946692622, \"component 1\": 0.20797953513779313, \"variable\": \"ID\", \"value\": \"2457\"}, {\"component 0\": 0.4024882018881175, \"component 1\": -0.15514010227495745, \"variable\": \"ID\", \"value\": \"988\"}, {\"component 0\": -0.2090827384580104, \"component 1\": 0.09161901956533147, \"variable\": \"ID\", \"value\": \"7930\"}, {\"component 0\": -0.14174454827413607, \"component 1\": -0.19320333955605887, \"variable\": \"ID\", \"value\": \"4587\"}, {\"component 0\": -0.386558946692622, \"component 1\": 0.20797953513779313, \"variable\": \"ID\", \"value\": \"6682\"}, {\"component 0\": -0.22791492653810408, \"component 1\": -0.12416199893223678, \"variable\": \"ID\", \"value\": \"6222\"}, {\"component 0\": 0.2607685240566611, \"component 1\": 0.5791830419136542, \"variable\": \"ID\", \"value\": \"10299\"}, {\"component 0\": -0.22791492653810408, \"component 1\": -0.12416199893223678, \"variable\": \"ID\", \"value\": \"3083\"}, {\"component 0\": -0.2090827384580104, \"component 1\": 0.09161901956533147, \"variable\": \"ID\", \"value\": \"8953\"}, {\"component 0\": -0.18748464251845137, \"component 1\": -0.1536090679537523, \"variable\": \"ID\", \"value\": \"1503\"}, {\"component 0\": -0.13283937138237503, \"component 1\": -0.1465727525054056, \"variable\": \"ID\", \"value\": \"8650\"}, {\"component 0\": -0.23682010342986515, \"component 1\": -0.17079258598289002, \"variable\": \"ID\", \"value\": \"10862\"}, {\"component 0\": -0.18274825503768696, \"component 1\": -0.04847027515916284, \"variable\": \"ID\", \"value\": \"2782\"}, {\"component 0\": -0.20017756156624936, \"component 1\": 0.1382496066159847, \"variable\": \"ID\", \"value\": \"6941\"}, {\"component 0\": 1.0211501734914836, \"component 1\": -0.78662090187353, \"variable\": \"ID\", \"value\": \"10972\"}, {\"component 0\": -0.24244520130416544, \"component 1\": 0.1492644989649545, \"variable\": \"ID\", \"value\": \"10708\"}, {\"component 0\": 0.3602205621502013, \"component 1\": -0.14412520992598762, \"variable\": \"ID\", \"value\": \"6583\"}, {\"component 0\": -0.22791492653810408, \"component 1\": -0.12416199893223678, \"variable\": \"ID\", \"value\": \"3641\"}, {\"component 0\": -0.20017756156624936, \"component 1\": 0.1382496066159847, \"variable\": \"ID\", \"value\": \"10156\"}, {\"component 0\": 0.18312810010362487, \"component 1\": 0.13594091979776934, \"variable\": \"ID\", \"value\": \"4299\"}, {\"component 0\": -0.1513975754418532, \"component 1\": 0.11445593322662873, \"variable\": \"ID\", \"value\": \"3469\"}, {\"component 0\": -0.20017756156624936, \"component 1\": 0.1382496066159847, \"variable\": \"ID\", \"value\": \"5063\"}, {\"component 0\": -0.18274825503768696, \"component 1\": -0.04847027515916284, \"variable\": \"ID\", \"value\": \"10727\"}, {\"component 0\": -0.18748464251845137, \"component 1\": -0.1536090679537523, \"variable\": \"ID\", \"value\": \"9624\"}, {\"component 0\": -0.27018256627602016, \"component 1\": -0.11314710658326697, \"variable\": \"ID\", \"value\": \"5156\"}, {\"component 0\": 0.3942220292438435, \"component 1\": 1.3431319106701174, \"variable\": \"ID\", \"value\": \"4376\"}, {\"component 0\": 0.215601852556244, \"component 1\": 0.5034913181405802, \"variable\": \"ID\", \"value\": \"8923\"}, {\"component 0\": -0.19656424694227034, \"component 1\": 0.03876420945355481, \"variable\": \"ID\", \"value\": \"8461\"}, {\"component 0\": -0.20017756156624936, \"component 1\": 0.1382496066159847, \"variable\": \"ID\", \"value\": \"6945\"}, {\"component 0\": -0.22791492653810408, \"component 1\": -0.12416199893223678, \"variable\": \"ID\", \"value\": \"944\"}, {\"component 0\": 0.21030999028846198, \"component 1\": 0.35737533392749715, \"variable\": \"ID\", \"value\": \"1907\"}, {\"component 0\": -0.007027110112588541, \"component 1\": 0.7044637012483306, \"variable\": \"ID\", \"value\": \"701\"}, {\"component 0\": -0.2326513140188685, \"component 1\": -0.22930079172682624, \"variable\": \"ID\", \"value\": \"3856\"}, {\"component 0\": -0.18748464251845137, \"component 1\": -0.1536090679537523, \"variable\": \"ID\", \"value\": \"4149\"}, {\"component 0\": -0.1513975754418532, \"component 1\": 0.11445593322662873, \"variable\": \"ID\", \"value\": \"2131\"}, {\"component 0\": 0.02071025485926616, \"component 1\": 0.966875306796552, \"variable\": \"ID\", \"value\": \"2942\"}, {\"component 0\": 1.3282124680857224, \"component 1\": -0.5507378166210083, \"variable\": \"ID\", \"value\": \"1173\"}, {\"component 0\": -0.18274825503768696, \"component 1\": -0.04847027515916284, \"variable\": \"ID\", \"value\": \"4381\"}, {\"component 0\": 1.4539168295945615, \"component 1\": -0.005611420354810387, \"variable\": \"ID\", \"value\": \"4611\"}, {\"component 0\": -0.20546942383403138, \"component 1\": -0.00786637759709844, \"variable\": \"ID\", \"value\": \"3376\"}, {\"component 0\": -0.23682010342986515, \"component 1\": -0.17079258598289002, \"variable\": \"ID\", \"value\": \"4679\"}, {\"component 0\": -0.2326513140188685, \"component 1\": -0.22930079172682624, \"variable\": \"ID\", \"value\": \"10928\"}, {\"component 0\": 0.30452120535113303, \"component 1\": -0.43785489299293373, \"variable\": \"ID\", \"value\": \"4248\"}, {\"component 0\": -0.2326513140188685, \"component 1\": -0.22930079172682624, \"variable\": \"ID\", \"value\": \"6728\"}, {\"component 0\": -0.22791492653810408, \"component 1\": -0.12416199893223678, \"variable\": \"ID\", \"value\": \"6661\"}, {\"component 0\": -0.18748464251845137, \"component 1\": -0.1536090679537523, \"variable\": \"ID\", \"value\": \"4725\"}, {\"component 0\": -0.19656424694227034, \"component 1\": 0.03876420945355481, \"variable\": \"ID\", \"value\": \"3277\"}, {\"component 0\": -0.19656424694227034, \"component 1\": 0.03876420945355481, \"variable\": \"ID\", \"value\": \"5555\"}, {\"component 0\": -0.2326513140188685, \"component 1\": -0.22930079172682624, \"variable\": \"ID\", \"value\": \"2564\"}, {\"component 0\": -0.27491895375678455, \"component 1\": -0.21828589937785645, \"variable\": \"ID\", \"value\": \"946\"}, {\"component 0\": -0.18748464251845137, \"component 1\": -0.1536090679537523, \"variable\": \"ID\", \"value\": \"3867\"}, {\"component 0\": 0.06587692635968327, \"component 1\": 1.042567030569626, \"variable\": \"ID\", \"value\": \"6940\"}, {\"component 0\": -0.2326513140188685, \"component 1\": -0.22930079172682624, \"variable\": \"ID\", \"value\": \"55\"}, {\"component 0\": -0.22791492653810408, \"component 1\": -0.12416199893223678, \"variable\": \"ID\", \"value\": \"7093\"}, {\"component 0\": -0.13283937138237503, \"component 1\": -0.1465727525054056, \"variable\": \"ID\", \"value\": \"5084\"}, {\"component 0\": -0.386558946692622, \"component 1\": 0.20797953513779313, \"variable\": \"ID\", \"value\": \"1777\"}, {\"component 0\": -0.24155649091062956, \"component 1\": -0.2759313787774795, \"variable\": \"ID\", \"value\": \"8162\"}, {\"component 0\": -0.22791492653810408, \"component 1\": -0.12416199893223678, \"variable\": \"ID\", \"value\": \"10826\"}, {\"component 0\": -0.18748464251845137, \"component 1\": -0.1536090679537523, \"variable\": \"ID\", \"value\": \"8754\"}, {\"component 0\": -0.3588215817207673, \"component 1\": 0.4703911406860146, \"variable\": \"ID\", \"value\": \"1987\"}, {\"component 0\": -0.18274825503768696, \"component 1\": -0.04847027515916284, \"variable\": \"ID\", \"value\": \"11007\"}, {\"component 0\": -0.27018256627602016, \"component 1\": -0.11314710658326697, \"variable\": \"ID\", \"value\": \"7426\"}, {\"component 0\": -0.18274825503768696, \"component 1\": -0.04847027515916284, \"variable\": \"ID\", \"value\": \"9153\"}, {\"component 0\": -0.2090827384580104, \"component 1\": 0.09161901956533147, \"variable\": \"ID\", \"value\": \"10379\"}, {\"component 0\": -0.13283937138237503, \"component 1\": -0.1465727525054056, \"variable\": \"ID\", \"value\": \"9204\"}, {\"component 0\": -0.22791492653810408, \"component 1\": -0.12416199893223678, \"variable\": \"ID\", \"value\": \"3197\"}, {\"component 0\": -0.15501089006583224, \"component 1\": 0.2139413303890587, \"variable\": \"ID\", \"value\": \"2920\"}, {\"component 0\": -0.22791492653810408, \"component 1\": -0.12416199893223678, \"variable\": \"ID\", \"value\": \"6961\"}, {\"component 0\": 0.863434287511028, \"component 1\": 0.2857933330227121, \"variable\": \"ID\", \"value\": \"4673\"}, {\"component 0\": -0.20017756156624936, \"component 1\": 0.1382496066159847, \"variable\": \"ID\", \"value\": \"9937\"}, {\"component 0\": 0.3664846642719888, \"component 1\": 1.0807203051218959, \"variable\": \"ID\", \"value\": \"8779\"}, {\"component 0\": -0.15501089006583224, \"component 1\": 0.2139413303890587, \"variable\": \"ID\", \"value\": \"9596\"}, {\"component 0\": -0.19656424694227034, \"component 1\": 0.03876420945355481, \"variable\": \"ID\", \"value\": \"2891\"}, {\"component 0\": -0.19656424694227034, \"component 1\": 0.03876420945355481, \"variable\": \"ID\", \"value\": \"4910\"}, {\"component 0\": -0.27491895375678455, \"component 1\": -0.21828589937785645, \"variable\": \"ID\", \"value\": \"75\"}, {\"component 0\": -0.2326513140188685, \"component 1\": -0.22930079172682624, \"variable\": \"ID\", \"value\": \"10120\"}, {\"component 0\": -0.2326513140188685, \"component 1\": -0.22930079172682624, \"variable\": \"ID\", \"value\": \"6327\"}, {\"component 0\": -0.1513975754418532, \"component 1\": 0.11445593322662873, \"variable\": \"ID\", \"value\": \"10142\"}, {\"component 0\": 0.2607685240566611, \"component 1\": 0.5791830419136542, \"variable\": \"ID\", \"value\": \"9826\"}, {\"component 0\": -0.18274825503768696, \"component 1\": -0.04847027515916284, \"variable\": \"ID\", \"value\": \"1501\"}, {\"component 0\": 1.0833040869724853, \"component 1\": -0.29516140810633207, \"variable\": \"ID\", \"value\": \"10767\"}, {\"component 0\": -0.18748464251845137, \"component 1\": -0.1536090679537523, \"variable\": \"ID\", \"value\": \"7279\"}, {\"component 0\": 0.7779857824897837, \"component 1\": -0.049776267807040926, \"variable\": \"ID\", \"value\": \"7230\"}, {\"component 0\": -0.20017756156624936, \"component 1\": 0.1382496066159847, \"variable\": \"ID\", \"value\": \"143\"}, {\"component 0\": -0.24155649091062956, \"component 1\": -0.2759313787774795, \"variable\": \"ID\", \"value\": \"450\"}, {\"component 0\": -0.39129533417338636, \"component 1\": 0.10284074234320364, \"variable\": \"ID\", \"value\": \"9316\"}, {\"component 0\": 0.2740348658483573, \"component 1\": 0.17203837196853672, \"variable\": \"ID\", \"value\": \"6379\"}, {\"component 0\": -0.23682010342986515, \"component 1\": -0.17079258598289002, \"variable\": \"ID\", \"value\": \"9239\"}, {\"component 0\": -0.20017756156624936, \"component 1\": 0.1382496066159847, \"variable\": \"ID\", \"value\": \"8315\"}, {\"component 0\": 0.2607685240566611, \"component 1\": 0.5791830419136542, \"variable\": \"ID\", \"value\": \"2868\"}, {\"component 0\": -0.20017756156624936, \"component 1\": 0.1382496066159847, \"variable\": \"ID\", \"value\": \"10888\"}, {\"component 0\": 0.3977518144073531, \"component 1\": -0.2602788950695469, \"variable\": \"ID\", \"value\": \"1277\"}, {\"component 0\": -0.19656424694227034, \"component 1\": 0.03876420945355481, \"variable\": \"ID\", \"value\": \"9977\"}, {\"component 0\": -0.22791492653810408, \"component 1\": -0.12416199893223678, \"variable\": \"ID\", \"value\": \"10196\"}, {\"component 0\": 0.024323569483245173, \"component 1\": 0.8673899096341221, \"variable\": \"ID\", \"value\": \"6384\"}, {\"component 0\": 1.991089348964563, \"component 1\": -0.2141655216209179, \"variable\": \"ID\", \"value\": \"8029\"}, {\"component 0\": -0.20546942383403138, \"component 1\": -0.00786637759709844, \"variable\": \"ID\", \"value\": \"968\"}, {\"component 0\": 0.6333584909521266, \"component 1\": 0.5938894644384715, \"variable\": \"ID\", \"value\": \"6988\"}, {\"component 0\": -0.1513975754418532, \"component 1\": 0.11445593322662873, \"variable\": \"ID\", \"value\": \"4472\"}, {\"component 0\": -0.19656424694227034, \"component 1\": 0.03876420945355481, \"variable\": \"ID\", \"value\": \"6991\"}, {\"component 0\": 0.03340317390706415, \"component 1\": 0.6750166322268151, \"variable\": \"ID\", \"value\": \"3336\"}, {\"component 0\": 0.3998471271181438, \"component 1\": 1.0230748257222728, \"variable\": \"ID\", \"value\": \"4301\"}, {\"component 0\": -0.22791492653810408, \"component 1\": -0.12416199893223678, \"variable\": \"ID\", \"value\": \"1940\"}, {\"component 0\": -0.2090827384580104, \"component 1\": 0.09161901956533147, \"variable\": \"ID\", \"value\": \"1272\"}, {\"component 0\": -0.20017756156624936, \"component 1\": 0.1382496066159847, \"variable\": \"ID\", \"value\": \"1388\"}, {\"component 0\": -0.2326513140188685, \"component 1\": -0.22930079172682624, \"variable\": \"ID\", \"value\": \"1044\"}, {\"component 0\": -0.2326513140188685, \"component 1\": -0.22930079172682624, \"variable\": \"ID\", \"value\": \"6969\"}, {\"component 0\": -0.18274825503768696, \"component 1\": -0.04847027515916284, \"variable\": \"ID\", \"value\": \"10479\"}, {\"component 0\": 0.8173331285070221, \"component 1\": 0.3044465765172611, \"variable\": \"ID\", \"value\": \"3619\"}, {\"component 0\": -0.2326513140188685, \"component 1\": -0.22930079172682624, \"variable\": \"ID\", \"value\": \"1715\"}, {\"component 0\": -0.19656424694227034, \"component 1\": 0.03876420945355481, \"variable\": \"ID\", \"value\": \"10159\"}, {\"component 0\": -0.20017756156624936, \"component 1\": 0.1382496066159847, \"variable\": \"ID\", \"value\": \"1463\"}, {\"component 0\": -0.23682010342986515, \"component 1\": -0.17079258598289002, \"variable\": \"ID\", \"value\": \"5114\"}, {\"component 0\": -0.22791492653810408, \"component 1\": -0.12416199893223678, \"variable\": \"ID\", \"value\": \"4990\"}, {\"component 0\": -0.18274825503768696, \"component 1\": -0.04847027515916284, \"variable\": \"ID\", \"value\": \"4329\"}, {\"component 0\": -0.22791492653810408, \"component 1\": -0.12416199893223678, \"variable\": \"ID\", \"value\": \"10936\"}, {\"component 0\": 0.4087523040099048, \"component 1\": 1.0697054127729262, \"variable\": \"ID\", \"value\": \"4692\"}, {\"component 0\": -0.22791492653810408, \"component 1\": -0.12416199893223678, \"variable\": \"ID\", \"value\": \"7212\"}, {\"component 0\": 0.4024882018881175, \"component 1\": -0.15514010227495745, \"variable\": \"ID\", \"value\": \"6086\"}, {\"component 0\": -0.20546942383403138, \"component 1\": -0.00786637759709844, \"variable\": \"ID\", \"value\": \"437\"}, {\"component 0\": -0.23682010342986515, \"component 1\": -0.17079258598289002, \"variable\": \"ID\", \"value\": \"11171\"}, {\"component 0\": 0.4077342870458467, \"component 1\": -0.33987502853668533, \"variable\": \"ID\", \"value\": \"11101\"}, {\"component 0\": -0.1513975754418532, \"component 1\": 0.11445593322662873, \"variable\": \"ID\", \"value\": \"5329\"}, {\"component 0\": -0.18748464251845137, \"component 1\": -0.1536090679537523, \"variable\": \"ID\", \"value\": \"610\"}, {\"component 0\": -0.22791492653810408, \"component 1\": -0.12416199893223678, \"variable\": \"ID\", \"value\": \"9384\"}, {\"component 0\": -0.1513975754418532, \"component 1\": 0.11445593322662873, \"variable\": \"ID\", \"value\": \"5956\"}, {\"component 0\": 1.5878284263578097, \"component 1\": -0.6322620432572902, \"variable\": \"ID\", \"value\": \"10430\"}, {\"component 0\": 1.9722571608844695, \"component 1\": -0.42994654011848626, \"variable\": \"ID\", \"value\": \"7875\"}, {\"component 0\": -0.22791492653810408, \"component 1\": -0.12416199893223678, \"variable\": \"ID\", \"value\": \"7072\"}, {\"component 0\": -0.24155649091062956, \"component 1\": -0.2759313787774795, \"variable\": \"ID\", \"value\": \"6255\"}, {\"component 0\": -0.386558946692622, \"component 1\": 0.20797953513779313, \"variable\": \"ID\", \"value\": \"6516\"}, {\"component 0\": -0.2326513140188685, \"component 1\": -0.22930079172682624, \"variable\": \"ID\", \"value\": \"5564\"}, {\"component 0\": -0.15501089006583224, \"component 1\": 0.2139413303890587, \"variable\": \"ID\", \"value\": \"5682\"}, {\"component 0\": -0.24155649091062956, \"component 1\": -0.2759313787774795, \"variable\": \"ID\", \"value\": \"7458\"}, {\"component 0\": -0.15501089006583224, \"component 1\": 0.2139413303890587, \"variable\": \"ID\", \"value\": \"5237\"}, {\"component 0\": -0.27491895375678455, \"component 1\": -0.21828589937785645, \"variable\": \"ID\", \"value\": \"7761\"}, {\"component 0\": 0.4024882018881175, \"component 1\": -0.15514010227495745, \"variable\": \"ID\", \"value\": \"5278\"}, {\"component 0\": 0.4077342870458467, \"component 1\": -0.33987502853668533, \"variable\": \"ID\", \"value\": \"3560\"}, {\"component 0\": -0.27018256627602016, \"component 1\": -0.11314710658326697, \"variable\": \"ID\", \"value\": \"7235\"}, {\"component 0\": -0.20017756156624936, \"component 1\": 0.1382496066159847, \"variable\": \"ID\", \"value\": \"10548\"}, {\"component 0\": 0.02071025485926616, \"component 1\": 0.966875306796552, \"variable\": \"ID\", \"value\": \"2281\"}, {\"component 0\": 0.3664846642719888, \"component 1\": 1.0807203051218959, \"variable\": \"ID\", \"value\": \"4073\"}, {\"component 0\": -0.18748464251845137, \"component 1\": -0.1536090679537523, \"variable\": \"ID\", \"value\": \"6974\"}, {\"component 0\": -0.18748464251845137, \"component 1\": -0.1536090679537523, \"variable\": \"ID\", \"value\": \"7938\"}, {\"component 0\": -0.13283937138237503, \"component 1\": -0.1465727525054056, \"variable\": \"ID\", \"value\": \"7094\"}, {\"component 0\": 1.9722571608844695, \"component 1\": -0.42994654011848626, \"variable\": \"ID\", \"value\": \"3667\"}, {\"component 0\": -0.2326513140188685, \"component 1\": -0.22930079172682624, \"variable\": \"ID\", \"value\": \"7723\"}, {\"component 0\": -0.27491895375678455, \"component 1\": -0.21828589937785645, \"variable\": \"ID\", \"value\": \"3870\"}, {\"component 0\": 0.228294771604042, \"component 1\": 0.21163264357084327, \"variable\": \"ID\", \"value\": \"4012\"}, {\"component 0\": -0.22791492653810408, \"component 1\": -0.12416199893223678, \"variable\": \"ID\", \"value\": \"5909\"}, {\"component 0\": -0.23682010342986515, \"component 1\": -0.17079258598289002, \"variable\": \"ID\", \"value\": \"10470\"}, {\"component 0\": -0.18274825503768696, \"component 1\": -0.04847027515916284, \"variable\": \"ID\", \"value\": \"6488\"}, {\"component 0\": -0.27018256627602016, \"component 1\": -0.11314710658326697, \"variable\": \"ID\", \"value\": \"10270\"}, {\"component 0\": -0.20017756156624936, \"component 1\": 0.1382496066159847, \"variable\": \"ID\", \"value\": \"6887\"}, {\"component 0\": -0.23682010342986515, \"component 1\": -0.17079258598289002, \"variable\": \"ID\", \"value\": \"6406\"}, {\"component 0\": 0.48165634048217665, \"component 1\": 1.4078087420942216, \"variable\": \"ID\", \"value\": \"7573\"}, {\"component 0\": -0.20017756156624936, \"component 1\": 0.1382496066159847, \"variable\": \"ID\", \"value\": \"4508\"}, {\"component 0\": -0.22791492653810408, \"component 1\": -0.12416199893223678, \"variable\": \"ID\", \"value\": \"221\"}, {\"component 0\": -0.22791492653810408, \"component 1\": -0.12416199893223678, \"variable\": \"ID\", \"value\": \"5331\"}, {\"component 0\": -0.2326513140188685, \"component 1\": -0.22930079172682624, \"variable\": \"ID\", \"value\": \"1911\"}, {\"component 0\": -0.27018256627602016, \"component 1\": -0.11314710658326697, \"variable\": \"ID\", \"value\": \"20\"}, {\"component 0\": -0.23682010342986515, \"component 1\": -0.17079258598289002, \"variable\": \"ID\", \"value\": \"8786\"}, {\"component 0\": -0.22791492653810408, \"component 1\": -0.12416199893223678, \"variable\": \"ID\", \"value\": \"10582\"}, {\"component 0\": -0.18274825503768696, \"component 1\": -0.04847027515916284, \"variable\": \"ID\", \"value\": \"1915\"}, {\"component 0\": 0.215601852556244, \"component 1\": 0.5034913181405802, \"variable\": \"ID\", \"value\": \"8897\"}, {\"component 0\": -0.22791492653810408, \"component 1\": -0.12416199893223678, \"variable\": \"ID\", \"value\": \"2371\"}, {\"component 0\": -0.18748464251845137, \"component 1\": -0.1536090679537523, \"variable\": \"ID\", \"value\": \"4303\"}, {\"component 0\": -0.2326513140188685, \"component 1\": -0.22930079172682624, \"variable\": \"ID\", \"value\": \"6825\"}, {\"component 0\": -0.15501089006583224, \"component 1\": 0.2139413303890587, \"variable\": \"ID\", \"value\": \"1072\"}, {\"component 0\": -0.18748464251845137, \"component 1\": -0.1536090679537523, \"variable\": \"ID\", \"value\": \"4964\"}, {\"component 0\": -0.2090827384580104, \"component 1\": 0.09161901956533147, \"variable\": \"ID\", \"value\": \"2461\"}, {\"component 0\": -0.20017756156624936, \"component 1\": 0.1382496066159847, \"variable\": \"ID\", \"value\": \"10736\"}, {\"component 0\": -0.15501089006583224, \"component 1\": 0.2139413303890587, \"variable\": \"ID\", \"value\": \"3194\"}, {\"component 0\": -0.2326513140188685, \"component 1\": -0.22930079172682624, \"variable\": \"ID\", \"value\": \"10839\"}, {\"component 0\": -0.20017756156624936, \"component 1\": 0.1382496066159847, \"variable\": \"ID\", \"value\": \"49\"}, {\"component 0\": -0.22791492653810408, \"component 1\": -0.12416199893223678, \"variable\": \"ID\", \"value\": \"4290\"}, {\"component 0\": -0.2326513140188685, \"component 1\": -0.22930079172682624, \"variable\": \"ID\", \"value\": \"10219\"}, {\"component 0\": -0.386558946692622, \"component 1\": 0.20797953513779313, \"variable\": \"ID\", \"value\": \"4211\"}, {\"component 0\": -0.24155649091062956, \"component 1\": -0.2759313787774795, \"variable\": \"ID\", \"value\": \"1135\"}, {\"component 0\": 0.48526965510615566, \"component 1\": 1.3083233449317917, \"variable\": \"ID\", \"value\": \"6299\"}, {\"component 0\": -0.015932287004349583, \"component 1\": 0.6578331141976773, \"variable\": \"ID\", \"value\": \"10846\"}, {\"component 0\": -0.19656424694227034, \"component 1\": 0.03876420945355481, \"variable\": \"ID\", \"value\": \"347\"}, {\"component 0\": -0.24155649091062956, \"component 1\": -0.2759313787774795, \"variable\": \"ID\", \"value\": \"6543\"}, {\"component 0\": 2.0174238323848868, \"component 1\": -0.3542548163454123, \"variable\": \"ID\", \"value\": \"10446\"}, {\"component 0\": 0.02071025485926616, \"component 1\": 0.966875306796552, \"variable\": \"ID\", \"value\": \"3479\"}, {\"component 0\": -0.22791492653810408, \"component 1\": -0.12416199893223678, \"variable\": \"ID\", \"value\": \"11075\"}, {\"component 0\": -0.20017756156624936, \"component 1\": 0.1382496066159847, \"variable\": \"ID\", \"value\": \"4442\"}, {\"component 0\": 0.30452120535113303, \"component 1\": -0.43785489299293373, \"variable\": \"ID\", \"value\": \"199\"}, {\"component 0\": -0.18274825503768696, \"component 1\": -0.04847027515916284, \"variable\": \"ID\", \"value\": \"6722\"}, {\"component 0\": -0.2388318866801864, \"component 1\": 0.04977910180252461, \"variable\": \"ID\", \"value\": \"796\"}, {\"component 0\": -0.2326513140188685, \"component 1\": -0.22930079172682624, \"variable\": \"ID\", \"value\": \"3749\"}, {\"component 0\": -0.22791492653810408, \"component 1\": -0.12416199893223678, \"variable\": \"ID\", \"value\": \"8523\"}, {\"component 0\": -0.23682010342986515, \"component 1\": -0.17079258598289002, \"variable\": \"ID\", \"value\": \"310\"}, {\"component 0\": -0.13283937138237503, \"component 1\": -0.1465727525054056, \"variable\": \"ID\", \"value\": \"8629\"}, {\"component 0\": -0.22791492653810408, \"component 1\": -0.12416199893223678, \"variable\": \"ID\", \"value\": \"236\"}, {\"component 0\": -0.15501089006583224, \"component 1\": 0.2139413303890587, \"variable\": \"ID\", \"value\": \"9930\"}, {\"component 0\": 2.381299497755572, \"component 1\": -0.8674589461884772, \"variable\": \"ID\", \"value\": \"3483\"}, {\"component 0\": -0.23682010342986515, \"component 1\": -0.17079258598289002, \"variable\": \"ID\", \"value\": \"4599\"}, {\"component 0\": -0.23682010342986515, \"component 1\": -0.17079258598289002, \"variable\": \"ID\", \"value\": \"7326\"}, {\"component 0\": -0.22791492653810408, \"component 1\": -0.12416199893223678, \"variable\": \"ID\", \"value\": \"7352\"}, {\"component 0\": 0.28568901727103935, \"component 1\": -0.6536359114905019, \"variable\": \"ID\", \"value\": \"2350\"}, {\"component 0\": -0.20017756156624936, \"component 1\": 0.1382496066159847, \"variable\": \"ID\", \"value\": \"9145\"}, {\"component 0\": -0.22791492653810408, \"component 1\": -0.12416199893223678, \"variable\": \"ID\", \"value\": \"2964\"}, {\"component 0\": 0.215601852556244, \"component 1\": 0.5034913181405802, \"variable\": \"ID\", \"value\": \"5585\"}, {\"component 0\": -0.20017756156624936, \"component 1\": 0.1382496066159847, \"variable\": \"ID\", \"value\": \"9687\"}, {\"component 0\": -0.23682010342986515, \"component 1\": -0.17079258598289002, \"variable\": \"ID\", \"value\": \"3732\"}, {\"component 0\": -0.18748464251845137, \"component 1\": -0.1536090679537523, \"variable\": \"ID\", \"value\": \"6303\"}, {\"component 0\": -0.18748464251845137, \"component 1\": -0.1536090679537523, \"variable\": \"ID\", \"value\": \"11176\"}, {\"component 0\": -0.22791492653810408, \"component 1\": -0.12416199893223678, \"variable\": \"ID\", \"value\": \"2986\"}, {\"component 0\": -0.20017756156624936, \"component 1\": 0.1382496066159847, \"variable\": \"ID\", \"value\": \"7462\"}, {\"component 0\": -0.22791492653810408, \"component 1\": -0.12416199893223678, \"variable\": \"ID\", \"value\": \"3900\"}, {\"component 0\": -0.27018256627602016, \"component 1\": -0.11314710658326697, \"variable\": \"ID\", \"value\": \"7034\"}, {\"component 0\": 1.5315572535475979, \"component 1\": 0.43763070176107444, \"variable\": \"ID\", \"value\": \"9493\"}, {\"component 0\": -0.22791492653810408, \"component 1\": -0.12416199893223678, \"variable\": \"ID\", \"value\": \"1143\"}, {\"component 0\": 1.265029790492062, \"component 1\": -0.0445953247392697, \"variable\": \"ID\", \"value\": \"1\"}, {\"component 0\": -0.22791492653810408, \"component 1\": -0.12416199893223678, \"variable\": \"ID\", \"value\": \"3855\"}, {\"component 0\": 3.016948711339523, \"component 1\": -1.0831719757929257, \"variable\": \"ID\", \"value\": \"5536\"}, {\"component 0\": -0.2388318866801864, \"component 1\": 0.04977910180252461, \"variable\": \"ID\", \"value\": \"5989\"}, {\"component 0\": 0.9260746183357546, \"component 1\": -0.764210148300361, \"variable\": \"ID\", \"value\": \"9499\"}, {\"component 0\": -0.19656424694227034, \"component 1\": 0.03876420945355481, \"variable\": \"ID\", \"value\": \"6768\"}, {\"component 0\": -0.0876726998819579, \"component 1\": -0.07088102873233168, \"variable\": \"ID\", \"value\": \"2150\"}, {\"component 0\": -0.2326513140188685, \"component 1\": -0.22930079172682624, \"variable\": \"ID\", \"value\": \"6646\"}, {\"component 0\": -0.1513975754418532, \"component 1\": 0.11445593322662873, \"variable\": \"ID\", \"value\": \"4887\"}, {\"component 0\": -0.20017756156624936, \"component 1\": 0.1382496066159847, \"variable\": \"ID\", \"value\": \"8560\"}, {\"component 0\": -0.18748464251845137, \"component 1\": -0.1536090679537523, \"variable\": \"ID\", \"value\": \"3321\"}, {\"component 0\": -0.27491895375678455, \"component 1\": -0.21828589937785645, \"variable\": \"ID\", \"value\": \"11003\"}, {\"component 0\": -0.22791492653810408, \"component 1\": -0.12416199893223678, \"variable\": \"ID\", \"value\": \"10402\"}, {\"component 0\": -0.22791492653810408, \"component 1\": -0.12416199893223678, \"variable\": \"ID\", \"value\": \"9904\"}, {\"component 0\": -0.2090827384580104, \"component 1\": 0.09161901956533147, \"variable\": \"ID\", \"value\": \"6141\"}, {\"component 0\": -0.19656424694227034, \"component 1\": 0.03876420945355481, \"variable\": \"ID\", \"value\": \"5687\"}, {\"component 0\": -0.24244520130416544, \"component 1\": 0.1492644989649545, \"variable\": \"ID\", \"value\": \"10856\"}, {\"component 0\": 0.02071025485926616, \"component 1\": 0.966875306796552, \"variable\": \"ID\", \"value\": \"5121\"}, {\"component 0\": -0.2326513140188685, \"component 1\": -0.22930079172682624, \"variable\": \"ID\", \"value\": \"4186\"}, {\"component 0\": -0.22791492653810408, \"component 1\": -0.12416199893223678, \"variable\": \"ID\", \"value\": \"368\"}, {\"component 0\": -0.20017756156624936, \"component 1\": 0.1382496066159847, \"variable\": \"ID\", \"value\": \"3312\"}, {\"component 0\": -0.22791492653810408, \"component 1\": -0.12416199893223678, \"variable\": \"ID\", \"value\": \"11121\"}, {\"component 0\": -0.27018256627602016, \"component 1\": -0.11314710658326697, \"variable\": \"ID\", \"value\": \"5332\"}, {\"component 0\": 2.0938294555296735, \"component 1\": 0.3059057402886276, \"variable\": \"ID\", \"value\": \"5848\"}, {\"component 0\": -0.24244520130416544, \"component 1\": 0.1492644989649545, \"variable\": \"ID\", \"value\": \"10343\"}, {\"component 0\": -0.2090827384580104, \"component 1\": 0.09161901956533147, \"variable\": \"ID\", \"value\": \"5935\"}, {\"component 0\": -0.20017756156624936, \"component 1\": 0.1382496066159847, \"variable\": \"ID\", \"value\": \"2895\"}, {\"component 0\": -0.22791492653810408, \"component 1\": -0.12416199893223678, \"variable\": \"ID\", \"value\": \"10262\"}, {\"component 0\": -0.20017756156624936, \"component 1\": 0.1382496066159847, \"variable\": \"ID\", \"value\": \"7848\"}, {\"component 0\": -0.18274825503768696, \"component 1\": -0.04847027515916284, \"variable\": \"ID\", \"value\": \"9477\"}, {\"component 0\": 0.5811083785757168, \"component 1\": 0.6845004902545797, \"variable\": \"ID\", \"value\": \"4856\"}, {\"component 0\": 0.03340317390706415, \"component 1\": 0.6750166322268151, \"variable\": \"ID\", \"value\": \"7186\"}, {\"component 0\": 1.3770382313201714, \"component 1\": -0.24368057953555317, \"variable\": \"ID\", \"value\": \"5794\"}, {\"component 0\": -0.20017756156624936, \"component 1\": 0.1382496066159847, \"variable\": \"ID\", \"value\": \"1456\"}, {\"component 0\": -0.23682010342986515, \"component 1\": -0.17079258598289002, \"variable\": \"ID\", \"value\": \"4877\"}, {\"component 0\": -0.22791492653810408, \"component 1\": -0.12416199893223678, \"variable\": \"ID\", \"value\": \"425\"}, {\"component 0\": -0.2326513140188685, \"component 1\": -0.22930079172682624, \"variable\": \"ID\", \"value\": \"3007\"}, {\"component 0\": 0.37020303478869504, \"component 1\": -0.22372134339312608, \"variable\": \"ID\", \"value\": \"1031\"}, {\"component 0\": -0.2326513140188685, \"component 1\": -0.22930079172682624, \"variable\": \"ID\", \"value\": \"4297\"}, {\"component 0\": -0.24155649091062956, \"component 1\": -0.2759313787774795, \"variable\": \"ID\", \"value\": \"807\"}, {\"component 0\": -0.22791492653810408, \"component 1\": -0.12416199893223678, \"variable\": \"ID\", \"value\": \"9553\"}, {\"component 0\": -0.27491895375678455, \"component 1\": -0.21828589937785645, \"variable\": \"ID\", \"value\": \"4271\"}, {\"component 0\": -0.24244520130416544, \"component 1\": 0.1492644989649545, \"variable\": \"ID\", \"value\": \"4120\"}, {\"component 0\": -0.18748464251845137, \"component 1\": -0.1536090679537523, \"variable\": \"ID\", \"value\": \"2036\"}, {\"component 0\": -0.2090827384580104, \"component 1\": 0.09161901956533147, \"variable\": \"ID\", \"value\": \"115\"}, {\"component 0\": -0.2090827384580104, \"component 1\": 0.09161901956533147, \"variable\": \"ID\", \"value\": \"4259\"}, {\"component 0\": -0.2326513140188685, \"component 1\": -0.22930079172682624, \"variable\": \"ID\", \"value\": \"8687\"}, {\"component 0\": -0.2326513140188685, \"component 1\": -0.22930079172682624, \"variable\": \"ID\", \"value\": \"2447\"}, {\"component 0\": 1.37554723922651, \"component 1\": -1.2311696233918676, \"variable\": \"ID\", \"value\": \"10140\"}, {\"component 0\": 0.31342638224289404, \"component 1\": -0.3912243059422805, \"variable\": \"ID\", \"value\": \"9353\"}, {\"component 0\": -0.2326513140188685, \"component 1\": -0.22930079172682624, \"variable\": \"ID\", \"value\": \"3623\"}, {\"component 0\": -0.24244520130416544, \"component 1\": 0.1492644989649545, \"variable\": \"ID\", \"value\": \"738\"}, {\"component 0\": -0.24155649091062956, \"component 1\": -0.2759313787774795, \"variable\": \"ID\", \"value\": \"7631\"}, {\"component 0\": 1.2590252318975836, \"component 1\": 0.4577725683011613, \"variable\": \"ID\", \"value\": \"4789\"}, {\"component 0\": -0.20546942383403138, \"component 1\": -0.00786637759709844, \"variable\": \"ID\", \"value\": \"773\"}, {\"component 0\": -0.22791492653810408, \"component 1\": -0.12416199893223678, \"variable\": \"ID\", \"value\": \"10602\"}, {\"component 0\": -0.2090827384580104, \"component 1\": 0.09161901956533147, \"variable\": \"ID\", \"value\": \"1446\"}, {\"component 0\": -0.27491895375678455, \"component 1\": -0.21828589937785645, \"variable\": \"ID\", \"value\": \"3270\"}, {\"component 0\": 0.4364896689817595, \"component 1\": 1.3321170183211475, \"variable\": \"ID\", \"value\": \"8443\"}, {\"component 0\": -0.22791492653810408, \"component 1\": -0.12416199893223678, \"variable\": \"ID\", \"value\": \"9653\"}, {\"component 0\": -0.19656424694227034, \"component 1\": 0.03876420945355481, \"variable\": \"ID\", \"value\": \"8916\"}, {\"component 0\": -0.27018256627602016, \"component 1\": -0.11314710658326697, \"variable\": \"ID\", \"value\": \"8017\"}, {\"component 0\": 0.2607685240566611, \"component 1\": 0.5791830419136542, \"variable\": \"ID\", \"value\": \"5830\"}, {\"component 0\": -0.18748464251845137, \"component 1\": -0.1536090679537523, \"variable\": \"ID\", \"value\": \"4597\"}, {\"component 0\": -0.15501089006583224, \"component 1\": 0.2139413303890587, \"variable\": \"ID\", \"value\": \"7023\"}, {\"component 0\": -0.22791492653810408, \"component 1\": -0.12416199893223678, \"variable\": \"ID\", \"value\": \"8086\"}, {\"component 0\": -0.2326513140188685, \"component 1\": -0.22930079172682624, \"variable\": \"ID\", \"value\": \"8825\"}, {\"component 0\": -0.2090827384580104, \"component 1\": 0.09161901956533147, \"variable\": \"ID\", \"value\": \"2930\"}, {\"component 0\": -0.007027110112588541, \"component 1\": 0.7044637012483306, \"variable\": \"ID\", \"value\": \"1928\"}, {\"component 0\": -0.14174454827413607, \"component 1\": -0.19320333955605887, \"variable\": \"ID\", \"value\": \"7108\"}, {\"component 0\": -0.22791492653810408, \"component 1\": -0.12416199893223678, \"variable\": \"ID\", \"value\": \"10925\"}, {\"component 0\": -0.3588215817207673, \"component 1\": 0.4703911406860146, \"variable\": \"ID\", \"value\": \"9960\"}, {\"component 0\": 0.48526965510615566, \"component 1\": 1.3083233449317917, \"variable\": \"ID\", \"value\": \"8800\"}, {\"component 0\": -0.15501089006583224, \"component 1\": 0.2139413303890587, \"variable\": \"ID\", \"value\": \"9224\"}, {\"component 0\": 0.18312810010362487, \"component 1\": 0.13594091979776934, \"variable\": \"ID\", \"value\": \"5519\"}, {\"component 0\": -0.19656424694227034, \"component 1\": 0.03876420945355481, \"variable\": \"ID\", \"value\": \"5046\"}, {\"component 0\": -0.18274825503768696, \"component 1\": -0.04847027515916284, \"variable\": \"ID\", \"value\": \"7037\"}, {\"component 0\": -0.19656424694227034, \"component 1\": 0.03876420945355481, \"variable\": \"ID\", \"value\": \"905\"}, {\"component 0\": -0.22791492653810408, \"component 1\": -0.12416199893223678, \"variable\": \"ID\", \"value\": \"8624\"}, {\"component 0\": -0.19656424694227034, \"component 1\": 0.03876420945355481, \"variable\": \"ID\", \"value\": \"8945\"}, {\"component 0\": -0.2326513140188685, \"component 1\": -0.22930079172682624, \"variable\": \"ID\", \"value\": \"6445\"}, {\"component 0\": -0.2326513140188685, \"component 1\": -0.22930079172682624, \"variable\": \"ID\", \"value\": \"2727\"}, {\"component 0\": -0.2326513140188685, \"component 1\": -0.22930079172682624, \"variable\": \"ID\", \"value\": \"6404\"}, {\"component 0\": -0.20017756156624936, \"component 1\": 0.1382496066159847, \"variable\": \"ID\", \"value\": \"11074\"}, {\"component 0\": 0.8460049809824656, \"component 1\": 0.4725132147978596, \"variable\": \"ID\", \"value\": \"10150\"}, {\"component 0\": -0.13283937138237503, \"component 1\": -0.1465727525054056, \"variable\": \"ID\", \"value\": \"1968\"}, {\"component 0\": -0.2326513140188685, \"component 1\": -0.22930079172682624, \"variable\": \"ID\", \"value\": \"6534\"}, {\"component 0\": -0.18274825503768696, \"component 1\": -0.04847027515916284, \"variable\": \"ID\", \"value\": \"9485\"}, {\"component 0\": -0.15501089006583224, \"component 1\": 0.2139413303890587, \"variable\": \"ID\", \"value\": \"7053\"}, {\"component 0\": -0.2326513140188685, \"component 1\": -0.22930079172682624, \"variable\": \"ID\", \"value\": \"4654\"}, {\"component 0\": 0.32810671424053545, \"component 1\": 0.2943606827922639, \"variable\": \"ID\", \"value\": \"9760\"}, {\"component 0\": 0.17895931069262822, \"component 1\": 0.19444912554170554, \"variable\": \"ID\", \"value\": \"1048\"}, {\"component 0\": 0.8559874536209592, \"component 1\": 0.3929170813307212, \"variable\": \"ID\", \"value\": \"10619\"}, {\"component 0\": -0.22791492653810408, \"component 1\": -0.12416199893223678, \"variable\": \"ID\", \"value\": \"9308\"}, {\"component 0\": -0.24155649091062956, \"component 1\": -0.2759313787774795, \"variable\": \"ID\", \"value\": \"10505\"}, {\"component 0\": 1.387020703958665, \"component 1\": -0.3232767130026916, \"variable\": \"ID\", \"value\": \"8362\"}, {\"component 0\": -0.24244520130416544, \"component 1\": 0.1492644989649545, \"variable\": \"ID\", \"value\": \"2625\"}, {\"component 0\": 0.47539223836038935, \"component 1\": 0.182963227046338, \"variable\": \"ID\", \"value\": \"4637\"}, {\"component 0\": 1.0828311118428824, \"component 1\": 0.12692998934696498, \"variable\": \"ID\", \"value\": \"9972\"}, {\"component 0\": -0.20017756156624936, \"component 1\": 0.1382496066159847, \"variable\": \"ID\", \"value\": \"4483\"}, {\"component 0\": 0.20669667566448297, \"component 1\": 0.45686073108992703, \"variable\": \"ID\", \"value\": \"4487\"}, {\"component 0\": -0.18274825503768696, \"component 1\": -0.04847027515916284, \"variable\": \"ID\", \"value\": \"4988\"}, {\"component 0\": 0.3977518144073531, \"component 1\": -0.2602788950695469, \"variable\": \"ID\", \"value\": \"8931\"}, {\"component 0\": -0.24155649091062956, \"component 1\": -0.2759313787774795, \"variable\": \"ID\", \"value\": \"5871\"}, {\"component 0\": 0.4024882018881175, \"component 1\": -0.15514010227495745, \"variable\": \"ID\", \"value\": \"2008\"}, {\"component 0\": 0.271158742504978, \"component 1\": -0.38020941359331073, \"variable\": \"ID\", \"value\": \"3139\"}, {\"component 0\": -0.20017756156624936, \"component 1\": 0.1382496066159847, \"variable\": \"ID\", \"value\": \"10037\"}, {\"component 0\": -0.18274825503768696, \"component 1\": -0.04847027515916284, \"variable\": \"ID\", \"value\": \"10673\"}, {\"component 0\": -0.18748464251845137, \"component 1\": -0.1536090679537523, \"variable\": \"ID\", \"value\": \"5303\"}, {\"component 0\": -0.20017756156624936, \"component 1\": 0.1382496066159847, \"variable\": \"ID\", \"value\": \"538\"}, {\"component 0\": 0.3585930537433112, \"component 1\": -0.31553258216920654, \"variable\": \"ID\", \"value\": \"7922\"}, {\"component 0\": -0.386558946692622, \"component 1\": 0.20797953513779313, \"variable\": \"ID\", \"value\": \"5692\"}, {\"component 0\": -0.20017756156624936, \"component 1\": 0.1382496066159847, \"variable\": \"ID\", \"value\": \"4843\"}, {\"component 0\": -0.18748464251845137, \"component 1\": -0.1536090679537523, \"variable\": \"ID\", \"value\": \"6383\"}, {\"component 0\": -0.2326513140188685, \"component 1\": -0.22930079172682624, \"variable\": \"ID\", \"value\": \"1628\"}, {\"component 0\": 0.4476548733885346, \"component 1\": -0.07944837850188351, \"variable\": \"ID\", \"value\": \"1204\"}, {\"component 0\": -0.20017756156624936, \"component 1\": 0.1382496066159847, \"variable\": \"ID\", \"value\": \"3673\"}, {\"component 0\": -0.1513975754418532, \"component 1\": 0.11445593322662873, \"variable\": \"ID\", \"value\": \"760\"}, {\"component 0\": -0.24244520130416544, \"component 1\": 0.1492644989649545, \"variable\": \"ID\", \"value\": \"8957\"}, {\"component 0\": -0.18748464251845137, \"component 1\": -0.1536090679537523, \"variable\": \"ID\", \"value\": \"4128\"}, {\"component 0\": 0.8596007682449383, \"component 1\": 0.2934316841682913, \"variable\": \"ID\", \"value\": \"6810\"}, {\"component 0\": 1.967520773403705, \"component 1\": -0.5350853329130757, \"variable\": \"ID\", \"value\": \"5386\"}, {\"component 0\": -0.3588215817207673, \"component 1\": 0.4703911406860146, \"variable\": \"ID\", \"value\": \"8700\"}, {\"component 0\": 0.9712412898361718, \"component 1\": -0.6885184245272872, \"variable\": \"ID\", \"value\": \"3202\"}, {\"component 0\": -0.27018256627602016, \"component 1\": -0.11314710658326697, \"variable\": \"ID\", \"value\": \"1328\"}, {\"component 0\": -0.19656424694227034, \"component 1\": 0.03876420945355481, \"variable\": \"ID\", \"value\": \"8405\"}, {\"component 0\": -0.2326513140188685, \"component 1\": -0.22930079172682624, \"variable\": \"ID\", \"value\": \"6515\"}, {\"component 0\": -0.2388318866801864, \"component 1\": 0.04977910180252461, \"variable\": \"ID\", \"value\": \"2882\"}, {\"component 0\": -0.18748464251845137, \"component 1\": -0.1536090679537523, \"variable\": \"ID\", \"value\": \"7574\"}, {\"component 0\": 0.03340317390706415, \"component 1\": 0.6750166322268151, \"variable\": \"ID\", \"value\": \"6387\"}, {\"component 0\": 0.21030999028846198, \"component 1\": 0.35737533392749715, \"variable\": \"ID\", \"value\": \"5320\"}, {\"component 0\": -0.15501089006583224, \"component 1\": 0.2139413303890587, \"variable\": \"ID\", \"value\": \"5048\"}, {\"component 0\": -0.24155649091062956, \"component 1\": -0.2759313787774795, \"variable\": \"ID\", \"value\": \"8146\"}, {\"component 0\": -0.18274825503768696, \"component 1\": -0.04847027515916284, \"variable\": \"ID\", \"value\": \"10031\"}, {\"component 0\": 0.18786448758438928, \"component 1\": 0.2410797125923588, \"variable\": \"ID\", \"value\": \"5748\"}, {\"component 0\": -0.20017756156624936, \"component 1\": 0.1382496066159847, \"variable\": \"ID\", \"value\": \"2134\"}, {\"component 0\": -0.22791492653810408, \"component 1\": -0.12416199893223678, \"variable\": \"ID\", \"value\": \"1523\"}, {\"component 0\": -0.1513975754418532, \"component 1\": 0.11445593322662873, \"variable\": \"ID\", \"value\": \"9665\"}, {\"component 0\": -0.19656424694227034, \"component 1\": 0.03876420945355481, \"variable\": \"ID\", \"value\": \"4640\"}, {\"component 0\": -0.15501089006583224, \"component 1\": 0.2139413303890587, \"variable\": \"ID\", \"value\": \"3635\"}, {\"component 0\": 0.1742229232118638, \"component 1\": 0.08931033274711611, \"variable\": \"ID\", \"value\": \"3547\"}, {\"component 0\": -0.18274825503768696, \"component 1\": -0.04847027515916284, \"variable\": \"ID\", \"value\": \"2456\"}, {\"component 0\": -0.22791492653810408, \"component 1\": -0.12416199893223678, \"variable\": \"ID\", \"value\": \"5633\"}, {\"component 0\": -0.2326513140188685, \"component 1\": -0.22930079172682624, \"variable\": \"ID\", \"value\": \"7801\"}, {\"component 0\": 1.458653217075326, \"component 1\": 0.09952737243977902, \"variable\": \"ID\", \"value\": \"10489\"}, {\"component 0\": -0.22791492653810408, \"component 1\": -0.12416199893223678, \"variable\": \"ID\", \"value\": \"7011\"}, {\"component 0\": 0.2330311590848064, \"component 1\": 0.31677143636543276, \"variable\": \"ID\", \"value\": \"2620\"}, {\"component 0\": -0.2326513140188685, \"component 1\": -0.22930079172682624, \"variable\": \"ID\", \"value\": \"3933\"}, {\"component 0\": -0.22791492653810408, \"component 1\": -0.12416199893223678, \"variable\": \"ID\", \"value\": \"10981\"}, {\"component 0\": -0.18748464251845137, \"component 1\": -0.1536090679537523, \"variable\": \"ID\", \"value\": \"1734\"}, {\"component 0\": -0.37460589996328814, \"component 1\": 0.2545036578589136, \"variable\": \"ID\", \"value\": \"10995\"}, {\"component 0\": -0.2388318866801864, \"component 1\": 0.04977910180252461, \"variable\": \"ID\", \"value\": \"6357\"}, {\"component 0\": -0.24155649091062956, \"component 1\": -0.2759313787774795, \"variable\": \"ID\", \"value\": \"9209\"}, {\"component 0\": -0.22791492653810408, \"component 1\": -0.12416199893223678, \"variable\": \"ID\", \"value\": \"10286\"}, {\"component 0\": 0.3988291101540856, \"component 1\": -0.38650561558733854, \"variable\": \"ID\", \"value\": \"2611\"}, {\"component 0\": -0.23682010342986515, \"component 1\": -0.17079258598289002, \"variable\": \"ID\", \"value\": \"1600\"}, {\"component 0\": -0.22791492653810408, \"component 1\": -0.12416199893223678, \"variable\": \"ID\", \"value\": \"3308\"}, {\"component 0\": -0.01176349759335295, \"component 1\": 0.5993249084537411, \"variable\": \"ID\", \"value\": \"5407\"}, {\"component 0\": -0.17510701112029106, \"component 1\": -0.1355578601564358, \"variable\": \"ID\", \"value\": \"2166\"}, {\"component 0\": -0.19656424694227034, \"component 1\": 0.03876420945355481, \"variable\": \"ID\", \"value\": \"3955\"}, {\"component 0\": -0.20546942383403138, \"component 1\": -0.00786637759709844, \"variable\": \"ID\", \"value\": \"6634\"}, {\"component 0\": -0.19656424694227034, \"component 1\": 0.03876420945355481, \"variable\": \"ID\", \"value\": \"3056\"}, {\"component 0\": 1.458653217075326, \"component 1\": 0.09952737243977902, \"variable\": \"ID\", \"value\": \"5718\"}, {\"component 0\": -0.18274825503768696, \"component 1\": -0.04847027515916284, \"variable\": \"ID\", \"value\": \"6872\"}, {\"component 0\": -0.18274825503768696, \"component 1\": -0.04847027515916284, \"variable\": \"ID\", \"value\": \"8164\"}, {\"component 0\": 1.6795410335008414, \"component 1\": 0.9281530726203463, \"variable\": \"ID\", \"value\": \"4580\"}, {\"component 0\": -0.24244520130416544, \"component 1\": 0.1492644989649545, \"variable\": \"ID\", \"value\": \"9305\"}, {\"component 0\": -0.0876726998819579, \"component 1\": -0.07088102873233168, \"variable\": \"ID\", \"value\": \"453\"}, {\"component 0\": 3.053035778416121, \"component 1\": -0.8151069746125446, \"variable\": \"ID\", \"value\": \"8545\"}, {\"component 0\": -0.27018256627602016, \"component 1\": -0.11314710658326697, \"variable\": \"ID\", \"value\": \"9850\"}, {\"component 0\": -0.020668674485113992, \"component 1\": 0.5526943214030878, \"variable\": \"ID\", \"value\": \"7378\"}, {\"component 0\": -0.20017756156624936, \"component 1\": 0.1382496066159847, \"variable\": \"ID\", \"value\": \"7646\"}, {\"component 0\": -0.19656424694227034, \"component 1\": 0.03876420945355481, \"variable\": \"ID\", \"value\": \"1640\"}, {\"component 0\": -0.20017756156624936, \"component 1\": 0.1382496066159847, \"variable\": \"ID\", \"value\": \"5184\"}, {\"component 0\": 0.3977518144073531, \"component 1\": -0.2602788950695469, \"variable\": \"ID\", \"value\": \"8492\"}, {\"component 0\": -0.2326513140188685, \"component 1\": -0.22930079172682624, \"variable\": \"ID\", \"value\": \"11188\"}, {\"component 0\": -0.007027110112588541, \"component 1\": 0.7044637012483306, \"variable\": \"ID\", \"value\": \"1212\"}, {\"component 0\": -0.19656424694227034, \"component 1\": 0.03876420945355481, \"variable\": \"ID\", \"value\": \"9097\"}, {\"component 0\": 1.482096259114394, \"component 1\": -0.3456874665758604, \"variable\": \"ID\", \"value\": \"10473\"}, {\"component 0\": 1.5315572535475979, \"component 1\": 0.43763070176107444, \"variable\": \"ID\", \"value\": \"7962\"}, {\"component 0\": 0.9968877926982103, \"component 1\": 1.0497422017791753, \"variable\": \"ID\", \"value\": \"9984\"}, {\"component 0\": -0.2326513140188685, \"component 1\": -0.22930079172682624, \"variable\": \"ID\", \"value\": \"5527\"}, {\"component 0\": -0.18274825503768696, \"component 1\": -0.04847027515916284, \"variable\": \"ID\", \"value\": \"6374\"}, {\"component 0\": 0.4364896689817595, \"component 1\": 1.3321170183211475, \"variable\": \"ID\", \"value\": \"7453\"}, {\"component 0\": -0.23682010342986515, \"component 1\": -0.17079258598289002, \"variable\": \"ID\", \"value\": \"8952\"}, {\"component 0\": 0.4077342870458467, \"component 1\": -0.33987502853668533, \"variable\": \"ID\", \"value\": \"241\"}, {\"component 0\": -0.007027110112588541, \"component 1\": 0.7044637012483306, \"variable\": \"ID\", \"value\": \"8975\"}, {\"component 0\": -0.15501089006583224, \"component 1\": 0.2139413303890587, \"variable\": \"ID\", \"value\": \"6119\"}, {\"component 0\": 1.5517413592812117, \"component 1\": -0.9003270444376712, \"variable\": \"ID\", \"value\": \"5236\"}, {\"component 0\": -0.18748464251845137, \"component 1\": -0.1536090679537523, \"variable\": \"ID\", \"value\": \"5723\"}, {\"component 0\": -0.20017756156624936, \"component 1\": 0.1382496066159847, \"variable\": \"ID\", \"value\": \"1710\"}, {\"component 0\": -0.24155649091062956, \"component 1\": -0.2759313787774795, \"variable\": \"ID\", \"value\": \"1970\"}, {\"component 0\": -0.23682010342986515, \"component 1\": -0.17079258598289002, \"variable\": \"ID\", \"value\": \"5313\"}, {\"component 0\": -0.23682010342986515, \"component 1\": -0.17079258598289002, \"variable\": \"ID\", \"value\": \"10634\"}, {\"component 0\": 0.37020303478869504, \"component 1\": -0.22372134339312608, \"variable\": \"ID\", \"value\": \"7010\"}, {\"component 0\": -0.2326513140188685, \"component 1\": -0.22930079172682624, \"variable\": \"ID\", \"value\": \"8562\"}, {\"component 0\": -0.22791492653810408, \"component 1\": -0.12416199893223678, \"variable\": \"ID\", \"value\": \"3158\"}, {\"component 0\": -0.20017756156624936, \"component 1\": 0.1382496066159847, \"variable\": \"ID\", \"value\": \"4436\"}, {\"component 0\": -0.22791492653810408, \"component 1\": -0.12416199893223678, \"variable\": \"ID\", \"value\": \"5287\"}, {\"component 0\": -0.18748464251845137, \"component 1\": -0.1536090679537523, \"variable\": \"ID\", \"value\": \"2445\"}, {\"component 0\": 0.228294771604042, \"component 1\": 0.21163264357084327, \"variable\": \"ID\", \"value\": \"6059\"}, {\"component 0\": -0.24155649091062956, \"component 1\": -0.2759313787774795, \"variable\": \"ID\", \"value\": \"4550\"}, {\"component 0\": -0.22791492653810408, \"component 1\": -0.12416199893223678, \"variable\": \"ID\", \"value\": \"4240\"}, {\"component 0\": -0.18274825503768696, \"component 1\": -0.04847027515916284, \"variable\": \"ID\", \"value\": \"8911\"}, {\"component 0\": 0.4364896689817595, \"component 1\": 1.3321170183211475, \"variable\": \"ID\", \"value\": \"3706\"}, {\"component 0\": -0.3588215817207673, \"component 1\": 0.4703911406860146, \"variable\": \"ID\", \"value\": \"3628\"}, {\"component 0\": -0.1513975754418532, \"component 1\": 0.11445593322662873, \"variable\": \"ID\", \"value\": \"10175\"}, {\"component 0\": -0.27491895375678455, \"component 1\": -0.21828589937785645, \"variable\": \"ID\", \"value\": \"8985\"}, {\"component 0\": 0.8235137011683401, \"component 1\": 0.02536668298791022, \"variable\": \"ID\", \"value\": \"5204\"}, {\"component 0\": 0.215601852556244, \"component 1\": 0.5034913181405802, \"variable\": \"ID\", \"value\": \"9220\"}, {\"component 0\": -0.2326513140188685, \"component 1\": -0.22930079172682624, \"variable\": \"ID\", \"value\": \"9888\"}, {\"component 0\": -0.27018256627602016, \"component 1\": -0.11314710658326697, \"variable\": \"ID\", \"value\": \"5263\"}, {\"component 0\": 0.41247067452661107, \"component 1\": -0.23473623574209587, \"variable\": \"ID\", \"value\": \"1020\"}, {\"component 0\": -0.20017756156624936, \"component 1\": 0.1382496066159847, \"variable\": \"ID\", \"value\": \"9503\"}, {\"component 0\": -0.18748464251845137, \"component 1\": -0.1536090679537523, \"variable\": \"ID\", \"value\": \"10613\"}, {\"component 0\": -0.2090827384580104, \"component 1\": 0.09161901956533147, \"variable\": \"ID\", \"value\": \"67\"}, {\"component 0\": 0.45391897551032195, \"component 1\": 1.145397136546, \"variable\": \"ID\", \"value\": \"6019\"}, {\"component 0\": -0.22791492653810408, \"component 1\": -0.12416199893223678, \"variable\": \"ID\", \"value\": \"5863\"}, {\"component 0\": -0.007027110112588541, \"component 1\": 0.7044637012483306, \"variable\": \"ID\", \"value\": \"3717\"}, {\"component 0\": -0.33233826022537205, \"component 1\": 0.24348876550994378, \"variable\": \"ID\", \"value\": \"6730\"}, {\"component 0\": -0.20017756156624936, \"component 1\": 0.1382496066159847, \"variable\": \"ID\", \"value\": \"10749\"}, {\"component 0\": 0.3977518144073531, \"component 1\": -0.2602788950695469, \"variable\": \"ID\", \"value\": \"4998\"}, {\"component 0\": 0.18312810010362487, \"component 1\": 0.13594091979776934, \"variable\": \"ID\", \"value\": \"6287\"}, {\"component 0\": -0.2090827384580104, \"component 1\": 0.09161901956533147, \"variable\": \"ID\", \"value\": \"5985\"}, {\"component 0\": -0.23682010342986515, \"component 1\": -0.17079258598289002, \"variable\": \"ID\", \"value\": \"4754\"}, {\"component 0\": -0.18274825503768696, \"component 1\": -0.04847027515916284, \"variable\": \"ID\", \"value\": \"4002\"}, {\"component 0\": 0.18312810010362487, \"component 1\": 0.13594091979776934, \"variable\": \"ID\", \"value\": \"8870\"}, {\"component 0\": 0.28568901727103935, \"component 1\": -0.6536359114905019, \"variable\": \"ID\", \"value\": \"966\"}, {\"component 0\": 0.37020303478869504, \"component 1\": -0.22372134339312608, \"variable\": \"ID\", \"value\": \"4767\"}, {\"component 0\": 0.03340317390706415, \"component 1\": 0.6750166322268151, \"variable\": \"ID\", \"value\": \"9725\"}, {\"component 0\": -0.18274825503768696, \"component 1\": -0.04847027515916284, \"variable\": \"ID\", \"value\": \"4475\"}, {\"component 0\": 0.17694752744230696, \"component 1\": 0.4150208133271202, \"variable\": \"ID\", \"value\": \"5740\"}, {\"component 0\": -0.23682010342986515, \"component 1\": -0.17079258598289002, \"variable\": \"ID\", \"value\": \"5731\"}, {\"component 0\": -0.20017756156624936, \"component 1\": 0.1382496066159847, \"variable\": \"ID\", \"value\": \"7290\"}, {\"component 0\": -0.22791492653810408, \"component 1\": -0.12416199893223678, \"variable\": \"ID\", \"value\": \"3846\"}, {\"component 0\": -0.18274825503768696, \"component 1\": -0.04847027515916284, \"variable\": \"ID\", \"value\": \"8104\"}, {\"component 0\": -0.20017756156624936, \"component 1\": 0.1382496066159847, \"variable\": \"ID\", \"value\": \"4507\"}, {\"component 0\": -0.2326513140188685, \"component 1\": -0.22930079172682624, \"variable\": \"ID\", \"value\": \"11013\"}, {\"component 0\": 0.2767838403792783, \"component 1\": -0.7002664985411552, \"variable\": \"ID\", \"value\": \"4491\"}, {\"component 0\": -0.01176349759335295, \"component 1\": 0.5993249084537411, \"variable\": \"ID\", \"value\": \"3759\"}, {\"component 0\": 0.2607685240566611, \"component 1\": 0.5791830419136542, \"variable\": \"ID\", \"value\": \"1162\"}, {\"component 0\": 0.06949024098366231, \"component 1\": 0.9430816334071961, \"variable\": \"ID\", \"value\": \"2055\"}, {\"component 0\": -0.18274825503768696, \"component 1\": -0.04847027515916284, \"variable\": \"ID\", \"value\": \"10766\"}, {\"component 0\": -0.22791492653810408, \"component 1\": -0.12416199893223678, \"variable\": \"ID\", \"value\": \"4415\"}, {\"component 0\": 1.066892797407981, \"component 1\": 1.301138914978427, \"variable\": \"ID\", \"value\": \"3005\"}, {\"component 0\": -0.2388318866801864, \"component 1\": 0.04977910180252461, \"variable\": \"ID\", \"value\": \"2223\"}, {\"component 0\": -0.19656424694227034, \"component 1\": 0.03876420945355481, \"variable\": \"ID\", \"value\": \"4817\"}, {\"component 0\": -0.33233826022537205, \"component 1\": 0.24348876550994378, \"variable\": \"ID\", \"value\": \"2875\"}, {\"component 0\": -0.18748464251845137, \"component 1\": -0.1536090679537523, \"variable\": \"ID\", \"value\": \"10536\"}, {\"component 0\": -0.2326513140188685, \"component 1\": -0.22930079172682624, \"variable\": \"ID\", \"value\": \"11112\"}, {\"component 0\": -0.2326513140188685, \"component 1\": -0.22930079172682624, \"variable\": \"ID\", \"value\": \"3807\"}, {\"component 0\": -0.22791492653810408, \"component 1\": -0.12416199893223678, \"variable\": \"ID\", \"value\": \"9197\"}, {\"component 0\": -0.2326513140188685, \"component 1\": -0.22930079172682624, \"variable\": \"ID\", \"value\": \"10832\"}, {\"component 0\": 0.3977518144073531, \"component 1\": -0.2602788950695469, \"variable\": \"ID\", \"value\": \"6421\"}, {\"component 0\": 0.6785251624525438, \"component 1\": 0.6695811882115453, \"variable\": \"ID\", \"value\": \"4207\"}, {\"component 0\": -0.27491895375678455, \"component 1\": -0.21828589937785645, \"variable\": \"ID\", \"value\": \"577\"}, {\"component 0\": -0.2090827384580104, \"component 1\": 0.09161901956533147, \"variable\": \"ID\", \"value\": \"10855\"}, {\"component 0\": -0.18274825503768696, \"component 1\": -0.04847027515916284, \"variable\": \"ID\", \"value\": \"3081\"}, {\"component 0\": -0.20017756156624936, \"component 1\": 0.1382496066159847, \"variable\": \"ID\", \"value\": \"3535\"}, {\"component 0\": 0.18786448758438928, \"component 1\": 0.2410797125923588, \"variable\": \"ID\", \"value\": \"247\"}, {\"component 0\": 0.18786448758438928, \"component 1\": 0.2410797125923588, \"variable\": \"ID\", \"value\": \"8707\"}, {\"component 0\": -0.2326513140188685, \"component 1\": -0.22930079172682624, \"variable\": \"ID\", \"value\": \"9523\"}, {\"component 0\": 0.8370998040907045, \"component 1\": 0.4258826277472064, \"variable\": \"ID\", \"value\": \"6072\"}, {\"component 0\": -0.22791492653810408, \"component 1\": -0.12416199893223678, \"variable\": \"ID\", \"value\": \"6295\"}, {\"component 0\": -0.20017756156624936, \"component 1\": 0.1382496066159847, \"variable\": \"ID\", \"value\": \"10914\"}, {\"component 0\": 3.06211538283994, \"component 1\": -1.0074802520198518, \"variable\": \"ID\", \"value\": \"1509\"}, {\"component 0\": -0.2326513140188685, \"component 1\": -0.22930079172682624, \"variable\": \"ID\", \"value\": \"5577\"}, {\"component 0\": 0.2607685240566611, \"component 1\": 0.5791830419136542, \"variable\": \"ID\", \"value\": \"7348\"}, {\"component 0\": 0.4576373460270282, \"component 1\": -0.15904451196902195, \"variable\": \"ID\", \"value\": \"1127\"}, {\"component 0\": -0.15501089006583224, \"component 1\": 0.2139413303890587, \"variable\": \"ID\", \"value\": \"1833\"}, {\"component 0\": -0.2326513140188685, \"component 1\": -0.22930079172682624, \"variable\": \"ID\", \"value\": \"4944\"}, {\"component 0\": -0.15501089006583224, \"component 1\": 0.2139413303890587, \"variable\": \"ID\", \"value\": \"9080\"}, {\"component 0\": -0.18274825503768696, \"component 1\": -0.04847027515916284, \"variable\": \"ID\", \"value\": \"6466\"}, {\"component 0\": -0.20017756156624936, \"component 1\": 0.1382496066159847, \"variable\": \"ID\", \"value\": \"9964\"}, {\"component 0\": -0.19656424694227034, \"component 1\": 0.03876420945355481, \"variable\": \"ID\", \"value\": \"4790\"}, {\"component 0\": -0.24244520130416544, \"component 1\": 0.1492644989649545, \"variable\": \"ID\", \"value\": \"10245\"}, {\"component 0\": -0.24155649091062956, \"component 1\": -0.2759313787774795, \"variable\": \"ID\", \"value\": \"1109\"}, {\"component 0\": -0.22791492653810408, \"component 1\": -0.12416199893223678, \"variable\": \"ID\", \"value\": \"6001\"}, {\"component 0\": 1.7108917130966752, \"component 1\": 1.0910792810061378, \"variable\": \"ID\", \"value\": \"5538\"}, {\"component 0\": -0.27018256627602016, \"component 1\": -0.11314710658326697, \"variable\": \"ID\", \"value\": \"10552\"}, {\"component 0\": -0.22791492653810408, \"component 1\": -0.12416199893223678, \"variable\": \"ID\", \"value\": \"1545\"}, {\"component 0\": -0.2326513140188685, \"component 1\": -0.22930079172682624, \"variable\": \"ID\", \"value\": \"7409\"}, {\"component 0\": -0.22791492653810408, \"component 1\": -0.12416199893223678, \"variable\": \"ID\", \"value\": \"4444\"}, {\"component 0\": 0.47539223836038935, \"component 1\": 0.182963227046338, \"variable\": \"ID\", \"value\": \"146\"}, {\"component 0\": -0.18274825503768696, \"component 1\": -0.04847027515916284, \"variable\": \"ID\", \"value\": \"6271\"}, {\"component 0\": -0.27018256627602016, \"component 1\": -0.11314710658326697, \"variable\": \"ID\", \"value\": \"10065\"}, {\"component 0\": 0.24342137753312335, \"component 1\": -0.6426210191415321, \"variable\": \"ID\", \"value\": \"4741\"}, {\"component 0\": -0.22791492653810408, \"component 1\": -0.12416199893223678, \"variable\": \"ID\", \"value\": \"246\"}, {\"component 0\": -0.19656424694227034, \"component 1\": 0.03876420945355481, \"variable\": \"ID\", \"value\": \"375\"}, {\"component 0\": 0.8037373412445494, \"component 1\": 0.4835281071468294, \"variable\": \"ID\", \"value\": \"1524\"}, {\"component 0\": -0.15501089006583224, \"component 1\": 0.2139413303890587, \"variable\": \"ID\", \"value\": \"10022\"}, {\"component 0\": 0.30452120535113303, \"component 1\": -0.43785489299293373, \"variable\": \"ID\", \"value\": \"7451\"}, {\"component 0\": -0.15501089006583224, \"component 1\": 0.2139413303890587, \"variable\": \"ID\", \"value\": \"11010\"}, {\"component 0\": 0.9213382308549901, \"component 1\": -0.8693489410949505, \"variable\": \"ID\", \"value\": \"4356\"}, {\"component 0\": 0.45391897551032195, \"component 1\": 1.145397136546, \"variable\": \"ID\", \"value\": \"3885\"}, {\"component 0\": 0.3998471271181438, \"component 1\": 1.0230748257222728, \"variable\": \"ID\", \"value\": \"1175\"}, {\"component 0\": -0.39129533417338636, \"component 1\": 0.10284074234320364, \"variable\": \"ID\", \"value\": \"880\"}, {\"component 0\": -0.27018256627602016, \"component 1\": -0.11314710658326697, \"variable\": \"ID\", \"value\": \"2320\"}, {\"component 0\": -0.20017756156624936, \"component 1\": 0.1382496066159847, \"variable\": \"ID\", \"value\": \"850\"}, {\"component 0\": -0.18274825503768696, \"component 1\": -0.04847027515916284, \"variable\": \"ID\", \"value\": \"4713\"}, {\"component 0\": -0.20546942383403138, \"component 1\": -0.00786637759709844, \"variable\": \"ID\", \"value\": \"675\"}, {\"component 0\": -0.20017756156624936, \"component 1\": 0.1382496066159847, \"variable\": \"ID\", \"value\": \"5025\"}, {\"component 0\": -0.22791492653810408, \"component 1\": -0.12416199893223678, \"variable\": \"ID\", \"value\": \"2308\"}, {\"component 0\": 0.21921516718022302, \"component 1\": 0.4040059209781504, \"variable\": \"ID\", \"value\": \"5995\"}, {\"component 0\": -0.20017756156624936, \"component 1\": 0.1382496066159847, \"variable\": \"ID\", \"value\": \"6749\"}, {\"component 0\": -0.2326513140188685, \"component 1\": -0.22930079172682624, \"variable\": \"ID\", \"value\": \"1010\"}, {\"component 0\": -0.3588215817207673, \"component 1\": 0.4703911406860146, \"variable\": \"ID\", \"value\": \"8977\"}, {\"component 0\": 0.17694752744230696, \"component 1\": 0.4150208133271202, \"variable\": \"ID\", \"value\": \"4756\"}, {\"component 0\": 0.2767838403792783, \"component 1\": -0.7002664985411552, \"variable\": \"ID\", \"value\": \"3412\"}, {\"component 0\": -0.20017756156624936, \"component 1\": 0.1382496066159847, \"variable\": \"ID\", \"value\": \"606\"}, {\"component 0\": -0.22791492653810408, \"component 1\": -0.12416199893223678, \"variable\": \"ID\", \"value\": \"5961\"}, {\"component 0\": 0.3977518144073531, \"component 1\": -0.2602788950695469, \"variable\": \"ID\", \"value\": \"2975\"}, {\"component 0\": 1.999994525856324, \"component 1\": -0.16753493457026464, \"variable\": \"ID\", \"value\": \"2894\"}, {\"component 0\": -0.27491895375678455, \"component 1\": -0.21828589937785645, \"variable\": \"ID\", \"value\": \"7613\"}, {\"component 0\": -0.18274825503768696, \"component 1\": -0.04847027515916284, \"variable\": \"ID\", \"value\": \"10542\"}, {\"component 0\": 0.2643818386806402, \"component 1\": 0.4796976447512243, \"variable\": \"ID\", \"value\": \"8015\"}, {\"component 0\": -0.20546942383403138, \"component 1\": -0.00786637759709844, \"variable\": \"ID\", \"value\": \"10617\"}, {\"component 0\": -0.22791492653810408, \"component 1\": -0.12416199893223678, \"variable\": \"ID\", \"value\": \"11166\"}, {\"component 0\": -0.24155649091062956, \"component 1\": -0.2759313787774795, \"variable\": \"ID\", \"value\": \"849\"}, {\"component 0\": -0.22791492653810408, \"component 1\": -0.12416199893223678, \"variable\": \"ID\", \"value\": \"523\"}, {\"component 0\": -0.2388318866801864, \"component 1\": 0.04977910180252461, \"variable\": \"ID\", \"value\": \"4066\"}, {\"component 0\": -0.15501089006583224, \"component 1\": 0.2139413303890587, \"variable\": \"ID\", \"value\": \"8414\"}, {\"component 0\": -0.13283937138237503, \"component 1\": -0.1465727525054056, \"variable\": \"ID\", \"value\": \"819\"}, {\"component 0\": -0.24155649091062956, \"component 1\": -0.2759313787774795, \"variable\": \"ID\", \"value\": \"4961\"}, {\"component 0\": 0.40401591652914043, \"component 1\": 0.9645666199783366, \"variable\": \"ID\", \"value\": \"749\"}, {\"component 0\": -0.2326513140188685, \"component 1\": -0.22930079172682624, \"variable\": \"ID\", \"value\": \"5430\"}, {\"component 0\": -0.18274825503768696, \"component 1\": -0.04847027515916284, \"variable\": \"ID\", \"value\": \"7755\"}, {\"component 0\": 0.4364896689817595, \"component 1\": 1.3321170183211475, \"variable\": \"ID\", \"value\": \"10525\"}, {\"component 0\": -0.0876726998819579, \"component 1\": -0.07088102873233168, \"variable\": \"ID\", \"value\": \"1453\"}, {\"component 0\": -0.2326513140188685, \"component 1\": -0.22930079172682624, \"variable\": \"ID\", \"value\": \"8310\"}, {\"component 0\": -0.22791492653810408, \"component 1\": -0.12416199893223678, \"variable\": \"ID\", \"value\": \"10710\"}, {\"component 0\": 0.8235137011683401, \"component 1\": 0.02536668298791022, \"variable\": \"ID\", \"value\": \"5031\"}, {\"component 0\": -0.23682010342986515, \"component 1\": -0.17079258598289002, \"variable\": \"ID\", \"value\": \"2613\"}, {\"component 0\": -0.15501089006583224, \"component 1\": 0.2139413303890587, \"variable\": \"ID\", \"value\": \"213\"}, {\"component 0\": 0.18786448758438928, \"component 1\": 0.2410797125923588, \"variable\": \"ID\", \"value\": \"967\"}, {\"component 0\": -0.2326513140188685, \"component 1\": -0.22930079172682624, \"variable\": \"ID\", \"value\": \"1077\"}, {\"component 0\": -0.22791492653810408, \"component 1\": -0.12416199893223678, \"variable\": \"ID\", \"value\": \"7959\"}, {\"component 0\": -0.22791492653810408, \"component 1\": -0.12416199893223678, \"variable\": \"ID\", \"value\": \"640\"}, {\"component 0\": -0.22791492653810408, \"component 1\": -0.12416199893223678, \"variable\": \"ID\", \"value\": \"4252\"}, {\"component 0\": -0.2326513140188685, \"component 1\": -0.22930079172682624, \"variable\": \"ID\", \"value\": \"8432\"}, {\"component 0\": 0.28568901727103935, \"component 1\": -0.6536359114905019, \"variable\": \"ID\", \"value\": \"6218\"}, {\"component 0\": -0.2326513140188685, \"component 1\": -0.22930079172682624, \"variable\": \"ID\", \"value\": \"6905\"}, {\"component 0\": -0.18274825503768696, \"component 1\": -0.04847027515916284, \"variable\": \"ID\", \"value\": \"5922\"}, {\"component 0\": -0.22791492653810408, \"component 1\": -0.12416199893223678, \"variable\": \"ID\", \"value\": \"3598\"}, {\"component 0\": -0.27018256627602016, \"component 1\": -0.11314710658326697, \"variable\": \"ID\", \"value\": \"6116\"}, {\"component 0\": -0.2326513140188685, \"component 1\": -0.22930079172682624, \"variable\": \"ID\", \"value\": \"6263\"}, {\"component 0\": -0.22791492653810408, \"component 1\": -0.12416199893223678, \"variable\": \"ID\", \"value\": \"10486\"}, {\"component 0\": -0.20017756156624936, \"component 1\": 0.1382496066159847, \"variable\": \"ID\", \"value\": \"2410\"}, {\"component 0\": -0.1656711302671064, \"component 1\": 1.0366052353183604, \"variable\": \"ID\", \"value\": \"193\"}, {\"component 0\": -0.27018256627602016, \"component 1\": -0.11314710658326697, \"variable\": \"ID\", \"value\": \"3363\"}, {\"component 0\": -0.18274825503768696, \"component 1\": -0.04847027515916284, \"variable\": \"ID\", \"value\": \"8278\"}, {\"component 0\": 0.2767838403792783, \"component 1\": -0.7002664985411552, \"variable\": \"ID\", \"value\": \"10660\"}, {\"component 0\": -0.39129533417338636, \"component 1\": 0.10284074234320364, \"variable\": \"ID\", \"value\": \"8686\"}, {\"component 0\": -0.23682010342986515, \"component 1\": -0.17079258598289002, \"variable\": \"ID\", \"value\": \"1604\"}, {\"component 0\": -0.23682010342986515, \"component 1\": -0.17079258598289002, \"variable\": \"ID\", \"value\": \"5907\"}, {\"component 0\": -0.22791492653810408, \"component 1\": -0.12416199893223678, \"variable\": \"ID\", \"value\": \"10669\"}, {\"component 0\": -0.19656424694227034, \"component 1\": 0.03876420945355481, \"variable\": \"ID\", \"value\": \"2918\"}, {\"component 0\": 0.43130286260670475, \"component 1\": -0.018955217244527638, \"variable\": \"ID\", \"value\": \"5735\"}, {\"component 0\": -0.3370746477061365, \"component 1\": 0.13834997271535426, \"variable\": \"ID\", \"value\": \"359\"}, {\"component 0\": -0.22791492653810408, \"component 1\": -0.12416199893223678, \"variable\": \"ID\", \"value\": \"8387\"}, {\"component 0\": 0.7779857824897837, \"component 1\": -0.049776267807040926, \"variable\": \"ID\", \"value\": \"1829\"}, {\"component 0\": -0.3588215817207673, \"component 1\": 0.4703911406860146, \"variable\": \"ID\", \"value\": \"3839\"}, {\"component 0\": -0.20017756156624936, \"component 1\": 0.1382496066159847, \"variable\": \"ID\", \"value\": \"9392\"}, {\"component 0\": -0.20017756156624936, \"component 1\": 0.1382496066159847, \"variable\": \"ID\", \"value\": \"2292\"}, {\"component 0\": -0.22791492653810408, \"component 1\": -0.12416199893223678, \"variable\": \"ID\", \"value\": \"10466\"}, {\"component 0\": 0.47539223836038935, \"component 1\": 0.182963227046338, \"variable\": \"ID\", \"value\": \"9855\"}, {\"component 0\": -0.18748464251845137, \"component 1\": -0.1536090679537523, \"variable\": \"ID\", \"value\": \"4088\"}, {\"component 0\": -0.27018256627602016, \"component 1\": -0.11314710658326697, \"variable\": \"ID\", \"value\": \"5231\"}, {\"component 0\": 0.21030999028846198, \"component 1\": 0.35737533392749715, \"variable\": \"ID\", \"value\": \"590\"}, {\"component 0\": 1.4280244107222158, \"component 1\": -0.46800977739958766, \"variable\": \"ID\", \"value\": \"8732\"}, {\"component 0\": -0.19656424694227034, \"component 1\": 0.03876420945355481, \"variable\": \"ID\", \"value\": \"2315\"}, {\"component 0\": -0.20017756156624936, \"component 1\": 0.1382496066159847, \"variable\": \"ID\", \"value\": \"3515\"}, {\"component 0\": -0.23682010342986515, \"component 1\": -0.17079258598289002, \"variable\": \"ID\", \"value\": \"2245\"}, {\"component 0\": -0.20546942383403138, \"component 1\": -0.00786637759709844, \"variable\": \"ID\", \"value\": \"6283\"}, {\"component 0\": -0.27018256627602016, \"component 1\": -0.11314710658326697, \"variable\": \"ID\", \"value\": \"2246\"}, {\"component 0\": 0.2767838403792783, \"component 1\": -0.7002664985411552, \"variable\": \"ID\", \"value\": \"6606\"}, {\"component 0\": -0.18274825503768696, \"component 1\": -0.04847027515916284, \"variable\": \"ID\", \"value\": \"5545\"}, {\"component 0\": -0.17510701112029106, \"component 1\": -0.1355578601564358, \"variable\": \"ID\", \"value\": \"7342\"}, {\"component 0\": -0.22791492653810408, \"component 1\": -0.12416199893223678, \"variable\": \"ID\", \"value\": \"837\"}, {\"component 0\": -0.33233826022537205, \"component 1\": 0.24348876550994378, \"variable\": \"ID\", \"value\": \"9500\"}, {\"component 0\": -0.23682010342986515, \"component 1\": -0.17079258598289002, \"variable\": \"ID\", \"value\": \"3602\"}, {\"component 0\": 0.4401029836057385, \"component 1\": 1.2326316211587176, \"variable\": \"ID\", \"value\": \"234\"}, {\"component 0\": -0.24155649091062956, \"component 1\": -0.2759313787774795, \"variable\": \"ID\", \"value\": \"2995\"}, {\"component 0\": -0.015932287004349583, \"component 1\": 0.6578331141976773, \"variable\": \"ID\", \"value\": \"1118\"}, {\"component 0\": 0.4576373460270282, \"component 1\": -0.15904451196902195, \"variable\": \"ID\", \"value\": \"7789\"}, {\"component 0\": -0.22791492653810408, \"component 1\": -0.12416199893223678, \"variable\": \"ID\", \"value\": \"3068\"}, {\"component 0\": 0.03340317390706415, \"component 1\": 0.6750166322268151, \"variable\": \"ID\", \"value\": \"8955\"}, {\"component 0\": -0.2326513140188685, \"component 1\": -0.22930079172682624, \"variable\": \"ID\", \"value\": \"945\"}, {\"component 0\": 0.2809526297902749, \"component 1\": -0.7587747042850914, \"variable\": \"ID\", \"value\": \"5644\"}, {\"component 0\": -0.3370746477061365, \"component 1\": 0.13834997271535426, \"variable\": \"ID\", \"value\": \"7192\"}, {\"component 0\": -0.01176349759335295, \"component 1\": 0.5993249084537411, \"variable\": \"ID\", \"value\": \"2324\"}, {\"component 0\": 0.4077342870458467, \"component 1\": -0.33987502853668533, \"variable\": \"ID\", \"value\": \"697\"}, {\"component 0\": -0.22791492653810408, \"component 1\": -0.12416199893223678, \"variable\": \"ID\", \"value\": \"3439\"}, {\"component 0\": 0.215601852556244, \"component 1\": 0.5034913181405802, \"variable\": \"ID\", \"value\": \"1506\"}, {\"component 0\": -0.20017756156624936, \"component 1\": 0.1382496066159847, \"variable\": \"ID\", \"value\": \"232\"}, {\"component 0\": -0.18748464251845137, \"component 1\": -0.1536090679537523, \"variable\": \"ID\", \"value\": \"8876\"}, {\"component 0\": -0.18748464251845137, \"component 1\": -0.1536090679537523, \"variable\": \"ID\", \"value\": \"4500\"}, {\"component 0\": -0.20017756156624936, \"component 1\": 0.1382496066159847, \"variable\": \"ID\", \"value\": \"9739\"}, {\"component 0\": -0.3588215817207673, \"component 1\": 0.4703911406860146, \"variable\": \"ID\", \"value\": \"10395\"}, {\"component 0\": -0.22791492653810408, \"component 1\": -0.12416199893223678, \"variable\": \"ID\", \"value\": \"1176\"}, {\"component 0\": 0.39157124174603514, \"component 1\": 0.018800998459803944, \"variable\": \"ID\", \"value\": \"1627\"}, {\"component 0\": -0.007027110112588541, \"component 1\": 0.7044637012483306, \"variable\": \"ID\", \"value\": \"938\"}, {\"component 0\": -0.0876726998819579, \"component 1\": -0.07088102873233168, \"variable\": \"ID\", \"value\": \"2740\"}, {\"component 0\": -0.18274825503768696, \"component 1\": -0.04847027515916284, \"variable\": \"ID\", \"value\": \"257\"}, {\"component 0\": 0.3585930537433112, \"component 1\": -0.31553258216920654, \"variable\": \"ID\", \"value\": \"4058\"}, {\"component 0\": 0.4087523040099048, \"component 1\": 1.0697054127729262, \"variable\": \"ID\", \"value\": \"7736\"}, {\"component 0\": -0.23682010342986515, \"component 1\": -0.17079258598289002, \"variable\": \"ID\", \"value\": \"8210\"}, {\"component 0\": -0.23682010342986515, \"component 1\": -0.17079258598289002, \"variable\": \"ID\", \"value\": \"833\"}, {\"component 0\": -0.19656424694227034, \"component 1\": 0.03876420945355481, \"variable\": \"ID\", \"value\": \"6230\"}, {\"component 0\": -0.18748464251845137, \"component 1\": -0.1536090679537523, \"variable\": \"ID\", \"value\": \"7325\"}, {\"component 0\": -0.19656424694227034, \"component 1\": 0.03876420945355481, \"variable\": \"ID\", \"value\": \"1307\"}, {\"component 0\": -0.2326513140188685, \"component 1\": -0.22930079172682624, \"variable\": \"ID\", \"value\": \"1502\"}, {\"component 0\": -0.18748464251845137, \"component 1\": -0.1536090679537523, \"variable\": \"ID\", \"value\": \"6211\"}, {\"component 0\": -0.22791492653810408, \"component 1\": -0.12416199893223678, \"variable\": \"ID\", \"value\": \"843\"}, {\"component 0\": -0.24155649091062956, \"component 1\": -0.2759313787774795, \"variable\": \"ID\", \"value\": \"4174\"}, {\"component 0\": 1.970766168790808, \"component 1\": -1.4174355839748005, \"variable\": \"ID\", \"value\": \"9757\"}, {\"component 0\": -0.22791492653810408, \"component 1\": -0.12416199893223678, \"variable\": \"ID\", \"value\": \"6918\"}, {\"component 0\": -0.20017756156624936, \"component 1\": 0.1382496066159847, \"variable\": \"ID\", \"value\": \"286\"}, {\"component 0\": -0.3588215817207673, \"component 1\": 0.4703911406860146, \"variable\": \"ID\", \"value\": \"11086\"}, {\"component 0\": -0.18274825503768696, \"component 1\": -0.04847027515916284, \"variable\": \"ID\", \"value\": \"1921\"}, {\"component 0\": 0.02071025485926616, \"component 1\": 0.966875306796552, \"variable\": \"ID\", \"value\": \"4138\"}, {\"component 0\": -0.24155649091062956, \"component 1\": -0.2759313787774795, \"variable\": \"ID\", \"value\": \"7718\"}, {\"component 0\": -0.18748464251845137, \"component 1\": -0.1536090679537523, \"variable\": \"ID\", \"value\": \"1291\"}, {\"component 0\": -0.19656424694227034, \"component 1\": 0.03876420945355481, \"variable\": \"ID\", \"value\": \"6862\"}, {\"component 0\": -0.3588215817207673, \"component 1\": 0.4703911406860146, \"variable\": \"ID\", \"value\": \"4136\"}, {\"component 0\": -0.2326513140188685, \"component 1\": -0.22930079172682624, \"variable\": \"ID\", \"value\": \"803\"}, {\"component 0\": -0.18748464251845137, \"component 1\": -0.1536090679537523, \"variable\": \"ID\", \"value\": \"4298\"}, {\"component 0\": 0.28568901727103935, \"component 1\": -0.6536359114905019, \"variable\": \"ID\", \"value\": \"10833\"}, {\"component 0\": 1.503819888575743, \"component 1\": 0.17521909621285298, \"variable\": \"ID\", \"value\": \"9606\"}, {\"component 0\": 0.28568901727103935, \"component 1\": -0.6536359114905019, \"variable\": \"ID\", \"value\": \"8534\"}, {\"component 0\": 0.45391897551032195, \"component 1\": 1.145397136546, \"variable\": \"ID\", \"value\": \"5153\"}, {\"component 0\": -0.22791492653810408, \"component 1\": -0.12416199893223678, \"variable\": \"ID\", \"value\": \"961\"}, {\"component 0\": -0.19656424694227034, \"component 1\": 0.03876420945355481, \"variable\": \"ID\", \"value\": \"5011\"}, {\"component 0\": 0.2330311590848064, \"component 1\": 0.31677143636543276, \"variable\": \"ID\", \"value\": \"6653\"}, {\"component 0\": 0.14559684784647323, \"component 1\": 0.2520946049413286, \"variable\": \"ID\", \"value\": \"9094\"}, {\"component 0\": -0.22791492653810408, \"component 1\": -0.12416199893223678, \"variable\": \"ID\", \"value\": \"810\"}, {\"component 0\": -0.007027110112588541, \"component 1\": 0.7044637012483306, \"variable\": \"ID\", \"value\": \"5493\"}, {\"component 0\": 1.0381374154720682, \"component 1\": -0.37085313187940594, \"variable\": \"ID\", \"value\": \"2147\"}, {\"component 0\": 0.06949024098366231, \"component 1\": 0.9430816334071961, \"variable\": \"ID\", \"value\": \"5107\"}, {\"component 0\": 0.9047674397453555, \"component 1\": 0.3691234079413652, \"variable\": \"ID\", \"value\": \"3979\"}, {\"component 0\": 0.6097344539411075, \"component 1\": 0.5217162180603673, \"variable\": \"ID\", \"value\": \"6049\"}, {\"component 0\": -0.22791492653810408, \"component 1\": -0.12416199893223678, \"variable\": \"ID\", \"value\": \"8147\"}, {\"component 0\": 0.215601852556244, \"component 1\": 0.5034913181405802, \"variable\": \"ID\", \"value\": \"1857\"}, {\"component 0\": 1.7108917130966752, \"component 1\": 1.0910792810061378, \"variable\": \"ID\", \"value\": \"3910\"}, {\"component 0\": 0.2330311590848064, \"component 1\": 0.31677143636543276, \"variable\": \"ID\", \"value\": \"5207\"}, {\"component 0\": -0.2326513140188685, \"component 1\": -0.22930079172682624, \"variable\": \"ID\", \"value\": \"11114\"}, {\"component 0\": -0.18274825503768696, \"component 1\": -0.04847027515916284, \"variable\": \"ID\", \"value\": \"5429\"}, {\"component 0\": -0.24244520130416544, \"component 1\": 0.1492644989649545, \"variable\": \"ID\", \"value\": \"9400\"}, {\"component 0\": 0.28568901727103935, \"component 1\": -0.6536359114905019, \"variable\": \"ID\", \"value\": \"1740\"}, {\"component 0\": -0.2090827384580104, \"component 1\": 0.09161901956533147, \"variable\": \"ID\", \"value\": \"7488\"}, {\"component 0\": 0.4364896689817595, \"component 1\": 1.3321170183211475, \"variable\": \"ID\", \"value\": \"195\"}, {\"component 0\": -0.23682010342986515, \"component 1\": -0.17079258598289002, \"variable\": \"ID\", \"value\": \"635\"}, {\"component 0\": -0.20546942383403138, \"component 1\": -0.00786637759709844, \"variable\": \"ID\", \"value\": \"7527\"}, {\"component 0\": 0.28568901727103935, \"component 1\": -0.6536359114905019, \"variable\": \"ID\", \"value\": \"10319\"}, {\"component 0\": -0.015932287004349583, \"component 1\": 0.6578331141976773, \"variable\": \"ID\", \"value\": \"2296\"}, {\"component 0\": -0.33233826022537205, \"component 1\": 0.24348876550994378, \"variable\": \"ID\", \"value\": \"10637\"}, {\"component 0\": 0.4338388814839512, \"component 1\": 0.007786106110834149, \"variable\": \"ID\", \"value\": \"2931\"}, {\"component 0\": -0.22791492653810408, \"component 1\": -0.12416199893223678, \"variable\": \"ID\", \"value\": \"907\"}, {\"component 0\": 0.8235137011683401, \"component 1\": 0.02536668298791022, \"variable\": \"ID\", \"value\": \"3698\"}, {\"component 0\": 1.7399794091872685, \"component 1\": -0.6625397421109951, \"variable\": \"ID\", \"value\": \"9516\"}, {\"component 0\": -0.18274825503768696, \"component 1\": -0.04847027515916284, \"variable\": \"ID\", \"value\": \"679\"}, {\"component 0\": -0.24155649091062956, \"component 1\": -0.2759313787774795, \"variable\": \"ID\", \"value\": \"7384\"}, {\"component 0\": -0.386558946692622, \"component 1\": 0.20797953513779313, \"variable\": \"ID\", \"value\": \"5043\"}, {\"component 0\": -0.19656424694227034, \"component 1\": 0.03876420945355481, \"variable\": \"ID\", \"value\": \"5267\"}, {\"component 0\": 0.7466351028939499, \"component 1\": -0.2127024761928325, \"variable\": \"ID\", \"value\": \"339\"}, {\"component 0\": -0.27018256627602016, \"component 1\": -0.11314710658326697, \"variable\": \"ID\", \"value\": \"2516\"}, {\"component 0\": 1.6706358566090804, \"component 1\": 0.881522485569693, \"variable\": \"ID\", \"value\": \"9010\"}, {\"component 0\": -0.22791492653810408, \"component 1\": -0.12416199893223678, \"variable\": \"ID\", \"value\": \"378\"}, {\"component 0\": -0.22791492653810408, \"component 1\": -0.12416199893223678, \"variable\": \"ID\", \"value\": \"4808\"}, {\"component 0\": -0.20017756156624936, \"component 1\": 0.1382496066159847, \"variable\": \"ID\", \"value\": \"5068\"}, {\"component 0\": -0.27018256627602016, \"component 1\": -0.11314710658326697, \"variable\": \"ID\", \"value\": \"7628\"}, {\"component 0\": -0.15501089006583224, \"component 1\": 0.2139413303890587, \"variable\": \"ID\", \"value\": \"7128\"}, {\"component 0\": -0.15501089006583224, \"component 1\": 0.2139413303890587, \"variable\": \"ID\", \"value\": \"2811\"}, {\"component 0\": -0.24155649091062956, \"component 1\": -0.2759313787774795, \"variable\": \"ID\", \"value\": \"3551\"}, {\"component 0\": -0.18748464251845137, \"component 1\": -0.1536090679537523, \"variable\": \"ID\", \"value\": \"1663\"}, {\"component 0\": 0.2809526297902749, \"component 1\": -0.7587747042850914, \"variable\": \"ID\", \"value\": \"5543\"}, {\"component 0\": 0.8282500886491044, \"component 1\": 0.1305054757824997, \"variable\": \"ID\", \"value\": \"1577\"}, {\"component 0\": -0.20017756156624936, \"component 1\": 0.1382496066159847, \"variable\": \"ID\", \"value\": \"10641\"}, {\"component 0\": -0.24155649091062956, \"component 1\": -0.2759313787774795, \"variable\": \"ID\", \"value\": \"5336\"}, {\"component 0\": 1.967520773403705, \"component 1\": -0.5350853329130757, \"variable\": \"ID\", \"value\": \"6024\"}, {\"component 0\": -0.27018256627602016, \"component 1\": -0.11314710658326697, \"variable\": \"ID\", \"value\": \"1878\"}, {\"component 0\": -0.19656424694227034, \"component 1\": 0.03876420945355481, \"variable\": \"ID\", \"value\": \"3099\"}, {\"component 0\": 0.28568901727103935, \"component 1\": -0.6536359114905019, \"variable\": \"ID\", \"value\": \"6055\"}, {\"component 0\": -0.2326513140188685, \"component 1\": -0.22930079172682624, \"variable\": \"ID\", \"value\": \"5841\"}, {\"component 0\": -0.2326513140188685, \"component 1\": -0.22930079172682624, \"variable\": \"ID\", \"value\": \"3972\"}, {\"component 0\": 0.9712412898361718, \"component 1\": -0.6885184245272872, \"variable\": \"ID\", \"value\": \"4394\"}, {\"component 0\": 2.7289689714366596, \"component 1\": 0.3800664297404963, \"variable\": \"ID\", \"value\": \"5758\"}, {\"component 0\": -0.2326513140188685, \"component 1\": -0.22930079172682624, \"variable\": \"ID\", \"value\": \"6658\"}, {\"component 0\": -0.18274825503768696, \"component 1\": -0.04847027515916284, \"variable\": \"ID\", \"value\": \"4603\"}, {\"component 0\": -0.2090827384580104, \"component 1\": 0.09161901956533147, \"variable\": \"ID\", \"value\": \"8427\"}, {\"component 0\": -0.24155649091062956, \"component 1\": -0.2759313787774795, \"variable\": \"ID\", \"value\": \"10260\"}, {\"component 0\": -0.27491895375678455, \"component 1\": -0.21828589937785645, \"variable\": \"ID\", \"value\": \"7143\"}, {\"component 0\": -0.27018256627602016, \"component 1\": -0.11314710658326697, \"variable\": \"ID\", \"value\": \"8789\"}, {\"component 0\": -0.15501089006583224, \"component 1\": 0.2139413303890587, \"variable\": \"ID\", \"value\": \"6197\"}, {\"component 0\": -0.2326513140188685, \"component 1\": -0.22930079172682624, \"variable\": \"ID\", \"value\": \"4554\"}, {\"component 0\": -0.27018256627602016, \"component 1\": -0.11314710658326697, \"variable\": \"ID\", \"value\": \"4937\"}, {\"component 0\": -0.22791492653810408, \"component 1\": -0.12416199893223678, \"variable\": \"ID\", \"value\": \"1920\"}, {\"component 0\": -0.2326513140188685, \"component 1\": -0.22930079172682624, \"variable\": \"ID\", \"value\": \"8749\"}, {\"component 0\": -0.23682010342986515, \"component 1\": -0.17079258598289002, \"variable\": \"ID\", \"value\": \"1650\"}, {\"component 0\": -0.24155649091062956, \"component 1\": -0.2759313787774795, \"variable\": \"ID\", \"value\": \"10377\"}, {\"component 0\": 0.4077342870458467, \"component 1\": -0.33987502853668533, \"variable\": \"ID\", \"value\": \"9206\"}, {\"component 0\": 0.3320663352944916, \"component 1\": 1.699767782763328, \"variable\": \"ID\", \"value\": \"10971\"}, {\"component 0\": -0.386558946692622, \"component 1\": 0.20797953513779313, \"variable\": \"ID\", \"value\": \"6398\"}, {\"component 0\": -0.23682010342986515, \"component 1\": -0.17079258598289002, \"variable\": \"ID\", \"value\": \"9212\"}, {\"component 0\": -0.22791492653810408, \"component 1\": -0.12416199893223678, \"variable\": \"ID\", \"value\": \"7937\"}, {\"component 0\": -0.18274825503768696, \"component 1\": -0.04847027515916284, \"variable\": \"ID\", \"value\": \"839\"}, {\"component 0\": -0.2090827384580104, \"component 1\": 0.09161901956533147, \"variable\": \"ID\", \"value\": \"4246\"}, {\"component 0\": 0.4491825880295575, \"component 1\": 1.0402583437514106, \"variable\": \"ID\", \"value\": \"158\"}, {\"component 0\": -0.22791492653810408, \"component 1\": -0.12416199893223678, \"variable\": \"ID\", \"value\": \"4832\"}, {\"component 0\": 0.18786448758438928, \"component 1\": 0.2410797125923588, \"variable\": \"ID\", \"value\": \"5621\"}, {\"component 0\": 0.9160921456972609, \"component 1\": -0.6846140148332227, \"variable\": \"ID\", \"value\": \"1945\"}, {\"component 0\": -0.20017756156624936, \"component 1\": 0.1382496066159847, \"variable\": \"ID\", \"value\": \"5147\"}, {\"component 0\": 1.9633519839927083, \"component 1\": -0.4765771271691394, \"variable\": \"ID\", \"value\": \"2535\"}, {\"component 0\": -0.22791492653810408, \"component 1\": -0.12416199893223678, \"variable\": \"ID\", \"value\": \"11039\"}, {\"component 0\": -0.2326513140188685, \"component 1\": -0.22930079172682624, \"variable\": \"ID\", \"value\": \"9495\"}, {\"component 0\": -0.23682010342986515, \"component 1\": -0.17079258598289002, \"variable\": \"ID\", \"value\": \"9635\"}, {\"component 0\": -0.13283937138237503, \"component 1\": -0.1465727525054056, \"variable\": \"ID\", \"value\": \"2173\"}, {\"component 0\": 0.215601852556244, \"component 1\": 0.5034913181405802, \"variable\": \"ID\", \"value\": \"942\"}, {\"component 0\": 0.2809526297902749, \"component 1\": -0.7587747042850914, \"variable\": \"ID\", \"value\": \"9386\"}, {\"component 0\": -0.23682010342986515, \"component 1\": -0.17079258598289002, \"variable\": \"ID\", \"value\": \"5510\"}, {\"component 0\": 0.6925632545017717, \"component 1\": -0.33502478701655963, \"variable\": \"ID\", \"value\": \"873\"}, {\"component 0\": -0.22791492653810408, \"component 1\": -0.12416199893223678, \"variable\": \"ID\", \"value\": \"2253\"}, {\"component 0\": -0.3588215817207673, \"component 1\": 0.4703911406860146, \"variable\": \"ID\", \"value\": \"5181\"}, {\"component 0\": -0.20017756156624936, \"component 1\": 0.1382496066159847, \"variable\": \"ID\", \"value\": \"979\"}, {\"component 0\": -0.27018256627602016, \"component 1\": -0.11314710658326697, \"variable\": \"ID\", \"value\": \"10390\"}, {\"component 0\": -0.18274825503768696, \"component 1\": -0.04847027515916284, \"variable\": \"ID\", \"value\": \"4698\"}, {\"component 0\": 0.2809526297902749, \"component 1\": -0.7587747042850914, \"variable\": \"ID\", \"value\": \"7793\"}, {\"component 0\": 0.2643818386806402, \"component 1\": 0.4796976447512243, \"variable\": \"ID\", \"value\": \"1745\"}, {\"component 0\": -0.18748464251845137, \"component 1\": -0.1536090679537523, \"variable\": \"ID\", \"value\": \"10590\"}, {\"component 0\": 0.215601852556244, \"component 1\": 0.5034913181405802, \"variable\": \"ID\", \"value\": \"5080\"}, {\"component 0\": -0.2326513140188685, \"component 1\": -0.22930079172682624, \"variable\": \"ID\", \"value\": \"8369\"}, {\"component 0\": -0.22791492653810408, \"component 1\": -0.12416199893223678, \"variable\": \"ID\", \"value\": \"5232\"}, {\"component 0\": 0.8282500886491044, \"component 1\": 0.1305054757824997, \"variable\": \"ID\", \"value\": \"2407\"}, {\"component 0\": -0.20017756156624936, \"component 1\": 0.1382496066159847, \"variable\": \"ID\", \"value\": \"3834\"}, {\"component 0\": -0.007027110112588541, \"component 1\": 0.7044637012483306, \"variable\": \"ID\", \"value\": \"7912\"}, {\"component 0\": -0.15501089006583224, \"component 1\": 0.2139413303890587, \"variable\": \"ID\", \"value\": \"7712\"}, {\"component 0\": -0.20017756156624936, \"component 1\": 0.1382496066159847, \"variable\": \"ID\", \"value\": \"1065\"}, {\"component 0\": -0.2090827384580104, \"component 1\": 0.09161901956533147, \"variable\": \"ID\", \"value\": \"7275\"}, {\"component 0\": -0.2326513140188685, \"component 1\": -0.22930079172682624, \"variable\": \"ID\", \"value\": \"1343\"}, {\"component 0\": -0.1656711302671064, \"component 1\": 1.0366052353183604, \"variable\": \"ID\", \"value\": \"1384\"}, {\"component 0\": -0.19656424694227034, \"component 1\": 0.03876420945355481, \"variable\": \"ID\", \"value\": \"9967\"}, {\"component 0\": -0.27491895375678455, \"component 1\": -0.21828589937785645, \"variable\": \"ID\", \"value\": \"6181\"}, {\"component 0\": 0.274772057128957, \"component 1\": -0.4796948107557406, \"variable\": \"ID\", \"value\": \"10507\"}, {\"component 0\": 0.20669667566448297, \"component 1\": 0.45686073108992703, \"variable\": \"ID\", \"value\": \"2674\"}, {\"component 0\": -0.20017756156624936, \"component 1\": 0.1382496066159847, \"variable\": \"ID\", \"value\": \"2698\"}, {\"component 0\": -0.22791492653810408, \"component 1\": -0.12416199893223678, \"variable\": \"ID\", \"value\": \"3231\"}, {\"component 0\": -0.20546942383403138, \"component 1\": -0.00786637759709844, \"variable\": \"ID\", \"value\": \"4096\"}, {\"component 0\": -0.22791492653810408, \"component 1\": -0.12416199893223678, \"variable\": \"ID\", \"value\": \"10476\"}, {\"component 0\": -0.20017756156624936, \"component 1\": 0.1382496066159847, \"variable\": \"ID\", \"value\": \"5948\"}, {\"component 0\": -0.27491895375678455, \"component 1\": -0.21828589937785645, \"variable\": \"ID\", \"value\": \"9140\"}, {\"component 0\": -0.2090827384580104, \"component 1\": 0.09161901956533147, \"variable\": \"ID\", \"value\": \"10258\"}, {\"component 0\": 0.36220636836729025, \"component 1\": -0.4150179793316365, \"variable\": \"ID\", \"value\": \"5675\"}, {\"component 0\": -0.18274825503768696, \"component 1\": -0.04847027515916284, \"variable\": \"ID\", \"value\": \"4743\"}, {\"component 0\": -0.20017756156624936, \"component 1\": 0.1382496066159847, \"variable\": \"ID\", \"value\": \"8805\"}, {\"component 0\": -0.20017756156624936, \"component 1\": 0.1382496066159847, \"variable\": \"ID\", \"value\": \"1542\"}, {\"component 0\": 0.4087523040099048, \"component 1\": 1.0697054127729262, \"variable\": \"ID\", \"value\": \"6770\"}, {\"component 0\": 0.2720474528985139, \"component 1\": -0.8054052913357447, \"variable\": \"ID\", \"value\": \"8773\"}, {\"component 0\": -0.24155649091062956, \"component 1\": -0.2759313787774795, \"variable\": \"ID\", \"value\": \"10475\"}, {\"component 0\": -0.20546942383403138, \"component 1\": -0.00786637759709844, \"variable\": \"ID\", \"value\": \"10420\"}, {\"component 0\": -0.27491895375678455, \"component 1\": -0.21828589937785645, \"variable\": \"ID\", \"value\": \"7514\"}, {\"component 0\": -0.2326513140188685, \"component 1\": -0.22930079172682624, \"variable\": \"ID\", \"value\": \"2902\"}, {\"component 0\": -0.24244520130416544, \"component 1\": 0.1492644989649545, \"variable\": \"ID\", \"value\": \"4345\"}, {\"component 0\": -0.22791492653810408, \"component 1\": -0.12416199893223678, \"variable\": \"ID\", \"value\": \"793\"}, {\"component 0\": 0.6333584909521266, \"component 1\": 0.5938894644384715, \"variable\": \"ID\", \"value\": \"10909\"}, {\"component 0\": -0.18748464251845137, \"component 1\": -0.1536090679537523, \"variable\": \"ID\", \"value\": \"3769\"}, {\"component 0\": -0.27491895375678455, \"component 1\": -0.21828589937785645, \"variable\": \"ID\", \"value\": \"8702\"}, {\"component 0\": -0.2326513140188685, \"component 1\": -0.22930079172682624, \"variable\": \"ID\", \"value\": \"4791\"}, {\"component 0\": -0.2326513140188685, \"component 1\": -0.22930079172682624, \"variable\": \"ID\", \"value\": \"2963\"}, {\"component 0\": -0.23682010342986515, \"component 1\": -0.17079258598289002, \"variable\": \"ID\", \"value\": \"8216\"}, {\"component 0\": -0.2326513140188685, \"component 1\": -0.22930079172682624, \"variable\": \"ID\", \"value\": \"8140\"}, {\"component 0\": -0.18748464251845137, \"component 1\": -0.1536090679537523, \"variable\": \"ID\", \"value\": \"10146\"}, {\"component 0\": -0.24244520130416544, \"component 1\": 0.1492644989649545, \"variable\": \"ID\", \"value\": \"5289\"}, {\"component 0\": -0.18274825503768696, \"component 1\": -0.04847027515916284, \"variable\": \"ID\", \"value\": \"2587\"}, {\"component 0\": -0.23682010342986515, \"component 1\": -0.17079258598289002, \"variable\": \"ID\", \"value\": \"4405\"}, {\"component 0\": -0.19656424694227034, \"component 1\": 0.03876420945355481, \"variable\": \"ID\", \"value\": \"8663\"}, {\"component 0\": -0.19656424694227034, \"component 1\": 0.03876420945355481, \"variable\": \"ID\", \"value\": \"2589\"}, {\"component 0\": -0.20546942383403138, \"component 1\": -0.00786637759709844, \"variable\": \"ID\", \"value\": \"3421\"}, {\"component 0\": -0.18274825503768696, \"component 1\": -0.04847027515916284, \"variable\": \"ID\", \"value\": \"10490\"}, {\"component 0\": -0.22791492653810408, \"component 1\": -0.12416199893223678, \"variable\": \"ID\", \"value\": \"4094\"}, {\"component 0\": -0.22791492653810408, \"component 1\": -0.12416199893223678, \"variable\": \"ID\", \"value\": \"9958\"}, {\"component 0\": -0.22791492653810408, \"component 1\": -0.12416199893223678, \"variable\": \"ID\", \"value\": \"2534\"}, {\"component 0\": 0.215601852556244, \"component 1\": 0.5034913181405802, \"variable\": \"ID\", \"value\": \"4188\"}, {\"component 0\": -0.23682010342986515, \"component 1\": -0.17079258598289002, \"variable\": \"ID\", \"value\": \"6613\"}, {\"component 0\": -0.18274825503768696, \"component 1\": -0.04847027515916284, \"variable\": \"ID\", \"value\": \"10827\"}, {\"component 0\": -0.24155649091062956, \"component 1\": -0.2759313787774795, \"variable\": \"ID\", \"value\": \"5491\"}, {\"component 0\": -0.23682010342986515, \"component 1\": -0.17079258598289002, \"variable\": \"ID\", \"value\": \"8402\"}, {\"component 0\": -0.22791492653810408, \"component 1\": -0.12416199893223678, \"variable\": \"ID\", \"value\": \"8783\"}, {\"component 0\": 0.2643818386806402, \"component 1\": 0.4796976447512243, \"variable\": \"ID\", \"value\": \"10010\"}, {\"component 0\": -0.18274825503768696, \"component 1\": -0.04847027515916284, \"variable\": \"ID\", \"value\": \"618\"}, {\"component 0\": 1.9722571608844695, \"component 1\": -0.42994654011848626, \"variable\": \"ID\", \"value\": \"9121\"}, {\"component 0\": -0.23682010342986515, \"component 1\": -0.17079258598289002, \"variable\": \"ID\", \"value\": \"361\"}, {\"component 0\": 0.8182676160106109, \"component 1\": 0.2101016092496381, \"variable\": \"ID\", \"value\": \"4310\"}, {\"component 0\": -0.20017756156624936, \"component 1\": 0.1382496066159847, \"variable\": \"ID\", \"value\": \"2678\"}, {\"component 0\": -0.20017756156624936, \"component 1\": 0.1382496066159847, \"variable\": \"ID\", \"value\": \"6376\"}, {\"component 0\": -0.39129533417338636, \"component 1\": 0.10284074234320364, \"variable\": \"ID\", \"value\": \"524\"}, {\"component 0\": -0.2326513140188685, \"component 1\": -0.22930079172682624, \"variable\": \"ID\", \"value\": \"10341\"}, {\"component 0\": -0.22791492653810408, \"component 1\": -0.12416199893223678, \"variable\": \"ID\", \"value\": \"5654\"}, {\"component 0\": -0.22791492653810408, \"component 1\": -0.12416199893223678, \"variable\": \"ID\", \"value\": \"4098\"}, {\"component 0\": -0.18748464251845137, \"component 1\": -0.1536090679537523, \"variable\": \"ID\", \"value\": \"5824\"}, {\"component 0\": -0.24244520130416544, \"component 1\": 0.1492644989649545, \"variable\": \"ID\", \"value\": \"7000\"}, {\"component 0\": 0.31342638224289404, \"component 1\": -0.3912243059422805, \"variable\": \"ID\", \"value\": \"2561\"}, {\"component 0\": -0.18748464251845137, \"component 1\": -0.1536090679537523, \"variable\": \"ID\", \"value\": \"5229\"}, {\"component 0\": -0.22791492653810408, \"component 1\": -0.12416199893223678, \"variable\": \"ID\", \"value\": \"4086\"}, {\"component 0\": -0.22791492653810408, \"component 1\": -0.12416199893223678, \"variable\": \"ID\", \"value\": \"2428\"}, {\"component 0\": -0.18274825503768696, \"component 1\": -0.04847027515916284, \"variable\": \"ID\", \"value\": \"8254\"}, {\"component 0\": -0.18274825503768696, \"component 1\": -0.04847027515916284, \"variable\": \"ID\", \"value\": \"2836\"}, {\"component 0\": -0.24244520130416544, \"component 1\": 0.1492644989649545, \"variable\": \"ID\", \"value\": \"8418\"}, {\"component 0\": -0.20017756156624936, \"component 1\": 0.1382496066159847, \"variable\": \"ID\", \"value\": \"1362\"}, {\"component 0\": -0.23682010342986515, \"component 1\": -0.17079258598289002, \"variable\": \"ID\", \"value\": \"7152\"}, {\"component 0\": -0.2388318866801864, \"component 1\": 0.04977910180252461, \"variable\": \"ID\", \"value\": \"10033\"}, {\"component 0\": 1.0428738029528326, \"component 1\": -0.26571433908481656, \"variable\": \"ID\", \"value\": \"9349\"}, {\"component 0\": -0.20017756156624936, \"component 1\": 0.1382496066159847, \"variable\": \"ID\", \"value\": \"274\"}, {\"component 0\": -0.19656424694227034, \"component 1\": 0.03876420945355481, \"variable\": \"ID\", \"value\": \"3388\"}, {\"component 0\": -0.04929474985050458, \"component 1\": 0.7154785935973004, \"variable\": \"ID\", \"value\": \"922\"}, {\"component 0\": -0.22791492653810408, \"component 1\": -0.12416199893223678, \"variable\": \"ID\", \"value\": \"8588\"}, {\"component 0\": -0.27491895375678455, \"component 1\": -0.21828589937785645, \"variable\": \"ID\", \"value\": \"2518\"}, {\"component 0\": -0.22791492653810408, \"component 1\": -0.12416199893223678, \"variable\": \"ID\", \"value\": \"574\"}, {\"component 0\": -0.22791492653810408, \"component 1\": -0.12416199893223678, \"variable\": \"ID\", \"value\": \"3220\"}, {\"component 0\": -0.2326513140188685, \"component 1\": -0.22930079172682624, \"variable\": \"ID\", \"value\": \"5967\"}, {\"component 0\": -0.23682010342986515, \"component 1\": -0.17079258598289002, \"variable\": \"ID\", \"value\": \"1183\"}, {\"component 0\": 0.18312810010362487, \"component 1\": 0.13594091979776934, \"variable\": \"ID\", \"value\": \"6856\"}, {\"component 0\": 0.9044379942745789, \"component 1\": 0.14106026862581608, \"variable\": \"ID\", \"value\": \"4530\"}, {\"component 0\": 0.9113557582164965, \"component 1\": -0.7897528076278121, \"variable\": \"ID\", \"value\": \"1553\"}, {\"component 0\": -0.22791492653810408, \"component 1\": -0.12416199893223678, \"variable\": \"ID\", \"value\": \"4682\"}, {\"component 0\": -0.27018256627602016, \"component 1\": -0.11314710658326697, \"variable\": \"ID\", \"value\": \"8204\"}, {\"component 0\": -0.007027110112588541, \"component 1\": 0.7044637012483306, \"variable\": \"ID\", \"value\": \"5221\"}, {\"component 0\": -0.18748464251845137, \"component 1\": -0.1536090679537523, \"variable\": \"ID\", \"value\": \"1232\"}, {\"component 0\": -0.27491895375678455, \"component 1\": -0.21828589937785645, \"variable\": \"ID\", \"value\": \"1927\"}, {\"component 0\": -0.2326513140188685, \"component 1\": -0.22930079172682624, \"variable\": \"ID\", \"value\": \"5788\"}, {\"component 0\": -0.22791492653810408, \"component 1\": -0.12416199893223678, \"variable\": \"ID\", \"value\": \"6652\"}, {\"component 0\": 0.215601852556244, \"component 1\": 0.5034913181405802, \"variable\": \"ID\", \"value\": \"6246\"}, {\"component 0\": -0.15501089006583224, \"component 1\": 0.2139413303890587, \"variable\": \"ID\", \"value\": \"5975\"}, {\"component 0\": -0.18748464251845137, \"component 1\": -0.1536090679537523, \"variable\": \"ID\", \"value\": \"6875\"}, {\"component 0\": -0.2326513140188685, \"component 1\": -0.22930079172682624, \"variable\": \"ID\", \"value\": \"4399\"}, {\"component 0\": 0.21921516718022302, \"component 1\": 0.4040059209781504, \"variable\": \"ID\", \"value\": \"4042\"}, {\"component 0\": -0.2326513140188685, \"component 1\": -0.22930079172682624, \"variable\": \"ID\", \"value\": \"2157\"}, {\"component 0\": 1.999994525856324, \"component 1\": -0.16753493457026464, \"variable\": \"ID\", \"value\": \"10133\"}, {\"component 0\": 0.2330311590848064, \"component 1\": 0.31677143636543276, \"variable\": \"ID\", \"value\": \"2525\"}, {\"component 0\": 0.37185939553500735, \"component 1\": -0.7226772521143241, \"variable\": \"ID\", \"value\": \"8233\"}, {\"component 0\": -0.3370746477061365, \"component 1\": 0.13834997271535426, \"variable\": \"ID\", \"value\": \"9483\"}, {\"component 0\": 1.0828311118428824, \"component 1\": 0.12692998934696498, \"variable\": \"ID\", \"value\": \"2945\"}, {\"component 0\": -0.2326513140188685, \"component 1\": -0.22930079172682624, \"variable\": \"ID\", \"value\": \"10403\"}, {\"component 0\": -0.23682010342986515, \"component 1\": -0.17079258598289002, \"variable\": \"ID\", \"value\": \"5074\"}, {\"component 0\": -0.20546942383403138, \"component 1\": -0.00786637759709844, \"variable\": \"ID\", \"value\": \"10524\"}, {\"component 0\": -0.22791492653810408, \"component 1\": -0.12416199893223678, \"variable\": \"ID\", \"value\": \"4690\"}, {\"component 0\": 0.4077342870458467, \"component 1\": -0.33987502853668533, \"variable\": \"ID\", \"value\": \"7521\"}, {\"component 0\": -0.18274825503768696, \"component 1\": -0.04847027515916284, \"variable\": \"ID\", \"value\": \"7196\"}, {\"component 0\": -0.2326513140188685, \"component 1\": -0.22930079172682624, \"variable\": \"ID\", \"value\": \"4406\"}, {\"component 0\": -0.27018256627602016, \"component 1\": -0.11314710658326697, \"variable\": \"ID\", \"value\": \"9672\"}, {\"component 0\": -0.22791492653810408, \"component 1\": -0.12416199893223678, \"variable\": \"ID\", \"value\": \"4864\"}, {\"component 0\": -0.20017756156624936, \"component 1\": 0.1382496066159847, \"variable\": \"ID\", \"value\": \"4706\"}, {\"component 0\": 1.387020703958665, \"component 1\": -0.3232767130026916, \"variable\": \"ID\", \"value\": \"4070\"}, {\"component 0\": -0.22791492653810408, \"component 1\": -0.12416199893223678, \"variable\": \"ID\", \"value\": \"25\"}, {\"component 0\": -0.2326513140188685, \"component 1\": -0.22930079172682624, \"variable\": \"ID\", \"value\": \"3697\"}, {\"component 0\": -0.2090827384580104, \"component 1\": 0.09161901956533147, \"variable\": \"ID\", \"value\": \"217\"}, {\"component 0\": -0.18274825503768696, \"component 1\": -0.04847027515916284, \"variable\": \"ID\", \"value\": \"4220\"}, {\"component 0\": -0.2090827384580104, \"component 1\": 0.09161901956533147, \"variable\": \"ID\", \"value\": \"5286\"}, {\"component 0\": 0.038139561387828584, \"component 1\": 0.7801554250214044, \"variable\": \"ID\", \"value\": \"9559\"}, {\"component 0\": -0.20017756156624936, \"component 1\": 0.1382496066159847, \"variable\": \"ID\", \"value\": \"2849\"}, {\"component 0\": -0.2326513140188685, \"component 1\": -0.22930079172682624, \"variable\": \"ID\", \"value\": \"7787\"}, {\"component 0\": -0.27491895375678455, \"component 1\": -0.21828589937785645, \"variable\": \"ID\", \"value\": \"3102\"}, {\"component 0\": -0.22791492653810408, \"component 1\": -0.12416199893223678, \"variable\": \"ID\", \"value\": \"5868\"}, {\"component 0\": -0.27491895375678455, \"component 1\": -0.21828589937785645, \"variable\": \"ID\", \"value\": \"8370\"}, {\"component 0\": -0.2090827384580104, \"component 1\": 0.09161901956533147, \"variable\": \"ID\", \"value\": \"9988\"}, {\"component 0\": -0.24155649091062956, \"component 1\": -0.2759313787774795, \"variable\": \"ID\", \"value\": \"2939\"}, {\"component 0\": 0.44291848590777017, \"component 1\": -0.18458717129647295, \"variable\": \"ID\", \"value\": \"5529\"}, {\"component 0\": 0.41247067452661107, \"component 1\": -0.23473623574209587, \"variable\": \"ID\", \"value\": \"9743\"}, {\"component 0\": -0.24155649091062956, \"component 1\": -0.2759313787774795, \"variable\": \"ID\", \"value\": \"5763\"}, {\"component 0\": 0.2330311590848064, \"component 1\": 0.31677143636543276, \"variable\": \"ID\", \"value\": \"3478\"}, {\"component 0\": -0.1513975754418532, \"component 1\": 0.11445593322662873, \"variable\": \"ID\", \"value\": \"7494\"}, {\"component 0\": 1.674804646020077, \"component 1\": 0.8230142798257568, \"variable\": \"ID\", \"value\": \"1763\"}, {\"component 0\": -0.2326513140188685, \"component 1\": -0.22930079172682624, \"variable\": \"ID\", \"value\": \"7250\"}, {\"component 0\": -0.22791492653810408, \"component 1\": -0.12416199893223678, \"variable\": \"ID\", \"value\": \"2005\"}, {\"component 0\": -0.22791492653810408, \"component 1\": -0.12416199893223678, \"variable\": \"ID\", \"value\": \"10770\"}, {\"component 0\": -0.19656424694227034, \"component 1\": 0.03876420945355481, \"variable\": \"ID\", \"value\": \"6885\"}, {\"component 0\": 0.4491825880295575, \"component 1\": 1.0402583437514106, \"variable\": \"ID\", \"value\": \"2072\"}, {\"component 0\": -0.2326513140188685, \"component 1\": -0.22930079172682624, \"variable\": \"ID\", \"value\": \"9463\"}, {\"component 0\": -0.22791492653810408, \"component 1\": -0.12416199893223678, \"variable\": \"ID\", \"value\": \"6318\"}, {\"component 0\": -0.24155649091062956, \"component 1\": -0.2759313787774795, \"variable\": \"ID\", \"value\": \"4093\"}, {\"component 0\": -0.2388318866801864, \"component 1\": 0.04977910180252461, \"variable\": \"ID\", \"value\": \"5751\"}, {\"component 0\": 0.18786448758438928, \"component 1\": 0.2410797125923588, \"variable\": \"ID\", \"value\": \"3340\"}, {\"component 0\": -0.23682010342986515, \"component 1\": -0.17079258598289002, \"variable\": \"ID\", \"value\": \"3594\"}, {\"component 0\": 0.48165634048217665, \"component 1\": 1.4078087420942216, \"variable\": \"ID\", \"value\": \"3584\"}, {\"component 0\": 0.40356549763485, \"component 1\": -0.2813668227927491, \"variable\": \"ID\", \"value\": \"3643\"}, {\"component 0\": -0.23682010342986515, \"component 1\": -0.17079258598289002, \"variable\": \"ID\", \"value\": \"851\"}, {\"component 0\": -0.054031137331269005, \"component 1\": 0.6103398008027109, \"variable\": \"ID\", \"value\": \"7706\"}, {\"component 0\": -0.18274825503768696, \"component 1\": -0.04847027515916284, \"variable\": \"ID\", \"value\": \"3967\"}, {\"component 0\": -0.2326513140188685, \"component 1\": -0.22930079172682624, \"variable\": \"ID\", \"value\": \"10128\"}, {\"component 0\": -0.22791492653810408, \"component 1\": -0.12416199893223678, \"variable\": \"ID\", \"value\": \"486\"}, {\"component 0\": -0.2090827384580104, \"component 1\": 0.09161901956533147, \"variable\": \"ID\", \"value\": \"9\"}, {\"component 0\": -0.22791492653810408, \"component 1\": -0.12416199893223678, \"variable\": \"ID\", \"value\": \"9451\"}, {\"component 0\": -0.22791492653810408, \"component 1\": -0.12416199893223678, \"variable\": \"ID\", \"value\": \"9264\"}, {\"component 0\": 0.14086046036570882, \"component 1\": 0.14695581214673914, \"variable\": \"ID\", \"value\": \"3865\"}, {\"component 0\": -0.20017756156624936, \"component 1\": 0.1382496066159847, \"variable\": \"ID\", \"value\": \"2853\"}, {\"component 0\": -0.22791492653810408, \"component 1\": -0.12416199893223678, \"variable\": \"ID\", \"value\": \"1490\"}, {\"component 0\": -0.22791492653810408, \"component 1\": -0.12416199893223678, \"variable\": \"ID\", \"value\": \"6310\"}, {\"component 0\": -0.23682010342986515, \"component 1\": -0.17079258598289002, \"variable\": \"ID\", \"value\": \"10380\"}, {\"component 0\": 0.215601852556244, \"component 1\": 0.5034913181405802, \"variable\": \"ID\", \"value\": \"3887\"}, {\"component 0\": 0.2607685240566611, \"component 1\": 0.5791830419136542, \"variable\": \"ID\", \"value\": \"4278\"}, {\"component 0\": -0.2326513140188685, \"component 1\": -0.22930079172682624, \"variable\": \"ID\", \"value\": \"8643\"}, {\"component 0\": -0.20017756156624936, \"component 1\": 0.1382496066159847, \"variable\": \"ID\", \"value\": \"1998\"}, {\"component 0\": -0.18274825503768696, \"component 1\": -0.04847027515916284, \"variable\": \"ID\", \"value\": \"10795\"}, {\"component 0\": -0.20017756156624936, \"component 1\": 0.1382496066159847, \"variable\": \"ID\", \"value\": \"11110\"}, {\"component 0\": -0.22791492653810408, \"component 1\": -0.12416199893223678, \"variable\": \"ID\", \"value\": \"2408\"}, {\"component 0\": -0.0876726998819579, \"component 1\": -0.07088102873233168, \"variable\": \"ID\", \"value\": \"202\"}, {\"component 0\": -0.2326513140188685, \"component 1\": -0.22930079172682624, \"variable\": \"ID\", \"value\": \"7998\"}, {\"component 0\": 1.5315572535475979, \"component 1\": 0.43763070176107444, \"variable\": \"ID\", \"value\": \"830\"}, {\"component 0\": -0.2326513140188685, \"component 1\": -0.22930079172682624, \"variable\": \"ID\", \"value\": \"3536\"}, {\"component 0\": -0.04929474985050458, \"component 1\": 0.7154785935973004, \"variable\": \"ID\", \"value\": \"6050\"}, {\"component 0\": 0.2386849900523589, \"component 1\": -0.7477598119361216, \"variable\": \"ID\", \"value\": \"125\"}, {\"component 0\": -0.18274825503768696, \"component 1\": -0.04847027515916284, \"variable\": \"ID\", \"value\": \"3463\"}, {\"component 0\": 0.20669667566448297, \"component 1\": 0.45686073108992703, \"variable\": \"ID\", \"value\": \"2804\"}, {\"component 0\": -0.27018256627602016, \"component 1\": -0.11314710658326697, \"variable\": \"ID\", \"value\": \"3745\"}, {\"component 0\": -0.24244520130416544, \"component 1\": 0.1492644989649545, \"variable\": \"ID\", \"value\": \"9771\"}, {\"component 0\": -0.20017756156624936, \"component 1\": 0.1382496066159847, \"variable\": \"ID\", \"value\": \"451\"}, {\"component 0\": 0.32810671424053545, \"component 1\": 0.2943606827922639, \"variable\": \"ID\", \"value\": \"10530\"}, {\"component 0\": 0.3308556887714565, \"component 1\": -0.5779441877174281, \"variable\": \"ID\", \"value\": \"1079\"}, {\"component 0\": -0.2090827384580104, \"component 1\": 0.09161901956533147, \"variable\": \"ID\", \"value\": \"8920\"}, {\"component 0\": -0.2326513140188685, \"component 1\": -0.22930079172682624, \"variable\": \"ID\", \"value\": \"6678\"}, {\"component 0\": -0.24155649091062956, \"component 1\": -0.2759313787774795, \"variable\": \"ID\", \"value\": \"3852\"}, {\"component 0\": -0.22791492653810408, \"component 1\": -0.12416199893223678, \"variable\": \"ID\", \"value\": \"528\"}, {\"component 0\": -0.15501089006583224, \"component 1\": 0.2139413303890587, \"variable\": \"ID\", \"value\": \"73\"}, {\"component 0\": -0.19656424694227034, \"component 1\": 0.03876420945355481, \"variable\": \"ID\", \"value\": \"5589\"}, {\"component 0\": -0.24155649091062956, \"component 1\": -0.2759313787774795, \"variable\": \"ID\", \"value\": \"10212\"}, {\"component 0\": -0.27018256627602016, \"component 1\": -0.11314710658326697, \"variable\": \"ID\", \"value\": \"6365\"}, {\"component 0\": 0.215601852556244, \"component 1\": 0.5034913181405802, \"variable\": \"ID\", \"value\": \"5636\"}, {\"component 0\": -0.13283937138237503, \"component 1\": -0.1465727525054056, \"variable\": \"ID\", \"value\": \"591\"}, {\"component 0\": -0.27018256627602016, \"component 1\": -0.11314710658326697, \"variable\": \"ID\", \"value\": \"2217\"}, {\"component 0\": -0.20546942383403138, \"component 1\": -0.00786637759709844, \"variable\": \"ID\", \"value\": \"2544\"}, {\"component 0\": -0.27018256627602016, \"component 1\": -0.11314710658326697, \"variable\": \"ID\", \"value\": \"7725\"}, {\"component 0\": -0.22791492653810408, \"component 1\": -0.12416199893223678, \"variable\": \"ID\", \"value\": \"8091\"}, {\"component 0\": 0.3977518144073531, \"component 1\": -0.2602788950695469, \"variable\": \"ID\", \"value\": \"7321\"}, {\"component 0\": -0.22791492653810408, \"component 1\": -0.12416199893223678, \"variable\": \"ID\", \"value\": \"5462\"}, {\"component 0\": -0.23682010342986515, \"component 1\": -0.17079258598289002, \"variable\": \"ID\", \"value\": \"7791\"}, {\"component 0\": 0.39511073963737936, \"component 1\": 0.9179360329276833, \"variable\": \"ID\", \"value\": \"955\"}, {\"component 0\": -0.19656424694227034, \"component 1\": 0.03876420945355481, \"variable\": \"ID\", \"value\": \"4037\"}, {\"component 0\": -0.19656424694227034, \"component 1\": 0.03876420945355481, \"variable\": \"ID\", \"value\": \"6642\"}, {\"component 0\": -0.1513975754418532, \"component 1\": 0.11445593322662873, \"variable\": \"ID\", \"value\": \"2793\"}, {\"component 0\": -0.22791492653810408, \"component 1\": -0.12416199893223678, \"variable\": \"ID\", \"value\": \"5424\"}, {\"component 0\": -0.23682010342986515, \"component 1\": -0.17079258598289002, \"variable\": \"ID\", \"value\": \"879\"}, {\"component 0\": -0.22791492653810408, \"component 1\": -0.12416199893223678, \"variable\": \"ID\", \"value\": \"9530\"}, {\"component 0\": -0.19656424694227034, \"component 1\": 0.03876420945355481, \"variable\": \"ID\", \"value\": \"4828\"}, {\"component 0\": -0.22791492653810408, \"component 1\": -0.12416199893223678, \"variable\": \"ID\", \"value\": \"10699\"}, {\"component 0\": -0.20017756156624936, \"component 1\": 0.1382496066159847, \"variable\": \"ID\", \"value\": \"1497\"}, {\"component 0\": 0.30452120535113303, \"component 1\": -0.43785489299293373, \"variable\": \"ID\", \"value\": \"7476\"}, {\"component 0\": -0.2326513140188685, \"component 1\": -0.22930079172682624, \"variable\": \"ID\", \"value\": \"4390\"}, {\"component 0\": 0.2330311590848064, \"component 1\": 0.31677143636543276, \"variable\": \"ID\", \"value\": \"10478\"}, {\"component 0\": -0.18274825503768696, \"component 1\": -0.04847027515916284, \"variable\": \"ID\", \"value\": \"1081\"}, {\"component 0\": 1.5315572535475979, \"component 1\": 0.43763070176107444, \"variable\": \"ID\", \"value\": \"4261\"}, {\"component 0\": -0.33233826022537205, \"component 1\": 0.24348876550994378, \"variable\": \"ID\", \"value\": \"9916\"}, {\"component 0\": 0.8470822767291981, \"component 1\": 0.34628649428006797, \"variable\": \"ID\", \"value\": \"5350\"}, {\"component 0\": -0.23682010342986515, \"component 1\": -0.17079258598289002, \"variable\": \"ID\", \"value\": \"8135\"}, {\"component 0\": 0.18786448758438928, \"component 1\": 0.2410797125923588, \"variable\": \"ID\", \"value\": \"8685\"}, {\"component 0\": -0.18748464251845137, \"component 1\": -0.1536090679537523, \"variable\": \"ID\", \"value\": \"4967\"}, {\"component 0\": 0.18312810010362487, \"component 1\": 0.13594091979776934, \"variable\": \"ID\", \"value\": \"2130\"}, {\"component 0\": 0.9665049023554073, \"component 1\": -0.7936572173218767, \"variable\": \"ID\", \"value\": \"9298\"}, {\"component 0\": -0.22791492653810408, \"component 1\": -0.12416199893223678, \"variable\": \"ID\", \"value\": \"8175\"}, {\"component 0\": -0.2090827384580104, \"component 1\": 0.09161901956533147, \"variable\": \"ID\", \"value\": \"6257\"}, {\"component 0\": -0.2326513140188685, \"component 1\": -0.22930079172682624, \"variable\": \"ID\", \"value\": \"3790\"}, {\"component 0\": -0.24155649091062956, \"component 1\": -0.2759313787774795, \"variable\": \"ID\", \"value\": \"9952\"}, {\"component 0\": -0.19656424694227034, \"component 1\": 0.03876420945355481, \"variable\": \"ID\", \"value\": \"3503\"}, {\"component 0\": -0.24155649091062956, \"component 1\": -0.2759313787774795, \"variable\": \"ID\", \"value\": \"5223\"}, {\"component 0\": 0.21921516718022302, \"component 1\": 0.4040059209781504, \"variable\": \"ID\", \"value\": \"4608\"}, {\"component 0\": 0.48526965510615566, \"component 1\": 1.3083233449317917, \"variable\": \"ID\", \"value\": \"1626\"}, {\"component 0\": 0.1742229232118638, \"component 1\": 0.08931033274711611, \"variable\": \"ID\", \"value\": \"4764\"}, {\"component 0\": -0.22791492653810408, \"component 1\": -0.12416199893223678, \"variable\": \"ID\", \"value\": \"2471\"}, {\"component 0\": -0.22791492653810408, \"component 1\": -0.12416199893223678, \"variable\": \"ID\", \"value\": \"5892\"}, {\"component 0\": 0.4024882018881175, \"component 1\": -0.15514010227495745, \"variable\": \"ID\", \"value\": \"2612\"}, {\"component 0\": -0.18748464251845137, \"component 1\": -0.1536090679537523, \"variable\": \"ID\", \"value\": \"4971\"}, {\"component 0\": -0.22791492653810408, \"component 1\": -0.12416199893223678, \"variable\": \"ID\", \"value\": \"5185\"}, {\"component 0\": -0.1704075177478708, \"component 1\": 0.931466442523771, \"variable\": \"ID\", \"value\": \"10069\"}, {\"component 0\": -0.24155649091062956, \"component 1\": -0.2759313787774795, \"variable\": \"ID\", \"value\": \"2262\"}, {\"component 0\": -0.15501089006583224, \"component 1\": 0.2139413303890587, \"variable\": \"ID\", \"value\": \"1131\"}, {\"component 0\": 0.2607685240566611, \"component 1\": 0.5791830419136542, \"variable\": \"ID\", \"value\": \"1041\"}, {\"component 0\": -0.24155649091062956, \"component 1\": -0.2759313787774795, \"variable\": \"ID\", \"value\": \"24\"}, {\"component 0\": 0.02071025485926616, \"component 1\": 0.966875306796552, \"variable\": \"ID\", \"value\": \"3409\"}, {\"component 0\": -0.22791492653810408, \"component 1\": -0.12416199893223678, \"variable\": \"ID\", \"value\": \"7022\"}, {\"component 0\": -0.18274825503768696, \"component 1\": -0.04847027515916284, \"variable\": \"ID\", \"value\": \"7943\"}, {\"component 0\": -0.23682010342986515, \"component 1\": -0.17079258598289002, \"variable\": \"ID\", \"value\": \"5272\"}, {\"component 0\": 0.39358302499635645, \"component 1\": -0.20177068932561068, \"variable\": \"ID\", \"value\": \"5453\"}, {\"component 0\": 0.30813451997511204, \"component 1\": -0.5373402901553637, \"variable\": \"ID\", \"value\": \"2565\"}, {\"component 0\": -0.2326513140188685, \"component 1\": -0.22930079172682624, \"variable\": \"ID\", \"value\": \"800\"}, {\"component 0\": -0.22791492653810408, \"component 1\": -0.12416199893223678, \"variable\": \"ID\", \"value\": \"11092\"}, {\"component 0\": -0.18274825503768696, \"component 1\": -0.04847027515916284, \"variable\": \"ID\", \"value\": \"5062\"}, {\"component 0\": -0.22791492653810408, \"component 1\": -0.12416199893223678, \"variable\": \"ID\", \"value\": \"8969\"}, {\"component 0\": -0.02155738487864989, \"component 1\": 0.9778901991455219, \"variable\": \"ID\", \"value\": \"4656\"}, {\"component 0\": -0.23682010342986515, \"component 1\": -0.17079258598289002, \"variable\": \"ID\", \"value\": \"4480\"}, {\"component 0\": -0.18274825503768696, \"component 1\": -0.04847027515916284, \"variable\": \"ID\", \"value\": \"9971\"}, {\"component 0\": -0.20017756156624936, \"component 1\": 0.1382496066159847, \"variable\": \"ID\", \"value\": \"6729\"}, {\"component 0\": -0.27018256627602016, \"component 1\": -0.11314710658326697, \"variable\": \"ID\", \"value\": \"1773\"}, {\"component 0\": 0.4364896689817595, \"component 1\": 1.3321170183211475, \"variable\": \"ID\", \"value\": \"9242\"}, {\"component 0\": -0.20017756156624936, \"component 1\": 0.1382496066159847, \"variable\": \"ID\", \"value\": \"1764\"}, {\"component 0\": 0.18786448758438928, \"component 1\": 0.2410797125923588, \"variable\": \"ID\", \"value\": \"6215\"}, {\"component 0\": -0.22791492653810408, \"component 1\": -0.12416199893223678, \"variable\": \"ID\", \"value\": \"10099\"}, {\"component 0\": -0.2326513140188685, \"component 1\": -0.22930079172682624, \"variable\": \"ID\", \"value\": \"5423\"}, {\"component 0\": -0.20017756156624936, \"component 1\": 0.1382496066159847, \"variable\": \"ID\", \"value\": \"940\"}, {\"component 0\": -0.22791492653810408, \"component 1\": -0.12416199893223678, \"variable\": \"ID\", \"value\": \"3011\"}, {\"component 0\": -0.23682010342986515, \"component 1\": -0.17079258598289002, \"variable\": \"ID\", \"value\": \"3298\"}, {\"component 0\": 0.32611930129069205, \"component 1\": -0.6830829805120175, \"variable\": \"ID\", \"value\": \"8286\"}, {\"component 0\": -0.22791492653810408, \"component 1\": -0.12416199893223678, \"variable\": \"ID\", \"value\": \"9668\"}, {\"component 0\": -0.27491895375678455, \"component 1\": -0.21828589937785645, \"variable\": \"ID\", \"value\": \"5120\"}, {\"component 0\": -0.20017756156624936, \"component 1\": 0.1382496066159847, \"variable\": \"ID\", \"value\": \"6097\"}, {\"component 0\": -0.2326513140188685, \"component 1\": -0.22930079172682624, \"variable\": \"ID\", \"value\": \"7019\"}, {\"component 0\": -0.18274825503768696, \"component 1\": -0.04847027515916284, \"variable\": \"ID\", \"value\": \"7408\"}, {\"component 0\": -0.0876726998819579, \"component 1\": -0.07088102873233168, \"variable\": \"ID\", \"value\": \"8041\"}, {\"component 0\": -0.1513975754418532, \"component 1\": 0.11445593322662873, \"variable\": \"ID\", \"value\": \"252\"}, {\"component 0\": 0.18312810010362487, \"component 1\": 0.13594091979776934, \"variable\": \"ID\", \"value\": \"9986\"}, {\"component 0\": -0.27491895375678455, \"component 1\": -0.21828589937785645, \"variable\": \"ID\", \"value\": \"3276\"}, {\"component 0\": -0.18748464251845137, \"component 1\": -0.1536090679537523, \"variable\": \"ID\", \"value\": \"3859\"}, {\"component 0\": -0.18748464251845137, \"component 1\": -0.1536090679537523, \"variable\": \"ID\", \"value\": \"3570\"}, {\"component 0\": -0.18274825503768696, \"component 1\": -0.04847027515916284, \"variable\": \"ID\", \"value\": \"3783\"}, {\"component 0\": -0.2326513140188685, \"component 1\": -0.22930079172682624, \"variable\": \"ID\", \"value\": \"10207\"}, {\"component 0\": -0.18748464251845137, \"component 1\": -0.1536090679537523, \"variable\": \"ID\", \"value\": \"10906\"}, {\"component 0\": -0.18274825503768696, \"component 1\": -0.04847027515916284, \"variable\": \"ID\", \"value\": \"3427\"}, {\"component 0\": -0.19656424694227034, \"component 1\": 0.03876420945355481, \"variable\": \"ID\", \"value\": \"5209\"}, {\"component 0\": -0.22791492653810408, \"component 1\": -0.12416199893223678, \"variable\": \"ID\", \"value\": \"10711\"}, {\"component 0\": -0.22791492653810408, \"component 1\": -0.12416199893223678, \"variable\": \"ID\", \"value\": \"10785\"}, {\"component 0\": -0.24155649091062956, \"component 1\": -0.2759313787774795, \"variable\": \"ID\", \"value\": \"2814\"}, {\"component 0\": -0.24155649091062956, \"component 1\": -0.2759313787774795, \"variable\": \"ID\", \"value\": \"6866\"}, {\"component 0\": 2.175083194106689, \"component 1\": 0.6496624652420825, \"variable\": \"ID\", \"value\": \"1665\"}, {\"component 0\": -0.2326513140188685, \"component 1\": -0.22930079172682624, \"variable\": \"ID\", \"value\": \"6575\"}, {\"component 0\": -0.39129533417338636, \"component 1\": 0.10284074234320364, \"variable\": \"ID\", \"value\": \"3829\"}, {\"component 0\": -0.27491895375678455, \"component 1\": -0.21828589937785645, \"variable\": \"ID\", \"value\": \"3091\"}, {\"component 0\": -0.20546942383403138, \"component 1\": -0.00786637759709844, \"variable\": \"ID\", \"value\": \"10141\"}, {\"component 0\": -0.23682010342986515, \"component 1\": -0.17079258598289002, \"variable\": \"ID\", \"value\": \"5177\"}, {\"component 0\": 0.31342638224289404, \"component 1\": -0.3912243059422805, \"variable\": \"ID\", \"value\": \"7005\"}, {\"component 0\": 0.21921516718022302, \"component 1\": 0.4040059209781504, \"variable\": \"ID\", \"value\": \"6409\"}, {\"component 0\": -0.0876726998819579, \"component 1\": -0.07088102873233168, \"variable\": \"ID\", \"value\": \"7485\"}, {\"component 0\": -0.22791492653810408, \"component 1\": -0.12416199893223678, \"variable\": \"ID\", \"value\": \"8079\"}, {\"component 0\": 0.215601852556244, \"component 1\": 0.5034913181405802, \"variable\": \"ID\", \"value\": \"8395\"}, {\"component 0\": 0.28294004274011836, \"component 1\": 0.21866895901918995, \"variable\": \"ID\", \"value\": \"10352\"}, {\"component 0\": -0.2326513140188685, \"component 1\": -0.22930079172682624, \"variable\": \"ID\", \"value\": \"4931\"}, {\"component 0\": -0.0876726998819579, \"component 1\": -0.07088102873233168, \"variable\": \"ID\", \"value\": \"13\"}, {\"component 0\": -0.2090827384580104, \"component 1\": 0.09161901956533147, \"variable\": \"ID\", \"value\": \"1834\"}, {\"component 0\": -0.24155649091062956, \"component 1\": -0.2759313787774795, \"variable\": \"ID\", \"value\": \"2285\"}, {\"component 0\": -0.18274825503768696, \"component 1\": -0.04847027515916284, \"variable\": \"ID\", \"value\": \"2295\"}, {\"component 0\": -0.27491895375678455, \"component 1\": -0.21828589937785645, \"variable\": \"ID\", \"value\": \"1378\"}, {\"component 0\": 1.4863905820471806, \"component 1\": 0.36193897798800057, \"variable\": \"ID\", \"value\": \"2781\"}, {\"component 0\": -0.15501089006583224, \"component 1\": 0.2139413303890587, \"variable\": \"ID\", \"value\": \"1165\"}, {\"component 0\": -0.2326513140188685, \"component 1\": -0.22930079172682624, \"variable\": \"ID\", \"value\": \"1404\"}, {\"component 0\": -0.19656424694227034, \"component 1\": 0.03876420945355481, \"variable\": \"ID\", \"value\": \"6457\"}, {\"component 0\": -0.20017756156624936, \"component 1\": 0.1382496066159847, \"variable\": \"ID\", \"value\": \"2639\"}, {\"component 0\": -0.15501089006583224, \"component 1\": 0.2139413303890587, \"variable\": \"ID\", \"value\": \"8299\"}, {\"component 0\": -0.24244520130416544, \"component 1\": 0.1492644989649545, \"variable\": \"ID\", \"value\": \"6437\"}, {\"component 0\": -0.18274825503768696, \"component 1\": -0.04847027515916284, \"variable\": \"ID\", \"value\": \"6912\"}, {\"component 0\": -0.18274825503768696, \"component 1\": -0.04847027515916284, \"variable\": \"ID\", \"value\": \"7327\"}, {\"component 0\": -0.18274825503768696, \"component 1\": -0.04847027515916284, \"variable\": \"ID\", \"value\": \"5299\"}, {\"component 0\": 0.45391897551032195, \"component 1\": 1.145397136546, \"variable\": \"ID\", \"value\": \"4127\"}, {\"component 0\": 1.404775596292026, \"component 1\": 0.018731026012668343, \"variable\": \"ID\", \"value\": \"8143\"}, {\"component 0\": -0.2326513140188685, \"component 1\": -0.22930079172682624, \"variable\": \"ID\", \"value\": \"1964\"}, {\"component 0\": 0.8193449117573434, \"component 1\": 0.08387488873184645, \"variable\": \"ID\", \"value\": \"3690\"}, {\"component 0\": 0.3602205621502013, \"component 1\": -0.14412520992598762, \"variable\": \"ID\", \"value\": \"3433\"}, {\"component 0\": -0.22791492653810408, \"component 1\": -0.12416199893223678, \"variable\": \"ID\", \"value\": \"3389\"}, {\"component 0\": -0.27491895375678455, \"component 1\": -0.21828589937785645, \"variable\": \"ID\", \"value\": \"4712\"}, {\"component 0\": -0.22791492653810408, \"component 1\": -0.12416199893223678, \"variable\": \"ID\", \"value\": \"1170\"}, {\"component 0\": -0.3588215817207673, \"component 1\": 0.4703911406860146, \"variable\": \"ID\", \"value\": \"6347\"}, {\"component 0\": -0.18274825503768696, \"component 1\": -0.04847027515916284, \"variable\": \"ID\", \"value\": \"4065\"}, {\"component 0\": -0.22791492653810408, \"component 1\": -0.12416199893223678, \"variable\": \"ID\", \"value\": \"8230\"}, {\"component 0\": 0.3977518144073531, \"component 1\": -0.2602788950695469, \"variable\": \"ID\", \"value\": \"1215\"}, {\"component 0\": -0.2326513140188685, \"component 1\": -0.22930079172682624, \"variable\": \"ID\", \"value\": \"5939\"}, {\"component 0\": -0.18274825503768696, \"component 1\": -0.04847027515916284, \"variable\": \"ID\", \"value\": \"2156\"}, {\"component 0\": -0.18274825503768696, \"component 1\": -0.04847027515916284, \"variable\": \"ID\", \"value\": \"7788\"}, {\"component 0\": -0.22791492653810408, \"component 1\": -0.12416199893223678, \"variable\": \"ID\", \"value\": \"10323\"}, {\"component 0\": -0.22791492653810408, \"component 1\": -0.12416199893223678, \"variable\": \"ID\", \"value\": \"7947\"}, {\"component 0\": 0.21030999028846198, \"component 1\": 0.35737533392749715, \"variable\": \"ID\", \"value\": \"1891\"}, {\"component 0\": 1.7461599818485862, \"component 1\": -0.9416196356403459, \"variable\": \"ID\", \"value\": \"2570\"}, {\"component 0\": -0.20017756156624936, \"component 1\": 0.1382496066159847, \"variable\": \"ID\", \"value\": \"9256\"}, {\"component 0\": -0.20017756156624936, \"component 1\": 0.1382496066159847, \"variable\": \"ID\", \"value\": \"295\"}, {\"component 0\": -0.20017756156624936, \"component 1\": 0.1382496066159847, \"variable\": \"ID\", \"value\": \"7397\"}, {\"component 0\": -0.20546942383403138, \"component 1\": -0.00786637759709844, \"variable\": \"ID\", \"value\": \"6349\"}, {\"component 0\": -0.18274825503768696, \"component 1\": -0.04847027515916284, \"variable\": \"ID\", \"value\": \"10790\"}, {\"component 0\": -0.24244520130416544, \"component 1\": 0.1492644989649545, \"variable\": \"ID\", \"value\": \"10398\"}, {\"component 0\": -0.22791492653810408, \"component 1\": -0.12416199893223678, \"variable\": \"ID\", \"value\": \"2431\"}, {\"component 0\": -0.19656424694227034, \"component 1\": 0.03876420945355481, \"variable\": \"ID\", \"value\": \"550\"}, {\"component 0\": -0.27491895375678455, \"component 1\": -0.21828589937785645, \"variable\": \"ID\", \"value\": \"1890\"}, {\"component 0\": 0.4576373460270282, \"component 1\": -0.15904451196902195, \"variable\": \"ID\", \"value\": \"10742\"}, {\"component 0\": -0.1513975754418532, \"component 1\": 0.11445593322662873, \"variable\": \"ID\", \"value\": \"10356\"}, {\"component 0\": -0.14174454827413607, \"component 1\": -0.19320333955605887, \"variable\": \"ID\", \"value\": \"4676\"}, {\"component 0\": -0.22791492653810408, \"component 1\": -0.12416199893223678, \"variable\": \"ID\", \"value\": \"8852\"}, {\"component 0\": -0.23682010342986515, \"component 1\": -0.17079258598289002, \"variable\": \"ID\", \"value\": \"3565\"}, {\"component 0\": -0.20017756156624936, \"component 1\": 0.1382496066159847, \"variable\": \"ID\", \"value\": \"5294\"}, {\"component 0\": -0.18748464251845137, \"component 1\": -0.1536090679537523, \"variable\": \"ID\", \"value\": \"1958\"}, {\"component 0\": 0.02448407994910703, \"component 1\": 0.46808245386779923, \"variable\": \"ID\", \"value\": \"7349\"}, {\"component 0\": -0.18274825503768696, \"component 1\": -0.04847027515916284, \"variable\": \"ID\", \"value\": \"8799\"}, {\"component 0\": 0.3988291101540856, \"component 1\": -0.38650561558733854, \"variable\": \"ID\", \"value\": \"1351\"}, {\"component 0\": -0.2326513140188685, \"component 1\": -0.22930079172682624, \"variable\": \"ID\", \"value\": \"1045\"}, {\"component 0\": -0.22791492653810408, \"component 1\": -0.12416199893223678, \"variable\": \"ID\", \"value\": \"7732\"}, {\"component 0\": -0.18274825503768696, \"component 1\": -0.04847027515916284, \"variable\": \"ID\", \"value\": \"8070\"}, {\"component 0\": 2.7289689714366596, \"component 1\": 0.3800664297404963, \"variable\": \"ID\", \"value\": \"477\"}, {\"component 0\": 1.6706358566090804, \"component 1\": 0.881522485569693, \"variable\": \"ID\", \"value\": \"7832\"}, {\"component 0\": -0.2326513140188685, \"component 1\": -0.22930079172682624, \"variable\": \"ID\", \"value\": \"2202\"}, {\"component 0\": 0.41247067452661107, \"component 1\": -0.23473623574209587, \"variable\": \"ID\", \"value\": \"7396\"}, {\"component 0\": -0.3588215817207673, \"component 1\": 0.4703911406860146, \"variable\": \"ID\", \"value\": \"4055\"}, {\"component 0\": -0.2326513140188685, \"component 1\": -0.22930079172682624, \"variable\": \"ID\", \"value\": \"10340\"}, {\"component 0\": -0.20017756156624936, \"component 1\": 0.1382496066159847, \"variable\": \"ID\", \"value\": \"10091\"}, {\"component 0\": -0.22791492653810408, \"component 1\": -0.12416199893223678, \"variable\": \"ID\", \"value\": \"7629\"}, {\"component 0\": -0.2326513140188685, \"component 1\": -0.22930079172682624, \"variable\": \"ID\", \"value\": \"10640\"}, {\"component 0\": 0.45391897551032195, \"component 1\": 1.145397136546, \"variable\": \"ID\", \"value\": \"3498\"}, {\"component 0\": -0.33233826022537205, \"component 1\": 0.24348876550994378, \"variable\": \"ID\", \"value\": \"6742\"}, {\"component 0\": 2.0174238323848868, \"component 1\": -0.3542548163454123, \"variable\": \"ID\", \"value\": \"1172\"}, {\"component 0\": 1.999994525856324, \"component 1\": -0.16753493457026464, \"variable\": \"ID\", \"value\": \"569\"}, {\"component 0\": 0.5527129011827573, \"component 1\": -0.1814552655421908, \"variable\": \"ID\", \"value\": \"4686\"}, {\"component 0\": 0.2607685240566611, \"component 1\": 0.5791830419136542, \"variable\": \"ID\", \"value\": \"1381\"}, {\"component 0\": 0.20669667566448297, \"component 1\": 0.45686073108992703, \"variable\": \"ID\", \"value\": \"2634\"}, {\"component 0\": 0.18312810010362487, \"component 1\": 0.13594091979776934, \"variable\": \"ID\", \"value\": \"10905\"}, {\"component 0\": -0.3588215817207673, \"component 1\": 0.4703911406860146, \"variable\": \"ID\", \"value\": \"1744\"}, {\"component 0\": -0.24155649091062956, \"component 1\": -0.2759313787774795, \"variable\": \"ID\", \"value\": \"1000\"}, {\"component 0\": -0.22791492653810408, \"component 1\": -0.12416199893223678, \"variable\": \"ID\", \"value\": \"3828\"}, {\"component 0\": -0.18748464251845137, \"component 1\": -0.1536090679537523, \"variable\": \"ID\", \"value\": \"8605\"}, {\"component 0\": -0.22791492653810408, \"component 1\": -0.12416199893223678, \"variable\": \"ID\", \"value\": \"10304\"}, {\"component 0\": 0.024323569483245173, \"component 1\": 0.8673899096341221, \"variable\": \"ID\", \"value\": \"4351\"}, {\"component 0\": 0.4077342870458467, \"component 1\": -0.33987502853668533, \"variable\": \"ID\", \"value\": \"10129\"}, {\"component 0\": -0.24244520130416544, \"component 1\": 0.1492644989649545, \"variable\": \"ID\", \"value\": \"2499\"}, {\"component 0\": -0.19656424694227034, \"component 1\": 0.03876420945355481, \"variable\": \"ID\", \"value\": \"10092\"}, {\"component 0\": -0.20017756156624936, \"component 1\": 0.1382496066159847, \"variable\": \"ID\", \"value\": \"7500\"}, {\"component 0\": 0.41247067452661107, \"component 1\": -0.23473623574209587, \"variable\": \"ID\", \"value\": \"5796\"}, {\"component 0\": 0.4024882018881175, \"component 1\": -0.15514010227495745, \"variable\": \"ID\", \"value\": \"10556\"}, {\"component 0\": -0.18274825503768696, \"component 1\": -0.04847027515916284, \"variable\": \"ID\", \"value\": \"1064\"}, {\"component 0\": 0.2809526297902749, \"component 1\": -0.7587747042850914, \"variable\": \"ID\", \"value\": \"48\"}, {\"component 0\": -0.2326513140188685, \"component 1\": -0.22930079172682624, \"variable\": \"ID\", \"value\": \"7610\"}, {\"component 0\": 0.2607685240566611, \"component 1\": 0.5791830419136542, \"variable\": \"ID\", \"value\": \"263\"}, {\"component 0\": 0.18312810010362487, \"component 1\": 0.13594091979776934, \"variable\": \"ID\", \"value\": \"10814\"}, {\"component 0\": -0.1513975754418532, \"component 1\": 0.11445593322662873, \"variable\": \"ID\", \"value\": \"9710\"}, {\"component 0\": -0.22791492653810408, \"component 1\": -0.12416199893223678, \"variable\": \"ID\", \"value\": \"9292\"}, {\"component 0\": -0.39129533417338636, \"component 1\": 0.10284074234320364, \"variable\": \"ID\", \"value\": \"10250\"}, {\"component 0\": -0.23682010342986515, \"component 1\": -0.17079258598289002, \"variable\": \"ID\", \"value\": \"7881\"}, {\"component 0\": -0.19656424694227034, \"component 1\": 0.03876420945355481, \"variable\": \"ID\", \"value\": \"5847\"}, {\"component 0\": 1.6016444182623932, \"component 1\": -0.7194965278700078, \"variable\": \"ID\", \"value\": \"737\"}, {\"component 0\": 0.7418987154131854, \"component 1\": -0.317841268987422, \"variable\": \"ID\", \"value\": \"3571\"}, {\"component 0\": -0.22791492653810408, \"component 1\": -0.12416199893223678, \"variable\": \"ID\", \"value\": \"7807\"}, {\"component 0\": -0.24244520130416544, \"component 1\": 0.1492644989649545, \"variable\": \"ID\", \"value\": \"3878\"}, {\"component 0\": 0.8417106580496789, \"component 1\": -0.2351132297660013, \"variable\": \"ID\", \"value\": \"5092\"}, {\"component 0\": -0.13283937138237503, \"component 1\": -0.1465727525054056, \"variable\": \"ID\", \"value\": \"2154\"}, {\"component 0\": -0.3588215817207673, \"component 1\": 0.4703911406860146, \"variable\": \"ID\", \"value\": \"5394\"}, {\"component 0\": -0.22791492653810408, \"component 1\": -0.12416199893223678, \"variable\": \"ID\", \"value\": \"3798\"}, {\"component 0\": 0.20669667566448297, \"component 1\": 0.45686073108992703, \"variable\": \"ID\", \"value\": \"3524\"}, {\"component 0\": -0.18274825503768696, \"component 1\": -0.04847027515916284, \"variable\": \"ID\", \"value\": \"5247\"}, {\"component 0\": -0.22791492653810408, \"component 1\": -0.12416199893223678, \"variable\": \"ID\", \"value\": \"5883\"}, {\"component 0\": -0.27018256627602016, \"component 1\": -0.11314710658326697, \"variable\": \"ID\", \"value\": \"2118\"}, {\"component 0\": -0.2388318866801864, \"component 1\": 0.04977910180252461, \"variable\": \"ID\", \"value\": \"8812\"}, {\"component 0\": -0.2326513140188685, \"component 1\": -0.22930079172682624, \"variable\": \"ID\", \"value\": \"6616\"}, {\"component 0\": -0.22791492653810408, \"component 1\": -0.12416199893223678, \"variable\": \"ID\", \"value\": \"2797\"}, {\"component 0\": -0.27018256627602016, \"component 1\": -0.11314710658326697, \"variable\": \"ID\", \"value\": \"4328\"}, {\"component 0\": -0.22791492653810408, \"component 1\": -0.12416199893223678, \"variable\": \"ID\", \"value\": \"9167\"}, {\"component 0\": -0.15501089006583224, \"component 1\": 0.2139413303890587, \"variable\": \"ID\", \"value\": \"10560\"}, {\"component 0\": -0.2326513140188685, \"component 1\": -0.22930079172682624, \"variable\": \"ID\", \"value\": \"2631\"}, {\"component 0\": -0.386558946692622, \"component 1\": 0.20797953513779313, \"variable\": \"ID\", \"value\": \"8312\"}, {\"component 0\": -0.015932287004349583, \"component 1\": 0.6578331141976773, \"variable\": \"ID\", \"value\": \"5534\"}, {\"component 0\": 0.2643818386806402, \"component 1\": 0.4796976447512243, \"variable\": \"ID\", \"value\": \"5093\"}, {\"component 0\": -0.18274825503768696, \"component 1\": -0.04847027515916284, \"variable\": \"ID\", \"value\": \"7592\"}, {\"component 0\": -0.20017756156624936, \"component 1\": 0.1382496066159847, \"variable\": \"ID\", \"value\": \"8895\"}, {\"component 0\": -0.18748464251845137, \"component 1\": -0.1536090679537523, \"variable\": \"ID\", \"value\": \"8584\"}, {\"component 0\": -0.22791492653810408, \"component 1\": -0.12416199893223678, \"variable\": \"ID\", \"value\": \"2694\"}, {\"component 0\": 0.18312810010362487, \"component 1\": 0.13594091979776934, \"variable\": \"ID\", \"value\": \"8910\"}, {\"component 0\": -0.20017756156624936, \"component 1\": 0.1382496066159847, \"variable\": \"ID\", \"value\": \"7433\"}, {\"component 0\": -0.18274825503768696, \"component 1\": -0.04847027515916284, \"variable\": \"ID\", \"value\": \"164\"}, {\"component 0\": -0.18748464251845137, \"component 1\": -0.1536090679537523, \"variable\": \"ID\", \"value\": \"10477\"}, {\"component 0\": -0.27018256627602016, \"component 1\": -0.11314710658326697, \"variable\": \"ID\", \"value\": \"2681\"}, {\"component 0\": -0.3588215817207673, \"component 1\": 0.4703911406860146, \"variable\": \"ID\", \"value\": \"5150\"}, {\"component 0\": -0.15501089006583224, \"component 1\": 0.2139413303890587, \"variable\": \"ID\", \"value\": \"5283\"}, {\"component 0\": -0.22791492653810408, \"component 1\": -0.12416199893223678, \"variable\": \"ID\", \"value\": \"9645\"}, {\"component 0\": -0.2326513140188685, \"component 1\": -0.22930079172682624, \"variable\": \"ID\", \"value\": \"10678\"}, {\"component 0\": 0.18312810010362487, \"component 1\": 0.13594091979776934, \"variable\": \"ID\", \"value\": \"7261\"}, {\"component 0\": -0.20017756156624936, \"component 1\": 0.1382496066159847, \"variable\": \"ID\", \"value\": \"9648\"}, {\"component 0\": -0.22791492653810408, \"component 1\": -0.12416199893223678, \"variable\": \"ID\", \"value\": \"2870\"}, {\"component 0\": -0.2326513140188685, \"component 1\": -0.22930079172682624, \"variable\": \"ID\", \"value\": \"8008\"}, {\"component 0\": -0.27491895375678455, \"component 1\": -0.21828589937785645, \"variable\": \"ID\", \"value\": \"1513\"}, {\"component 0\": -0.2326513140188685, \"component 1\": -0.22930079172682624, \"variable\": \"ID\", \"value\": \"6173\"}, {\"component 0\": -0.2326513140188685, \"component 1\": -0.22930079172682624, \"variable\": \"ID\", \"value\": \"1419\"}, {\"component 0\": -0.15501089006583224, \"component 1\": 0.2139413303890587, \"variable\": \"ID\", \"value\": \"9150\"}, {\"component 0\": 0.3654666473079306, \"component 1\": -0.32886013618771553, \"variable\": \"ID\", \"value\": \"7960\"}, {\"component 0\": -0.20017756156624936, \"component 1\": 0.1382496066159847, \"variable\": \"ID\", \"value\": \"1250\"}, {\"component 0\": -0.01176349759335295, \"component 1\": 0.5993249084537411, \"variable\": \"ID\", \"value\": \"9905\"}, {\"component 0\": -0.23682010342986515, \"component 1\": -0.17079258598289002, \"variable\": \"ID\", \"value\": \"10691\"}, {\"component 0\": -0.20017756156624936, \"component 1\": 0.1382496066159847, \"variable\": \"ID\", \"value\": \"7002\"}, {\"component 0\": -0.2090827384580104, \"component 1\": 0.09161901956533147, \"variable\": \"ID\", \"value\": \"2952\"}, {\"component 0\": 0.3977518144073531, \"component 1\": -0.2602788950695469, \"variable\": \"ID\", \"value\": \"8439\"}, {\"component 0\": -0.27491895375678455, \"component 1\": -0.21828589937785645, \"variable\": \"ID\", \"value\": \"762\"}, {\"component 0\": -0.2326513140188685, \"component 1\": -0.22930079172682624, \"variable\": \"ID\", \"value\": \"2831\"}, {\"component 0\": 0.4077342870458467, \"component 1\": -0.33987502853668533, \"variable\": \"ID\", \"value\": \"6977\"}, {\"component 0\": -0.24155649091062956, \"component 1\": -0.2759313787774795, \"variable\": \"ID\", \"value\": \"6289\"}, {\"component 0\": 0.215601852556244, \"component 1\": 0.5034913181405802, \"variable\": \"ID\", \"value\": \"4168\"}, {\"component 0\": -0.007027110112588541, \"component 1\": 0.7044637012483306, \"variable\": \"ID\", \"value\": \"8397\"}, {\"component 0\": -0.2326513140188685, \"component 1\": -0.22930079172682624, \"variable\": \"ID\", \"value\": \"9284\"}, {\"component 0\": -0.15501089006583224, \"component 1\": 0.2139413303890587, \"variable\": \"ID\", \"value\": \"6237\"}, {\"component 0\": -0.20017756156624936, \"component 1\": 0.1382496066159847, \"variable\": \"ID\", \"value\": \"3130\"}, {\"component 0\": 0.18786448758438928, \"component 1\": 0.2410797125923588, \"variable\": \"ID\", \"value\": \"1619\"}, {\"component 0\": 0.06587692635968327, \"component 1\": 1.042567030569626, \"variable\": \"ID\", \"value\": \"1990\"}, {\"component 0\": -0.2326513140188685, \"component 1\": -0.22930079172682624, \"variable\": \"ID\", \"value\": \"5513\"}, {\"component 0\": -0.15501089006583224, \"component 1\": 0.2139413303890587, \"variable\": \"ID\", \"value\": \"269\"}, {\"component 0\": 0.39358302499635645, \"component 1\": -0.20177068932561068, \"variable\": \"ID\", \"value\": \"8093\"}, {\"component 0\": 0.3977518144073531, \"component 1\": -0.2602788950695469, \"variable\": \"ID\", \"value\": \"10513\"}, {\"component 0\": -0.19656424694227034, \"component 1\": 0.03876420945355481, \"variable\": \"ID\", \"value\": \"10177\"}, {\"component 0\": -0.18748464251845137, \"component 1\": -0.1536090679537523, \"variable\": \"ID\", \"value\": \"2549\"}, {\"component 0\": 0.2386849900523589, \"component 1\": -0.7477598119361216, \"variable\": \"ID\", \"value\": \"5782\"}, {\"component 0\": 0.215601852556244, \"component 1\": 0.5034913181405802, \"variable\": \"ID\", \"value\": \"10057\"}, {\"component 0\": -0.22791492653810408, \"component 1\": -0.12416199893223678, \"variable\": \"ID\", \"value\": \"10307\"}, {\"component 0\": -0.18748464251845137, \"component 1\": -0.1536090679537523, \"variable\": \"ID\", \"value\": \"8566\"}, {\"component 0\": 0.3977518144073531, \"component 1\": -0.2602788950695469, \"variable\": \"ID\", \"value\": \"2415\"}, {\"component 0\": -0.20546942383403138, \"component 1\": -0.00786637759709844, \"variable\": \"ID\", \"value\": \"5684\"}, {\"component 0\": -0.2090827384580104, \"component 1\": 0.09161901956533147, \"variable\": \"ID\", \"value\": \"8334\"}, {\"component 0\": -0.22791492653810408, \"component 1\": -0.12416199893223678, \"variable\": \"ID\", \"value\": \"9166\"}, {\"component 0\": -0.27491895375678455, \"component 1\": -0.21828589937785645, \"variable\": \"ID\", \"value\": \"1440\"}, {\"component 0\": -0.22791492653810408, \"component 1\": -0.12416199893223678, \"variable\": \"ID\", \"value\": \"78\"}, {\"component 0\": -0.0876726998819579, \"component 1\": -0.07088102873233168, \"variable\": \"ID\", \"value\": \"5441\"}, {\"component 0\": 0.18312810010362487, \"component 1\": 0.13594091979776934, \"variable\": \"ID\", \"value\": \"5302\"}, {\"component 0\": -0.23682010342986515, \"component 1\": -0.17079258598289002, \"variable\": \"ID\", \"value\": \"4687\"}, {\"component 0\": 0.1742229232118638, \"component 1\": 0.08931033274711611, \"variable\": \"ID\", \"value\": \"1087\"}, {\"component 0\": -0.20017756156624936, \"component 1\": 0.1382496066159847, \"variable\": \"ID\", \"value\": \"6859\"}, {\"component 0\": -0.2326513140188685, \"component 1\": -0.22930079172682624, \"variable\": \"ID\", \"value\": \"9860\"}, {\"component 0\": -0.18274825503768696, \"component 1\": -0.04847027515916284, \"variable\": \"ID\", \"value\": \"7129\"}, {\"component 0\": -0.2326513140188685, \"component 1\": -0.22930079172682624, \"variable\": \"ID\", \"value\": \"5866\"}, {\"component 0\": 0.18786448758438928, \"component 1\": 0.2410797125923588, \"variable\": \"ID\", \"value\": \"10521\"}, {\"component 0\": -0.2326513140188685, \"component 1\": -0.22930079172682624, \"variable\": \"ID\", \"value\": \"7393\"}, {\"component 0\": -0.18274825503768696, \"component 1\": -0.04847027515916284, \"variable\": \"ID\", \"value\": \"7849\"}, {\"component 0\": 0.28568901727103935, \"component 1\": -0.6536359114905019, \"variable\": \"ID\", \"value\": \"332\"}, {\"component 0\": -0.27018256627602016, \"component 1\": -0.11314710658326697, \"variable\": \"ID\", \"value\": \"9847\"}, {\"component 0\": 0.2643818386806402, \"component 1\": 0.4796976447512243, \"variable\": \"ID\", \"value\": \"531\"}, {\"component 0\": -0.18748464251845137, \"component 1\": -0.1536090679537523, \"variable\": \"ID\", \"value\": \"9576\"}, {\"component 0\": 2.0584275391484375, \"component 1\": -0.4989878807423083, \"variable\": \"ID\", \"value\": \"6906\"}, {\"component 0\": -0.20546942383403138, \"component 1\": -0.00786637759709844, \"variable\": \"ID\", \"value\": \"7419\"}, {\"component 0\": -0.24155649091062956, \"component 1\": -0.2759313787774795, \"variable\": \"ID\", \"value\": \"3170\"}, {\"component 0\": -0.24155649091062956, \"component 1\": -0.2759313787774795, \"variable\": \"ID\", \"value\": \"8527\"}, {\"component 0\": 1.7247077050012585, \"component 1\": 1.0038447963934203, \"variable\": \"ID\", \"value\": \"7872\"}, {\"component 0\": -0.18274825503768696, \"component 1\": -0.04847027515916284, \"variable\": \"ID\", \"value\": \"9931\"}, {\"component 0\": -0.22791492653810408, \"component 1\": -0.12416199893223678, \"variable\": \"ID\", \"value\": \"10595\"}, {\"component 0\": -0.18274825503768696, \"component 1\": -0.04847027515916284, \"variable\": \"ID\", \"value\": \"4609\"}, {\"component 0\": -0.20017756156624936, \"component 1\": 0.1382496066159847, \"variable\": \"ID\", \"value\": \"5010\"}, {\"component 0\": 0.9301842966212908, \"component 1\": 1.6002084383024389, \"variable\": \"ID\", \"value\": \"4427\"}, {\"component 0\": -0.2326513140188685, \"component 1\": -0.22930079172682624, \"variable\": \"ID\", \"value\": \"11148\"}, {\"component 0\": -0.18274825503768696, \"component 1\": -0.04847027515916284, \"variable\": \"ID\", \"value\": \"1168\"}, {\"component 0\": 0.18312810010362487, \"component 1\": 0.13594091979776934, \"variable\": \"ID\", \"value\": \"9595\"}, {\"component 0\": 0.2607685240566611, \"component 1\": 0.5791830419136542, \"variable\": \"ID\", \"value\": \"10163\"}, {\"component 0\": 0.9385376484013337, \"component 1\": -0.5683183934980843, \"variable\": \"ID\", \"value\": \"2886\"}, {\"component 0\": -0.2090827384580104, \"component 1\": 0.09161901956533147, \"variable\": \"ID\", \"value\": \"6710\"}, {\"component 0\": -0.24155649091062956, \"component 1\": -0.2759313787774795, \"variable\": \"ID\", \"value\": \"5316\"}, {\"component 0\": -0.18274825503768696, \"component 1\": -0.04847027515916284, \"variable\": \"ID\", \"value\": \"9029\"}, {\"component 0\": -0.2326513140188685, \"component 1\": -0.22930079172682624, \"variable\": \"ID\", \"value\": \"521\"}, {\"component 0\": -0.18274825503768696, \"component 1\": -0.04847027515916284, \"variable\": \"ID\", \"value\": \"1459\"}, {\"component 0\": -0.2388318866801864, \"component 1\": 0.04977910180252461, \"variable\": \"ID\", \"value\": \"10241\"}, {\"component 0\": -0.20017756156624936, \"component 1\": 0.1382496066159847, \"variable\": \"ID\", \"value\": \"1630\"}, {\"component 0\": -0.22791492653810408, \"component 1\": -0.12416199893223678, \"variable\": \"ID\", \"value\": \"3254\"}, {\"component 0\": 0.8282500886491044, \"component 1\": 0.1305054757824997, \"variable\": \"ID\", \"value\": \"9064\"}, {\"component 0\": 0.7965439865492618, \"component 1\": -0.3108049535390753, \"variable\": \"ID\", \"value\": \"3678\"}, {\"component 0\": -0.24155649091062956, \"component 1\": -0.2759313787774795, \"variable\": \"ID\", \"value\": \"4227\"}, {\"component 0\": -0.20017756156624936, \"component 1\": 0.1382496066159847, \"variable\": \"ID\", \"value\": \"9467\"}, {\"component 0\": -0.24155649091062956, \"component 1\": -0.2759313787774795, \"variable\": \"ID\", \"value\": \"8486\"}, {\"component 0\": 1.925253133665789, \"component 1\": -0.5240704405641059, \"variable\": \"ID\", \"value\": \"2186\"}, {\"component 0\": -0.1513975754418532, \"component 1\": 0.11445593322662873, \"variable\": \"ID\", \"value\": \"3286\"}, {\"component 0\": -0.19656424694227034, \"component 1\": 0.03876420945355481, \"variable\": \"ID\", \"value\": \"8602\"}, {\"component 0\": -0.20017756156624936, \"component 1\": 0.1382496066159847, \"variable\": \"ID\", \"value\": \"3722\"}, {\"component 0\": -0.15501089006583224, \"component 1\": 0.2139413303890587, \"variable\": \"ID\", \"value\": \"6715\"}, {\"component 0\": -0.19656424694227034, \"component 1\": 0.03876420945355481, \"variable\": \"ID\", \"value\": \"4796\"}, {\"component 0\": -0.24244520130416544, \"component 1\": 0.1492644989649545, \"variable\": \"ID\", \"value\": \"9612\"}, {\"component 0\": 0.2740348658483573, \"component 1\": 0.17203837196853672, \"variable\": \"ID\", \"value\": \"3766\"}, {\"component 0\": 0.4024882018881175, \"component 1\": -0.15514010227495745, \"variable\": \"ID\", \"value\": \"1399\"}, {\"component 0\": -0.18748464251845137, \"component 1\": -0.1536090679537523, \"variable\": \"ID\", \"value\": \"1570\"}, {\"component 0\": -0.19656424694227034, \"component 1\": 0.03876420945355481, \"variable\": \"ID\", \"value\": \"3426\"}, {\"component 0\": 0.2330311590848064, \"component 1\": 0.31677143636543276, \"variable\": \"ID\", \"value\": \"3074\"}, {\"component 0\": 0.45391897551032195, \"component 1\": 1.145397136546, \"variable\": \"ID\", \"value\": \"8341\"}, {\"component 0\": -0.1513975754418532, \"component 1\": 0.11445593322662873, \"variable\": \"ID\", \"value\": \"5180\"}, {\"component 0\": 0.30452120535113303, \"component 1\": -0.43785489299293373, \"variable\": \"ID\", \"value\": \"6461\"}, {\"component 0\": -0.15501089006583224, \"component 1\": 0.2139413303890587, \"variable\": \"ID\", \"value\": \"7679\"}, {\"component 0\": -0.20017756156624936, \"component 1\": 0.1382496066159847, \"variable\": \"ID\", \"value\": \"10702\"}, {\"component 0\": -0.18274825503768696, \"component 1\": -0.04847027515916284, \"variable\": \"ID\", \"value\": \"7505\"}, {\"component 0\": 0.48526965510615566, \"component 1\": 1.3083233449317917, \"variable\": \"ID\", \"value\": \"5113\"}, {\"component 0\": -0.2326513140188685, \"component 1\": -0.22930079172682624, \"variable\": \"ID\", \"value\": \"10858\"}, {\"component 0\": -0.007027110112588541, \"component 1\": 0.7044637012483306, \"variable\": \"ID\", \"value\": \"2961\"}, {\"component 0\": -0.18274825503768696, \"component 1\": -0.04847027515916284, \"variable\": \"ID\", \"value\": \"2747\"}, {\"component 0\": 1.2501200550058227, \"component 1\": 0.4111419812505082, \"variable\": \"ID\", \"value\": \"3010\"}, {\"component 0\": -0.22791492653810408, \"component 1\": -0.12416199893223678, \"variable\": \"ID\", \"value\": \"5790\"}, {\"component 0\": 0.9474428252930946, \"component 1\": -0.5216878064474311, \"variable\": \"ID\", \"value\": \"6892\"}, {\"component 0\": -0.20017756156624936, \"component 1\": 0.1382496066159847, \"variable\": \"ID\", \"value\": \"1743\"}, {\"component 0\": -0.19656424694227034, \"component 1\": 0.03876420945355481, \"variable\": \"ID\", \"value\": \"3578\"}, {\"component 0\": -0.1704075177478708, \"component 1\": 0.931466442523771, \"variable\": \"ID\", \"value\": \"8462\"}, {\"component 0\": 0.48537471099888296, \"component 1\": 0.1033670935791996, \"variable\": \"ID\", \"value\": \"5558\"}, {\"component 0\": -0.15501089006583224, \"component 1\": 0.2139413303890587, \"variable\": \"ID\", \"value\": \"4619\"}, {\"component 0\": -0.18748464251845137, \"component 1\": -0.1536090679537523, \"variable\": \"ID\", \"value\": \"8780\"}, {\"component 0\": -0.18274825503768696, \"component 1\": -0.04847027515916284, \"variable\": \"ID\", \"value\": \"10789\"}, {\"component 0\": -0.20017756156624936, \"component 1\": 0.1382496066159847, \"variable\": \"ID\", \"value\": \"10779\"}, {\"component 0\": -0.23682010342986515, \"component 1\": -0.17079258598289002, \"variable\": \"ID\", \"value\": \"5896\"}, {\"component 0\": -0.19656424694227034, \"component 1\": 0.03876420945355481, \"variable\": \"ID\", \"value\": \"2337\"}, {\"component 0\": 0.28568901727103935, \"component 1\": -0.6536359114905019, \"variable\": \"ID\", \"value\": \"10951\"}, {\"component 0\": -0.22791492653810408, \"component 1\": -0.12416199893223678, \"variable\": \"ID\", \"value\": \"544\"}, {\"component 0\": -0.18274825503768696, \"component 1\": -0.04847027515916284, \"variable\": \"ID\", \"value\": \"17\"}, {\"component 0\": -0.2326513140188685, \"component 1\": -0.22930079172682624, \"variable\": \"ID\", \"value\": \"10680\"}, {\"component 0\": -0.22791492653810408, \"component 1\": -0.12416199893223678, \"variable\": \"ID\", \"value\": \"3265\"}, {\"component 0\": -0.015932287004349583, \"component 1\": 0.6578331141976773, \"variable\": \"ID\", \"value\": \"5623\"}, {\"component 0\": -0.27491895375678455, \"component 1\": -0.21828589937785645, \"variable\": \"ID\", \"value\": \"5832\"}, {\"component 0\": 0.31342638224289404, \"component 1\": -0.3912243059422805, \"variable\": \"ID\", \"value\": \"5544\"}, {\"component 0\": -0.24155649091062956, \"component 1\": -0.2759313787774795, \"variable\": \"ID\", \"value\": \"6417\"}, {\"component 0\": 1.3318715598197544, \"component 1\": -0.31937230330862715, \"variable\": \"ID\", \"value\": \"5831\"}, {\"component 0\": -0.0876726998819579, \"component 1\": -0.07088102873233168, \"variable\": \"ID\", \"value\": \"7101\"}, {\"component 0\": 1.7786337343012055, \"component 1\": -0.574069237297535, \"variable\": \"ID\", \"value\": \"10176\"}, {\"component 0\": -0.22791492653810408, \"component 1\": -0.12416199893223678, \"variable\": \"ID\", \"value\": \"2326\"}, {\"component 0\": -0.15501089006583224, \"component 1\": 0.2139413303890587, \"variable\": \"ID\", \"value\": \"4385\"}, {\"component 0\": -0.20017756156624936, \"component 1\": 0.1382496066159847, \"variable\": \"ID\", \"value\": \"2929\"}, {\"component 0\": -0.18748464251845137, \"component 1\": -0.1536090679537523, \"variable\": \"ID\", \"value\": \"10686\"}, {\"component 0\": -0.24244520130416544, \"component 1\": 0.1492644989649545, \"variable\": \"ID\", \"value\": \"2546\"}, {\"component 0\": -0.27018256627602016, \"component 1\": -0.11314710658326697, \"variable\": \"ID\", \"value\": \"3283\"}, {\"component 0\": 3.049422463792142, \"component 1\": -0.7156215774501147, \"variable\": \"ID\", \"value\": \"3138\"}, {\"component 0\": 0.43130286260670475, \"component 1\": -0.018955217244527638, \"variable\": \"ID\", \"value\": \"4994\"}, {\"component 0\": -0.30460089525351736, \"component 1\": 0.5059003710581652, \"variable\": \"ID\", \"value\": \"7966\"}, {\"component 0\": -0.23682010342986515, \"component 1\": -0.17079258598289002, \"variable\": \"ID\", \"value\": \"3112\"}, {\"component 0\": 1.3802836267072742, \"component 1\": -1.1260308305972782, \"variable\": \"ID\", \"value\": \"10872\"}, {\"component 0\": -0.22791492653810408, \"component 1\": -0.12416199893223678, \"variable\": \"ID\", \"value\": \"2181\"}, {\"component 0\": 0.215601852556244, \"component 1\": 0.5034913181405802, \"variable\": \"ID\", \"value\": \"1867\"}, {\"component 0\": -0.23682010342986515, \"component 1\": -0.17079258598289002, \"variable\": \"ID\", \"value\": \"1518\"}, {\"component 0\": -0.18274825503768696, \"component 1\": -0.04847027515916284, \"variable\": \"ID\", \"value\": \"5734\"}, {\"component 0\": -0.18274825503768696, \"component 1\": -0.04847027515916284, \"variable\": \"ID\", \"value\": \"2878\"}, {\"component 0\": -0.23682010342986515, \"component 1\": -0.17079258598289002, \"variable\": \"ID\", \"value\": \"1458\"}, {\"component 0\": -0.23682010342986515, \"component 1\": -0.17079258598289002, \"variable\": \"ID\", \"value\": \"7007\"}, {\"component 0\": -0.22791492653810408, \"component 1\": -0.12416199893223678, \"variable\": \"ID\", \"value\": \"6200\"}, {\"component 0\": -0.27491895375678455, \"component 1\": -0.21828589937785645, \"variable\": \"ID\", \"value\": \"1403\"}, {\"component 0\": 0.2607685240566611, \"component 1\": 0.5791830419136542, \"variable\": \"ID\", \"value\": \"4827\"}, {\"component 0\": 0.32810671424053545, \"component 1\": 0.2943606827922639, \"variable\": \"ID\", \"value\": \"6250\"}, {\"component 0\": -0.23682010342986515, \"component 1\": -0.17079258598289002, \"variable\": \"ID\", \"value\": \"9291\"}, {\"component 0\": -0.22791492653810408, \"component 1\": -0.12416199893223678, \"variable\": \"ID\", \"value\": \"2478\"}, {\"component 0\": 1.7247077050012585, \"component 1\": 1.0038447963934203, \"variable\": \"ID\", \"value\": \"1139\"}, {\"component 0\": -0.2326513140188685, \"component 1\": -0.22930079172682624, \"variable\": \"ID\", \"value\": \"5138\"}, {\"component 0\": -0.20017756156624936, \"component 1\": 0.1382496066159847, \"variable\": \"ID\", \"value\": \"5393\"}, {\"component 0\": -0.22791492653810408, \"component 1\": -0.12416199893223678, \"variable\": \"ID\", \"value\": \"10413\"}, {\"component 0\": -0.23682010342986515, \"component 1\": -0.17079258598289002, \"variable\": \"ID\", \"value\": \"5015\"}, {\"component 0\": -0.13283937138237503, \"component 1\": -0.1465727525054056, \"variable\": \"ID\", \"value\": \"10868\"}, {\"component 0\": 0.18786448758438928, \"component 1\": 0.2410797125923588, \"variable\": \"ID\", \"value\": \"10676\"}, {\"component 0\": -0.23682010342986515, \"component 1\": -0.17079258598289002, \"variable\": \"ID\", \"value\": \"2495\"}, {\"component 0\": -0.20017756156624936, \"component 1\": 0.1382496066159847, \"variable\": \"ID\", \"value\": \"7842\"}, {\"component 0\": -0.2326513140188685, \"component 1\": -0.22930079172682624, \"variable\": \"ID\", \"value\": \"9955\"}, {\"component 0\": -0.15501089006583224, \"component 1\": 0.2139413303890587, \"variable\": \"ID\", \"value\": \"6663\"}, {\"component 0\": -0.22791492653810408, \"component 1\": -0.12416199893223678, \"variable\": \"ID\", \"value\": \"2162\"}, {\"component 0\": -0.20017756156624936, \"component 1\": 0.1382496066159847, \"variable\": \"ID\", \"value\": \"3434\"}, {\"component 0\": 0.228294771604042, \"component 1\": 0.21163264357084327, \"variable\": \"ID\", \"value\": \"7919\"}, {\"component 0\": -0.15501089006583224, \"component 1\": 0.2139413303890587, \"variable\": \"ID\", \"value\": \"5626\"}, {\"component 0\": -0.0876726998819579, \"component 1\": -0.07088102873233168, \"variable\": \"ID\", \"value\": \"6428\"}, {\"component 0\": -0.2326513140188685, \"component 1\": -0.22930079172682624, \"variable\": \"ID\", \"value\": \"8514\"}, {\"component 0\": 0.02071025485926616, \"component 1\": 0.966875306796552, \"variable\": \"ID\", \"value\": \"10448\"}, {\"component 0\": 0.8559874536209592, \"component 1\": 0.3929170813307212, \"variable\": \"ID\", \"value\": \"2109\"}, {\"component 0\": -0.0876726998819579, \"component 1\": -0.07088102873233168, \"variable\": \"ID\", \"value\": \"7530\"}, {\"component 0\": -0.23682010342986515, \"component 1\": -0.17079258598289002, \"variable\": \"ID\", \"value\": \"8925\"}, {\"component 0\": 2.531524197050212, \"component 1\": -0.8937741094557103, \"variable\": \"ID\", \"value\": \"3009\"}, {\"component 0\": -0.22791492653810408, \"component 1\": -0.12416199893223678, \"variable\": \"ID\", \"value\": \"6355\"}, {\"component 0\": 0.215601852556244, \"component 1\": 0.5034913181405802, \"variable\": \"ID\", \"value\": \"3517\"}, {\"component 0\": -0.19656424694227034, \"component 1\": 0.03876420945355481, \"variable\": \"ID\", \"value\": \"1158\"}, {\"component 0\": -0.2326513140188685, \"component 1\": -0.22930079172682624, \"variable\": \"ID\", \"value\": \"6203\"}, {\"component 0\": -0.2326513140188685, \"component 1\": -0.22930079172682624, \"variable\": \"ID\", \"value\": \"7165\"}, {\"component 0\": -0.2326513140188685, \"component 1\": -0.22930079172682624, \"variable\": \"ID\", \"value\": \"3595\"}, {\"component 0\": 0.91334317116634, \"component 1\": 0.1876908556764693, \"variable\": \"ID\", \"value\": \"8537\"}, {\"component 0\": 0.912433053963229, \"component 1\": -0.9159795281456038, \"variable\": \"ID\", \"value\": \"4331\"}, {\"component 0\": 0.024323569483245173, \"component 1\": 0.8673899096341221, \"variable\": \"ID\", \"value\": \"6281\"}, {\"component 0\": 0.02071025485926616, \"component 1\": 0.966875306796552, \"variable\": \"ID\", \"value\": \"4338\"}, {\"component 0\": 0.18312810010362487, \"component 1\": 0.13594091979776934, \"variable\": \"ID\", \"value\": \"2452\"}, {\"component 0\": -0.22791492653810408, \"component 1\": -0.12416199893223678, \"variable\": \"ID\", \"value\": \"9507\"}, {\"component 0\": -0.27018256627602016, \"component 1\": -0.11314710658326697, \"variable\": \"ID\", \"value\": \"8360\"}, {\"component 0\": -0.22791492653810408, \"component 1\": -0.12416199893223678, \"variable\": \"ID\", \"value\": \"10311\"}, {\"component 0\": -0.27018256627602016, \"component 1\": -0.11314710658326697, \"variable\": \"ID\", \"value\": \"5117\"}, {\"component 0\": -0.15501089006583224, \"component 1\": 0.2139413303890587, \"variable\": \"ID\", \"value\": \"4867\"}, {\"component 0\": 0.18786448758438928, \"component 1\": 0.2410797125923588, \"variable\": \"ID\", \"value\": \"9289\"}, {\"component 0\": 0.4275844920899985, \"component 1\": 1.2854864312704943, \"variable\": \"ID\", \"value\": \"10913\"}, {\"component 0\": -0.22791492653810408, \"component 1\": -0.12416199893223678, \"variable\": \"ID\", \"value\": \"3032\"}, {\"component 0\": 0.2643818386806402, \"component 1\": 0.4796976447512243, \"variable\": \"ID\", \"value\": \"8524\"}, {\"component 0\": 1.0428738029528326, \"component 1\": -0.26571433908481656, \"variable\": \"ID\", \"value\": \"3334\"}, {\"component 0\": -0.23682010342986515, \"component 1\": -0.17079258598289002, \"variable\": \"ID\", \"value\": \"4470\"}, {\"component 0\": -0.20017756156624936, \"component 1\": 0.1382496066159847, \"variable\": \"ID\", \"value\": \"1406\"}, {\"component 0\": -0.2326513140188685, \"component 1\": -0.22930079172682624, \"variable\": \"ID\", \"value\": \"8619\"}, {\"component 0\": -0.22791492653810408, \"component 1\": -0.12416199893223678, \"variable\": \"ID\", \"value\": \"10821\"}, {\"component 0\": -0.22791492653810408, \"component 1\": -0.12416199893223678, \"variable\": \"ID\", \"value\": \"4552\"}, {\"component 0\": -0.22791492653810408, \"component 1\": -0.12416199893223678, \"variable\": \"ID\", \"value\": \"898\"}, {\"component 0\": -0.22791492653810408, \"component 1\": -0.12416199893223678, \"variable\": \"ID\", \"value\": \"9797\"}, {\"component 0\": 0.8947849671068617, \"component 1\": 0.4487195414085037, \"variable\": \"ID\", \"value\": \"10949\"}, {\"component 0\": -0.23682010342986515, \"component 1\": -0.17079258598289002, \"variable\": \"ID\", \"value\": \"8212\"}, {\"component 0\": 0.8470822767291981, \"component 1\": 0.34628649428006797, \"variable\": \"ID\", \"value\": \"6248\"}, {\"component 0\": 0.9538119833076093, \"component 1\": -0.5017985427521396, \"variable\": \"ID\", \"value\": \"10164\"}, {\"component 0\": -0.2326513140188685, \"component 1\": -0.22930079172682624, \"variable\": \"ID\", \"value\": \"4547\"}, {\"component 0\": 1.6372733937629254, \"component 1\": 0.9391679649693161, \"variable\": \"ID\", \"value\": \"6815\"}, {\"component 0\": 0.8182676160106109, \"component 1\": 0.2101016092496381, \"variable\": \"ID\", \"value\": \"4122\"}, {\"component 0\": -0.18748464251845137, \"component 1\": -0.1536090679537523, \"variable\": \"ID\", \"value\": \"10841\"}, {\"component 0\": 0.038139561387828584, \"component 1\": 0.7801554250214044, \"variable\": \"ID\", \"value\": \"5370\"}, {\"component 0\": -0.24244520130416544, \"component 1\": 0.1492644989649545, \"variable\": \"ID\", \"value\": \"176\"}, {\"component 0\": -0.20017756156624936, \"component 1\": 0.1382496066159847, \"variable\": \"ID\", \"value\": \"4860\"}, {\"component 0\": -0.1513975754418532, \"component 1\": 0.11445593322662873, \"variable\": \"ID\", \"value\": \"10757\"}, {\"component 0\": 0.18786448758438928, \"component 1\": 0.2410797125923588, \"variable\": \"ID\", \"value\": \"4023\"}, {\"component 0\": -0.20017756156624936, \"component 1\": 0.1382496066159847, \"variable\": \"ID\", \"value\": \"6679\"}, {\"component 0\": -0.2090827384580104, \"component 1\": 0.09161901956533147, \"variable\": \"ID\", \"value\": \"9923\"}, {\"component 0\": -0.22791492653810408, \"component 1\": -0.12416199893223678, \"variable\": \"ID\", \"value\": \"7181\"}, {\"component 0\": -0.22791492653810408, \"component 1\": -0.12416199893223678, \"variable\": \"ID\", \"value\": \"3599\"}, {\"component 0\": 0.024323569483245173, \"component 1\": 0.8673899096341221, \"variable\": \"ID\", \"value\": \"405\"}, {\"component 0\": -0.1513975754418532, \"component 1\": 0.11445593322662873, \"variable\": \"ID\", \"value\": \"6870\"}, {\"component 0\": -0.18748464251845137, \"component 1\": -0.1536090679537523, \"variable\": \"ID\", \"value\": \"832\"}, {\"component 0\": -0.19656424694227034, \"component 1\": 0.03876420945355481, \"variable\": \"ID\", \"value\": \"2002\"}, {\"component 0\": -0.20017756156624936, \"component 1\": 0.1382496066159847, \"variable\": \"ID\", \"value\": \"3657\"}, {\"component 0\": 1.967520773403705, \"component 1\": -0.5350853329130757, \"variable\": \"ID\", \"value\": \"500\"}, {\"component 0\": -0.386558946692622, \"component 1\": 0.20797953513779313, \"variable\": \"ID\", \"value\": \"1951\"}, {\"component 0\": 0.215601852556244, \"component 1\": 0.5034913181405802, \"variable\": \"ID\", \"value\": \"3262\"}, {\"component 0\": -0.27018256627602016, \"component 1\": -0.11314710658326697, \"variable\": \"ID\", \"value\": \"4102\"}, {\"component 0\": 0.18786448758438928, \"component 1\": 0.2410797125923588, \"variable\": \"ID\", \"value\": \"7042\"}, {\"component 0\": -0.2326513140188685, \"component 1\": -0.22930079172682624, \"variable\": \"ID\", \"value\": \"10598\"}, {\"component 0\": -0.30098758062953834, \"component 1\": 0.4064149738957354, \"variable\": \"ID\", \"value\": \"255\"}, {\"component 0\": -0.2326513140188685, \"component 1\": -0.22930079172682624, \"variable\": \"ID\", \"value\": \"2375\"}, {\"component 0\": -0.2326513140188685, \"component 1\": -0.22930079172682624, \"variable\": \"ID\", \"value\": \"9829\"}, {\"component 0\": -0.23682010342986515, \"component 1\": -0.17079258598289002, \"variable\": \"ID\", \"value\": \"6214\"}, {\"component 0\": -0.22791492653810408, \"component 1\": -0.12416199893223678, \"variable\": \"ID\", \"value\": \"4954\"}, {\"component 0\": -0.23682010342986515, \"component 1\": -0.17079258598289002, \"variable\": \"ID\", \"value\": \"7861\"}, {\"component 0\": -0.18274825503768696, \"component 1\": -0.04847027515916284, \"variable\": \"ID\", \"value\": \"4837\"}, {\"component 0\": -0.23682010342986515, \"component 1\": -0.17079258598289002, \"variable\": \"ID\", \"value\": \"9423\"}, {\"component 0\": -0.2326513140188685, \"component 1\": -0.22930079172682624, \"variable\": \"ID\", \"value\": \"4198\"}, {\"component 0\": -0.19656424694227034, \"component 1\": 0.03876420945355481, \"variable\": \"ID\", \"value\": \"153\"}, {\"component 0\": 0.39511073963737936, \"component 1\": 0.9179360329276833, \"variable\": \"ID\", \"value\": \"9323\"}, {\"component 0\": -0.27491895375678455, \"component 1\": -0.21828589937785645, \"variable\": \"ID\", \"value\": \"10001\"}, {\"component 0\": 0.548994530666051, \"component 1\": 1.1229863829728313, \"variable\": \"ID\", \"value\": \"3945\"}, {\"component 0\": -0.22791492653810408, \"component 1\": -0.12416199893223678, \"variable\": \"ID\", \"value\": \"3799\"}, {\"component 0\": -0.22791492653810408, \"component 1\": -0.12416199893223678, \"variable\": \"ID\", \"value\": \"8625\"}, {\"component 0\": -0.2326513140188685, \"component 1\": -0.22930079172682624, \"variable\": \"ID\", \"value\": \"3491\"}, {\"component 0\": -0.007027110112588541, \"component 1\": 0.7044637012483306, \"variable\": \"ID\", \"value\": \"983\"}, {\"component 0\": -0.2326513140188685, \"component 1\": -0.22930079172682624, \"variable\": \"ID\", \"value\": \"9119\"}, {\"component 0\": -0.22791492653810408, \"component 1\": -0.12416199893223678, \"variable\": \"ID\", \"value\": \"4786\"}, {\"component 0\": -0.20017756156624936, \"component 1\": 0.1382496066159847, \"variable\": \"ID\", \"value\": \"5872\"}, {\"component 0\": -0.22791492653810408, \"component 1\": -0.12416199893223678, \"variable\": \"ID\", \"value\": \"6568\"}, {\"component 0\": -0.01176349759335295, \"component 1\": 0.5993249084537411, \"variable\": \"ID\", \"value\": \"5628\"}, {\"component 0\": -0.20017756156624936, \"component 1\": 0.1382496066159847, \"variable\": \"ID\", \"value\": \"5631\"}, {\"component 0\": -0.20017756156624936, \"component 1\": 0.1382496066159847, \"variable\": \"ID\", \"value\": \"4974\"}, {\"component 0\": -0.22791492653810408, \"component 1\": -0.12416199893223678, \"variable\": \"ID\", \"value\": \"8416\"}, {\"component 0\": -0.23682010342986515, \"component 1\": -0.17079258598289002, \"variable\": \"ID\", \"value\": \"5454\"}, {\"component 0\": -0.22791492653810408, \"component 1\": -0.12416199893223678, \"variable\": \"ID\", \"value\": \"4095\"}, {\"component 0\": -0.20017756156624936, \"component 1\": 0.1382496066159847, \"variable\": \"ID\", \"value\": \"5474\"}, {\"component 0\": -0.22791492653810408, \"component 1\": -0.12416199893223678, \"variable\": \"ID\", \"value\": \"4268\"}, {\"component 0\": 1.0428738029528326, \"component 1\": -0.26571433908481656, \"variable\": \"ID\", \"value\": \"10701\"}, {\"component 0\": 0.215601852556244, \"component 1\": 0.5034913181405802, \"variable\": \"ID\", \"value\": \"3507\"}, {\"component 0\": -0.27018256627602016, \"component 1\": -0.11314710658326697, \"variable\": \"ID\", \"value\": \"2079\"}, {\"component 0\": -0.22791492653810408, \"component 1\": -0.12416199893223678, \"variable\": \"ID\", \"value\": \"626\"}, {\"component 0\": 0.43022556685997215, \"component 1\": 0.10727150327326407, \"variable\": \"ID\", \"value\": \"4426\"}, {\"component 0\": -0.13283937138237503, \"component 1\": -0.1465727525054056, \"variable\": \"ID\", \"value\": \"2591\"}, {\"component 0\": -0.2090827384580104, \"component 1\": 0.09161901956533147, \"variable\": \"ID\", \"value\": \"10509\"}, {\"component 0\": -0.2326513140188685, \"component 1\": -0.22930079172682624, \"variable\": \"ID\", \"value\": \"6382\"}, {\"component 0\": -0.20017756156624936, \"component 1\": 0.1382496066159847, \"variable\": \"ID\", \"value\": \"6673\"}, {\"component 0\": -0.19656424694227034, \"component 1\": 0.03876420945355481, \"variable\": \"ID\", \"value\": \"7441\"}, {\"component 0\": -0.1513975754418532, \"component 1\": 0.11445593322662873, \"variable\": \"ID\", \"value\": \"1071\"}, {\"component 0\": -0.22791492653810408, \"component 1\": -0.12416199893223678, \"variable\": \"ID\", \"value\": \"10061\"}, {\"component 0\": -0.24155649091062956, \"component 1\": -0.2759313787774795, \"variable\": \"ID\", \"value\": \"7187\"}, {\"component 0\": -0.2326513140188685, \"component 1\": -0.22930079172682624, \"variable\": \"ID\", \"value\": \"8775\"}, {\"component 0\": -0.15501089006583224, \"component 1\": 0.2139413303890587, \"variable\": \"ID\", \"value\": \"1612\"}, {\"component 0\": -0.18748464251845137, \"component 1\": -0.1536090679537523, \"variable\": \"ID\", \"value\": \"2345\"}, {\"component 0\": -0.2326513140188685, \"component 1\": -0.22930079172682624, \"variable\": \"ID\", \"value\": \"322\"}, {\"component 0\": -0.22791492653810408, \"component 1\": -0.12416199893223678, \"variable\": \"ID\", \"value\": \"10897\"}, {\"component 0\": -0.13283937138237503, \"component 1\": -0.1465727525054056, \"variable\": \"ID\", \"value\": \"123\"}, {\"component 0\": -0.22791492653810408, \"component 1\": -0.12416199893223678, \"variable\": \"ID\", \"value\": \"6103\"}, {\"component 0\": -0.18274825503768696, \"component 1\": -0.04847027515916284, \"variable\": \"ID\", \"value\": \"7899\"}, {\"component 0\": -0.22791492653810408, \"component 1\": -0.12416199893223678, \"variable\": \"ID\", \"value\": \"10500\"}, {\"component 0\": -0.2326513140188685, \"component 1\": -0.22930079172682624, \"variable\": \"ID\", \"value\": \"1655\"}, {\"component 0\": -0.2326513140188685, \"component 1\": -0.22930079172682624, \"variable\": \"ID\", \"value\": \"2406\"}, {\"component 0\": -0.22791492653810408, \"component 1\": -0.12416199893223678, \"variable\": \"ID\", \"value\": \"2712\"}, {\"component 0\": -0.22791492653810408, \"component 1\": -0.12416199893223678, \"variable\": \"ID\", \"value\": \"5517\"}, {\"component 0\": 0.2607685240566611, \"component 1\": 0.5791830419136542, \"variable\": \"ID\", \"value\": \"10643\"}, {\"component 0\": -0.22791492653810408, \"component 1\": -0.12416199893223678, \"variable\": \"ID\", \"value\": \"2254\"}, {\"component 0\": 0.21921516718022302, \"component 1\": 0.4040059209781504, \"variable\": \"ID\", \"value\": \"10281\"}, {\"component 0\": -0.23682010342986515, \"component 1\": -0.17079258598289002, \"variable\": \"ID\", \"value\": \"6958\"}, {\"component 0\": -0.2914833915368929, \"component 1\": 0.18556878156462428, \"variable\": \"ID\", \"value\": \"954\"}, {\"component 0\": -0.22791492653810408, \"component 1\": -0.12416199893223678, \"variable\": \"ID\", \"value\": \"5079\"}, {\"component 0\": -0.24155649091062956, \"component 1\": -0.2759313787774795, \"variable\": \"ID\", \"value\": \"10339\"}, {\"component 0\": -0.22791492653810408, \"component 1\": -0.12416199893223678, \"variable\": \"ID\", \"value\": \"4643\"}, {\"component 0\": -0.20017756156624936, \"component 1\": 0.1382496066159847, \"variable\": \"ID\", \"value\": \"3117\"}, {\"component 0\": -0.22791492653810408, \"component 1\": -0.12416199893223678, \"variable\": \"ID\", \"value\": \"6497\"}, {\"component 0\": -0.22791492653810408, \"component 1\": -0.12416199893223678, \"variable\": \"ID\", \"value\": \"5396\"}, {\"component 0\": 0.9144204669130725, \"component 1\": 0.061464135158677595, \"variable\": \"ID\", \"value\": \"5250\"}, {\"component 0\": -0.22791492653810408, \"component 1\": -0.12416199893223678, \"variable\": \"ID\", \"value\": \"1052\"}, {\"component 0\": -0.27018256627602016, \"component 1\": -0.11314710658326697, \"variable\": \"ID\", \"value\": \"2802\"}, {\"component 0\": 0.28568901727103935, \"component 1\": -0.6536359114905019, \"variable\": \"ID\", \"value\": \"6343\"}, {\"component 0\": -0.20017756156624936, \"component 1\": 0.1382496066159847, \"variable\": \"ID\", \"value\": \"6507\"}, {\"component 0\": -0.23682010342986515, \"component 1\": -0.17079258598289002, \"variable\": \"ID\", \"value\": \"7901\"}, {\"component 0\": 0.21030999028846198, \"component 1\": 0.35737533392749715, \"variable\": \"ID\", \"value\": \"4865\"}, {\"component 0\": -0.39129533417338636, \"component 1\": 0.10284074234320364, \"variable\": \"ID\", \"value\": \"2686\"}, {\"component 0\": -0.2326513140188685, \"component 1\": -0.22930079172682624, \"variable\": \"ID\", \"value\": \"3107\"}, {\"component 0\": 0.39511073963737936, \"component 1\": 0.9179360329276833, \"variable\": \"ID\", \"value\": \"1146\"}, {\"component 0\": -0.18274825503768696, \"component 1\": -0.04847027515916284, \"variable\": \"ID\", \"value\": \"11031\"}, {\"component 0\": -0.2326513140188685, \"component 1\": -0.22930079172682624, \"variable\": \"ID\", \"value\": \"7428\"}, {\"component 0\": -0.20017756156624936, \"component 1\": 0.1382496066159847, \"variable\": \"ID\", \"value\": \"975\"}, {\"component 0\": 1.040232728182859, \"component 1\": 0.9125005889124137, \"variable\": \"ID\", \"value\": \"1103\"}, {\"component 0\": 1.3351169552068574, \"component 1\": -1.2017225543703522, \"variable\": \"ID\", \"value\": \"3422\"}, {\"component 0\": -0.23682010342986515, \"component 1\": -0.17079258598289002, \"variable\": \"ID\", \"value\": \"1055\"}, {\"component 0\": -0.18748464251845137, \"component 1\": -0.1536090679537523, \"variable\": \"ID\", \"value\": \"6544\"}, {\"component 0\": 0.14559684784647323, \"component 1\": 0.2520946049413286, \"variable\": \"ID\", \"value\": \"1241\"}, {\"component 0\": 0.9712412898361718, \"component 1\": -0.6885184245272872, \"variable\": \"ID\", \"value\": \"2909\"}, {\"component 0\": -0.386558946692622, \"component 1\": 0.20797953513779313, \"variable\": \"ID\", \"value\": \"5802\"}, {\"component 0\": -0.386558946692622, \"component 1\": 0.20797953513779313, \"variable\": \"ID\", \"value\": \"1407\"}, {\"component 0\": -0.23682010342986515, \"component 1\": -0.17079258598289002, \"variable\": \"ID\", \"value\": \"6183\"}, {\"component 0\": 0.4401029836057385, \"component 1\": 1.2326316211587176, \"variable\": \"ID\", \"value\": \"340\"}, {\"component 0\": -0.23682010342986515, \"component 1\": -0.17079258598289002, \"variable\": \"ID\", \"value\": \"5991\"}, {\"component 0\": 0.8559874536209592, \"component 1\": 0.3929170813307212, \"variable\": \"ID\", \"value\": \"3104\"}, {\"component 0\": -0.13283937138237503, \"component 1\": -0.1465727525054056, \"variable\": \"ID\", \"value\": \"9729\"}, {\"component 0\": 0.03340317390706415, \"component 1\": 0.6750166322268151, \"variable\": \"ID\", \"value\": \"1008\"}, {\"component 0\": -0.2326513140188685, \"component 1\": -0.22930079172682624, \"variable\": \"ID\", \"value\": \"11091\"}, {\"component 0\": -0.24155649091062956, \"component 1\": -0.2759313787774795, \"variable\": \"ID\", \"value\": \"3969\"}, {\"component 0\": -0.23682010342986515, \"component 1\": -0.17079258598289002, \"variable\": \"ID\", \"value\": \"1916\"}, {\"component 0\": -0.24155649091062956, \"component 1\": -0.2759313787774795, \"variable\": \"ID\", \"value\": \"9907\"}, {\"component 0\": -0.27018256627602016, \"component 1\": -0.11314710658326697, \"variable\": \"ID\", \"value\": \"87\"}, {\"component 0\": -0.18748464251845137, \"component 1\": -0.1536090679537523, \"variable\": \"ID\", \"value\": \"8659\"}, {\"component 0\": -0.2090827384580104, \"component 1\": 0.09161901956533147, \"variable\": \"ID\", \"value\": \"6262\"}, {\"component 0\": -0.19656424694227034, \"component 1\": 0.03876420945355481, \"variable\": \"ID\", \"value\": \"6147\"}, {\"component 0\": -0.24155649091062956, \"component 1\": -0.2759313787774795, \"variable\": \"ID\", \"value\": \"8832\"}, {\"component 0\": -0.27491895375678455, \"component 1\": -0.21828589937785645, \"variable\": \"ID\", \"value\": \"10067\"}, {\"component 0\": -0.22791492653810408, \"component 1\": -0.12416199893223678, \"variable\": \"ID\", \"value\": \"7532\"}, {\"component 0\": -0.27018256627602016, \"component 1\": -0.11314710658326697, \"variable\": \"ID\", \"value\": \"4915\"}, {\"component 0\": 0.2809526297902749, \"component 1\": -0.7587747042850914, \"variable\": \"ID\", \"value\": \"2115\"}, {\"component 0\": 1.970766168790808, \"component 1\": -1.4174355839748005, \"variable\": \"ID\", \"value\": \"2088\"}, {\"component 0\": -0.22791492653810408, \"component 1\": -0.12416199893223678, \"variable\": \"ID\", \"value\": \"2493\"}, {\"component 0\": 0.8734167601495216, \"component 1\": 0.20619719955557364, \"variable\": \"ID\", \"value\": \"6292\"}, {\"component 0\": 0.228294771604042, \"component 1\": 0.21163264357084327, \"variable\": \"ID\", \"value\": \"1631\"}, {\"component 0\": -0.2326513140188685, \"component 1\": -0.22930079172682624, \"variable\": \"ID\", \"value\": \"10104\"}, {\"component 0\": -0.19656424694227034, \"component 1\": 0.03876420945355481, \"variable\": \"ID\", \"value\": \"3006\"}, {\"component 0\": 0.8370998040907045, \"component 1\": 0.4258826277472064, \"variable\": \"ID\", \"value\": \"3919\"}, {\"component 0\": -0.18274825503768696, \"component 1\": -0.04847027515916284, \"variable\": \"ID\", \"value\": \"11181\"}, {\"component 0\": -0.386558946692622, \"component 1\": 0.20797953513779313, \"variable\": \"ID\", \"value\": \"642\"}, {\"component 0\": -0.22791492653810408, \"component 1\": -0.12416199893223678, \"variable\": \"ID\", \"value\": \"10127\"}, {\"component 0\": 0.08804844504314051, \"component 1\": 0.6820529476751617, \"variable\": \"ID\", \"value\": \"271\"}, {\"component 0\": -0.20017756156624936, \"component 1\": 0.1382496066159847, \"variable\": \"ID\", \"value\": \"4973\"}, {\"component 0\": -0.20546942383403138, \"component 1\": -0.00786637759709844, \"variable\": \"ID\", \"value\": \"2948\"}, {\"component 0\": 0.21030999028846198, \"component 1\": 0.35737533392749715, \"variable\": \"ID\", \"value\": \"2715\"}, {\"component 0\": -0.19656424694227034, \"component 1\": 0.03876420945355481, \"variable\": \"ID\", \"value\": \"10432\"}, {\"component 0\": -0.22791492653810408, \"component 1\": -0.12416199893223678, \"variable\": \"ID\", \"value\": \"9216\"}, {\"component 0\": -0.19656424694227034, \"component 1\": 0.03876420945355481, \"variable\": \"ID\", \"value\": \"7124\"}, {\"component 0\": -0.22791492653810408, \"component 1\": -0.12416199893223678, \"variable\": \"ID\", \"value\": \"9727\"}, {\"component 0\": 0.9538119833076093, \"component 1\": -0.5017985427521396, \"variable\": \"ID\", \"value\": \"5136\"}, {\"component 0\": 0.8559874536209592, \"component 1\": 0.3929170813307212, \"variable\": \"ID\", \"value\": \"9790\"}, {\"component 0\": -0.18748464251845137, \"component 1\": -0.1536090679537523, \"variable\": \"ID\", \"value\": \"1818\"}, {\"component 0\": -0.24155649091062956, \"component 1\": -0.2759313787774795, \"variable\": \"ID\", \"value\": \"1100\"}, {\"component 0\": -0.18748464251845137, \"component 1\": -0.1536090679537523, \"variable\": \"ID\", \"value\": \"7873\"}, {\"component 0\": -0.18274825503768696, \"component 1\": -0.04847027515916284, \"variable\": \"ID\", \"value\": \"10609\"}, {\"component 0\": -0.23682010342986515, \"component 1\": -0.17079258598289002, \"variable\": \"ID\", \"value\": \"6950\"}, {\"component 0\": 0.4024882018881175, \"component 1\": -0.15514010227495745, \"variable\": \"ID\", \"value\": \"7233\"}, {\"component 0\": -0.22791492653810408, \"component 1\": -0.12416199893223678, \"variable\": \"ID\", \"value\": \"9481\"}, {\"component 0\": 0.08804844504314051, \"component 1\": 0.6820529476751617, \"variable\": \"ID\", \"value\": \"7699\"}, {\"component 0\": -0.24155649091062956, \"component 1\": -0.2759313787774795, \"variable\": \"ID\", \"value\": \"2711\"}, {\"component 0\": -0.27018256627602016, \"component 1\": -0.11314710658326697, \"variable\": \"ID\", \"value\": \"8933\"}, {\"component 0\": -0.2388318866801864, \"component 1\": 0.04977910180252461, \"variable\": \"ID\", \"value\": \"8726\"}, {\"component 0\": -0.24155649091062956, \"component 1\": -0.2759313787774795, \"variable\": \"ID\", \"value\": \"1515\"}, {\"component 0\": 0.3308556887714565, \"component 1\": -0.5779441877174281, \"variable\": \"ID\", \"value\": \"5186\"}, {\"component 0\": -0.20017756156624936, \"component 1\": 0.1382496066159847, \"variable\": \"ID\", \"value\": \"10157\"}, {\"component 0\": 0.2330311590848064, \"component 1\": 0.31677143636543276, \"variable\": \"ID\", \"value\": \"5667\"}, {\"component 0\": -0.2326513140188685, \"component 1\": -0.22930079172682624, \"variable\": \"ID\", \"value\": \"902\"}, {\"component 0\": -0.2326513140188685, \"component 1\": -0.22930079172682624, \"variable\": \"ID\", \"value\": \"977\"}, {\"component 0\": 0.45529611730593045, \"component 1\": -0.16653596349915648, \"variable\": \"ID\", \"value\": \"7313\"}, {\"component 0\": -0.3588215817207673, \"component 1\": 0.4703911406860146, \"variable\": \"ID\", \"value\": \"7600\"}, {\"component 0\": -0.15501089006583224, \"component 1\": 0.2139413303890587, \"variable\": \"ID\", \"value\": \"9706\"}, {\"component 0\": -0.19656424694227034, \"component 1\": 0.03876420945355481, \"variable\": \"ID\", \"value\": \"2429\"}, {\"component 0\": 2.747801159516753, \"component 1\": 0.5958474482380646, \"variable\": \"ID\", \"value\": \"3520\"}, {\"component 0\": 1.263761619378348, \"component 1\": 0.5629113610957508, \"variable\": \"ID\", \"value\": \"10394\"}, {\"component 0\": -0.20017756156624936, \"component 1\": 0.1382496066159847, \"variable\": \"ID\", \"value\": \"4548\"}, {\"component 0\": 0.31342638224289404, \"component 1\": -0.3912243059422805, \"variable\": \"ID\", \"value\": \"9362\"}, {\"component 0\": 2.3803650102519835, \"component 1\": -0.7731139789208541, \"variable\": \"ID\", \"value\": \"3968\"}, {\"component 0\": -0.2326513140188685, \"component 1\": -0.22930079172682624, \"variable\": \"ID\", \"value\": \"4084\"}, {\"component 0\": -0.22791492653810408, \"component 1\": -0.12416199893223678, \"variable\": \"ID\", \"value\": \"6721\"}, {\"component 0\": 0.9160921456972609, \"component 1\": -0.6846140148332227, \"variable\": \"ID\", \"value\": \"2829\"}, {\"component 0\": 1.503819888575743, \"component 1\": 0.17521909621285298, \"variable\": \"ID\", \"value\": \"1772\"}, {\"component 0\": -0.20546942383403138, \"component 1\": -0.00786637759709844, \"variable\": \"ID\", \"value\": \"1544\"}, {\"component 0\": -0.007027110112588541, \"component 1\": 0.7044637012483306, \"variable\": \"ID\", \"value\": \"4377\"}, {\"component 0\": -0.2326513140188685, \"component 1\": -0.22930079172682624, \"variable\": \"ID\", \"value\": \"4541\"}, {\"component 0\": -0.22791492653810408, \"component 1\": -0.12416199893223678, \"variable\": \"ID\", \"value\": \"1321\"}, {\"component 0\": 0.3308556887714565, \"component 1\": -0.5779441877174281, \"variable\": \"ID\", \"value\": \"8858\"}, {\"component 0\": -0.22791492653810408, \"component 1\": -0.12416199893223678, \"variable\": \"ID\", \"value\": \"3266\"}, {\"component 0\": -0.3588215817207673, \"component 1\": 0.4703911406860146, \"variable\": \"ID\", \"value\": \"11187\"}, {\"component 0\": -0.27018256627602016, \"component 1\": -0.11314710658326697, \"variable\": \"ID\", \"value\": \"8207\"}, {\"component 0\": 0.28568901727103935, \"component 1\": -0.6536359114905019, \"variable\": \"ID\", \"value\": \"9723\"}, {\"component 0\": 0.2767838403792783, \"component 1\": -0.7002664985411552, \"variable\": \"ID\", \"value\": \"2666\"}, {\"component 0\": 0.4576373460270282, \"component 1\": -0.15904451196902195, \"variable\": \"ID\", \"value\": \"5721\"}, {\"component 0\": -0.24155649091062956, \"component 1\": -0.2759313787774795, \"variable\": \"ID\", \"value\": \"10652\"}, {\"component 0\": -0.386558946692622, \"component 1\": 0.20797953513779313, \"variable\": \"ID\", \"value\": \"1646\"}, {\"component 0\": 0.20669667566448297, \"component 1\": 0.45686073108992703, \"variable\": \"ID\", \"value\": \"4418\"}, {\"component 0\": -0.19656424694227034, \"component 1\": 0.03876420945355481, \"variable\": \"ID\", \"value\": \"2656\"}, {\"component 0\": -0.22791492653810408, \"component 1\": -0.12416199893223678, \"variable\": \"ID\", \"value\": \"7990\"}, {\"component 0\": 0.9968877926982103, \"component 1\": 1.0497422017791753, \"variable\": \"ID\", \"value\": \"8722\"}, {\"component 0\": 0.4087523040099048, \"component 1\": 1.0697054127729262, \"variable\": \"ID\", \"value\": \"7118\"}, {\"component 0\": -0.2090827384580104, \"component 1\": 0.09161901956533147, \"variable\": \"ID\", \"value\": \"2980\"}, {\"component 0\": -0.20017756156624936, \"component 1\": 0.1382496066159847, \"variable\": \"ID\", \"value\": \"1839\"}, {\"component 0\": -0.01176349759335295, \"component 1\": 0.5993249084537411, \"variable\": \"ID\", \"value\": \"10722\"}, {\"component 0\": 0.4087523040099048, \"component 1\": 1.0697054127729262, \"variable\": \"ID\", \"value\": \"2632\"}, {\"component 0\": -0.22791492653810408, \"component 1\": -0.12416199893223678, \"variable\": \"ID\", \"value\": \"9014\"}, {\"component 0\": -0.3588215817207673, \"component 1\": 0.4703911406860146, \"variable\": \"ID\", \"value\": \"7620\"}, {\"component 0\": -0.20017756156624936, \"component 1\": 0.1382496066159847, \"variable\": \"ID\", \"value\": \"10968\"}, {\"component 0\": -0.22791492653810408, \"component 1\": -0.12416199893223678, \"variable\": \"ID\", \"value\": \"2736\"}, {\"component 0\": -0.22791492653810408, \"component 1\": -0.12416199893223678, \"variable\": \"ID\", \"value\": \"1876\"}, {\"component 0\": -0.20017756156624936, \"component 1\": 0.1382496066159847, \"variable\": \"ID\", \"value\": \"5959\"}, {\"component 0\": -0.22791492653810408, \"component 1\": -0.12416199893223678, \"variable\": \"ID\", \"value\": \"1092\"}, {\"component 0\": 0.2809526297902749, \"component 1\": -0.7587747042850914, \"variable\": \"ID\", \"value\": \"4333\"}, {\"component 0\": -0.39129533417338636, \"component 1\": 0.10284074234320364, \"variable\": \"ID\", \"value\": \"3850\"}, {\"component 0\": -0.19656424694227034, \"component 1\": 0.03876420945355481, \"variable\": \"ID\", \"value\": \"6168\"}, {\"component 0\": -0.2388318866801864, \"component 1\": 0.04977910180252461, \"variable\": \"ID\", \"value\": \"607\"}, {\"component 0\": -0.2326513140188685, \"component 1\": -0.22930079172682624, \"variable\": \"ID\", \"value\": \"10469\"}, {\"component 0\": -0.20546942383403138, \"component 1\": -0.00786637759709844, \"variable\": \"ID\", \"value\": \"6983\"}, {\"component 0\": -0.24244520130416544, \"component 1\": 0.1492644989649545, \"variable\": \"ID\", \"value\": \"3661\"}, {\"component 0\": -0.22791492653810408, \"component 1\": -0.12416199893223678, \"variable\": \"ID\", \"value\": \"9303\"}, {\"component 0\": -0.2326513140188685, \"component 1\": -0.22930079172682624, \"variable\": \"ID\", \"value\": \"692\"}, {\"component 0\": -0.2326513140188685, \"component 1\": -0.22930079172682624, \"variable\": \"ID\", \"value\": \"736\"}, {\"component 0\": -0.0876726998819579, \"component 1\": -0.07088102873233168, \"variable\": \"ID\", \"value\": \"9589\"}, {\"component 0\": -0.2326513140188685, \"component 1\": -0.22930079172682624, \"variable\": \"ID\", \"value\": \"4838\"}, {\"component 0\": -0.24155649091062956, \"component 1\": -0.2759313787774795, \"variable\": \"ID\", \"value\": \"9246\"}, {\"component 0\": -0.22791492653810408, \"component 1\": -0.12416199893223678, \"variable\": \"ID\", \"value\": \"6261\"}, {\"component 0\": 1.3606862205383414, \"component 1\": -0.18318741827819723, \"variable\": \"ID\", \"value\": \"7366\"}, {\"component 0\": -0.27491895375678455, \"component 1\": -0.21828589937785645, \"variable\": \"ID\", \"value\": \"10659\"}, {\"component 0\": -0.23682010342986515, \"component 1\": -0.17079258598289002, \"variable\": \"ID\", \"value\": \"1448\"}, {\"component 0\": 0.06587692635968327, \"component 1\": 1.042567030569626, \"variable\": \"ID\", \"value\": \"4286\"}, {\"component 0\": -0.2326513140188685, \"component 1\": -0.22930079172682624, \"variable\": \"ID\", \"value\": \"4749\"}, {\"component 0\": -0.22791492653810408, \"component 1\": -0.12416199893223678, \"variable\": \"ID\", \"value\": \"4478\"}, {\"component 0\": -0.20017756156624936, \"component 1\": 0.1382496066159847, \"variable\": \"ID\", \"value\": \"4201\"}, {\"component 0\": 0.2386849900523589, \"component 1\": -0.7477598119361216, \"variable\": \"ID\", \"value\": \"8720\"}, {\"component 0\": -0.22791492653810408, \"component 1\": -0.12416199893223678, \"variable\": \"ID\", \"value\": \"10084\"}, {\"component 0\": 0.02071025485926616, \"component 1\": 0.966875306796552, \"variable\": \"ID\", \"value\": \"7004\"}, {\"component 0\": -0.2090827384580104, \"component 1\": 0.09161901956533147, \"variable\": \"ID\", \"value\": \"9817\"}, {\"component 0\": -0.20017756156624936, \"component 1\": 0.1382496066159847, \"variable\": \"ID\", \"value\": \"8080\"}, {\"component 0\": -0.2326513140188685, \"component 1\": -0.22930079172682624, \"variable\": \"ID\", \"value\": \"9432\"}, {\"component 0\": -0.22791492653810408, \"component 1\": -0.12416199893223678, \"variable\": \"ID\", \"value\": \"8372\"}, {\"component 0\": -0.22791492653810408, \"component 1\": -0.12416199893223678, \"variable\": \"ID\", \"value\": \"10870\"}, {\"component 0\": 0.44291848590777017, \"component 1\": -0.18458717129647295, \"variable\": \"ID\", \"value\": \"4001\"}, {\"component 0\": 0.3170396968668731, \"component 1\": -0.4907097031047104, \"variable\": \"ID\", \"value\": \"7270\"}, {\"component 0\": -0.24155649091062956, \"component 1\": -0.2759313787774795, \"variable\": \"ID\", \"value\": \"8235\"}, {\"component 0\": 0.2330311590848064, \"component 1\": 0.31677143636543276, \"variable\": \"ID\", \"value\": \"9405\"}, {\"component 0\": -0.18701942588009857, \"component 1\": -0.021819868081816948, \"variable\": \"column\", \"value\": \"Education_2n Cycle\"}, {\"component 0\": -0.694289099967454, \"component 1\": 1.0319962950870512, \"variable\": \"column\", \"value\": \"Education_Basic\"}, {\"component 0\": -0.002780220660451801, \"component 1\": -0.05796657808600229, \"variable\": \"column\", \"value\": \"Education_Graduation\"}, {\"component 0\": -0.04159674136166713, \"component 1\": -0.21099052548777508, \"variable\": \"column\", \"value\": \"Education_Master\"}, {\"component 0\": 0.19409549114298721, \"component 1\": 0.19042502686674104, \"variable\": \"column\", \"value\": \"Education_PhD\"}, {\"component 0\": 0.0875174031639244, \"component 1\": 0.3849467315630421, \"variable\": \"column\", \"value\": \"Marital_Status_Divorced\"}, {\"component 0\": -0.04913617691877257, \"component 1\": -0.14971545305228875, \"variable\": \"column\", \"value\": \"Marital_Status_Married\"}, {\"component 0\": 0.07176742945688959, \"component 1\": 0.7114201719701108, \"variable\": \"column\", \"value\": \"Marital_Status_Single\"}, {\"component 0\": -0.06978148076064623, \"component 1\": -0.4947411993721549, \"variable\": \"column\", \"value\": \"Marital_Status_Together\"}, {\"component 0\": 0.36528593953536503, \"component 1\": -0.22325906879723886, \"variable\": \"column\", \"value\": \"Marital_Status_Widow\"}, {\"component 0\": 0.00427748762588747, \"component 1\": -0.011179828508689857, \"variable\": \"column\", \"value\": \"Complain_0\"}, {\"component 0\": -0.45089039315054097, \"component 1\": 1.1953109064054777, \"variable\": \"column\", \"value\": \"Complain_1\"}, {\"component 0\": -0.17573169202986028, \"component 1\": 0.006652666591158743, \"variable\": \"column\", \"value\": \"AcceptedCmp1_0\"}, {\"component 0\": 2.572114463312427, \"component 1\": -0.09500575026243624, \"variable\": \"column\", \"value\": \"AcceptedCmp1_1\"}, {\"component 0\": -0.06137017233234657, \"component 1\": 0.0242829158683238, \"variable\": \"column\", \"value\": \"AcceptedCmp2_0\"}, {\"component 0\": 4.512951233344534, \"component 1\": -1.774330117258509, \"variable\": \"column\", \"value\": \"AcceptedCmp2_1\"}, {\"component 0\": -0.07018514354106786, \"component 1\": -0.19807570439187705, \"variable\": \"column\", \"value\": \"AcceptedCmp3_0\"}, {\"component 0\": 0.8926364380111231, \"component 1\": 2.5211603932032434, \"variable\": \"column\", \"value\": \"AcceptedCmp3_1\"}, {\"component 0\": -0.16720150403836306, \"component 1\": 0.12992228775340628, \"variable\": \"column\", \"value\": \"AcceptedCmp4_0\"}, {\"component 0\": 2.0715320280871414, \"component 1\": -1.6076108052337157, \"variable\": \"column\", \"value\": \"AcceptedCmp4_1\"}, {\"component 0\": -0.2022335130800775, \"component 1\": 0.02644095944466207, \"variable\": \"column\", \"value\": \"AcceptedCmp5_0\"}, {\"component 0\": 2.5891249565633365, \"component 1\": -0.3364218580275441, \"variable\": \"column\", \"value\": \"AcceptedCmp5_1\"}, {\"component 0\": -0.2690909157419929, \"component 1\": -0.17781397843285285, \"variable\": \"column\", \"value\": \"Response_0\"}, {\"component 0\": 1.543238073517874, \"component 1\": 1.0207711560961403, \"variable\": \"column\", \"value\": \"Response_1\"}]}}, {\"mode\": \"vega-lite\"});\n</script>",
      "text/plain": "alt.Chart(...)"
     },
     "execution_count": null,
     "metadata": {},
     "output_type": "execute_result"
    }
   ],
   "source": [
    "mca.plot(df[var_categoriques])"
   ]
  },
  {
   "cell_type": "code",
   "execution_count": null,
   "metadata": {},
   "outputs": [],
   "source": [
    "# todo: à interpréter"
   ]
  },
  {
   "attachments": {},
   "cell_type": "markdown",
   "metadata": {},
   "source": [
    "# Régressions"
   ]
  },
  {
   "cell_type": "markdown",
   "metadata": {},
   "source": [
    "## Régression PLS"
   ]
  },
  {
   "cell_type": "code",
   "execution_count": null,
   "metadata": {},
   "outputs": [],
   "source": [
    "# todo: refaire la régression PLS mais PAS sur une variable catégorique (erreur ici)"
   ]
  },
  {
   "cell_type": "code",
   "execution_count": null,
   "metadata": {},
   "outputs": [],
   "source": [
    "from sklearn.cross_decomposition import PLSRegression"
   ]
  },
  {
   "cell_type": "code",
   "execution_count": null,
   "metadata": {},
   "outputs": [],
   "source": [
    "# Initialisation de l'objet PLSRegression avec 2 composantes PLS\n",
    "pls = PLSRegression(n_components=2)"
   ]
  },
  {
   "cell_type": "code",
   "execution_count": null,
   "metadata": {},
   "outputs": [],
   "source": [
    "# Apprentissage du modèle sur les données\n",
    "pls.fit(df_transforme[var_numeriques], df_transforme[\"Response\"])"
   ]
  },
  {
   "cell_type": "code",
   "execution_count": null,
   "metadata": {},
   "outputs": [],
   "source": [
    "# Prédiction de la variable cible sur de nouvelles données\n",
    "y_pred = pls.predict(df_transforme[var_numeriques])"
   ]
  },
  {
   "cell_type": "code",
   "execution_count": null,
   "metadata": {},
   "outputs": [],
   "source": [
    "# Evaluation de la performance du modèle\n",
    "r2 = pls.score(df_transforme[var_numeriques], df_transforme[\"Response\"].astype(int))"
   ]
  },
  {
   "cell_type": "code",
   "execution_count": null,
   "metadata": {},
   "outputs": [],
   "source": [
    "r2"
   ]
  },
  {
   "attachments": {},
   "cell_type": "markdown",
   "metadata": {},
   "source": [
    "## Régression linéaire simple"
   ]
  },
  {
   "attachments": {},
   "cell_type": "markdown",
   "metadata": {},
   "source": [
    "Modèle simple : une variable à expliquer Y et une seule variable explicative X.  \n",
    "\n",
    "$$y_i = \\beta_0 + \\beta_1 X_i + \\epsilon_i$$\n",
    "\n",
    "Hypothèses à vérifier pour la régression linéaire simple :  \n",
    "\n",
    "1) il existe une corrélation linéaire entre X et Y\n",
    "\n",
    "1) la distribution de l’erreur ε est indépendante de la variable X (exogénéité)\n",
    "\n",
    "2) l'erreur suit une loi normale centrée i.e. E(ε) = 0\n",
    "\n",
    "3) l’erreur est de variance constante (homoscédasticité)\n",
    "i.e Var(εi) = s, s une constante\n",
    "\n",
    "4) les erreurs sont indépendantes (absence d'autocorrélation)\n",
    "i.e. Cov(εi, εj) = 0, pour tout i, j"
   ]
  },
  {
   "cell_type": "code",
   "execution_count": null,
   "metadata": {},
   "outputs": [],
   "source": [
    "X = np.array(df_transforme[\"Income\"])\n",
    "Y = np.array(df_transforme[\"NumStorePurchases\"])"
   ]
  },
  {
   "attachments": {},
   "cell_type": "markdown",
   "metadata": {},
   "source": [
    "### Hypothèse 1 : corrélation linéaire"
   ]
  },
  {
   "cell_type": "code",
   "execution_count": null,
   "metadata": {},
   "outputs": [],
   "source": [
    "from scipy.stats import pearsonr"
   ]
  },
  {
   "cell_type": "code",
   "execution_count": null,
   "metadata": {},
   "outputs": [],
   "source": [
    "print(\n",
    "    \"Le coefficient de corrélation linéaire entre X et Y vaut\",\n",
    "    pearsonr(X, Y)[0],\n",
    "    \"la pvalue associée vaut\",\n",
    "    pearsonr(X, Y)[1],\n",
    "    \"il existe donc bien une relation linéaire entre X et Y.\",\n",
    ")"
   ]
  },
  {
   "cell_type": "code",
   "execution_count": null,
   "metadata": {},
   "outputs": [],
   "source": [
    "from sklearn.linear_model import LinearRegression\n",
    "from sklearn.model_selection import train_test_split"
   ]
  },
  {
   "cell_type": "code",
   "execution_count": null,
   "metadata": {},
   "outputs": [],
   "source": [
    "X_train, X_test, Y_train, Y_test = train_test_split(X, Y, test_size=0.2)"
   ]
  },
  {
   "cell_type": "code",
   "execution_count": null,
   "metadata": {},
   "outputs": [],
   "source": [
    "model = LinearRegression().fit(X_train.reshape(-1, 1), Y_train)\n",
    "Y_train_hat = model.predict(X_train.reshape(-1, 1))"
   ]
  },
  {
   "cell_type": "code",
   "execution_count": null,
   "metadata": {},
   "outputs": [],
   "source": [
    "plt.scatter(X_train, Y_train, color=\"black\")\n",
    "plt.plot(X_train, Y_train_hat, color=\"red\")\n",
    "plt.title(\"Régression linéaire du nombre d'achats en magasin en fonction du revenu\")"
   ]
  },
  {
   "cell_type": "code",
   "execution_count": null,
   "metadata": {},
   "outputs": [],
   "source": [
    "print(model.intercept_, model.coef_, model.score(X_train.reshape(-1, 1), Y_train))"
   ]
  },
  {
   "attachments": {},
   "cell_type": "markdown",
   "metadata": {},
   "source": [
    "Equation de régression :\n",
    "\n",
    "$$y_i = 0.46 + 2.21 * x_i$$"
   ]
  },
  {
   "attachments": {},
   "cell_type": "markdown",
   "metadata": {},
   "source": [
    "### Hypothèse 2 : exogénéité"
   ]
  },
  {
   "cell_type": "code",
   "execution_count": null,
   "metadata": {},
   "outputs": [],
   "source": [
    "residuals = Y_train - Y_train_hat\n",
    "\n",
    "plt.scatter(X_train, residuals)"
   ]
  },
  {
   "cell_type": "code",
   "execution_count": null,
   "metadata": {},
   "outputs": [],
   "source": [
    "print(\n",
    "    \"Le coefficient de corrélation entre X et les residus vaut\",\n",
    "    pearsonr(X_train, residuals)[0],\n",
    "    \". On a bien indépendance et donc exogénéité.\",\n",
    ")"
   ]
  },
  {
   "attachments": {},
   "cell_type": "markdown",
   "metadata": {},
   "source": [
    "### Hypothèse 3 : l'erreur suit une loi normale centrée i.e. E(ε) = 0"
   ]
  },
  {
   "cell_type": "code",
   "execution_count": null,
   "metadata": {},
   "outputs": [],
   "source": [
    "import statistics\n",
    "from scipy import stats"
   ]
  },
  {
   "cell_type": "code",
   "execution_count": null,
   "metadata": {},
   "outputs": [],
   "source": [
    "plt.hist(residuals, density=True)\n",
    "\n",
    "x = np.linspace(-7, 7, 100)\n",
    "plt.plot(x, stats.norm.pdf(x, 0, 1))\n",
    "plt.title(\"Histogramme des résidus en superposition avec la densité de la loi normale\")\n",
    "plt.show()"
   ]
  },
  {
   "cell_type": "code",
   "execution_count": null,
   "metadata": {},
   "outputs": [],
   "source": [
    "print(\"La moyenne des résidus vaut\", statistics.mean(residuals))\n",
    "print(\"Mais les résidus ne suivent pas une loi normale\")"
   ]
  },
  {
   "cell_type": "code",
   "execution_count": null,
   "metadata": {},
   "outputs": [],
   "source": [
    "sm.qqplot(residuals, line=\"45\")\n",
    "print(\"On constate sur le qqplot que les points ne suivent pas la droite x = y\")"
   ]
  },
  {
   "cell_type": "code",
   "execution_count": null,
   "metadata": {},
   "outputs": [],
   "source": [
    "print(\n",
    "    \"Un test de shapiro, pour tester l'hypothèse de normalité, nous donne une pvalue de\",\n",
    "    stats.shapiro(residuals)[1],\n",
    "    \". On rejette l'hypothèse nulle et on conclut que les résidus ne suivent pas une loi normale.\",\n",
    ")"
   ]
  },
  {
   "attachments": {},
   "cell_type": "markdown",
   "metadata": {},
   "source": [
    "### Hypothèse 4 : homoscédasticité"
   ]
  },
  {
   "cell_type": "code",
   "execution_count": null,
   "metadata": {},
   "outputs": [],
   "source": [
    "def abline(slope, intercept):\n",
    "    axes = plt.gca()\n",
    "    x_vals = np.array(axes.get_xlim())\n",
    "    y_vals = intercept + slope * x_vals\n",
    "    plt.plot(x_vals, y_vals, \"-\")"
   ]
  },
  {
   "cell_type": "code",
   "execution_count": null,
   "metadata": {},
   "outputs": [],
   "source": [
    "plt.plot(residuals, \"bo\")\n",
    "plt.title(\"Nuage de points des résidus\")\n",
    "abline(0, 7)\n",
    "abline(0, -7)"
   ]
  },
  {
   "cell_type": "code",
   "execution_count": null,
   "metadata": {},
   "outputs": [],
   "source": [
    "import statsmodels.stats.api as sms\n",
    "import statsmodels.formula.api as smf\n",
    "from statsmodels.compat import lzip"
   ]
  },
  {
   "cell_type": "code",
   "execution_count": null,
   "metadata": {},
   "outputs": [],
   "source": [
    "fit = smf.ols(\"NumStorePurchases ~ Income\", data=df_transforme).fit()"
   ]
  },
  {
   "cell_type": "code",
   "execution_count": null,
   "metadata": {},
   "outputs": [],
   "source": [
    "bp_test = sms.het_breuschpagan(fit.resid, fit.model.exog)"
   ]
  },
  {
   "cell_type": "code",
   "execution_count": null,
   "metadata": {},
   "outputs": [],
   "source": [
    "bp_names = [\"Lagrange multiplier statistic\", \"p-value\", \"f-value\", \"f p-value\"]\n",
    "print(lzip(bp_names, bp_test))\n",
    "print(\"Il y a bien homoscédasticité.\")"
   ]
  },
  {
   "attachments": {},
   "cell_type": "markdown",
   "metadata": {},
   "source": [
    "### Hypothèse 5 : absence d'autocorrélation"
   ]
  },
  {
   "cell_type": "code",
   "execution_count": null,
   "metadata": {},
   "outputs": [],
   "source": [
    "from statsmodels.graphics.regressionplots import *"
   ]
  },
  {
   "cell_type": "code",
   "execution_count": null,
   "metadata": {},
   "outputs": [],
   "source": [
    "sm.graphics.tsa.plot_acf(residuals)\n",
    "print(\"On remarque une absence d'autocorrélation.\")"
   ]
  },
  {
   "attachments": {},
   "cell_type": "markdown",
   "metadata": {},
   "source": [
    "### Distance de Cook"
   ]
  },
  {
   "cell_type": "code",
   "execution_count": null,
   "metadata": {},
   "outputs": [],
   "source": [
    "influence = fit.get_influence()\n",
    "cooks = influence.cooks_distance"
   ]
  },
  {
   "cell_type": "code",
   "execution_count": null,
   "metadata": {},
   "outputs": [],
   "source": [
    "plt.scatter(X, cooks[0])\n",
    "plt.xlabel(\"Revenus\")\n",
    "plt.ylabel(\"Distances de Cook\")\n",
    "plt.show()"
   ]
  },
  {
   "cell_type": "code",
   "execution_count": null,
   "metadata": {},
   "outputs": [],
   "source": [
    "cooks_indexes = [i for i, x in enumerate(cooks[0] > 0.005) if x]\n",
    "print(cooks_indexes)\n",
    "# affiche les indexes des individus dont les distances de cook dépassent une certaine valeur"
   ]
  },
  {
   "cell_type": "code",
   "execution_count": null,
   "metadata": {},
   "outputs": [],
   "source": [
    "influence_plot(fit)\n",
    "print(\"\")"
   ]
  },
  {
   "attachments": {},
   "cell_type": "markdown",
   "metadata": {},
   "source": [
    "### Score du modèle"
   ]
  },
  {
   "attachments": {},
   "cell_type": "markdown",
   "metadata": {},
   "source": [
    "#### Qualité d'ajustement"
   ]
  },
  {
   "cell_type": "code",
   "execution_count": null,
   "metadata": {},
   "outputs": [],
   "source": [
    "from sklearn.metrics import mean_squared_error, mean_absolute_error"
   ]
  },
  {
   "cell_type": "code",
   "execution_count": null,
   "metadata": {},
   "outputs": [],
   "source": [
    "print(f\"Le R² du modèle vaut {model.score(X_train.reshape(-1, 1), Y_train)}\")"
   ]
  },
  {
   "cell_type": "code",
   "execution_count": null,
   "metadata": {},
   "outputs": [],
   "source": [
    "print(f\"MSE = {mean_squared_error(Y_train, Y_train_hat)}\")\n",
    "print(f\"RMSE = {mean_squared_error(Y_train, Y_train_hat, squared=False)}\")\n",
    "print(f\"MAE = {mean_absolute_error(Y_train, Y_train_hat)}\")"
   ]
  },
  {
   "attachments": {},
   "cell_type": "markdown",
   "metadata": {},
   "source": [
    "#### Qualité de prédiction"
   ]
  },
  {
   "cell_type": "markdown",
   "metadata": {},
   "source": [
    "Train / test split"
   ]
  },
  {
   "cell_type": "code",
   "execution_count": null,
   "metadata": {},
   "outputs": [],
   "source": [
    "print(\n",
    "    f\"R² du modèle sur les données d'entraînement = {model.score(X_train.reshape(-1, 1), Y_train)}\"\n",
    ")\n",
    "print(\n",
    "    f\"R² du modèle sur les données de test = {model.score(X_test.reshape(-1, 1), Y_test)}\"\n",
    ")"
   ]
  },
  {
   "cell_type": "code",
   "execution_count": null,
   "metadata": {},
   "outputs": [],
   "source": [
    "Y_test_hat = model.predict(X_test.reshape(-1, 1))"
   ]
  },
  {
   "cell_type": "code",
   "execution_count": null,
   "metadata": {},
   "outputs": [],
   "source": [
    "plt.scatter(X_test, Y_test, color=\"black\")\n",
    "plt.plot(X_test, Y_test_hat, color=\"red\")\n",
    "plt.title(\"Nombre d'achats en magasin en fonction du revenu : données test\")"
   ]
  },
  {
   "cell_type": "code",
   "execution_count": null,
   "metadata": {},
   "outputs": [],
   "source": [
    "print(f\"MSE = {mean_squared_error(Y_test, Y_test_hat)}\")\n",
    "print(f\"RMSE = {mean_squared_error(Y_test, Y_test_hat, squared=False)}\")\n",
    "print(f\"MAE = {mean_absolute_error(Y_test, Y_test_hat)}\")"
   ]
  },
  {
   "cell_type": "code",
   "execution_count": null,
   "metadata": {},
   "outputs": [],
   "source": [
    "# todo: cross-validation"
   ]
  },
  {
   "attachments": {},
   "cell_type": "markdown",
   "metadata": {},
   "source": [
    "## Régression linéaire multiple"
   ]
  },
  {
   "attachments": {},
   "cell_type": "markdown",
   "metadata": {},
   "source": [
    "Pour les besoins de la régression linéaire, nous créons une variable Childhome étant égale à la somme de Teenhome et de Kidhome.  \n",
    "Nous créons également des variables muettes (dummy variables) pour inclure les variables catégoriques `Education` et `Marital_status` à la régression."
   ]
  },
  {
   "cell_type": "code",
   "execution_count": null,
   "metadata": {},
   "outputs": [],
   "source": [
    "df_reg = df_transforme.copy()"
   ]
  },
  {
   "cell_type": "code",
   "execution_count": null,
   "metadata": {},
   "outputs": [],
   "source": [
    "df_reg = pd.get_dummies(df_reg, columns=[\"Education\", \"Marital_Status\"])"
   ]
  },
  {
   "cell_type": "code",
   "execution_count": null,
   "metadata": {},
   "outputs": [],
   "source": [
    "df_reg.columns"
   ]
  },
  {
   "attachments": {},
   "cell_type": "markdown",
   "metadata": {},
   "source": [
    "Pour cette régression, on suppose que l'entreprise veut profiler au mieux les clients qui achètent dans le magasin. C'est pourquoi la variable d'intérêt pour la régression sera le `nombre d'achats en magasin`.  "
   ]
  },
  {
   "cell_type": "code",
   "execution_count": null,
   "metadata": {},
   "outputs": [],
   "source": [
    "X = df_transforme[\n",
    "    [\n",
    "        \"Income\",\n",
    "        \"NumWebPurchases\",\n",
    "        \"NumDealsPurchases\",\n",
    "        \"NumWebVisitsMonth\",\n",
    "        \"NumCatalogPurchases\",\n",
    "        \"MntWines\",\n",
    "        \"MntFruits\",\n",
    "        \"MntMeatProducts\",\n",
    "        \"MntFishProducts\",\n",
    "        \"MntSweetProducts\",\n",
    "        \"MntGoldProds\",\n",
    "        \"Year_Birth\",\n",
    "        \"NbChildren\",\n",
    "        \"Recency\",\n",
    "        \"NbAcceptedCampaigns\",\n",
    "    ]\n",
    "]\n",
    "Y = df_transforme[\"NumStorePurchases\"]"
   ]
  },
  {
   "attachments": {},
   "cell_type": "markdown",
   "metadata": {},
   "source": [
    "### Avec statsmodels"
   ]
  },
  {
   "cell_type": "code",
   "execution_count": null,
   "metadata": {},
   "outputs": [],
   "source": [
    "model_multiple_sm = sm.OLS(Y, X).fit()"
   ]
  },
  {
   "cell_type": "code",
   "execution_count": null,
   "metadata": {},
   "outputs": [],
   "source": [
    "model_multiple_sm.summary()"
   ]
  },
  {
   "attachments": {},
   "cell_type": "markdown",
   "metadata": {},
   "source": [
    "Qualité d'ajustement du modèle avant suppression de variables"
   ]
  },
  {
   "cell_type": "code",
   "execution_count": null,
   "metadata": {},
   "outputs": [],
   "source": [
    "print(f\"MSE = {mean_squared_error(Y, Y_hat)}\")\n",
    "print(f\"RMSE = {mean_squared_error(Y, Y_hat, squared=False)}\")\n",
    "print(f\"MAE = {mean_absolute_error(Y, Y_hat)}\")"
   ]
  },
  {
   "attachments": {},
   "cell_type": "markdown",
   "metadata": {},
   "source": [
    "Réduction du nombre de variables explicatives par les critères AIC / BIC"
   ]
  },
  {
   "cell_type": "code",
   "execution_count": null,
   "metadata": {},
   "outputs": [],
   "source": [
    "def aic_OLS(X):  # entrer X le dataframe des variables explicatives\n",
    "    aic_list = []\n",
    "    for col in X.columns:\n",
    "        X_temp = X.drop(col, axis=1)\n",
    "        model_temp = sm.OLS(Y, X_temp).fit()\n",
    "        aic_list.append([col, model_temp.aic])\n",
    "\n",
    "    return aic_list"
   ]
  },
  {
   "cell_type": "code",
   "execution_count": null,
   "metadata": {},
   "outputs": [],
   "source": [
    "def stepwise_OLS(X):\n",
    "    current_aic = sm.OLS(Y, X).fit().aic  # aic avec les variables actuelles\n",
    "    aic_list = aic_OLS(X)  # liste des aic par supression des variables une a une\n",
    "\n",
    "    my_bool = 0  # pour indiquer si aucune variable n'est a enlever\n",
    "    for i in range(\n",
    "        len(aic_list)\n",
    "    ):  # si l'aic diminue pour une variable supprimee, on enleve cette variable du df X\n",
    "        if aic_list[i][1] < current_aic:\n",
    "            del X[aic_list[i][0]]  # a l'interieur des crochets c'est une string\n",
    "            my_bool = 1\n",
    "\n",
    "    if my_bool == 0:\n",
    "        print(\"Le stepwise est terminé.\")"
   ]
  },
  {
   "cell_type": "code",
   "execution_count": null,
   "metadata": {},
   "outputs": [],
   "source": [
    "stepwise_OLS(X)"
   ]
  },
  {
   "cell_type": "code",
   "execution_count": null,
   "metadata": {},
   "outputs": [],
   "source": [
    "stepwise_OLS(X)"
   ]
  },
  {
   "cell_type": "code",
   "execution_count": null,
   "metadata": {},
   "outputs": [],
   "source": [
    "model_multiple_sm = sm.OLS(Y, X).fit()\n",
    "Y_hat = model_multiple_sm.predict(X)"
   ]
  },
  {
   "cell_type": "code",
   "execution_count": null,
   "metadata": {},
   "outputs": [],
   "source": [
    "plt.scatter(Y, Y_hat)\n",
    "plt.title(\"Valeurs prédites contre vraies valeurs\")\n",
    "abline(1, 0)"
   ]
  },
  {
   "cell_type": "code",
   "execution_count": null,
   "metadata": {},
   "outputs": [],
   "source": [
    "model_multiple_sm.summary()"
   ]
  },
  {
   "attachments": {},
   "cell_type": "markdown",
   "metadata": {},
   "source": [
    "Qualité d'ajustement après suppression de variables"
   ]
  },
  {
   "cell_type": "code",
   "execution_count": null,
   "metadata": {},
   "outputs": [],
   "source": [
    "print(f\"MSE = {mean_squared_error(Y, Y_hat)}\")\n",
    "print(f\"RMSE = {mean_squared_error(Y, Y_hat, squared=False)}\")\n",
    "print(f\"MAE = {mean_absolute_error(Y, Y_hat)}\")"
   ]
  },
  {
   "attachments": {},
   "cell_type": "markdown",
   "metadata": {},
   "source": [
    "### Avec sci-kit learn : entraînement et tests sur des vraies valeurs"
   ]
  },
  {
   "cell_type": "code",
   "execution_count": null,
   "metadata": {},
   "outputs": [],
   "source": [
    "X_train, X_test, Y_train, Y_test = train_test_split(X, Y, test_size=0.2)"
   ]
  },
  {
   "cell_type": "code",
   "execution_count": null,
   "metadata": {},
   "outputs": [],
   "source": [
    "model_multiple_sk = LinearRegression().fit(X_train, Y_train)\n",
    "Y_test_hat = model_multiple_sk.predict(X_test)\n",
    "Y_train_hat = model_multiple_sk.predict(X_train)"
   ]
  },
  {
   "cell_type": "code",
   "execution_count": null,
   "metadata": {},
   "outputs": [],
   "source": [
    "plt.scatter(Y_test, Y_test_hat)\n",
    "plt.title(\"Valeurs prédites contres vraies valeurs (valeurs test)\")\n",
    "abline(1, 0)"
   ]
  },
  {
   "attachments": {},
   "cell_type": "markdown",
   "metadata": {},
   "source": [
    "Qualité d'ajustement"
   ]
  },
  {
   "cell_type": "code",
   "execution_count": null,
   "metadata": {},
   "outputs": [],
   "source": [
    "print(f\"MSE = {mean_squared_error(Y_train, Y_train_hat)}\")\n",
    "print(f\"RMSE = {mean_squared_error(Y_train, Y_train_hat, squared=False)}\")\n",
    "print(f\"MAE = {mean_absolute_error(Y_train, Y_train_hat)}\")"
   ]
  },
  {
   "attachments": {},
   "cell_type": "markdown",
   "metadata": {},
   "source": [
    "Qualité de prédiction"
   ]
  },
  {
   "cell_type": "code",
   "execution_count": null,
   "metadata": {},
   "outputs": [],
   "source": [
    "print(f\"MSE = {mean_squared_error(Y_test, Y_test_hat)}\")\n",
    "print(f\"RMSE = {mean_squared_error(Y_test, Y_test_hat, squared=False)}\")\n",
    "print(f\"MAE = {mean_absolute_error(Y_test, Y_test_hat)}\")"
   ]
  },
  {
   "attachments": {},
   "cell_type": "markdown",
   "metadata": {},
   "source": [
    "Extraction des coefficients du modèle de régression linéaire :"
   ]
  },
  {
   "cell_type": "code",
   "execution_count": null,
   "metadata": {},
   "outputs": [],
   "source": [
    "coefficients = pd.DataFrame(\n",
    "    model_multiple_sk.coef_, X.columns, columns=[\"Coefficients\"]\n",
    ")\n",
    "print(coefficients)\n",
    "print(\"Intercept\", model_multiple_sk.intercept_)"
   ]
  },
  {
   "cell_type": "markdown",
   "metadata": {},
   "source": [
    "## Regression GLM"
   ]
  },
  {
   "cell_type": "code",
   "execution_count": null,
   "metadata": {},
   "outputs": [],
   "source": [
    "import scipy"
   ]
  },
  {
   "cell_type": "code",
   "execution_count": null,
   "metadata": {},
   "outputs": [],
   "source": [
    "X = df_transforme[\n",
    "    [\n",
    "        \"Income\",\n",
    "        \"NumWebPurchases\",\n",
    "        \"NumDealsPurchases\",\n",
    "        \"NumWebVisitsMonth\",\n",
    "        \"NumCatalogPurchases\",\n",
    "        \"MntWines\",\n",
    "        \"MntFruits\",\n",
    "        \"MntMeatProducts\",\n",
    "        \"MntFishProducts\",\n",
    "        \"MntSweetProducts\",\n",
    "        \"MntGoldProds\",\n",
    "        \"Year_Birth\",\n",
    "        \"NbChildren\",\n",
    "        \"Recency\",\n",
    "        \"NbAcceptedCampaigns\",\n",
    "    ]\n",
    "]\n",
    "Y = df_transforme[\"NumStorePurchases\"]"
   ]
  },
  {
   "cell_type": "code",
   "execution_count": null,
   "metadata": {},
   "outputs": [],
   "source": [
    "scipy.stats.probplot(Y, dist=\"poisson\", sparams=(5), plot=plt)\n",
    "plt.show()"
   ]
  },
  {
   "cell_type": "code",
   "execution_count": null,
   "metadata": {},
   "outputs": [],
   "source": [
    "poisson_model = sm.GLM(Y, X, family=sm.families.Poisson()).fit()"
   ]
  },
  {
   "cell_type": "code",
   "execution_count": null,
   "metadata": {},
   "outputs": [],
   "source": [
    "poisson_model.summary()"
   ]
  },
  {
   "attachments": {},
   "cell_type": "markdown",
   "metadata": {},
   "source": [
    "Réduction du nombre de variables grâce au critère AIC"
   ]
  },
  {
   "cell_type": "code",
   "execution_count": null,
   "metadata": {},
   "outputs": [],
   "source": [
    "def aic_GLM(X, Y):  # entrer X le dataframe des variables explicatives\n",
    "    aic_list = []\n",
    "    for col in X.columns:\n",
    "        X_temp = X.drop(col, axis=1)\n",
    "        model_temp = sm.GLM(Y, X_temp, family=sm.families.Poisson()).fit()\n",
    "        aic_list.append([col, model_temp.aic])\n",
    "\n",
    "    return aic_list"
   ]
  },
  {
   "cell_type": "code",
   "execution_count": null,
   "metadata": {},
   "outputs": [],
   "source": [
    "def stepwise_GLM(X, Y):\n",
    "    current_aic = (\n",
    "        sm.GLM(Y, X, family=sm.families.Poisson()).fit().aic\n",
    "    )  # aic avec les variables actuelles\n",
    "    aic_list = aic_GLM(X, Y)  # liste des aic par supression des variables une a une\n",
    "\n",
    "    my_bool = 0  # pour indiquer si aucune variable n'est a enlever\n",
    "    for i in range(\n",
    "        len(aic_list)\n",
    "    ):  # si l'aic diminue pour une variable supprimee, on enleve cette variable du df X\n",
    "        if aic_list[i][1] < current_aic:\n",
    "            del X[aic_list[i][0]]  # a l'interieur des crochets c'est une string\n",
    "            my_bool = 1\n",
    "\n",
    "    if my_bool == 0:\n",
    "        print(\"Le stepwise est terminé.\")"
   ]
  },
  {
   "cell_type": "code",
   "execution_count": null,
   "metadata": {},
   "outputs": [],
   "source": [
    "stepwise_GLM(X_train, Y_train)"
   ]
  },
  {
   "cell_type": "code",
   "execution_count": null,
   "metadata": {},
   "outputs": [],
   "source": [
    "stepwise_GLM(X_train, Y_train)"
   ]
  },
  {
   "cell_type": "code",
   "execution_count": null,
   "metadata": {},
   "outputs": [],
   "source": [
    "poisson_model = sm.GLM(Y_train, X_train, family=sm.families.Poisson()).fit()\n",
    "Y_test_hat = poisson_model.predict(X_test)"
   ]
  },
  {
   "cell_type": "code",
   "execution_count": null,
   "metadata": {},
   "outputs": [],
   "source": [
    "plt.scatter(Y, Y_hat)\n",
    "plt.title(\"Valeurs prédites contres vraies valeurs (valeurs test)\")\n",
    "abline(1, 0)"
   ]
  },
  {
   "cell_type": "code",
   "execution_count": null,
   "metadata": {},
   "outputs": [],
   "source": [
    "print(f\"MSE = {mean_squared_error(Y, Y_hat)}\")\n",
    "print(f\"RMSE = {mean_squared_error(Y, Y_hat, squared=False)}\")\n",
    "print(f\"MAE = {mean_absolute_error(Y, Y_hat)}\")"
   ]
  },
  {
   "attachments": {},
   "cell_type": "markdown",
   "metadata": {},
   "source": [
    "## Régression polynomiale"
   ]
  },
  {
   "cell_type": "code",
   "execution_count": null,
   "metadata": {},
   "outputs": [],
   "source": [
    "X = df_transforme[\n",
    "    [\n",
    "        \"Income\",\n",
    "        \"NumWebPurchases\",\n",
    "        \"NumDealsPurchases\",\n",
    "        \"NumWebVisitsMonth\",\n",
    "        \"NumCatalogPurchases\",\n",
    "        \"MntWines\",\n",
    "        \"MntFruits\",\n",
    "        \"MntMeatProducts\",\n",
    "        \"MntFishProducts\",\n",
    "        \"MntSweetProducts\",\n",
    "        \"MntGoldProds\",\n",
    "        \"Year_Birth\",\n",
    "        \"Childhome\",\n",
    "        \"Recency\",\n",
    "        \"NbAcceptedCampaigns\",\n",
    "    ]\n",
    "]\n",
    "Y = df_transforme[\"NumStorePurchases\"]"
   ]
  },
  {
   "cell_type": "code",
   "execution_count": null,
   "metadata": {},
   "outputs": [],
   "source": [
    "# Transformer les données en matrice de caractéristiques polynomiales\n",
    "poly = PolynomialFeatures(degree=2)\n",
    "X_poly = poly.fit_transform(X)"
   ]
  },
  {
   "cell_type": "code",
   "execution_count": null,
   "metadata": {},
   "outputs": [],
   "source": [
    "X_train, X_test, Y_train, Y_test = train_test_split(X_poly, Y, test_size=0.5)"
   ]
  },
  {
   "cell_type": "code",
   "execution_count": null,
   "metadata": {},
   "outputs": [],
   "source": [
    "# Entraîner un modèle de régression linéaire sur les données transformées\n",
    "polynomial_model = LinearRegression().fit(X_train, Y_train)"
   ]
  },
  {
   "cell_type": "code",
   "execution_count": null,
   "metadata": {},
   "outputs": [],
   "source": [
    "Y_test_hat = polynomial_model.predict(X_test)\n",
    "Y_train_hat = polynomial_model.predict(X_train)"
   ]
  },
  {
   "cell_type": "code",
   "execution_count": null,
   "metadata": {},
   "outputs": [],
   "source": [
    "plt.scatter(Y_test_hat, Y_test)\n",
    "plt.title(\"Valeurs prédites contres vraies valeurs (valeurs test)\")\n",
    "abline(1, 0)"
   ]
  },
  {
   "cell_type": "code",
   "execution_count": null,
   "metadata": {},
   "outputs": [],
   "source": [
    "print(f\"MSE = {mean_squared_error(Y_test, Y_test_hat)}\")\n",
    "print(f\"RMSE = {mean_squared_error(Y_test, Y_test_hat, squared=False)}\")\n",
    "print(f\"MAE = {mean_absolute_error(Y_test, Y_test_hat)}\")"
   ]
  },
  {
   "cell_type": "code",
   "execution_count": null,
   "metadata": {},
   "outputs": [],
   "source": [
    "print(f\"MSE = {mean_squared_error(Y_train, Y_train_hat)}\")\n",
    "print(f\"RMSE = {mean_squared_error(Y_train, Y_train_hat, squared=False)}\")\n",
    "print(f\"MAE = {mean_absolute_error(Y_train, Y_train_hat)}\")"
   ]
  },
  {
   "attachments": {},
   "cell_type": "markdown",
   "metadata": {},
   "source": [
    "On constate que le modèle polynomial s'ajuste mieux aux données d'entraînement, mais est moins bon pour prédire les valeurs de test. Plus le degré des polynômes augmente, plus cet écart s'empire."
   ]
  },
  {
   "attachments": {},
   "cell_type": "markdown",
   "metadata": {},
   "source": [
    "Jusqu'alors, le meilleur résultat a été obtenu par la régression linéaire multiple, avec élimination des variables par critères AIC."
   ]
  }
 ],
 "metadata": {
  "kernelspec": {
   "display_name": "python3",
   "language": "python",
   "name": "python3"
  }
 },
 "nbformat": 4,
 "nbformat_minor": 1
}
