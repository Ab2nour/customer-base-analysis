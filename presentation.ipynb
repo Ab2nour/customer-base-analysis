{
 "cells": [
  {
   "cell_type": "markdown",
   "metadata": {},
   "source": [
    "**Analyse et segmentation de clientèle d'un magasin avec campagnes de marketing**\n",
    "_Jules EXBRAYAT & Abdenour MADANI_"
   ]
  },
  {
   "cell_type": "markdown",
   "metadata": {},
   "source": [
    "# Présentation"
   ]
  },
  {
   "cell_type": "markdown",
   "metadata": {},
   "source": [
    "## Problématique"
   ]
  },
  {
   "cell_type": "markdown",
   "metadata": {},
   "source": [
    "Quel est le client type de l'entreprise ?\n",
    "\n",
    "Peut-on créer des groupes de clients, afin de cibler efficacement les potentiels clients et personnaliser la campagne marketing ?"
   ]
  },
  {
   "cell_type": "markdown",
   "metadata": {},
   "source": [
    "## Jeu de données"
   ]
  },
  {
   "cell_type": "code",
   "execution_count": null,
   "metadata": {},
   "outputs": [],
   "source": [
    "# todo : ajouter une description / une partie pour parler du jeu de données\n",
    "# \"Ce jeu de données contient le profil de plusieurs clients d'une enseigne de grande distribution\" \\\n",
    "# \"Il contient les données de juillet 2012 à juillet 2014\" \\\n",
    "# \"Nous disposons des ventes en Vin, etc\""
   ]
  },
  {
   "cell_type": "markdown",
   "metadata": {},
   "source": [
    "### Lecture des données"
   ]
  },
  {
   "cell_type": "code",
   "execution_count": null,
   "metadata": {},
   "outputs": [],
   "source": [
    "import numpy as np\n",
    "import matplotlib.pyplot as plt\n",
    "import seaborn as sns\n",
    "import pandas as pd"
   ]
  },
  {
   "cell_type": "code",
   "execution_count": null,
   "metadata": {},
   "outputs": [],
   "source": [
    "np.random.seed(0)\n",
    "sns.set_theme()"
   ]
  },
  {
   "cell_type": "code",
   "execution_count": null,
   "metadata": {},
   "outputs": [],
   "source": [
    "df = pd.read_csv(\"marketing_campaign.csv\", sep=\"\\t\", index_col=\"ID\", parse_dates=True)"
   ]
  },
  {
   "cell_type": "markdown",
   "metadata": {},
   "source": [
    "### Présentation des variables"
   ]
  },
  {
   "cell_type": "code",
   "execution_count": null,
   "metadata": {},
   "outputs": [],
   "source": [
    "df.head()"
   ]
  },
  {
   "cell_type": "code",
   "execution_count": null,
   "metadata": {},
   "outputs": [],
   "source": [
    "print(f\"Il y a {df.shape[1]} variables et {df.shape[0]} individus.\")"
   ]
  },
  {
   "cell_type": "markdown",
   "metadata": {},
   "source": [
    "#### Variables\n",
    "\n",
    "- ID: identifiant du client\n",
    "- Year_Birth: numérique, année de naissance du client\n",
    "- Education: qualitative, niveau d'éducation\n",
    "- Marital_Status: qualitative, statut marital\n",
    "- Income: numérique, revenu annuel en $\n",
    "- Kidhome: numérique, nombre d'enfants en bas-âge\n",
    "- Teenhome: numérique, nombre d'enfants adolescents\n",
    "- Dt_Customer: date, date à laquelle le client s'est inscrit\n",
    "- Recency: numérique, nombre de jours depuis le dernier achat\n",
    "- Complain: catégorique, est-ce que le client s'est plaint les 2 dernières années (0 ou 1)\n",
    "\n",
    "#### Products\n",
    "\n",
    "- MntWines: numérique, argent dépensé les 2 dernières années en vin\n",
    "- MntFruits: numérique, argent dépensé les 2 dernières années en fruits\n",
    "- MntMeatProducts: numérique, argent dépensé les 2 dernières années en viande\n",
    "- MntFishProducts: numérique, argent dépensé les 2 dernières années en poisson\n",
    "- MntSweetProducts: numérique, argent dépensé les 2 dernières années en bonbons / gâteaux\n",
    "- MntGoldProds: numérique, argent dépensé les 2 dernières années en bijoux / or\n",
    "\n",
    "#### Promotion\n",
    "\n",
    "- NumDealsPurchases: numérique, nombre d'achats effectués avec une promotion\n",
    "- AcceptedCmp1: catégorique, le client a-t-il acheté durant la campagne promotionnelle numéro 1 (1 s'il a acheté, 0 sinon)\n",
    "- AcceptedCmp2: pareil pour la campagne numéro 2\n",
    "- AcceptedCmp3: pareil pour la campagne numéro 3\n",
    "- AcceptedCmp4: pareil pour la campagne numéro 4\n",
    "- AcceptedCmp5: pareil pour la campagne numéro 5\n",
    "- Response: catégorique, 1 si le client a acheté durant la dernière campagne, 0 sinon (potentielle variable à prédire)\n",
    "\n",
    "#### Place\n",
    "\n",
    "- NumWebPurchases: numérique, nombre d'achats effectués sur le site Internet\n",
    "- NumCatalogPurchases: numérique, nombre d'achats effectués via le catalogue\n",
    "- NumStorePurchases: numérique, nombre d'achats effectués en magasin\n",
    "- NumWebVisitsMonth: numérique, nombre de visites sur le site Internet le dernier mois\n"
   ]
  },
  {
   "cell_type": "markdown",
   "metadata": {},
   "source": [
    "Nous séparons les variables numériques des variables catégoriques pour plus de commodités."
   ]
  },
  {
   "cell_type": "code",
   "execution_count": null,
   "metadata": {},
   "outputs": [],
   "source": [
    "var_numeriques = [\n",
    "    \"Year_Birth\",\n",
    "    \"Income\",\n",
    "    \"Kidhome\",\n",
    "    \"Teenhome\",\n",
    "    \"Recency\",\n",
    "    \"MntWines\",\n",
    "    \"MntFruits\",\n",
    "    \"MntMeatProducts\",\n",
    "    \"MntFishProducts\",\n",
    "    \"MntSweetProducts\",\n",
    "    \"MntGoldProds\",\n",
    "    \"NumDealsPurchases\",\n",
    "    \"NumWebPurchases\",\n",
    "    \"NumCatalogPurchases\",\n",
    "    \"NumStorePurchases\",\n",
    "    \"NumWebVisitsMonth\",\n",
    "]"
   ]
  },
  {
   "cell_type": "code",
   "execution_count": null,
   "metadata": {},
   "outputs": [],
   "source": [
    "var_categoriques = [\n",
    "    \"Education\",\n",
    "    \"Marital_Status\",\n",
    "    \"Complain\",\n",
    "    \"AcceptedCmp1\",\n",
    "    \"AcceptedCmp2\",\n",
    "    \"AcceptedCmp3\",\n",
    "    \"AcceptedCmp4\",\n",
    "    \"AcceptedCmp5\",\n",
    "    \"Response\",\n",
    "]"
   ]
  },
  {
   "cell_type": "markdown",
   "metadata": {},
   "source": [
    "Nous convertissons les variables catégoriques en type `category`. (Nous les convertissons au préalable en type `string` car cela facilite l'affichage de la légende avec Matplotlib et Seaborn)"
   ]
  },
  {
   "cell_type": "code",
   "execution_count": null,
   "metadata": {},
   "outputs": [],
   "source": [
    "df[var_categoriques] = df[var_categoriques].astype(str).astype(\"category\")"
   ]
  },
  {
   "cell_type": "markdown",
   "metadata": {},
   "source": [
    "Nous convertissons les variables au format date."
   ]
  },
  {
   "cell_type": "code",
   "execution_count": null,
   "metadata": {},
   "outputs": [],
   "source": [
    "df[\"Dt_Customer\"] = pd.to_datetime(df[\"Dt_Customer\"], format=\"%d-%m-%Y\")"
   ]
  },
  {
   "cell_type": "code",
   "execution_count": null,
   "metadata": {},
   "outputs": [],
   "source": [
    "df.info()"
   ]
  },
  {
   "cell_type": "markdown",
   "metadata": {},
   "source": [
    "Nous avons 9 variables catégoriques, 18 variables quantitatives (dont 17 entières) ainsi qu'une variable de type date."
   ]
  },
  {
   "cell_type": "code",
   "execution_count": null,
   "metadata": {},
   "outputs": [],
   "source": [
    "# todo: inclure \"Découverte\" et \"Nettoyage\" dans une grande partie \"Analyse exploratoire des données\" ?"
   ]
  },
  {
   "cell_type": "markdown",
   "metadata": {},
   "source": [
    "# Découverte des données"
   ]
  },
  {
   "cell_type": "markdown",
   "metadata": {},
   "source": [
    "## Analyse univariée"
   ]
  },
  {
   "cell_type": "code",
   "execution_count": null,
   "metadata": {},
   "outputs": [],
   "source": [
    "df[var_numeriques].describe()"
   ]
  },
  {
   "cell_type": "code",
   "execution_count": null,
   "metadata": {},
   "outputs": [],
   "source": [
    "df[var_categoriques].describe()"
   ]
  },
  {
   "cell_type": "code",
   "execution_count": null,
   "metadata": {},
   "outputs": [],
   "source": [
    "# todo: commenter"
   ]
  },
  {
   "cell_type": "markdown",
   "metadata": {},
   "source": [
    "## Visualisation"
   ]
  },
  {
   "cell_type": "markdown",
   "metadata": {},
   "source": [
    "### Variables numériques"
   ]
  },
  {
   "cell_type": "code",
   "execution_count": null,
   "metadata": {},
   "outputs": [],
   "source": [
    "for var in var_numeriques:\n",
    "    _, ax = plt.subplots(1, 2, figsize=(8, 2))\n",
    "    sns.boxplot(df[var], width=0.25, ax=ax[0])\n",
    "    sns.histplot(df[var], kde=True, ax=ax[1])\n",
    "    plt.show()"
   ]
  },
  {
   "cell_type": "code",
   "execution_count": null,
   "metadata": {},
   "outputs": [],
   "source": [
    "# todo: commenter les distributions et boxplots"
   ]
  },
  {
   "cell_type": "code",
   "execution_count": null,
   "metadata": {},
   "outputs": [],
   "source": [
    "plt.figure(figsize=(12, 12))\n",
    "sns.heatmap(\n",
    "    df[var_numeriques].corr()[df[var_numeriques].corr().abs() > 0.5],\n",
    "    annot=True,\n",
    "    cmap=\"BrBG\",\n",
    "    linewidths=0.5,\n",
    "    vmax=1,\n",
    "    vmin=-1,\n",
    ")"
   ]
  },
  {
   "cell_type": "code",
   "execution_count": null,
   "metadata": {},
   "outputs": [],
   "source": [
    "# todo: commenter la matrice de corrélation"
   ]
  },
  {
   "cell_type": "code",
   "execution_count": null,
   "metadata": {},
   "outputs": [],
   "source": [
    "_, ax = plt.subplots(1, 2, figsize=(15, 4))\n",
    "\n",
    "ax[0].set_title(\"Nombre de valeurs présentes\")\n",
    "df.notna().sum()[var_numeriques].plot.barh(ax=ax[0])\n",
    "\n",
    "ax[1].set_title(\"Valeurs manquantes\")\n",
    "sns.heatmap(df[var_numeriques].isna(), cbar=False, ax=ax[1])"
   ]
  },
  {
   "cell_type": "markdown",
   "metadata": {},
   "source": [
    "Nous observons qu'il n'y a quasiment pas de valeurs manquantes parmi les variables numériques."
   ]
  },
  {
   "cell_type": "markdown",
   "metadata": {},
   "source": [
    "### Variables catégoriques"
   ]
  },
  {
   "cell_type": "code",
   "execution_count": null,
   "metadata": {},
   "outputs": [],
   "source": [
    "for var in var_categoriques:\n",
    "    if df[var].nunique() > 3:\n",
    "        sns.histplot(y=df[var])\n",
    "    else:\n",
    "        plt.figure(figsize=(4, 2))\n",
    "        sns.histplot(df[var], shrink=0.3)\n",
    "    plt.show()"
   ]
  },
  {
   "cell_type": "code",
   "execution_count": null,
   "metadata": {},
   "outputs": [],
   "source": []
  },
  {
   "cell_type": "code",
   "execution_count": null,
   "metadata": {},
   "outputs": [],
   "source": [
    "df[\n",
    "    df[var_categoriques].columns[df[var_categoriques].nunique() > 3]\n",
    "].value_counts().plot(kind=\"bar\")"
   ]
  },
  {
   "cell_type": "code",
   "execution_count": null,
   "metadata": {},
   "outputs": [],
   "source": [
    "# todo: commenter"
   ]
  },
  {
   "cell_type": "code",
   "execution_count": null,
   "metadata": {},
   "outputs": [],
   "source": [
    "_, ax = plt.subplots(1, 2, figsize=(15, 4))\n",
    "\n",
    "ax[0].set_title(\"Nombre de valeurs présentes\")\n",
    "df.notna().sum()[var_categoriques].plot.barh(ax=ax[0])\n",
    "\n",
    "ax[1].set_title(\"Valeurs manquantes\")\n",
    "sns.heatmap(df[var_categoriques].isna(), cbar=False, ax=ax[1])"
   ]
  },
  {
   "cell_type": "markdown",
   "metadata": {},
   "source": [
    "Nous observons l'absence de valeurs manquantes parmi les variables catégoriques."
   ]
  },
  {
   "cell_type": "markdown",
   "metadata": {},
   "source": [
    "### Dates"
   ]
  },
  {
   "cell_type": "code",
   "execution_count": null,
   "metadata": {},
   "outputs": [],
   "source": [
    "# todo"
   ]
  },
  {
   "cell_type": "code",
   "execution_count": null,
   "metadata": {},
   "outputs": [],
   "source": [
    "df[\"Dt_Customer\"].hist(bins=50)"
   ]
  },
  {
   "cell_type": "markdown",
   "metadata": {},
   "source": [
    "# Nettoyage des données"
   ]
  },
  {
   "cell_type": "markdown",
   "metadata": {},
   "source": [
    "## Données parasites"
   ]
  },
  {
   "cell_type": "markdown",
   "metadata": {},
   "source": [
    "\n",
    "### Variables"
   ]
  },
  {
   "cell_type": "markdown",
   "metadata": {},
   "source": [
    "Dans le jeu de données, 2 colonnes sont non documentées et contiennent des valeurs constantes :\n",
    "- `Z_CostContact`\n",
    "- `Z_Revenue`"
   ]
  },
  {
   "cell_type": "markdown",
   "metadata": {},
   "source": [
    "**Variable `Z_CostContact`**"
   ]
  },
  {
   "cell_type": "code",
   "execution_count": null,
   "metadata": {},
   "outputs": [],
   "source": [
    "print(\n",
    "    f'Il y a {np.sum(df[\"Z_CostContact\"] == 3)} / {len(df)} individus pour lesquelles la variable Z_CostContact vaut 3.'\n",
    ")"
   ]
  },
  {
   "cell_type": "code",
   "execution_count": null,
   "metadata": {},
   "outputs": [],
   "source": [
    "df[\"Z_CostContact\"].hist()"
   ]
  },
  {
   "cell_type": "markdown",
   "metadata": {},
   "source": [
    "**Variable `Z_Revenue`**"
   ]
  },
  {
   "cell_type": "code",
   "execution_count": null,
   "metadata": {},
   "outputs": [],
   "source": [
    "print(\n",
    "    f'Il y a {np.sum(df[\"Z_Revenue\"] == 11)} / {len(df)} individus pour lesquelles la variable Z_Revenue vaut 11.'\n",
    ")"
   ]
  },
  {
   "cell_type": "code",
   "execution_count": null,
   "metadata": {},
   "outputs": [],
   "source": [
    "df[\"Z_Revenue\"].hist()"
   ]
  },
  {
   "cell_type": "markdown",
   "metadata": {},
   "source": [
    "Nous décidons de les supprimer, car elles sont parasites et ne fournissent pas d'information."
   ]
  },
  {
   "cell_type": "code",
   "execution_count": null,
   "metadata": {},
   "outputs": [],
   "source": [
    "df.drop(columns=[\"Z_CostContact\", \"Z_Revenue\"], inplace=True)"
   ]
  },
  {
   "cell_type": "markdown",
   "metadata": {},
   "source": [
    "### Valeurs"
   ]
  },
  {
   "cell_type": "markdown",
   "metadata": {},
   "source": [
    "#### Statut marital"
   ]
  },
  {
   "cell_type": "code",
   "execution_count": null,
   "metadata": {},
   "outputs": [],
   "source": [
    "sns.histplot(y=df[\"Marital_Status\"])"
   ]
  },
  {
   "cell_type": "markdown",
   "metadata": {},
   "source": [
    "Parmi les situations maritales, on observe \"absurde\" et \"YOLO\" (You Only Live Once, _on ne vit qu'une fois_)."
   ]
  },
  {
   "cell_type": "markdown",
   "metadata": {},
   "source": [
    "Comme on ne peut pas déduire ce que veut dire \"absurde\" dans ce contexte, on se décide de supprimer l'individu.\n",
    "De même, on suppose que la personne ayant répondu \"YOLO\", donc ayant répondu de façon humoristique, doit être supprimée du jeu de données."
   ]
  },
  {
   "cell_type": "code",
   "execution_count": null,
   "metadata": {},
   "outputs": [],
   "source": [
    "df.drop(index=df.loc[df[\"Marital_Status\"] == \"YOLO\"].index, inplace=True)\n",
    "df.drop(index=df.loc[df[\"Marital_Status\"] == \"Absurd\"].index, inplace=True)"
   ]
  },
  {
   "cell_type": "code",
   "execution_count": null,
   "metadata": {},
   "outputs": [],
   "source": [
    "sns.histplot(y=df[\"Marital_Status\"])"
   ]
  },
  {
   "cell_type": "markdown",
   "metadata": {},
   "source": [
    "## Données dupliquées"
   ]
  },
  {
   "cell_type": "markdown",
   "metadata": {},
   "source": [
    "### Individus"
   ]
  },
  {
   "cell_type": "code",
   "execution_count": null,
   "metadata": {},
   "outputs": [],
   "source": [
    "sum(df.duplicated())"
   ]
  },
  {
   "cell_type": "markdown",
   "metadata": {},
   "source": [
    "Nous observons qu'il y a 182 lignes qui sont dupliquées."
   ]
  },
  {
   "cell_type": "markdown",
   "metadata": {},
   "source": [
    "Nous pouvons supposer que les données ont été fusionnées à partir de plusieurs sources, et que ces sources avaient des individus en commun : nous décidons donc de supprimer les doublons."
   ]
  },
  {
   "cell_type": "code",
   "execution_count": null,
   "metadata": {},
   "outputs": [],
   "source": [
    "df.drop_duplicates(inplace=True)"
   ]
  },
  {
   "cell_type": "code",
   "execution_count": null,
   "metadata": {},
   "outputs": [],
   "source": [
    "sum(df.duplicated())"
   ]
  },
  {
   "cell_type": "markdown",
   "metadata": {},
   "source": [
    "## Variables pas assez informatives"
   ]
  },
  {
   "cell_type": "code",
   "execution_count": null,
   "metadata": {},
   "outputs": [],
   "source": [
    "# todo: dire que la variable \"Complain\" (si le client s'est plaint ou non), n'apporte pas assez d'information pour être gardée, car il y a moins de 1% des observations qui ont une classe autre que \"0\", et qu'en plus ce n'est pas central à notre étude"
   ]
  },
  {
   "cell_type": "code",
   "execution_count": null,
   "metadata": {},
   "outputs": [],
   "source": [
    "# todo: essayer quand même une visualisation des individus s'étant plaint par rapport à nos variables cibles, au cas où..."
   ]
  },
  {
   "cell_type": "code",
   "execution_count": null,
   "metadata": {},
   "outputs": [],
   "source": [
    "sns.histplot(df[\"Complain\"])"
   ]
  },
  {
   "cell_type": "code",
   "execution_count": null,
   "metadata": {},
   "outputs": [],
   "source": [
    "print(\n",
    "    f'Il y a {100 * df[\"Complain\"].astype(int).sum() / len(df[\"Complain\"]):.2f}% des individus qui se sont plaints.'\n",
    ")"
   ]
  },
  {
   "cell_type": "markdown",
   "metadata": {},
   "source": [
    "## Standardisation"
   ]
  },
  {
   "cell_type": "markdown",
   "metadata": {},
   "source": [
    "### Modalités de variables catégoriques"
   ]
  },
  {
   "cell_type": "code",
   "execution_count": null,
   "metadata": {},
   "outputs": [],
   "source": [
    "sns.histplot(y=df[\"Marital_Status\"])"
   ]
  },
  {
   "cell_type": "markdown",
   "metadata": {},
   "source": [
    "Sans plus d'information, \"Alone\" est une autre formulation de \"Single\", on décide donc de remplacer \"Alone\" par \"Single\"."
   ]
  },
  {
   "cell_type": "code",
   "execution_count": null,
   "metadata": {},
   "outputs": [],
   "source": [
    "df[\"Marital_Status\"].replace(\"Alone\", \"Single\", inplace=True)"
   ]
  },
  {
   "cell_type": "code",
   "execution_count": null,
   "metadata": {},
   "outputs": [],
   "source": [
    "sns.histplot(y=df[\"Marital_Status\"])"
   ]
  },
  {
   "cell_type": "markdown",
   "metadata": {},
   "source": [
    "## Valeurs extrêmes"
   ]
  },
  {
   "cell_type": "markdown",
   "metadata": {},
   "source": [
    "### Income"
   ]
  },
  {
   "cell_type": "code",
   "execution_count": null,
   "metadata": {},
   "outputs": [],
   "source": [
    "_, ax = plt.subplots(1, 2, figsize=(10, 3))\n",
    "sns.boxplot(df[\"Income\"], width=0.25, ax=ax[0])\n",
    "sns.histplot(df[\"Income\"], kde=True, ax=ax[1])\n",
    "plt.show()"
   ]
  },
  {
   "cell_type": "code",
   "execution_count": null,
   "metadata": {},
   "outputs": [],
   "source": [
    "# todo: texte pour commenter"
   ]
  },
  {
   "cell_type": "code",
   "execution_count": null,
   "metadata": {},
   "outputs": [],
   "source": [
    "df[\"Income\"][df[\"Income\"] > 200_000]"
   ]
  },
  {
   "cell_type": "markdown",
   "metadata": {},
   "source": [
    "Pour nous, il s'agit d'une valeur aberrante à supprimer du jeu de données car \"666 666\" ne semble pas être une valeur réelle (6 fois le nombre 6...)."
   ]
  },
  {
   "cell_type": "code",
   "execution_count": null,
   "metadata": {},
   "outputs": [],
   "source": [
    "df.drop(index=df[df[\"Income\"] > 200_000].index, inplace=True)"
   ]
  },
  {
   "cell_type": "code",
   "execution_count": null,
   "metadata": {},
   "outputs": [],
   "source": [
    "_, ax = plt.subplots(1, 2, figsize=(10, 3))\n",
    "sns.boxplot(df[\"Income\"], width=0.25, ax=ax[0])\n",
    "sns.histplot(df[\"Income\"], kde=True, ax=ax[1])\n",
    "plt.show()"
   ]
  },
  {
   "cell_type": "code",
   "execution_count": null,
   "metadata": {},
   "outputs": [],
   "source": [
    "# todo: est-ce qu'on retire les valeurs au-dessus de 120 000 ? comment on le justifie ?\n",
    "# => ce serait plutôt des individus ATYPIQUES, à enlever mais garder de côté pour l'analyse a posteriori"
   ]
  },
  {
   "cell_type": "code",
   "execution_count": null,
   "metadata": {},
   "outputs": [],
   "source": [
    "df.drop(index=df[df[\"Income\"] > 120_000].index, inplace=True)"
   ]
  },
  {
   "cell_type": "code",
   "execution_count": null,
   "metadata": {},
   "outputs": [],
   "source": [
    "_, ax = plt.subplots(1, 2, figsize=(10, 3))\n",
    "sns.boxplot(df[\"Income\"], width=0.25, ax=ax[0])\n",
    "sns.histplot(df[\"Income\"], kde=True, ax=ax[1])\n",
    "plt.show()"
   ]
  },
  {
   "cell_type": "markdown",
   "metadata": {},
   "source": [
    "### Year Date"
   ]
  },
  {
   "cell_type": "code",
   "execution_count": null,
   "metadata": {},
   "outputs": [],
   "source": [
    "_, ax = plt.subplots(1, 2, figsize=(10, 3))\n",
    "sns.boxplot(df[\"Year_Birth\"], width=0.25, ax=ax[0])\n",
    "sns.histplot(df[\"Year_Birth\"], kde=True, ax=ax[1])\n",
    "plt.show()"
   ]
  },
  {
   "cell_type": "code",
   "execution_count": null,
   "metadata": {},
   "outputs": [],
   "source": [
    "df[df[\"Year_Birth\"] < 1920]"
   ]
  },
  {
   "cell_type": "markdown",
   "metadata": {},
   "source": [
    "Comme les personnes les plus âgées au monde ont très rarement plus de 100 ans, et que nous sommes en 2023, on peut sans problème estimer que les trois dates de naissance avant 1920 sont erronées."
   ]
  },
  {
   "cell_type": "markdown",
   "metadata": {},
   "source": [
    "Pour les deux années 1893 et 1899, on peut s'imaginer que les personnes ont fait une faute de frappe, et voulaient écrire, respectivement, 1983 et 1989."
   ]
  },
  {
   "cell_type": "code",
   "execution_count": null,
   "metadata": {},
   "outputs": [],
   "source": [
    "df.loc[df[\"Year_Birth\"] == 1893, \"Year_Birth\"] = 1983\n",
    "df.loc[df[\"Year_Birth\"] == 1899, \"Year_Birth\"] = 1989"
   ]
  },
  {
   "cell_type": "markdown",
   "metadata": {},
   "source": [
    "Pour l'année 1900, il est difficile d'imaginer une faute de frappe, il s'agit peut-être de la valeur par défaut.\n",
    "On peut tout simplement supprimer la ligne correspondante."
   ]
  },
  {
   "cell_type": "code",
   "execution_count": null,
   "metadata": {},
   "outputs": [],
   "source": [
    "df.drop(index=df.loc[df[\"Year_Birth\"] == 1900, \"Year_Birth\"].index, inplace=True)"
   ]
  },
  {
   "cell_type": "code",
   "execution_count": null,
   "metadata": {},
   "outputs": [],
   "source": [
    "_, ax = plt.subplots(1, 2, figsize=(10, 3))\n",
    "sns.boxplot(df[\"Year_Birth\"], width=0.25, ax=ax[0])\n",
    "sns.histplot(df[\"Year_Birth\"], kde=True, ax=ax[1])\n",
    "plt.show()"
   ]
  },
  {
   "cell_type": "markdown",
   "metadata": {},
   "source": [
    "## Valeurs manquantes"
   ]
  },
  {
   "cell_type": "code",
   "execution_count": null,
   "metadata": {},
   "outputs": [],
   "source": [
    "sns.heatmap(\n",
    "    df.isna(), cbar=False\n",
    ")  # todo: mettre les graphiques à côté (horizontalement)"
   ]
  },
  {
   "cell_type": "code",
   "execution_count": null,
   "metadata": {},
   "outputs": [],
   "source": [
    "sns.displot(\n",
    "    data=df.isna().melt(value_name=\"missing\"),\n",
    "    y=\"variable\",\n",
    "    hue=\"missing\",\n",
    "    multiple=\"fill\",\n",
    "    aspect=1.25,\n",
    ")"
   ]
  },
  {
   "cell_type": "code",
   "execution_count": null,
   "metadata": {},
   "outputs": [],
   "source": [
    "plt.title(\"Nombre de valeurs manquantes pour chaque variable\")\n",
    "df.isna().sum().plot.barh()"
   ]
  },
  {
   "cell_type": "code",
   "execution_count": null,
   "metadata": {},
   "outputs": [],
   "source": [
    "# todo : commenter"
   ]
  },
  {
   "cell_type": "code",
   "execution_count": null,
   "metadata": {},
   "outputs": [],
   "source": [
    "# TODO: supprimer valeurs manquantes OU remplacer par la moyenne ?"
   ]
  },
  {
   "cell_type": "code",
   "execution_count": null,
   "metadata": {},
   "outputs": [],
   "source": [
    "# todo: expliquer POURQUOI ces données sont manquantes (notre hypothèse du moins), et expliquer notre démarche en conséquence"
   ]
  },
  {
   "cell_type": "markdown",
   "metadata": {},
   "source": [
    "### Remplacement par la moyenne"
   ]
  },
  {
   "cell_type": "code",
   "execution_count": null,
   "metadata": {},
   "outputs": [],
   "source": [
    "df[\"Income\"][df[\"Income\"].isna()]"
   ]
  },
  {
   "cell_type": "code",
   "execution_count": null,
   "metadata": {},
   "outputs": [],
   "source": [
    "df[\"Income\"].fillna(df[\"Income\"].mean(), inplace=True)"
   ]
  },
  {
   "cell_type": "code",
   "execution_count": null,
   "metadata": {},
   "outputs": [],
   "source": [
    "# Vérification du bon remplacement des valeurs manquantes\n",
    "df[\"Income\"].isna().sum()"
   ]
  },
  {
   "cell_type": "markdown",
   "metadata": {},
   "source": [
    "# Création de variables"
   ]
  },
  {
   "cell_type": "code",
   "execution_count": null,
   "metadata": {},
   "outputs": [],
   "source": [
    "# todo : faire une var somme des achats sur le web\n",
    "# todo : faire un client type par type d'achat (web / magasin) => est-ce que les gens qui achètent en web / magasin sont différents ?\n",
    "# todo : créer une variable duréeClient qui dit depuis quand le client est inscrit"
   ]
  },
  {
   "cell_type": "code",
   "execution_count": null,
   "metadata": {},
   "outputs": [],
   "source": [
    "# todo: commenter la démarche"
   ]
  },
  {
   "cell_type": "code",
   "execution_count": null,
   "metadata": {},
   "outputs": [],
   "source": [
    "df[\"NbAcceptedCampaigns\"] = 0\n",
    "\n",
    "for i in range(1, 6):\n",
    "    df[\"NbAcceptedCampaigns\"] += df[f\"AcceptedCmp{i}\"].astype(int)"
   ]
  },
  {
   "cell_type": "code",
   "execution_count": null,
   "metadata": {},
   "outputs": [],
   "source": [
    "sns.histplot(df[\"NbAcceptedCampaigns\"], discrete=True)"
   ]
  },
  {
   "cell_type": "code",
   "execution_count": null,
   "metadata": {},
   "outputs": [],
   "source": [
    "df[\"HasAcceptedCampaigns\"] = df[\"NbAcceptedCampaigns\"] > 0"
   ]
  },
  {
   "cell_type": "code",
   "execution_count": null,
   "metadata": {},
   "outputs": [],
   "source": [
    "sns.histplot(df[\"HasAcceptedCampaigns\"].astype(str))"
   ]
  },
  {
   "cell_type": "code",
   "execution_count": null,
   "metadata": {},
   "outputs": [],
   "source": [
    "df_clients = df[df[\"NbAcceptedCampaigns\"] > 0]\n",
    "df_not_clients = df[df[\"NbAcceptedCampaigns\"] == 0]"
   ]
  },
  {
   "cell_type": "code",
   "execution_count": null,
   "metadata": {},
   "outputs": [],
   "source": [
    "# todo: créer une variable qui additionne le nombre d'enfants Kids et Teen (mais avant cela, vérifier si par exemple Kids et Teen apportent des informations différentes => si les deux sont complémentaires, on les laisse / sinon on les supprime au profit de notre nouvelle variable)"
   ]
  },
  {
   "cell_type": "code",
   "execution_count": null,
   "metadata": {},
   "outputs": [],
   "source": [
    "df[[\"Kidhome\", \"Teenhome\"]].value_counts().plot(kind=\"bar\")"
   ]
  },
  {
   "cell_type": "code",
   "execution_count": null,
   "metadata": {},
   "outputs": [],
   "source": [
    "df[\"NbChildren\"] = df[\"Kidhome\"] + df[\"Teenhome\"]"
   ]
  },
  {
   "cell_type": "code",
   "execution_count": null,
   "metadata": {},
   "outputs": [],
   "source": [
    "sns.histplot(df[\"NbChildren\"])"
   ]
  },
  {
   "cell_type": "code",
   "execution_count": null,
   "metadata": {},
   "outputs": [],
   "source": [
    "# todo: créer une variable \"NbAcceptedCampaignsWithResponse\", qui contient donc la 6ème campagne marketing => l'objectif est de clusteriser les gens en fonction de \"à quel point ils sont marketables\" => c'est-à-dire, on présente nos résultats en disant sur qui il vaut mieux se concentrer pour faire des pubs"
   ]
  },
  {
   "cell_type": "code",
   "execution_count": null,
   "metadata": {},
   "outputs": [],
   "source": [
    "# todo: créer une variable \"RevenuePerClient\" => le revenu rapporté par chaque client => ce serait plutôt juste une variable type \"KPI\" à afficher dans un dashboard non ?"
   ]
  },
  {
   "cell_type": "code",
   "execution_count": null,
   "metadata": {},
   "outputs": [],
   "source": [
    "# todo: de même, créer une variable \"RevenueWinePerClient\" => le revenu de vin pour chaque client, et faire de même pour chaque produit => par la suite on pourra faire des représentations \"quel client rapporte le plus de vin\""
   ]
  },
  {
   "cell_type": "markdown",
   "metadata": {},
   "source": [
    "# Visualisation"
   ]
  },
  {
   "cell_type": "code",
   "execution_count": null,
   "metadata": {},
   "outputs": [],
   "source": [
    "# todo: renommer cette partie ? / mettre un texte introductif pour expliquer la démarche (\"Une fois les données nettoyées, on les explore de nouveau, plus en profondeur\")"
   ]
  },
  {
   "cell_type": "code",
   "execution_count": null,
   "metadata": {},
   "outputs": [],
   "source": [
    "# todo: organiser en plusieurs sous-parties"
   ]
  },
  {
   "cell_type": "code",
   "execution_count": null,
   "metadata": {},
   "outputs": [],
   "source": [
    "# todo: choisir les représentations les plus pertinentes à montrer ci-dessous"
   ]
  },
  {
   "cell_type": "code",
   "execution_count": null,
   "metadata": {},
   "outputs": [],
   "source": [
    "sns.histplot(\n",
    "    df,\n",
    "    x=\"Income\",\n",
    "    hue=\"NbAcceptedCampaigns\",\n",
    "    kde=True,\n",
    "    stat=\"density\",\n",
    "    common_norm=False,\n",
    ")"
   ]
  },
  {
   "cell_type": "code",
   "execution_count": null,
   "metadata": {},
   "outputs": [],
   "source": [
    "sns.histplot(\n",
    "    df,\n",
    "    x=\"Income\",\n",
    "    hue=\"NbAcceptedCampaigns\",\n",
    "    kde=True,\n",
    "    stat=\"probability\",\n",
    "    common_norm=False,\n",
    ")"
   ]
  },
  {
   "cell_type": "code",
   "execution_count": null,
   "metadata": {},
   "outputs": [],
   "source": [
    "sns.displot(df, x=\"Income\", hue=\"NbAcceptedCampaigns\", kind=\"kde\", common_norm=False)"
   ]
  },
  {
   "cell_type": "code",
   "execution_count": null,
   "metadata": {},
   "outputs": [],
   "source": [
    "# todo: faire la même chose en boxplots !"
   ]
  },
  {
   "cell_type": "code",
   "execution_count": null,
   "metadata": {},
   "outputs": [],
   "source": [
    "sns.histplot(df, x=\"Income\", hue=\"HasAcceptedCampaigns\", kde=True)"
   ]
  },
  {
   "cell_type": "code",
   "execution_count": null,
   "metadata": {},
   "outputs": [],
   "source": [
    "sns.histplot(df, x=\"Income\", hue=\"Response\", kde=True)"
   ]
  },
  {
   "cell_type": "markdown",
   "metadata": {},
   "source": [
    "### Année naissance (test)"
   ]
  },
  {
   "cell_type": "code",
   "execution_count": null,
   "metadata": {},
   "outputs": [],
   "source": [
    "sns.histplot(df, x=\"Year_Birth\", hue=\"Response\", kde=True)"
   ]
  },
  {
   "cell_type": "markdown",
   "metadata": {},
   "source": [
    "### todo"
   ]
  },
  {
   "cell_type": "code",
   "execution_count": null,
   "metadata": {},
   "outputs": [],
   "source": [
    "sns.histplot(\n",
    "    data=df, x=\"Education\", hue=\"HasAcceptedCampaigns\", multiple=\"dodge\", shrink=0.8\n",
    ")"
   ]
  },
  {
   "cell_type": "code",
   "execution_count": null,
   "metadata": {},
   "outputs": [],
   "source": [
    "sns.histplot(\n",
    "    data=df,\n",
    "    x=\"NbChildren\",\n",
    "    hue=\"Response\",\n",
    "    multiple=\"dodge\",\n",
    "    discrete=True,\n",
    "    shrink=0.4,\n",
    ")"
   ]
  },
  {
   "cell_type": "code",
   "execution_count": null,
   "metadata": {},
   "outputs": [],
   "source": [
    "sns.histplot(\n",
    "    data=df,\n",
    "    x=\"NbChildren\",\n",
    "    hue=\"HasAcceptedCampaigns\",\n",
    "    multiple=\"dodge\",\n",
    "    discrete=True,\n",
    "    shrink=0.4,\n",
    ")"
   ]
  },
  {
   "cell_type": "code",
   "execution_count": null,
   "metadata": {},
   "outputs": [],
   "source": [
    "plt.figure(figsize=(12, 12))\n",
    "sns.heatmap(\n",
    "    df.corr()[df.corr().abs() > 0.5],\n",
    "    annot=True,\n",
    "    cmap=\"BrBG\",\n",
    "    linewidths=0.5,\n",
    "    vmax=1,\n",
    "    vmin=-1,\n",
    ")"
   ]
  },
  {
   "cell_type": "markdown",
   "metadata": {},
   "source": [
    "## Régression polynomiale"
   ]
  },
  {
   "cell_type": "markdown",
   "metadata": {},
   "source": [
    "### Premier exemple"
   ]
  },
  {
   "cell_type": "code",
   "execution_count": null,
   "metadata": {},
   "outputs": [],
   "source": [
    "sns.scatterplot(data=df, x=\"Income\", y=\"MntWines\", color=\"black\")"
   ]
  },
  {
   "cell_type": "code",
   "execution_count": null,
   "metadata": {},
   "outputs": [],
   "source": [
    "sns.scatterplot(x=df[\"Income\"] ** 2, y=df[\"MntWines\"], color=\"black\")"
   ]
  },
  {
   "cell_type": "code",
   "execution_count": null,
   "metadata": {},
   "outputs": [],
   "source": [
    "sns.regplot(\n",
    "    x=df[\"Income\"],\n",
    "    y=df[\"MntWines\"],\n",
    "    scatter_kws={\"color\": \"black\"},\n",
    "    line_kws={\"color\": \"red\"},\n",
    ")"
   ]
  },
  {
   "cell_type": "code",
   "execution_count": null,
   "metadata": {},
   "outputs": [],
   "source": [
    "sns.regplot(\n",
    "    x=df[\"Income\"] ** 2,\n",
    "    y=df[\"MntWines\"],\n",
    "    scatter_kws={\"color\": \"black\"},\n",
    "    line_kws={\"color\": \"red\"},\n",
    ")"
   ]
  },
  {
   "cell_type": "code",
   "execution_count": null,
   "metadata": {},
   "outputs": [],
   "source": [
    "sns.regplot(\n",
    "    x=df[\"Income\"] ** 3,\n",
    "    y=df[\"MntWines\"],\n",
    "    scatter_kws={\"color\": \"black\"},\n",
    "    line_kws={\"color\": \"red\"},\n",
    ")"
   ]
  },
  {
   "cell_type": "markdown",
   "metadata": {},
   "source": [
    "### Afficher la courbe"
   ]
  },
  {
   "cell_type": "code",
   "execution_count": null,
   "metadata": {},
   "outputs": [],
   "source": [
    "# Régression linéaire basique\n",
    "from sklearn.linear_model import LinearRegression"
   ]
  },
  {
   "cell_type": "code",
   "execution_count": null,
   "metadata": {},
   "outputs": [],
   "source": [
    "X = np.array(df[[\"Income\"]] ** 2)\n",
    "y = np.array(df[[\"MntWines\"]])"
   ]
  },
  {
   "cell_type": "code",
   "execution_count": null,
   "metadata": {},
   "outputs": [],
   "source": [
    "reg = LinearRegression().fit(X, y)"
   ]
  },
  {
   "cell_type": "code",
   "execution_count": null,
   "metadata": {},
   "outputs": [],
   "source": [
    "# Tracer les données et la courbe de régression polynomiale\n",
    "plt.scatter(df[\"Income\"], y, label=\"Données\", color=\"black\")\n",
    "plt.scatter(df[\"Income\"], reg.predict(X), label=\"Régression polynomiale\", color=\"red\")\n",
    "\n",
    "plt.legend(loc=\"best\")\n",
    "plt.title(\"Régression polynomiale d'un cube de données synthétiques\")\n",
    "\n",
    "plt.show()"
   ]
  },
  {
   "cell_type": "markdown",
   "metadata": {},
   "source": [
    "### Polynomial Features"
   ]
  },
  {
   "cell_type": "code",
   "execution_count": null,
   "metadata": {},
   "outputs": [],
   "source": [
    "# Pour la régression polynomiale\n",
    "from sklearn.preprocessing import PolynomialFeatures"
   ]
  },
  {
   "cell_type": "code",
   "execution_count": null,
   "metadata": {},
   "outputs": [],
   "source": [
    "# Transformer les données en matrice de caractéristiques polynomiales\n",
    "poly = PolynomialFeatures(degree=2)\n",
    "X_poly = poly.fit_transform(X)"
   ]
  },
  {
   "cell_type": "markdown",
   "metadata": {},
   "source": [
    "Si on donne une variable $V$, PolynomialFeatures crée les variables\n",
    "- $1$\n",
    "- $V$\n",
    "- $V^2$"
   ]
  },
  {
   "cell_type": "markdown",
   "metadata": {},
   "source": [
    "Si on donne les variables $V$ et $W$, PolynomialFeatures crée les variables\n",
    "- $1$\n",
    "- $V$\n",
    "- $W$\n",
    "- $V \\times W$\n",
    "- $V^2$\n",
    "- $W^2$"
   ]
  },
  {
   "cell_type": "markdown",
   "metadata": {},
   "source": [
    "(attention à l'explosion combinatoire du nombre de variables !)"
   ]
  },
  {
   "cell_type": "code",
   "execution_count": null,
   "metadata": {},
   "outputs": [],
   "source": [
    "# Entraîner un modèle de régression linéaire sur les données transformées\n",
    "reg = LinearRegression().fit(X_poly, y)"
   ]
  },
  {
   "cell_type": "code",
   "execution_count": null,
   "metadata": {},
   "outputs": [],
   "source": [
    "# Tracer les données et la courbe de régression polynomiale\n",
    "plt.scatter(df[\"Income\"], y, label=\"Données\", color=\"black\")\n",
    "plt.scatter(\n",
    "    df[\"Income\"], reg.predict(X_poly), label=\"Régression polynomiale\", color=\"red\"\n",
    ")\n",
    "\n",
    "plt.legend(loc=\"best\")\n",
    "plt.title(\"Régression polynomiale d'un cube de données synthétiques\")\n",
    "\n",
    "plt.show()"
   ]
  },
  {
   "cell_type": "markdown",
   "metadata": {},
   "source": [
    "### Attention au sur-apprentissage"
   ]
  },
  {
   "cell_type": "code",
   "execution_count": null,
   "metadata": {},
   "outputs": [],
   "source": [
    "# Transformer les données en matrice de caractéristiques polynomiales\n",
    "poly = PolynomialFeatures(degree=10)\n",
    "X_poly = poly.fit_transform(X)"
   ]
  },
  {
   "cell_type": "code",
   "execution_count": null,
   "metadata": {},
   "outputs": [],
   "source": [
    "# Entraîner un modèle de régression linéaire sur les données transformées\n",
    "reg = LinearRegression().fit(X_poly, y)"
   ]
  },
  {
   "cell_type": "code",
   "execution_count": null,
   "metadata": {},
   "outputs": [],
   "source": [
    "# Tracer les données et la courbe de régression polynomiale\n",
    "plt.scatter(df[\"Income\"], y, label=\"Données\", color=\"black\")\n",
    "plt.scatter(\n",
    "    df[\"Income\"], reg.predict(X_poly), label=\"Régression polynomiale\", color=\"red\"\n",
    ")\n",
    "\n",
    "plt.legend(loc=\"best\")\n",
    "plt.title(\"Régression polynomiale d'un cube de données synthétiques\")\n",
    "\n",
    "plt.show()"
   ]
  },
  {
   "cell_type": "code",
   "execution_count": null,
   "metadata": {},
   "outputs": [],
   "source": []
  },
  {
   "cell_type": "code",
   "execution_count": null,
   "metadata": {},
   "outputs": [],
   "source": []
  },
  {
   "cell_type": "code",
   "execution_count": null,
   "metadata": {},
   "outputs": [],
   "source": []
  },
  {
   "cell_type": "code",
   "execution_count": null,
   "metadata": {},
   "outputs": [],
   "source": []
  },
  {
   "cell_type": "code",
   "execution_count": null,
   "metadata": {},
   "outputs": [],
   "source": []
  },
  {
   "cell_type": "code",
   "execution_count": null,
   "metadata": {},
   "outputs": [],
   "source": []
  },
  {
   "cell_type": "code",
   "execution_count": null,
   "metadata": {},
   "outputs": [],
   "source": []
  },
  {
   "cell_type": "markdown",
   "metadata": {},
   "source": [
    "## todo"
   ]
  },
  {
   "cell_type": "code",
   "execution_count": null,
   "metadata": {},
   "outputs": [],
   "source": [
    "sns.scatterplot(data=df, x=\"Income\", y=\"MntMeatProducts\", hue=\"Marital_Status\")"
   ]
  },
  {
   "cell_type": "code",
   "execution_count": null,
   "metadata": {},
   "outputs": [],
   "source": [
    "sns.scatterplot(data=df, x=\"Income\", y=\"MntWines\")"
   ]
  },
  {
   "cell_type": "code",
   "execution_count": null,
   "metadata": {},
   "outputs": [],
   "source": [
    "sns.histplot(data=df, x=\"Education\", hue=\"Response\", multiple=\"dodge\", shrink=0.8)"
   ]
  },
  {
   "cell_type": "code",
   "execution_count": null,
   "metadata": {},
   "outputs": [],
   "source": [
    "sns.displot(\n",
    "    data=df,\n",
    "    x=\"Marital_Status\",\n",
    "    hue=\"Response\",\n",
    "    col=\"Kidhome\",\n",
    "    multiple=\"dodge\",\n",
    "    shrink=0.8,\n",
    ")"
   ]
  },
  {
   "cell_type": "markdown",
   "metadata": {},
   "source": [
    "# Tests d'hypothèse"
   ]
  },
  {
   "cell_type": "markdown",
   "metadata": {},
   "source": [
    "## ANOVA"
   ]
  },
  {
   "cell_type": "markdown",
   "metadata": {},
   "source": [
    "### Problématique"
   ]
  },
  {
   "cell_type": "markdown",
   "metadata": {},
   "source": [
    "Nous allons tester l'indépendance entre la variable Response (catégorique, binaire) et Income (quantitative continue), pour répondre à la question : \"le revenu influence-t-il la réponse aux campagnes marketing ?\"."
   ]
  },
  {
   "cell_type": "code",
   "execution_count": null,
   "metadata": {},
   "outputs": [],
   "source": [
    "sns.boxplot(df, x=\"Income\", y=\"Response\")"
   ]
  },
  {
   "cell_type": "markdown",
   "metadata": {},
   "source": [
    "On cherche à déterminer si les moyennes des groupes sont significativement différentes. On pose donc :\n",
    "\n",
    "$H_0$ : Les moyennes de chaque groupe sont égales si la p-value $> 5\\%$\n",
    "$H_1$ : Les moyennes de chaque groupe ne sont pas toutes égales si la p-value $< 5\\%$\n"
   ]
  },
  {
   "cell_type": "markdown",
   "metadata": {},
   "source": [
    "### Hypothèses"
   ]
  },
  {
   "cell_type": "markdown",
   "metadata": {},
   "source": [
    "1) l’indépendance entre les échantillons de chaque groupe\n",
    "2) l’égalité des variances que l’on peut verifier avec un test de Bartlett.\n",
    "3) la normalité des résidus avec un test de Shapiro."
   ]
  },
  {
   "cell_type": "markdown",
   "metadata": {},
   "source": [
    "#### Indépendance"
   ]
  },
  {
   "cell_type": "code",
   "execution_count": null,
   "metadata": {},
   "outputs": [],
   "source": []
  },
  {
   "cell_type": "markdown",
   "metadata": {},
   "source": [
    "#### Egalité des variances"
   ]
  },
  {
   "cell_type": "code",
   "execution_count": null,
   "metadata": {},
   "outputs": [],
   "source": [
    "from scipy.stats import bartlett"
   ]
  },
  {
   "cell_type": "markdown",
   "metadata": {},
   "source": [
    "Voici la variance de chaque groupe :"
   ]
  },
  {
   "cell_type": "code",
   "execution_count": null,
   "metadata": {},
   "outputs": [],
   "source": [
    "df.groupby(\"Response\")[\"Income\"].agg(\"var\")"
   ]
  },
  {
   "cell_type": "markdown",
   "metadata": {},
   "source": [
    "Nous allons effectuer un test de Bartlett pour vérifier l'égalité des variances.\n",
    "\n",
    "$H_0$ : Les variances de chaque groupe sont égales si p-value $> 5\\%$\n",
    "$H_1$ : Les variances de chaque groupe ne sont pas toutes égales $< 5\\%$\n"
   ]
  },
  {
   "cell_type": "code",
   "execution_count": null,
   "metadata": {},
   "outputs": [],
   "source": [
    "bartlett(\n",
    "    df[\"Income\"][df[\"Response\"] == \"0\"],\n",
    "    df[\"Income\"][df[\"Response\"] == \"1\"],\n",
    ")"
   ]
  },
  {
   "cell_type": "markdown",
   "metadata": {},
   "source": [
    "Notre p-value est inférieure à 5%, donc les variances ne sont pas toutes égales au (risque de 5%)."
   ]
  },
  {
   "cell_type": "markdown",
   "metadata": {},
   "source": [
    "#### Normalité des résidus"
   ]
  },
  {
   "cell_type": "markdown",
   "metadata": {},
   "source": [
    "Nous utilisons le test de Shapiro-Wilk pour vérifier la normalité des résidus."
   ]
  },
  {
   "cell_type": "markdown",
   "metadata": {},
   "source": [
    "H0 : Les résidus suivent une loi normale si p-value > 5%\n",
    "H1 : Les résidus ne suivent pas une loi normale si p-value < 5%"
   ]
  },
  {
   "cell_type": "code",
   "execution_count": null,
   "metadata": {},
   "outputs": [],
   "source": [
    "from scipy.stats import shapiro\n",
    "from statsmodels.formula.api import ols\n",
    "\n",
    "model = ols(\"Income ~ Response\", data=df).fit()\n",
    "shapiro(model.resid)"
   ]
  },
  {
   "cell_type": "markdown",
   "metadata": {},
   "source": [
    "Comme la p-value est inférieure à 5%, les résidus ne suivent pas une loi normale (au risque de 5%)."
   ]
  },
  {
   "cell_type": "markdown",
   "metadata": {},
   "source": [
    "#### Test d'ANOVA"
   ]
  },
  {
   "cell_type": "markdown",
   "metadata": {},
   "source": [
    "H0 : Les moyennes de chaque groupe sont égales si p-value > 5%\n",
    "H1 : Les moyennes de chaque groupe ne sont pas toutes égales < 5%"
   ]
  },
  {
   "cell_type": "code",
   "execution_count": null,
   "metadata": {},
   "outputs": [],
   "source": [
    "import statsmodels.api as sm\n",
    "\n",
    "anova_table = sm.stats.anova_lm(model, typ=2)\n",
    "anova_table"
   ]
  },
  {
   "cell_type": "markdown",
   "metadata": {},
   "source": [
    "Comme aucune hypothèse n'est vérifiée, le test n'est pas fiable."
   ]
  },
  {
   "cell_type": "code",
   "execution_count": null,
   "metadata": {},
   "outputs": [],
   "source": [
    "# todo: tenter le GLS"
   ]
  },
  {
   "cell_type": "markdown",
   "metadata": {},
   "source": [
    "# Transformation des données"
   ]
  },
  {
   "cell_type": "code",
   "execution_count": null,
   "metadata": {},
   "outputs": [],
   "source": [
    "df_transforme = df.copy()"
   ]
  },
  {
   "cell_type": "markdown",
   "metadata": {},
   "source": [
    "## Mise à l'échelle (réduction ?)"
   ]
  },
  {
   "cell_type": "markdown",
   "metadata": {},
   "source": [
    "### Explication"
   ]
  },
  {
   "cell_type": "code",
   "execution_count": null,
   "metadata": {},
   "outputs": [],
   "source": [
    "# todo: expliquer pourquoi on a envie de le faire"
   ]
  },
  {
   "cell_type": "markdown",
   "metadata": {},
   "source": [
    "### Sélection des variables"
   ]
  },
  {
   "cell_type": "code",
   "execution_count": null,
   "metadata": {},
   "outputs": [],
   "source": [
    "df[var_numeriques].hist(figsize=(12, 12), bins=30)\n",
    "plt.show()"
   ]
  },
  {
   "cell_type": "code",
   "execution_count": null,
   "metadata": {},
   "outputs": [],
   "source": [
    "# todo(prof): est-ce que notre choix de variables est bon ?\n",
    "var_a_scaler = [\n",
    "    \"Year_Birth\",\n",
    "    \"Income\",\n",
    "    \"Recency\",\n",
    "    \"MntWines\",\n",
    "    \"MntFruits\",\n",
    "    \"MntMeatProducts\",\n",
    "    \"MntFishProducts\",\n",
    "    \"MntSweetProducts\",\n",
    "    \"MntGoldProds\",\n",
    "]"
   ]
  },
  {
   "cell_type": "code",
   "execution_count": null,
   "metadata": {},
   "outputs": [],
   "source": [
    "df[\"Income\"].hist()"
   ]
  },
  {
   "cell_type": "code",
   "execution_count": null,
   "metadata": {},
   "outputs": [],
   "source": [
    "(df[\"Income\"] / df[\"Income\"].std()).hist()"
   ]
  },
  {
   "cell_type": "markdown",
   "metadata": {},
   "source": [
    "### Transformation"
   ]
  },
  {
   "cell_type": "code",
   "execution_count": null,
   "metadata": {},
   "outputs": [],
   "source": [
    "for var in var_a_scaler:\n",
    "    df_transforme[var] = df[var] / df[var].std()\n",
    "    df_transforme[var] -= df_transforme[var].min()"
   ]
  },
  {
   "cell_type": "markdown",
   "metadata": {},
   "source": [
    "### Conclusion"
   ]
  },
  {
   "cell_type": "code",
   "execution_count": null,
   "metadata": {},
   "outputs": [],
   "source": [
    "df_transforme[var_numeriques].hist(figsize=(12, 12), bins=30)\n",
    "plt.show()"
   ]
  },
  {
   "cell_type": "markdown",
   "metadata": {},
   "source": [
    "Les changements sur la matrice de corrélation sont de l'ordre de $10^{-15}$, donc extrêmement négligeables."
   ]
  },
  {
   "cell_type": "code",
   "execution_count": null,
   "metadata": {},
   "outputs": [],
   "source": [
    "sns.heatmap(df_transforme[var_numeriques].corr() - df[var_numeriques].corr())"
   ]
  },
  {
   "cell_type": "markdown",
   "metadata": {},
   "source": [
    "## Normalisation"
   ]
  },
  {
   "cell_type": "markdown",
   "metadata": {},
   "source": [
    "### Explication"
   ]
  },
  {
   "cell_type": "markdown",
   "metadata": {},
   "source": [
    "Pour normaliser les données, nous allons utiliser la transformation de Box-Cox, définie $\\forall x > 0, $ comme ci-dessous :\n",
    "$B(x, \\lambda) = \\begin{cases} \\frac{x^{\\lambda} - 1}{\\lambda} & \\text{  si } \\lambda \\neq 0 \\\\ \\log(x) & \\text{  si } \\lambda = 0 \\end{cases}$"
   ]
  },
  {
   "cell_type": "markdown",
   "metadata": {},
   "source": [
    "Cette transformation est à appliquer à une variable (strictement positive), en ajustant le $\\lambda$ pour maximiser la normalité."
   ]
  },
  {
   "cell_type": "markdown",
   "metadata": {},
   "source": [
    "Nous allons utiliser la librairie `scipy.stats.boxcox` qui estime le meilleur paramètre $\\lambda$."
   ]
  },
  {
   "cell_type": "markdown",
   "metadata": {},
   "source": [
    "### Sélection des variables"
   ]
  },
  {
   "cell_type": "code",
   "execution_count": null,
   "metadata": {},
   "outputs": [],
   "source": [
    "df[var_numeriques].hist(figsize=(12, 12), bins=30)\n",
    "plt.show()"
   ]
  },
  {
   "cell_type": "code",
   "execution_count": null,
   "metadata": {},
   "outputs": [],
   "source": [
    "# todo(prof): faut-il inclure la distribution uniforme Recency ?\n",
    "# todo(prof): est-ce que notre choix de variables est bon ?\n",
    "var_a_normaliser = [\n",
    "    \"MntWines\",\n",
    "    \"MntFruits\",\n",
    "    \"MntMeatProducts\",\n",
    "    \"MntFishProducts\",\n",
    "    \"MntSweetProducts\",\n",
    "    \"MntGoldProds\",\n",
    "]"
   ]
  },
  {
   "cell_type": "markdown",
   "metadata": {},
   "source": [
    "### Transformation"
   ]
  },
  {
   "cell_type": "code",
   "execution_count": null,
   "metadata": {},
   "outputs": [],
   "source": [
    "sns.histplot(df[\"MntWines\"], kde=True)"
   ]
  },
  {
   "cell_type": "code",
   "execution_count": null,
   "metadata": {},
   "outputs": [],
   "source": [
    "from scipy.stats import boxcox"
   ]
  },
  {
   "cell_type": "code",
   "execution_count": null,
   "metadata": {},
   "outputs": [],
   "source": [
    "boxcox_lambdas = {}  # on garde les lambdas, pour la transformation inverse"
   ]
  },
  {
   "cell_type": "code",
   "execution_count": null,
   "metadata": {},
   "outputs": [],
   "source": [
    "for var in var_a_normaliser:\n",
    "    var_strict_positif = df[var] + df[var].min() + 1\n",
    "\n",
    "    var_apres_boxcox, l = boxcox(var_strict_positif)\n",
    "\n",
    "    df_transforme[var] = var_apres_boxcox\n",
    "    boxcox_lambdas[var] = l"
   ]
  },
  {
   "cell_type": "code",
   "execution_count": null,
   "metadata": {},
   "outputs": [],
   "source": [
    "# Tuto : comment récupérer la fonction initiale\n",
    "# (il faut avoir récupéré le paramètre \"l\" lambda)\n",
    "\n",
    "# from scipy.special import inv_boxcox\n",
    "# initial = inv_boxcox(incbox, l)\n",
    "# initial = pd.DataFrame(initial)\n",
    "# sns.histplot(initial, bins=50, kde=True)"
   ]
  },
  {
   "cell_type": "code",
   "execution_count": null,
   "metadata": {},
   "outputs": [],
   "source": [
    "sns.histplot(df_transforme[\"MntWines\"], bins=50, kde=True)"
   ]
  },
  {
   "cell_type": "code",
   "execution_count": null,
   "metadata": {},
   "outputs": [],
   "source": [
    "df_transforme[var_numeriques].hist(figsize=(12, 12), bins=30)\n",
    "plt.show()"
   ]
  },
  {
   "cell_type": "markdown",
   "metadata": {},
   "source": [
    "### Conclusion"
   ]
  },
  {
   "cell_type": "code",
   "execution_count": null,
   "metadata": {},
   "outputs": [],
   "source": [
    "# todo: analyser les résultats, notamment l'impact sur la matrice de corrélation (du coup, mettre ci-dessous la matrice de corrélation pré-transformation et comparer)"
   ]
  },
  {
   "cell_type": "code",
   "execution_count": null,
   "metadata": {},
   "outputs": [],
   "source": [
    "sns.heatmap(\n",
    "    df_transforme[var_numeriques].corr() - df[var_numeriques].corr(),\n",
    "    cmap=\"BrBG\",\n",
    "    vmin=-1,\n",
    "    vmax=1,\n",
    ")"
   ]
  },
  {
   "cell_type": "code",
   "execution_count": null,
   "metadata": {},
   "outputs": [],
   "source": [
    "df_transforme[var_numeriques].corr() - df[var_numeriques].corr()"
   ]
  },
  {
   "cell_type": "code",
   "execution_count": null,
   "metadata": {},
   "outputs": [],
   "source": [
    "plt.figure(figsize=(12, 12))\n",
    "sns.heatmap(\n",
    "    df[var_numeriques].corr()[df[var_numeriques].corr().abs() > 0.5],\n",
    "    annot=True,\n",
    "    cmap=\"BrBG\",\n",
    "    linewidths=0.5,\n",
    "    vmax=1,\n",
    "    vmin=-1,\n",
    ")"
   ]
  },
  {
   "cell_type": "code",
   "execution_count": null,
   "metadata": {},
   "outputs": [],
   "source": [
    "plt.figure(figsize=(12, 12))\n",
    "sns.heatmap(\n",
    "    df_transforme[var_numeriques].corr()[\n",
    "        df_transforme[var_numeriques].corr().abs() > 0.5\n",
    "    ],\n",
    "    annot=True,\n",
    "    cmap=\"BrBG\",\n",
    "    linewidths=0.5,\n",
    "    vmax=1,\n",
    "    vmin=-1,\n",
    ")"
   ]
  },
  {
   "cell_type": "markdown",
   "metadata": {},
   "source": [
    "## Variables catégoriques"
   ]
  },
  {
   "cell_type": "code",
   "execution_count": null,
   "metadata": {},
   "outputs": [],
   "source": []
  },
  {
   "cell_type": "markdown",
   "metadata": {},
   "source": [
    "### Encodage"
   ]
  },
  {
   "cell_type": "code",
   "execution_count": null,
   "metadata": {},
   "outputs": [],
   "source": [
    "# todo: One Hot Encoding, Target Encoding, etc"
   ]
  },
  {
   "cell_type": "markdown",
   "metadata": {},
   "source": [
    "# Analyse multi-variée"
   ]
  },
  {
   "cell_type": "markdown",
   "metadata": {},
   "source": [
    "## Clustering"
   ]
  },
  {
   "cell_type": "code",
   "execution_count": null,
   "metadata": {},
   "outputs": [],
   "source": [
    "from sklearn.preprocessing import RobustScaler\n",
    "\n",
    "scaler = RobustScaler()\n",
    "df_apres_scale = pd.DataFrame(\n",
    "    scaler.fit_transform(df_transforme[var_numeriques]),\n",
    "    columns=df[var_numeriques].columns,\n",
    ")"
   ]
  },
  {
   "cell_type": "code",
   "execution_count": null,
   "metadata": {},
   "outputs": [],
   "source": [
    "from sklearn.cluster import KMeans"
   ]
  },
  {
   "cell_type": "code",
   "execution_count": null,
   "metadata": {},
   "outputs": [],
   "source": [
    "k3 = KMeans(n_clusters=3)\n",
    "k4 = KMeans(n_clusters=4)"
   ]
  },
  {
   "cell_type": "code",
   "execution_count": null,
   "metadata": {},
   "outputs": [],
   "source": [
    "k3.fit(df_apres_scale[var_numeriques])\n",
    "k4.fit(df_apres_scale[var_numeriques])"
   ]
  },
  {
   "cell_type": "code",
   "execution_count": null,
   "metadata": {},
   "outputs": [],
   "source": [
    "df[\"cluster\"] = k3.labels_"
   ]
  },
  {
   "cell_type": "code",
   "execution_count": null,
   "metadata": {},
   "outputs": [],
   "source": [
    "sns.histplot(df[\"cluster\"])"
   ]
  },
  {
   "cell_type": "code",
   "execution_count": null,
   "metadata": {},
   "outputs": [],
   "source": [
    "sns.histplot(df, x=\"Income\", hue=\"cluster\", kde=True)"
   ]
  },
  {
   "cell_type": "code",
   "execution_count": null,
   "metadata": {},
   "outputs": [],
   "source": [
    "sns.scatterplot(df, x=\"Year_Birth\", y=\"Income\", hue=\"cluster\")"
   ]
  },
  {
   "cell_type": "code",
   "execution_count": null,
   "metadata": {},
   "outputs": [],
   "source": [
    "df[var_numeriques + [\"cluster\"]]"
   ]
  },
  {
   "cell_type": "code",
   "execution_count": null,
   "metadata": {},
   "outputs": [],
   "source": []
  },
  {
   "cell_type": "code",
   "execution_count": null,
   "metadata": {},
   "outputs": [],
   "source": [
    "df[\"cluster\"] = k4.labels_\n",
    "sns.histplot(df[\"cluster\"])"
   ]
  },
  {
   "cell_type": "code",
   "execution_count": null,
   "metadata": {},
   "outputs": [],
   "source": [
    "sns.histplot(df, x=\"Income\", hue=\"cluster\", kde=True)"
   ]
  },
  {
   "cell_type": "code",
   "execution_count": null,
   "metadata": {},
   "outputs": [],
   "source": [
    "sns.scatterplot(df, x=\"Year_Birth\", y=\"Income\", hue=\"cluster\")"
   ]
  },
  {
   "cell_type": "markdown",
   "metadata": {},
   "source": [
    "## Analyse en Composantes Principales (ACP)"
   ]
  },
  {
   "cell_type": "code",
   "execution_count": null,
   "metadata": {},
   "outputs": [],
   "source": [
    "from sklearn.decomposition import PCA"
   ]
  },
  {
   "cell_type": "code",
   "execution_count": null,
   "metadata": {},
   "outputs": [],
   "source": [
    "# todo: centrer / réduire"
   ]
  },
  {
   "cell_type": "code",
   "execution_count": null,
   "metadata": {},
   "outputs": [],
   "source": [
    "from sklearn.preprocessing import RobustScaler, StandardScaler"
   ]
  },
  {
   "cell_type": "code",
   "execution_count": null,
   "metadata": {},
   "outputs": [],
   "source": [
    "scaler = StandardScaler()"
   ]
  },
  {
   "cell_type": "code",
   "execution_count": null,
   "metadata": {},
   "outputs": [],
   "source": [
    "df_apres_scale = pd.DataFrame(\n",
    "    scaler.fit_transform(df[var_numeriques]), columns=df[var_numeriques].columns\n",
    ")"
   ]
  },
  {
   "cell_type": "code",
   "execution_count": null,
   "metadata": {},
   "outputs": [],
   "source": [
    "df_apres_scale"
   ]
  },
  {
   "cell_type": "code",
   "execution_count": null,
   "metadata": {},
   "outputs": [],
   "source": [
    "# for var in var_numeriques:\n",
    "#     _, ax = plt.subplots(1, 2, figsize=(8, 2))\n",
    "#     sns.boxplot(df_apres_scale[var], width=0.25, ax=ax[0])\n",
    "#     sns.histplot(df_apres_scale[var], kde=True, ax=ax[1])\n",
    "#     plt.show()"
   ]
  },
  {
   "cell_type": "code",
   "execution_count": null,
   "metadata": {},
   "outputs": [],
   "source": [
    "acp = PCA(random_state=0)"
   ]
  },
  {
   "cell_type": "code",
   "execution_count": null,
   "metadata": {},
   "outputs": [],
   "source": [
    "acp.fit(df_apres_scale)"
   ]
  },
  {
   "cell_type": "code",
   "execution_count": null,
   "metadata": {},
   "outputs": [],
   "source": [
    "variance_expliquee = pd.Series(\n",
    "    acp.explained_variance_ratio_, index=df[var_numeriques].columns\n",
    ")"
   ]
  },
  {
   "cell_type": "code",
   "execution_count": null,
   "metadata": {},
   "outputs": [],
   "source": [
    "variance_expliquee"
   ]
  },
  {
   "cell_type": "code",
   "execution_count": null,
   "metadata": {},
   "outputs": [],
   "source": [
    "variance_expliquee.plot.barh()"
   ]
  },
  {
   "cell_type": "code",
   "execution_count": null,
   "metadata": {},
   "outputs": [],
   "source": [
    "df_acp = pd.DataFrame(acp.fit_transform(df_apres_scale), index=df.index)"
   ]
  },
  {
   "cell_type": "code",
   "execution_count": null,
   "metadata": {},
   "outputs": [],
   "source": [
    "df_acp.head()"
   ]
  },
  {
   "cell_type": "code",
   "execution_count": null,
   "metadata": {},
   "outputs": [],
   "source": [
    "sns.scatterplot(df_acp, x=0, y=1)"
   ]
  },
  {
   "cell_type": "markdown",
   "metadata": {},
   "source": [
    "### Cercle corrélation"
   ]
  },
  {
   "cell_type": "code",
   "execution_count": null,
   "metadata": {},
   "outputs": [],
   "source": [
    "from mlxtend.plotting import plot_pca_correlation_graph"
   ]
  },
  {
   "cell_type": "code",
   "execution_count": null,
   "metadata": {},
   "outputs": [],
   "source": [
    "_, correlation_matrix = plot_pca_correlation_graph(\n",
    "    df_apres_scale,\n",
    "    df_apres_scale.columns,\n",
    "    X_pca=df_acp.iloc[:, :2],\n",
    "    explained_variance=acp.explained_variance_[:2],\n",
    "    dimensions=(1, 2),\n",
    ")"
   ]
  },
  {
   "cell_type": "code",
   "execution_count": null,
   "metadata": {},
   "outputs": [],
   "source": [
    "sns.heatmap(\n",
    "    correlation_matrix,\n",
    "    annot=True,\n",
    "    cmap=\"BrBG\",\n",
    "    linewidths=0.5,\n",
    "    vmax=1,\n",
    "    vmin=-1,\n",
    ")"
   ]
  },
  {
   "cell_type": "markdown",
   "metadata": {},
   "source": [
    "### Test clusters"
   ]
  },
  {
   "cell_type": "code",
   "execution_count": null,
   "metadata": {},
   "outputs": [],
   "source": [
    "df_acp[\"clusterk3\"] = k3.labels_\n",
    "df_acp[\"clusterk4\"] = k4.labels_"
   ]
  },
  {
   "cell_type": "code",
   "execution_count": null,
   "metadata": {},
   "outputs": [],
   "source": [
    "sns.scatterplot(df_acp, x=0, y=1, hue=\"clusterk3\")"
   ]
  },
  {
   "cell_type": "code",
   "execution_count": null,
   "metadata": {},
   "outputs": [],
   "source": [
    "df_acp.head()"
   ]
  },
  {
   "cell_type": "code",
   "execution_count": null,
   "metadata": {},
   "outputs": [],
   "source": [
    "sns.scatterplot(df_acp, x=0, y=1, hue=df[\"Response\"])"
   ]
  },
  {
   "cell_type": "code",
   "execution_count": null,
   "metadata": {},
   "outputs": [],
   "source": [
    "sns.scatterplot(df_acp, x=0, y=2, hue=df[\"Response\"])"
   ]
  },
  {
   "cell_type": "code",
   "execution_count": null,
   "metadata": {},
   "outputs": [],
   "source": [
    "sns.scatterplot(df_acp, x=0, y=1, hue=\"clusterk4\")"
   ]
  },
  {
   "cell_type": "code",
   "execution_count": null,
   "metadata": {},
   "outputs": [],
   "source": []
  },
  {
   "cell_type": "markdown",
   "metadata": {},
   "source": [
    "## Analyse Factorielle des Correspondances (AFC)"
   ]
  },
  {
   "cell_type": "code",
   "execution_count": null,
   "metadata": {},
   "outputs": [],
   "source": [
    "# todo"
   ]
  },
  {
   "cell_type": "markdown",
   "metadata": {},
   "source": [
    "## Analyse des Correspondances Multiples (ACM)"
   ]
  },
  {
   "cell_type": "code",
   "execution_count": null,
   "metadata": {},
   "outputs": [],
   "source": [
    "# todo"
   ]
  },
  {
   "cell_type": "markdown",
   "metadata": {},
   "source": [
    "## Régression PLS"
   ]
  },
  {
   "cell_type": "code",
   "execution_count": null,
   "metadata": {},
   "outputs": [],
   "source": [
    "# todo: refaire la régression PLS mais PAS sur une variable catégorique (erreur ici)"
   ]
  },
  {
   "cell_type": "code",
   "execution_count": null,
   "metadata": {},
   "outputs": [],
   "source": [
    "from sklearn.cross_decomposition import PLSRegression"
   ]
  },
  {
   "cell_type": "code",
   "execution_count": null,
   "metadata": {},
   "outputs": [],
   "source": [
    "# Initialisation de l'objet PLSRegression avec 2 composantes PLS\n",
    "pls = PLSRegression(n_components=2)"
   ]
  },
  {
   "cell_type": "code",
   "execution_count": null,
   "metadata": {},
   "outputs": [],
   "source": [
    "# Apprentissage du modèle sur les données\n",
    "pls.fit(df_transforme[var_numeriques], df_transforme[\"Response\"])"
   ]
  },
  {
   "cell_type": "code",
   "execution_count": null,
   "metadata": {},
   "outputs": [],
   "source": [
    "# Prédiction de la variable cible sur de nouvelles données\n",
    "y_pred = pls.predict(df_transforme[var_numeriques])"
   ]
  },
  {
   "cell_type": "code",
   "execution_count": null,
   "metadata": {},
   "outputs": [],
   "source": [
    "# Evaluation de la performance du modèle\n",
    "r2 = pls.score(df_transforme[var_numeriques], df_transforme[\"Response\"].astype(int))"
   ]
  },
  {
   "cell_type": "code",
   "execution_count": null,
   "metadata": {},
   "outputs": [],
   "source": [
    "r2"
   ]
  },
  {
   "cell_type": "markdown",
   "metadata": {},
   "source": [
    "# Régression linéaire"
   ]
  },
  {
   "cell_type": "markdown",
   "metadata": {},
   "source": [
    "## Modèle simple : une variable à expliquer (Y) et une seule variable explicative (X)\n",
    "\n",
    "### Hypothèses à vérifier pour la régression linéaire simple\n",
    "\n",
    "1) coefficient de corrélation linéaire entre X et Y non nul\n",
    "\n",
    "1) la distribution de l’erreur ε est indépendante de la variable X (exogénéité)\n",
    "\n",
    "2) l'erreur suit une loi normale centrée i.e. E(ε) = 0\n",
    "\n",
    "3) l’erreur est de variance constante (homoscédasticité)\n",
    "i.e Var(εi) = s, s une constante\n",
    "\n",
    "4) les erreurs sont indépendantes (absence d'autocorrélation)\n",
    "i.e. Cov(εi, εj) = 0, pour tout i, j"
   ]
  },
  {
   "cell_type": "code",
   "execution_count": null,
   "metadata": {},
   "outputs": [],
   "source": [
    "# demonstration de l efficacite du nettoyage et de la transformation des donnees\n",
    "df.plot(x=\"Income\", y=\"NumStorePurchases\", style=\"o\")\n",
    "df_transforme.plot(x=\"Income\", y=\"NumStorePurchases\", style=\"o\")"
   ]
  },
  {
   "cell_type": "code",
   "execution_count": null,
   "metadata": {},
   "outputs": [],
   "source": [
    "# un exemple de regression lineaire simple vaine\n",
    "df.plot(x=\"Year_Birth\", y=\"NumStorePurchases\", style=\"o\")\n",
    "df_transforme.plot(x=\"Year_Birth\", y=\"NumStorePurchases\", style=\"o\")"
   ]
  },
  {
   "cell_type": "code",
   "execution_count": null,
   "metadata": {},
   "outputs": [],
   "source": [
    "# un exemple de regression qui devrait etre efficace\n",
    "df_transforme.plot(x=\"NumStorePurchases\", y=\"NumWebPurchases\", style=\"o\")"
   ]
  },
  {
   "cell_type": "code",
   "execution_count": null,
   "metadata": {},
   "outputs": [],
   "source": [
    "# on va essayer une regression lineaire simple sur ces deux variables\n",
    "df_transforme.plot(x=\"Income\", y=\"NumWebPurchases\", style=\"o\")"
   ]
  },
  {
   "cell_type": "markdown",
   "metadata": {},
   "source": [
    "#### Hypothèse 1 : présence de corrélation linéaire entre X et Y, vérifiée\n",
    "##### Test de Pearson"
   ]
  },
  {
   "cell_type": "code",
   "execution_count": null,
   "metadata": {},
   "outputs": [],
   "source": [
    "# check hypothese 1\n",
    "\n",
    "# definition des variables X et Y\n",
    "income = np.array(df_transforme[\"Income\"]).reshape(-1, 1)\n",
    "web_purchases = np.array(df_transforme[\"NumWebPurchases\"])\n",
    "\n",
    "from scipy.stats import pearsonr\n",
    "\n",
    "print(\n",
    "    \"Le coefficient de corrélation linéaire entre X et Y vaut\",\n",
    "    pearsonr(income.reshape(1, -1)[0], web_purchases)[0],\n",
    ")"
   ]
  },
  {
   "cell_type": "code",
   "execution_count": null,
   "metadata": {},
   "outputs": [],
   "source": [
    "from sklearn.linear_model import LinearRegression"
   ]
  },
  {
   "cell_type": "code",
   "execution_count": null,
   "metadata": {},
   "outputs": [],
   "source": [
    "model1 = LinearRegression().fit(income, web_purchases)"
   ]
  },
  {
   "cell_type": "markdown",
   "metadata": {},
   "source": [
    "#### Résultat de la régression"
   ]
  },
  {
   "cell_type": "code",
   "execution_count": null,
   "metadata": {},
   "outputs": [],
   "source": [
    "plt.scatter(income, web_purchases, color=\"g\")\n",
    "plt.plot(income, model1.predict(income), color=\"k\")\n",
    "\n",
    "r_sq = model1.score(income, web_purchases)\n",
    "print(f\"Le R2 vaut {r_sq}\")"
   ]
  },
  {
   "cell_type": "markdown",
   "metadata": {},
   "source": [
    "#### Hypothèse 2 : la distribution de l’erreur ε est indépendante de la variable X (exogénéité)\n",
    "##### independance des erreurs et de la variable explicative X"
   ]
  },
  {
   "cell_type": "code",
   "execution_count": null,
   "metadata": {},
   "outputs": [],
   "source": [
    "residuals = web_purchases - model1.predict(income)\n",
    "\n",
    "plt.scatter(income, residuals)\n",
    "\n",
    "# test de correlation de pearson\n",
    "print(\n",
    "    \"Le coefficient de corrélation entre X et les residus vaut\",\n",
    "    pearsonr(income.reshape(1, -1)[0], residuals)[0],\n",
    "    \"les deux variables sont indépendantes\",\n",
    ")"
   ]
  },
  {
   "cell_type": "markdown",
   "metadata": {},
   "source": [
    "##### independance des erreurs et des valeurs predites"
   ]
  },
  {
   "cell_type": "code",
   "execution_count": null,
   "metadata": {},
   "outputs": [],
   "source": [
    "fitted_values = model1.predict(income)\n",
    "plt.scatter(residuals, fitted_values)\n",
    "\n",
    "print(\n",
    "    \"Le coefficient de corrélation entre les résidus et les valeurs prédites vaut\",\n",
    "    pearsonr(fitted_values, residuals)[0],\n",
    "    \"les deux variables sont indépendantes\",\n",
    ")"
   ]
  },
  {
   "cell_type": "markdown",
   "metadata": {},
   "source": [
    "#### Hypothèse 3 : l'erreur suit une loi normale centrée i.e. E(ε) = 0\n",
    "##### Affichage de l'histogramme des erreurs et QQplot pour une loi normale"
   ]
  },
  {
   "cell_type": "code",
   "execution_count": null,
   "metadata": {},
   "outputs": [],
   "source": [
    "import statistics\n",
    "from scipy import stats\n",
    "import statsmodels.api as sm\n",
    "\n",
    "plt.hist(residuals, density=True)\n",
    "\n",
    "x = np.linspace(-7, 7, 100)\n",
    "plt.plot(x, stats.norm.pdf(x, 0, 1))\n",
    "plt.show()\n",
    "\n",
    "print(\"La moyenne des résidus vaut\", statistics.mean(residuals))\n",
    "print(\"Mais les résidus ne suivent pas une loi normale\")\n",
    "\n",
    "sm.qqplot(residuals, line=\"45\")\n",
    "print(\"On constate sur le qqplot que les points ne suivent pas la droite x = y\")"
   ]
  },
  {
   "cell_type": "markdown",
   "metadata": {},
   "source": [
    "##### Test de Shapiro"
   ]
  },
  {
   "cell_type": "code",
   "execution_count": null,
   "metadata": {},
   "outputs": [],
   "source": [
    "print(\n",
    "    \"La pvalue vaut\",\n",
    "    stats.shapiro(residuals)[1],\n",
    "    \"donc on rejette l hypothese de normalite\",\n",
    ")"
   ]
  },
  {
   "cell_type": "markdown",
   "metadata": {},
   "source": [
    "#### Hypothèse 4 : l’erreur est de variance constante (homoscédasticité) i.e Var(εi) = s, s une constante"
   ]
  },
  {
   "cell_type": "code",
   "execution_count": null,
   "metadata": {},
   "outputs": [],
   "source": [
    "plt.plot(residuals, \"bo\")\n",
    "\n",
    "\n",
    "def abline(slope, intercept):\n",
    "    axes = plt.gca()\n",
    "    x_vals = np.array(axes.get_xlim())\n",
    "    y_vals = intercept + slope * x_vals\n",
    "    plt.plot(x_vals, y_vals, \"-\")\n",
    "\n",
    "\n",
    "abline(0, 5)\n",
    "abline(0, -5)"
   ]
  },
  {
   "cell_type": "markdown",
   "metadata": {},
   "source": []
  },
  {
   "cell_type": "markdown",
   "metadata": {},
   "source": [
    "#### Hypothèse 5 : absence d'autocorrélation"
   ]
  },
  {
   "cell_type": "code",
   "execution_count": null,
   "metadata": {},
   "outputs": [],
   "source": [
    "from statsmodels.graphics.regressionplots import *\n",
    "\n",
    "sm.graphics.tsa.plot_acf(residuals)\n",
    "print(\"On remarque une absence d'autocorrélation\")"
   ]
  },
  {
   "cell_type": "markdown",
   "metadata": {},
   "source": [
    "#### Distance de Cook"
   ]
  },
  {
   "cell_type": "code",
   "execution_count": null,
   "metadata": {},
   "outputs": [],
   "source": [
    "model_sm = sm.OLS(web_purchases, income).fit()\n",
    "# on recreer le model avec statsmodel\n",
    "\n",
    "# create instance of influence\n",
    "influence = model_sm.get_influence()\n",
    "\n",
    "# obtain Cook's distance for each observation\n",
    "cooks = influence.cooks_distance\n",
    "\n",
    "# display Cook's distances\n",
    "plt.scatter(income, cooks[0])\n",
    "plt.xlabel(\"income\")\n",
    "plt.ylabel(\"Cooks Distance\")\n",
    "plt.show()\n",
    "\n",
    "influence_plot(model_sm)\n",
    "print(\"\")"
   ]
  },
  {
   "cell_type": "code",
   "execution_count": null,
   "metadata": {},
   "outputs": [],
   "source": [
    "# TODO:\n",
    "# formules\n",
    "# GLM poissonien sur store purchases"
   ]
  },
  {
   "cell_type": "code",
   "execution_count": null,
   "metadata": {},
   "outputs": [],
   "source": [
    "cooks_bool = cooks[0] > 0.02\n",
    "cooks_indexes = [i for i, x in enumerate(cooks_bool) if x]\n",
    "print(cooks_indexes)"
   ]
  },
  {
   "cell_type": "markdown",
   "metadata": {},
   "source": [
    "##### exclusions des valeurs ressortant de l'influence plot"
   ]
  },
  {
   "cell_type": "code",
   "execution_count": null,
   "metadata": {},
   "outputs": [],
   "source": [
    "df_transforme.iloc[[27, 1820, 1669, 1754]]"
   ]
  },
  {
   "cell_type": "code",
   "execution_count": null,
   "metadata": {},
   "outputs": [],
   "source": [
    "df_transforme = df_transforme.drop(labels=[5255, 10311, 6237, 4619], axis=0)"
   ]
  },
  {
   "cell_type": "code",
   "execution_count": null,
   "metadata": {},
   "outputs": [],
   "source": [
    "model1 = LinearRegression().fit(\n",
    "    np.array(df_transforme[\"Income\"]).reshape(-1, 1), df_transforme[\"NumWebPurchases\"]\n",
    ")\n",
    "plt.scatter(income, web_purchases, color=\"g\")\n",
    "plt.plot(income, model1.predict(income), color=\"k\")\n",
    "\n",
    "r_sq = model1.score(income, web_purchases)\n",
    "print(f\"Le R2 vaut {r_sq}\")"
   ]
  },
  {
   "cell_type": "code",
   "execution_count": null,
   "metadata": {},
   "outputs": [],
   "source": [
    "# UN DEUXIEME EXEMPLE DE REGRESSION SIMPLE\n",
    "\n",
    "meat = np.array(df[\"MntMeatProducts\"]).reshape(-1, 1)\n",
    "\n",
    "wines = df[\"MntWines\"]"
   ]
  },
  {
   "cell_type": "code",
   "execution_count": null,
   "metadata": {},
   "outputs": [],
   "source": [
    "model2 = LinearRegression().fit(meat, wines)"
   ]
  },
  {
   "cell_type": "code",
   "execution_count": null,
   "metadata": {},
   "outputs": [],
   "source": [
    "plt.scatter(meat, wines, color=\"g\")\n",
    "plt.plot(meat, model2.predict(meat), color=\"k\")"
   ]
  },
  {
   "cell_type": "code",
   "execution_count": null,
   "metadata": {},
   "outputs": [],
   "source": [
    "r_sq = model2.score(meat, wines)\n",
    "print(f\"coefficient of determination: {r_sq}\")"
   ]
  },
  {
   "cell_type": "code",
   "execution_count": null,
   "metadata": {},
   "outputs": [],
   "source": [
    "# hypothese 1 : correlation X et Y\n",
    "\n",
    "print(\n",
    "    \"coeff de corr entre X et Y:\",\n",
    "    pearsonr(meat.reshape(1, -1)[0], wines)[0],\n",
    ")"
   ]
  },
  {
   "cell_type": "code",
   "execution_count": null,
   "metadata": {},
   "outputs": [],
   "source": [
    "# check hypothese 2 et 3 : exogeneite et homoscedasticite\n",
    "\n",
    "residuals = web_purchases - model1.predict(income)\n",
    "fig1 = plt.figure(\"distribution des residus\")\n",
    "plt.hist(residuals)\n",
    "fig2 = plt.figure(\"variation des residus\")\n",
    "plt.plot(residuals, \"bo\")\n",
    "# on a bien les residus suivant une loi normale, centree\n",
    "# et ont une variance constante"
   ]
  },
  {
   "cell_type": "code",
   "execution_count": null,
   "metadata": {},
   "outputs": [],
   "source": [
    "# independance des erreurs et de la variable explicative X ?\n",
    "\n",
    "plt.scatter(income, residuals)\n",
    "\n",
    "# test de correlation de pearson\n",
    "print(\n",
    "    \"coeff de corr entre X et residus:\",\n",
    "    pearsonr(income.reshape(1, -1)[0], residuals)[0],\n",
    ")\n",
    "\n",
    "# OK"
   ]
  },
  {
   "cell_type": "markdown",
   "metadata": {},
   "source": [
    "## Score du modèle"
   ]
  },
  {
   "cell_type": "markdown",
   "metadata": {},
   "source": [
    "### Qualité d'ajustement"
   ]
  },
  {
   "cell_type": "code",
   "execution_count": null,
   "metadata": {},
   "outputs": [],
   "source": [
    "from sklearn.metrics import mean_squared_error, mean_absolute_error"
   ]
  },
  {
   "cell_type": "code",
   "execution_count": null,
   "metadata": {},
   "outputs": [],
   "source": [
    "web_predicted = model1.predict(income)"
   ]
  },
  {
   "cell_type": "code",
   "execution_count": null,
   "metadata": {},
   "outputs": [],
   "source": [
    "sns.histplot(web_predicted - web_purchases)"
   ]
  },
  {
   "cell_type": "code",
   "execution_count": null,
   "metadata": {},
   "outputs": [],
   "source": [
    "print(f\"R² du modèle = {model1.score(income, web_purchases)}\")"
   ]
  },
  {
   "cell_type": "code",
   "execution_count": null,
   "metadata": {},
   "outputs": [],
   "source": [
    "print(f\"MSE = {mean_squared_error(web_purchases, web_predicted)}\")\n",
    "print(f\"RMSE = {mean_squared_error(web_purchases, web_predicted, squared=False)}\")\n",
    "print(f\"MAE = {mean_absolute_error(web_purchases, web_predicted)}\")"
   ]
  },
  {
   "cell_type": "code",
   "execution_count": null,
   "metadata": {},
   "outputs": [],
   "source": [
    "# meat / wines\n",
    "wines_predicted = model2.predict(meat)"
   ]
  },
  {
   "cell_type": "code",
   "execution_count": null,
   "metadata": {},
   "outputs": [],
   "source": [
    "sns.histplot(wines_predicted - wines)"
   ]
  },
  {
   "cell_type": "code",
   "execution_count": null,
   "metadata": {},
   "outputs": [],
   "source": [
    "print(f\"R² du modèle = {model2.score(meat, wines)}\")"
   ]
  },
  {
   "cell_type": "code",
   "execution_count": null,
   "metadata": {},
   "outputs": [],
   "source": [
    "print(f\"MSE = {mean_squared_error(wines, wines_predicted)}\")\n",
    "print(f\"RMSE = {mean_squared_error(wines, wines_predicted, squared=False)}\")\n",
    "print(f\"MAE = {mean_absolute_error(wines, wines_predicted)}\")"
   ]
  },
  {
   "cell_type": "markdown",
   "metadata": {},
   "source": [
    "### Qualité de prédiction"
   ]
  },
  {
   "cell_type": "markdown",
   "metadata": {},
   "source": [
    "Train / test split"
   ]
  },
  {
   "cell_type": "code",
   "execution_count": null,
   "metadata": {},
   "outputs": [],
   "source": [
    "from sklearn.model_selection import train_test_split"
   ]
  },
  {
   "cell_type": "code",
   "execution_count": null,
   "metadata": {},
   "outputs": [],
   "source": [
    "X_train, X_test, y_train, y_test = train_test_split(\n",
    "    df_transforme[\"Income\"].values.reshape((2041, 1)),\n",
    "    df_transforme[\"MntWines\"].values.reshape((2041, 1)),\n",
    "    test_size=0.70,\n",
    "    random_state=0,\n",
    ")"
   ]
  },
  {
   "cell_type": "code",
   "execution_count": null,
   "metadata": {},
   "outputs": [],
   "source": [
    "model3 = LinearRegression()"
   ]
  },
  {
   "cell_type": "code",
   "execution_count": null,
   "metadata": {},
   "outputs": [],
   "source": [
    "model3.fit(X_train, y_train)"
   ]
  },
  {
   "cell_type": "code",
   "execution_count": null,
   "metadata": {},
   "outputs": [],
   "source": [
    "print(f\"R² du modèle sur les données d'entraînement = {model3.score(X_train, y_train)}\")"
   ]
  },
  {
   "cell_type": "code",
   "execution_count": null,
   "metadata": {},
   "outputs": [],
   "source": [
    "print(f\"R² du modèle sur les données de test = {model3.score(X_test, y_test)}\")"
   ]
  },
  {
   "cell_type": "code",
   "execution_count": null,
   "metadata": {},
   "outputs": [],
   "source": [
    "y_predicted = model3.predict(X_test)"
   ]
  },
  {
   "cell_type": "code",
   "execution_count": null,
   "metadata": {},
   "outputs": [],
   "source": [
    "sns.histplot(y_predicted - y_test, kde=\"True\")"
   ]
  },
  {
   "cell_type": "code",
   "execution_count": null,
   "metadata": {},
   "outputs": [],
   "source": [
    "print(f\"MSE = {mean_squared_error(y_test, y_predicted)}\")\n",
    "print(f\"RMSE = {mean_squared_error(y_test, y_predicted, squared=False)}\")\n",
    "print(f\"MAE = {mean_absolute_error(y_test, y_predicted)}\")"
   ]
  },
  {
   "cell_type": "code",
   "execution_count": null,
   "metadata": {},
   "outputs": [],
   "source": [
    "# todo: cross-validation"
   ]
  },
  {
   "cell_type": "markdown",
   "metadata": {},
   "source": [
    "## Modèle à plusieurs variables explicatives\n",
    "### Avec SKL"
   ]
  },
  {
   "cell_type": "code",
   "execution_count": null,
   "metadata": {},
   "outputs": [],
   "source": [
    "X = df_transforme[\n",
    "    [\n",
    "        \"Income\",\n",
    "        \"NumWebPurchases\",\n",
    "        \"NumDealsPurchases\",\n",
    "        \"NumWebVisitsMonth\",\n",
    "        \"NumCatalogPurchases\",\n",
    "    ]\n",
    "]\n",
    "Y = df_transforme[\"NumStorePurchases\"]"
   ]
  },
  {
   "cell_type": "code",
   "execution_count": null,
   "metadata": {},
   "outputs": [],
   "source": [
    "from sklearn.model_selection import train_test_split\n",
    "\n",
    "X_train, X_test, Y_train, Y_test = train_test_split(\n",
    "    X, Y, test_size=0.01, random_state=101\n",
    ")"
   ]
  },
  {
   "cell_type": "code",
   "execution_count": null,
   "metadata": {},
   "outputs": [],
   "source": [
    "model_multiple = LinearRegression().fit(X_train, Y_train)\n",
    "predictions = model_multiple.predict(X_test)"
   ]
  },
  {
   "cell_type": "code",
   "execution_count": null,
   "metadata": {},
   "outputs": [],
   "source": [
    "from sklearn.metrics import mean_squared_error, mean_absolute_error\n",
    "\n",
    "print(\"mean_squared_error : \", mean_squared_error(Y_test, predictions))\n",
    "print(\"mean_absolute_error : \", mean_absolute_error(Y_test, predictions))"
   ]
  },
  {
   "cell_type": "code",
   "execution_count": null,
   "metadata": {},
   "outputs": [],
   "source": [
    "plt.scatter(Y_test, predictions)\n",
    "plt.title(\"Valeurs predites contres les vraies valeurs (valeurs test) \")\n",
    "abline(1, 0)"
   ]
  },
  {
   "cell_type": "code",
   "execution_count": null,
   "metadata": {},
   "outputs": [],
   "source": [
    "r_sq_test = model_multiple.score(X_test, Y_test)\n",
    "r_sq_train = model_multiple.score(X_train, Y_train)\n",
    "\n",
    "print(\"Les r2 valent :\", r_sq_test, r_sq_train)"
   ]
  },
  {
   "cell_type": "code",
   "execution_count": null,
   "metadata": {},
   "outputs": [],
   "source": [
    "coefficients = pd.DataFrame(model_multiple.coef_, X.columns, columns=[\"Coefficients\"])\n",
    "print(coefficients)\n",
    "\n",
    "print(\"intercept\", model_multiple.intercept_)"
   ]
  },
  {
   "cell_type": "markdown",
   "metadata": {},
   "source": [
    "### Avec Statsmodels"
   ]
  },
  {
   "cell_type": "code",
   "execution_count": null,
   "metadata": {},
   "outputs": [],
   "source": [
    "X = df_transforme[\n",
    "    [\n",
    "        \"Income\",\n",
    "        \"NumWebPurchases\",\n",
    "        \"NumDealsPurchases\",\n",
    "        \"NumWebVisitsMonth\",\n",
    "        \"NumCatalogPurchases\",\n",
    "        \"Year_Birth\",\n",
    "        \"Teenhome\",\n",
    "        \"Kidhome\",\n",
    "        \"Recency\",\n",
    "    ]\n",
    "]\n",
    "Y = df_transforme[\"NumStorePurchases\"]\n",
    "\n",
    "model_multiple_sm = sm.OLS(Y, X).fit()"
   ]
  },
  {
   "cell_type": "code",
   "execution_count": null,
   "metadata": {},
   "outputs": [],
   "source": [
    "print(\"Le r2 ajuste du modele vaut :\", model_multiple_sm.rsquared_adj)\n",
    "print(\"AIC =\", model_multiple_sm.aic)\n",
    "print(\"BIC =\", model_multiple_sm.bic)"
   ]
  },
  {
   "cell_type": "code",
   "execution_count": null,
   "metadata": {},
   "outputs": [],
   "source": [
    "model_multiple_sm.summary()"
   ]
  },
  {
   "cell_type": "markdown",
   "metadata": {},
   "source": [
    "#### AIC BIC ajustement"
   ]
  },
  {
   "cell_type": "code",
   "execution_count": null,
   "metadata": {},
   "outputs": [],
   "source": [
    "def aic_bic(X):  # entrer X un dataframe de variables explicatives et le model associe\n",
    "    aic_bic_dict = {}\n",
    "    for col in X.columns:\n",
    "        X_temp = X.drop(col, axis=1)\n",
    "        model_multiple_sm_temp = sm.OLS(Y, X).fit()\n",
    "        aic_bic_dict[col] = [model_multiple_sm_temp.aic, model_multiple_sm_temp.bic]\n",
    "\n",
    "    return aic_bic_dict"
   ]
  },
  {
   "cell_type": "code",
   "execution_count": null,
   "metadata": {},
   "outputs": [],
   "source": [
    "aic_bic(X)"
   ]
  },
  {
   "cell_type": "code",
   "execution_count": null,
   "metadata": {},
   "outputs": [],
   "source": [
    "print(\"On supprime la variable NumCatalogPurchases de la regression\")"
   ]
  },
  {
   "cell_type": "code",
   "execution_count": null,
   "metadata": {},
   "outputs": [],
   "source": [
    "X = X.drop(\"NumCatalogPurchases\", axis=1)\n",
    "\n",
    "aic_bic(X)"
   ]
  },
  {
   "cell_type": "code",
   "execution_count": null,
   "metadata": {},
   "outputs": [],
   "source": [
    "print(\n",
    "    \"Le BIC est inferieur quand on retire les variables Recency ou TeemHome, mais pas l AIC\"\n",
    ")"
   ]
  },
  {
   "cell_type": "code",
   "execution_count": null,
   "metadata": {},
   "outputs": [],
   "source": [
    "X = df_transforme[\n",
    "    [\"Income\", \"NumWebPurchases\", \"NumDealsPurchases\", \"NumStorePurchases\"]\n",
    "]\n",
    "# Y = df_transforme[\"\"]\n",
    "model_multiple_sm = sm.OLS(Y, X).fit()"
   ]
  },
  {
   "cell_type": "code",
   "execution_count": null,
   "metadata": {},
   "outputs": [],
   "source": [
    "predicted = model_multiple_sm.predict()\n",
    "\n",
    "n = len(Y)  # finding total number of items in list\n",
    "summation = 0\n",
    "for i in range(n):  # looping through each element of the list\n",
    "    difference = (\n",
    "        Y.iloc[\n",
    "            i,\n",
    "        ]\n",
    "        - predicted[i]\n",
    "    )  # finding the difference between observed and predicted value\n",
    "    squared_difference = difference**2  # taking square of the differene\n",
    "    summation = summation + squared_difference  # taking a sum of all the differences\n",
    "MSE = summation / n  # dividing summation by total values to obtain average\n",
    "print(\"The Mean Square Error is: \", MSE)"
   ]
  },
  {
   "cell_type": "code",
   "execution_count": null,
   "metadata": {},
   "outputs": [],
   "source": [
    "X = X.drop(\"Recency\", axis=1)\n",
    "X = X.drop(\"Teenhome\", axis=1)\n",
    "model_multiple_sm = sm.OLS(Y, X).fit()"
   ]
  },
  {
   "cell_type": "code",
   "execution_count": null,
   "metadata": {},
   "outputs": [],
   "source": [
    "predicted = model_multiple_sm.predict()\n",
    "\n",
    "n = len(Y)  # finding total number of items in list\n",
    "summation = 0\n",
    "for i in range(n):  # looping through each element of the list\n",
    "    difference = (\n",
    "        Y.iloc[\n",
    "            i,\n",
    "        ]\n",
    "        - predicted[i]\n",
    "    )  # finding the difference between observed and predicted value\n",
    "    squared_difference = difference**2  # taking square of the differene\n",
    "    summation = summation + squared_difference  # taking a sum of all the differences\n",
    "MSE = summation / n  # dividing summation by total values to obtain average\n",
    "print(\"The Mean Square Error is: \", MSE)"
   ]
  },
  {
   "cell_type": "code",
   "execution_count": null,
   "metadata": {},
   "outputs": [],
   "source": [
    "print(\"On obtient un meilleur MSE en utilisant le critère AIC.\")"
   ]
  },
  {
   "cell_type": "code",
   "execution_count": null,
   "metadata": {},
   "outputs": [],
   "source": [
    "# TODO :\n",
    "# Idee : creer une variable Tot_Purchases qui somme toutes les variables Purchases et faire la regression sur celle ci."
   ]
  },
  {
   "cell_type": "markdown",
   "metadata": {},
   "source": [
    "### Avec RPY2 : les fonctions de R"
   ]
  },
  {
   "cell_type": "code",
   "execution_count": null,
   "metadata": {},
   "outputs": [],
   "source": [
    "import rpy2\n",
    "import rpy2.robjects as ro\n",
    "from rpy2.robjects import pandas2ri\n",
    "from rpy2.robjects.packages import importr"
   ]
  },
  {
   "cell_type": "code",
   "execution_count": null,
   "metadata": {},
   "outputs": [],
   "source": [
    "utils = importr(\"utils\")\n",
    "base = importr(\"base\")\n",
    "utils.chooseCRANmirror(ind=1)\n",
    "utils.install_packages(\"stats\")\n",
    "stats_r = importr(\"stats\")"
   ]
  },
  {
   "cell_type": "code",
   "execution_count": null,
   "metadata": {},
   "outputs": [],
   "source": [
    "# creation d un dataframe de donnees pour la regression sous R\n",
    "df_r = df_transforme[\n",
    "    [\n",
    "        \"NumStorePurchases\",\n",
    "        \"Income\",\n",
    "        \"NumWebPurchases\",\n",
    "        \"NumDealsPurchases\",\n",
    "        \"NumWebVisitsMonth\",\n",
    "        \"NumCatalogPurchases\",\n",
    "    ]\n",
    "]\n",
    "with (ro.default_converter + pandas2ri.converter).context():\n",
    "    lm_data_r = ro.conversion.get_conversion().py2rpy(df_r)\n",
    "\n",
    "print(lm_data_r)"
   ]
  },
  {
   "cell_type": "code",
   "execution_count": null,
   "metadata": {},
   "outputs": [],
   "source": [
    "lm_r = stats_r.lm(\"NumStorePurchases ~ .\", data=lm_data_r)"
   ]
  },
  {
   "cell_type": "code",
   "execution_count": null,
   "metadata": {},
   "outputs": [],
   "source": [
    "print(stats_r.coef(lm_r))"
   ]
  },
  {
   "cell_type": "code",
   "execution_count": null,
   "metadata": {},
   "outputs": [],
   "source": [
    "print(stats_r.AIC(lm_r), stats_r.BIC(lm_r))"
   ]
  },
  {
   "cell_type": "markdown",
   "metadata": {},
   "source": [
    "## Regression GLM"
   ]
  },
  {
   "cell_type": "code",
   "execution_count": null,
   "metadata": {},
   "outputs": [],
   "source": [
    "import scipy"
   ]
  },
  {
   "cell_type": "code",
   "execution_count": null,
   "metadata": {},
   "outputs": [],
   "source": [
    "scipy.stats.probplot(Y, dist=\"poisson\", sparams=(5), plot=plt)\n",
    "plt.show()"
   ]
  },
  {
   "cell_type": "code",
   "execution_count": null,
   "metadata": {},
   "outputs": [],
   "source": [
    "X = df[\n",
    "    [\n",
    "        \"Income\",\n",
    "        \"NumWebPurchases\",\n",
    "        \"NumDealsPurchases\",\n",
    "        \"NumWebVisitsMonth\",\n",
    "        \"NumCatalogPurchases\",\n",
    "        \"Year_Birth\",\n",
    "        \"Teenhome\",\n",
    "        \"Kidhome\",\n",
    "        \"Recency\",\n",
    "    ]\n",
    "]"
   ]
  },
  {
   "cell_type": "code",
   "execution_count": null,
   "metadata": {},
   "outputs": [],
   "source": [
    "poisson_model = sm.GLM(Y, X, family=sm.families.Poisson()).fit()"
   ]
  },
  {
   "cell_type": "code",
   "execution_count": null,
   "metadata": {},
   "outputs": [],
   "source": [
    "poisson_model.summary()"
   ]
  },
  {
   "cell_type": "code",
   "execution_count": null,
   "metadata": {},
   "outputs": [],
   "source": [
    "def aic_bic(X):  # entrer X un dataframe de variables explicatives et le model associe\n",
    "    aic_bic_dict = {}\n",
    "    for col in X.columns:\n",
    "        X_temp = X.drop(col, axis=1)\n",
    "        model_multiple_sm_temp = sm.GLM(Y, X_temp, family=sm.families.Poisson()).fit()\n",
    "        aic_bic_dict[col] = [model_multiple_sm_temp.aic, model_multiple_sm_temp.bic]\n",
    "\n",
    "    return aic_bic_dict"
   ]
  },
  {
   "cell_type": "code",
   "execution_count": null,
   "metadata": {},
   "outputs": [],
   "source": [
    "import pprint\n",
    "\n",
    "pprint(aic_bic(X))\n",
    "print(poisson_model.aic)"
   ]
  },
  {
   "cell_type": "code",
   "execution_count": null,
   "metadata": {},
   "outputs": [],
   "source": [
    "X = X.drop(\"Teenhome\", axis=1)"
   ]
  },
  {
   "cell_type": "code",
   "execution_count": null,
   "metadata": {},
   "outputs": [],
   "source": [
    "aic_bic(X)"
   ]
  },
  {
   "cell_type": "code",
   "execution_count": null,
   "metadata": {},
   "outputs": [],
   "source": [
    "X = X.drop(\"NumCatalogPurchases\", axis=1)"
   ]
  },
  {
   "cell_type": "code",
   "execution_count": null,
   "metadata": {},
   "outputs": [],
   "source": [
    "aic_bic(X)"
   ]
  },
  {
   "cell_type": "code",
   "execution_count": null,
   "metadata": {},
   "outputs": [],
   "source": [
    "poisson_model = sm.GLM(Y, X, family=sm.families.Poisson()).fit()\n",
    "poisson_model.summary()"
   ]
  },
  {
   "cell_type": "code",
   "execution_count": null,
   "metadata": {},
   "outputs": [],
   "source": [
    "predicted = poisson_model.predict()\n",
    "\n",
    "n = len(Y)  # finding total number of items in list\n",
    "summation = 0\n",
    "for i in range(n):  # looping through each element of the list\n",
    "    difference = (\n",
    "        Y.iloc[\n",
    "            i,\n",
    "        ]\n",
    "        - predicted[i]\n",
    "    )  # finding the difference between observed and predicted value\n",
    "    squared_difference = difference**2  # taking square of the differene\n",
    "    summation = summation + squared_difference  # taking a sum of all the differences\n",
    "MSE = summation / n  # dividing summation by total values to obtain average\n",
    "print(\"The Mean Square Error is: \", MSE)"
   ]
  },
  {
   "cell_type": "code",
   "execution_count": null,
   "metadata": {},
   "outputs": [],
   "source": [
    "X = df[\n",
    "    [\n",
    "        \"Income\",\n",
    "        \"NumWebPurchases\",\n",
    "        \"NumDealsPurchases\",\n",
    "        \"NumWebVisitsMonth\",\n",
    "        \"NumCatalogPurchases\",\n",
    "        \"Year_Birth\",\n",
    "        \"Teenhome\",\n",
    "        \"Kidhome\",\n",
    "        \"Recency\",\n",
    "    ]\n",
    "]\n",
    "Y = df[\"NumStorePurchases\"]"
   ]
  },
  {
   "cell_type": "code",
   "execution_count": null,
   "metadata": {},
   "outputs": [],
   "source": [
    "Y"
   ]
  },
  {
   "cell_type": "code",
   "execution_count": null,
   "metadata": {},
   "outputs": [],
   "source": [
    "X = X.drop(\"NumCatalogPurchases\", axis=1)\n",
    "X = X.drop(\"Teenhome\", axis=1)"
   ]
  },
  {
   "cell_type": "code",
   "execution_count": null,
   "metadata": {},
   "outputs": [],
   "source": [
    "poisson_model = sm.GLM(Y, X, family=sm.families.Poisson()).fit()"
   ]
  },
  {
   "cell_type": "code",
   "execution_count": null,
   "metadata": {},
   "outputs": [],
   "source": [
    "predicted = poisson_model.predict()\n",
    "\n",
    "n = len(Y)  # finding total number of items in list\n",
    "summation = 0\n",
    "for i in range(n):  # looping through each element of the list\n",
    "    difference = (\n",
    "        Y.iloc[\n",
    "            i,\n",
    "        ]\n",
    "        - predicted[i]\n",
    "    )  # finding the difference between observed and predicted value\n",
    "    squared_difference = difference**2  # taking square of the differene\n",
    "    summation = summation + squared_difference  # taking a sum of all the differences\n",
    "MSE = summation / n  # dividing summation by total values to obtain average\n",
    "print(\"The Mean Square Error is: \", MSE)"
   ]
  },
  {
   "cell_type": "code",
   "execution_count": null,
   "metadata": {},
   "outputs": [],
   "source": [
    "# TODO: MSE sur train data"
   ]
  }
 ],
 "metadata": {
  "kernelspec": {
   "display_name": "python3",
   "language": "python",
   "name": "python3"
  }
 },
 "nbformat": 4,
 "nbformat_minor": 1
}
